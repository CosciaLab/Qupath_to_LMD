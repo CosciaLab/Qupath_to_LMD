{
 "cells": [
  {
   "attachments": {},
   "cell_type": "markdown",
   "id": "cf13cc91-7305-426c-ad15-2252f543b8d0",
   "metadata": {
    "tags": []
   },
   "source": [
    "# One Jupyter notebook. From GeoJSON to .xml "
   ]
  },
  {
   "attachments": {},
   "cell_type": "markdown",
   "id": "1a8a0247-2ce7-4436-b874-2edfa336c4b3",
   "metadata": {
    "jp-MarkdownHeadingCollapsed": true,
    "tags": []
   },
   "source": [
    "## Imports"
   ]
  },
  {
   "cell_type": "code",
   "execution_count": 4,
   "id": "ac38f724-596e-48f2-ae0c-29bb8e71030b",
   "metadata": {
    "tags": []
   },
   "outputs": [],
   "source": [
    "import geopandas\n",
    "import pandas\n",
    "import numpy\n",
    "import tifffile\n",
    "import shapely\n",
    "# import streamlit as st\n",
    "from lmd.lib import Collection\n",
    "from pathlib import Path\n",
    "import ast\n",
    "import string"
   ]
  },
  {
   "cell_type": "code",
   "execution_count": 5,
   "id": "9d2b25d7",
   "metadata": {},
   "outputs": [
    {
     "data": {
      "text/plain": [
       "1"
      ]
     },
     "execution_count": 5,
     "metadata": {},
     "output_type": "execute_result"
    }
   ],
   "source": [
    "from loguru import logger\n",
    "import sys\n",
    "logger.remove()\n",
    "logger.add(sys.stdout, format=\"<green>{time:HH:mm:ss.SS}</green> | <level>{level}</level> | {message}\")"
   ]
  },
  {
   "attachments": {},
   "cell_type": "markdown",
   "id": "36985444-7a8a-4bf8-9da8-57c786abcfdb",
   "metadata": {
    "tags": []
   },
   "source": [
    "## From GeoJSON to Dataframe"
   ]
  },
  {
   "cell_type": "code",
   "execution_count": 2,
   "id": "ef43c7fe-4e7f-4595-9d99-7aa268099a36",
   "metadata": {
    "tags": []
   },
   "outputs": [],
   "source": [
    "#user defined variables:\n",
    "path_to_file = '/Users/jnimoca/Downloads/Wenhan.geojson'\n",
    "path_to_save_files = '/Users/jnimoca/Desktop/'\n",
    "#the naming of these should match exactly the names in the geoJSON file\n",
    "calibration_points = ['X1','X2','X3']"
   ]
  },
  {
   "attachments": {},
   "cell_type": "markdown",
   "id": "533bc771-e333-41fd-9f62-fb2665ba0f46",
   "metadata": {
    "tags": []
   },
   "source": [
    "### Samples and wells"
   ]
  },
  {
   "cell_type": "code",
   "execution_count": 3,
   "id": "f8a30eb9-2d04-454c-b496-59f8b843cce4",
   "metadata": {
    "tags": []
   },
   "outputs": [],
   "source": [
    "# if you want to pass a custom well loadout use the following dictionary:  \n",
    "# The dictionary keys will have to be the class name used in qupath, it has to be the exact names.  \n",
    "# please choose wells with a 2-row 2-column margin. not rows (A, B, N, O) not columns (1,2,23,24)  "
   ]
  },
  {
   "cell_type": "code",
   "execution_count": 4,
   "id": "53f36ed5-42b7-478c-9d77-3cc9cbda0edf",
   "metadata": {
    "tags": []
   },
   "outputs": [],
   "source": [
    "samples_and_wells = { \"AF488S\" : \"C4\", \" AF488\" : \"C6\", \"AF647\" : \"C8\", \"AF488+AF647\" : \"C10\", \"AF555\" : \"C12\", \" AF488+AF555\" : \"C14\"}"
   ]
  },
  {
   "attachments": {},
   "cell_type": "markdown",
   "id": "e0cc0a7b-dcd3-4cb5-b30f-42414f3576d4",
   "metadata": {
    "tags": []
   },
   "source": [
    "# Quality Control geojson"
   ]
  },
  {
   "cell_type": "code",
   "execution_count": 5,
   "id": "13caa24d",
   "metadata": {},
   "outputs": [],
   "source": [
    "def QC_geojson_file(geojson_path: str, list_of_calibpoint_names: list = ['calib1','calib2','calib3']):\n",
    "\n",
    "    df = geopandas.read_file(geojson_path)\n",
    "    logger.info(f\"Geojson file loaded with shape {df.shape}\")\n",
    "    \n",
    "    try:\n",
    "        df['annotation_name'] = df['name']\n",
    "    except:\n",
    "        logger.warning('No name column found, meaning no annotation in Qupath was named, at least calibration points should be named')\n",
    "        sys.exit()\n",
    "\n",
    "    geometry_counts = df.geometry.geom_type.value_counts()\n",
    "    log_message = \", \".join(f\"{count} {geom_type}s\" for geom_type, count in geometry_counts.items())\n",
    "    logger.info(f\"Geometries in DataFrame: {log_message}\")\n",
    "\n",
    "    #check for calibration points\n",
    "    for point_name in list_of_calibpoint_names:\n",
    "        if point_name not in df['annotation_name'].unique():\n",
    "            logger.error(f'Your given annotation_name {point_name} is not present in the file')\n",
    "            logger.error(f'These are the calib points you passed: {list_of_calibpoint_names}')\n",
    "            logger.error(f\"These are the calib points found in the geojson you gave me: {df[df['geometry'].geom_type == 'Point']['annotation_name']}\")\n",
    "\n",
    "    calib_np_array = numpy.array(\n",
    "        [[  df.loc[df['name'] == point_name, 'geometry'].values[0].x,\n",
    "            df.loc[df['name'] == point_name, 'geometry'].values[0].y] \n",
    "            for point_name in list_of_calibpoint_names])\n",
    "    \n",
    "    def polygon_intersects_triangle(polygon, triangle):\n",
    "        if isinstance(polygon, shapely.Polygon):\n",
    "            return polygon.intersects(triangle)\n",
    "        elif isinstance(polygon, shapely.LineString):\n",
    "            return polygon.intersects(triangle)\n",
    "        else:\n",
    "            return False  # Return False for other geometry types\n",
    "\n",
    "    df['intersects'] = df['geometry'].apply(lambda x: polygon_intersects_triangle(x, shapely.Polygon(calib_np_array)))\n",
    "\n",
    "    num_of_polygons_and_LineString = df[df['geometry'].geom_type.isin(['Polygon', 'LineString'])].shape[0]\n",
    "\n",
    "    intersect_fraction = df['intersects'].sum()/num_of_polygons_and_LineString\n",
    "    logger.info(f\" {intersect_fraction*100:.2f}% of polygons are within calibration triangle\")\n",
    "    if intersect_fraction < 0.25:\n",
    "        logger.warning(f\"Less than 25% of the objects intersect with the calibration triangle\")\n",
    "        logger.warning(f\"Polygons will most likely be warped, consider changing calib points\")\n",
    "\n",
    "    #remove points\n",
    "    df = df[df['geometry'].apply(lambda geom: not isinstance(geom, shapely.geometry.Point))]\n",
    "    logger.debug(f\"Point geometries have been removed\")\n",
    "\n",
    "    #check and remove empty classifications\n",
    "    if df['classification'].isna().sum() !=0 :\n",
    "        logger.info(f\"You have {df['classification'].isna().sum()} NaNs in your classification column\")\n",
    "        logger.info(f\"These are unclassified objects from Qupath, they will be removed\")\n",
    "        df = df[df['classification'].notna()]\n",
    "\n",
    "    #rename classification\n",
    "    df['classification_name'] = df['classification'].apply(lambda x: x.get('name'))\n",
    "\n",
    "    logger.debug(f\"Checking for MultiPolygon objects\")\n",
    "    if 'MultiPolygon' in df.geometry.geom_type.value_counts().keys():\n",
    "        logger.debug(f\"MultiPolygon objects present:  {df.geometry.geom_type.value_counts()['MultiPolygon']}\")\n",
    "        logger.debug(f\"These are not supported, and will be removed\")\n",
    "        df = df[df.geometry.geom_type != 'MultiPolygon']\n",
    "    \n",
    "    def extract_coordinates(geometry):\n",
    "        if geometry.geom_type == 'Polygon':\n",
    "            return [list(coord) for coord in geometry.exterior.coords]\n",
    "        elif geometry.geom_type == 'LineString':\n",
    "            return [list(coord) for coord in geometry.coords]\n",
    "        else:\n",
    "            return None \n",
    "\n",
    "    logger.debug(f\"Extracting coordinates from geometries\")\n",
    "    df['coords'] = df.geometry.simplify(1).apply(extract_coordinates)\n",
    "\n",
    "    logger.success(f\"QC of geojson file complete\")"
   ]
  },
  {
   "attachments": {},
   "cell_type": "markdown",
   "id": "e0dfb0dd-c054-4594-a4de-f645f82464d4",
   "metadata": {
    "jp-MarkdownHeadingCollapsed": true,
    "tags": []
   },
   "source": [
    "# Setup geojson processing"
   ]
  },
  {
   "cell_type": "code",
   "execution_count": 6,
   "id": "bf3e7ec6",
   "metadata": {},
   "outputs": [],
   "source": [
    "def load_geojson_file(geojson_path: str, list_of_calibpoint_names: list = ['calib1','calib2','calib3']):\n",
    "\n",
    "   df = geopandas.read_file(geojson_path)\n",
    "\n",
    "   calib_np_array = numpy.array(\n",
    "      [[ df.loc[df['name'] == point_name, 'geometry'].values[0].x,\n",
    "         df.loc[df['name'] == point_name, 'geometry'].values[0].y] \n",
    "         for point_name in list_of_calibpoint_names])\n",
    "\n",
    "   df = df[df['geometry'].apply(lambda geom: not isinstance(geom, shapely.geometry.Point))]\n",
    "   df = df[df['classification'].notna()]\n",
    "   df = df[df.geometry.geom_type != 'MultiPolygon']\n",
    "\n",
    "   def extract_coordinates(geometry):\n",
    "      if geometry.geom_type == 'Polygon':\n",
    "         return [list(coord) for coord in geometry.exterior.coords]\n",
    "      elif geometry.geom_type == 'LineString':\n",
    "         return [list(coord) for coord in geometry.coords]\n",
    "\n",
    "   df['coords'] = df.geometry.simplify(1).apply(extract_coordinates)\n",
    "   df['Name'] = df['classification'].apply(lambda x: x.get('name'))\n",
    "\n",
    "   return df, calib_np_array"
   ]
  },
  {
   "cell_type": "code",
   "execution_count": 7,
   "id": "24706b28",
   "metadata": {},
   "outputs": [],
   "source": [
    "def create_list_of_acceptable_wells():\n",
    "    list_of_acceptable_wells =[]\n",
    "    for row in list(string.ascii_uppercase[1:14]):\n",
    "        for column in range(2,22):\n",
    "            list_of_acceptable_wells.append(str(row) + str(column))\n",
    "    return list_of_acceptable_wells"
   ]
  },
  {
   "cell_type": "code",
   "execution_count": 8,
   "id": "4862d4d4",
   "metadata": {},
   "outputs": [],
   "source": [
    "def create_default_samples_and_wells(df):\n",
    "    list_of_acceptable_wells = create_list_of_acceptable_wells()\n",
    "    samples_and_wells = {}\n",
    "    for sample in df[\"Name\"]:\n",
    "        samples_and_wells[sample] = list_of_acceptable_wells.pop(0)\n",
    "    return samples_and_wells"
   ]
  },
  {
   "cell_type": "code",
   "execution_count": 9,
   "id": "63ddb99d",
   "metadata": {},
   "outputs": [],
   "source": [
    "def load_and_QC_SamplesandWells(samples_and_wells_input):\n",
    "\n",
    "   samples_and_wells_processed = samples_and_wells_input.replace(\"\\n\", \"\")\n",
    "   samples_and_wells_processed = samples_and_wells_processed.replace(\" \", \"\")\n",
    "   samples_and_wells = ast.literal_eval(samples_and_wells_processed)\n",
    "\n",
    "   # check if the wells are in the list of acceptable wells\n",
    "   for key, value in samples_and_wells.items():\n",
    "      if value not in create_list_of_acceptable_wells():\n",
    "         logger.error(f\"Your well {value} for sample {key} is not in the list of acceptable wells\")\n",
    "         logger.error(f\"Please choose wells that are not rows (A,O) not columns (1,22,23,24)\")\n",
    "         sys.exit()"
   ]
  },
  {
   "cell_type": "code",
   "execution_count": 10,
   "id": "4825c72a",
   "metadata": {},
   "outputs": [],
   "source": [
    "def sample_placement_384wp(samples_and_wells):\n",
    "    #create and export dataframe with sample placement in 384 well plate\n",
    "    rows_A_P= [i for i in string.ascii_uppercase[:16]]\n",
    "    columns_1_24 = [str(i) for i in range(1,25)]\n",
    "    df_wp384 = pandas.DataFrame('',columns=columns_1_24, index=rows_A_P)\n",
    "    #fill in the dataframe with samples and wells\n",
    "    for i in samples_and_wells:\n",
    "        location = samples_and_wells[i]\n",
    "        df_wp384.at[location[0],location[1:]] = i\n",
    "    #save dataframe as csv\n",
    "    df_wp384.to_csv(f\"./384_wellplate.csv\", index=True)"
   ]
  },
  {
   "cell_type": "code",
   "execution_count": 11,
   "id": "8e2a673f",
   "metadata": {},
   "outputs": [],
   "source": [
    "def create_collection(df, calib_np_array, samples_and_wells=None):\n",
    "\n",
    "    # if no samples and wells are given, create default samples and wells\n",
    "    if samples_and_wells == None:\n",
    "        samples_and_wells = create_default_samples_and_wells(df)\n",
    "\n",
    "    the_collection = Collection(calibration_points = calib_np_array)\n",
    "    the_collection.orientation_transform = numpy.array([[1,0 ],[0,-1]])\n",
    "    for i in df.index:\n",
    "        the_collection.new_shape(df.at[i,'coords'], well = samples_and_wells[df.at[i, \"Name\"]])\n",
    "\n",
    "    sample_placement_384wp(samples_and_wells)\n",
    "\n",
    "    the_collection.plot(save_name= \"./TheCollection.png\")\n",
    "    the_collection.save(f\"./LMD_ready_contours.xml\")"
   ]
  },
  {
   "cell_type": "markdown",
   "id": "fb977bd3",
   "metadata": {},
   "source": [
    "# Check geojsons"
   ]
  },
  {
   "cell_type": "code",
   "execution_count": 6,
   "id": "6b77103c",
   "metadata": {},
   "outputs": [
    {
     "name": "stdout",
     "output_type": "stream",
     "text": [
      "\u001b[32m14:48:40.36\u001b[0m | \u001b[1mINFO\u001b[0m | Geojson file loaded with shape (43, 5)\n"
     ]
    }
   ],
   "source": [
    "geojson_path = path_to_file\n",
    "#load geojson file\n",
    "df = geopandas.read_file(geojson_path)\n",
    "logger.info(f\"Geojson file loaded with shape {df.shape}\")"
   ]
  },
  {
   "cell_type": "code",
   "execution_count": 7,
   "id": "02bf7ee2",
   "metadata": {},
   "outputs": [],
   "source": [
    "try:\n",
    "    df['annotation_name'] = df['name']\n",
    "except:\n",
    "    logger.warning('No name column found, meaning no annotation in Qupath was named, at least calibration points should be named')"
   ]
  },
  {
   "cell_type": "code",
   "execution_count": 8,
   "id": "30e91e07",
   "metadata": {},
   "outputs": [
    {
     "data": {
      "text/html": [
       "<div>\n",
       "<style scoped>\n",
       "    .dataframe tbody tr th:only-of-type {\n",
       "        vertical-align: middle;\n",
       "    }\n",
       "\n",
       "    .dataframe tbody tr th {\n",
       "        vertical-align: top;\n",
       "    }\n",
       "\n",
       "    .dataframe thead th {\n",
       "        text-align: right;\n",
       "    }\n",
       "</style>\n",
       "<table border=\"1\" class=\"dataframe\">\n",
       "  <thead>\n",
       "    <tr style=\"text-align: right;\">\n",
       "      <th></th>\n",
       "      <th>id</th>\n",
       "      <th>objectType</th>\n",
       "      <th>classification</th>\n",
       "      <th>name</th>\n",
       "      <th>geometry</th>\n",
       "      <th>annotation_name</th>\n",
       "    </tr>\n",
       "  </thead>\n",
       "  <tbody>\n",
       "    <tr>\n",
       "      <th>0</th>\n",
       "      <td>fc6a9688-c164-4984-bd98-f4ee852d74b3</td>\n",
       "      <td>annotation</td>\n",
       "      <td>NaN</td>\n",
       "      <td>X1</td>\n",
       "      <td>POINT (155.32000 1663.57000)</td>\n",
       "      <td>X1</td>\n",
       "    </tr>\n",
       "    <tr>\n",
       "      <th>1</th>\n",
       "      <td>4c7cb112-c0a9-4bd7-8976-b1b0a527cff0</td>\n",
       "      <td>annotation</td>\n",
       "      <td>NaN</td>\n",
       "      <td>X2</td>\n",
       "      <td>POINT (1861.45000 530.99000)</td>\n",
       "      <td>X2</td>\n",
       "    </tr>\n",
       "    <tr>\n",
       "      <th>2</th>\n",
       "      <td>04cdd52c-b10f-4105-b168-a7ee57edb4c5</td>\n",
       "      <td>annotation</td>\n",
       "      <td>NaN</td>\n",
       "      <td>X3</td>\n",
       "      <td>POINT (1527.71000 1345.29000)</td>\n",
       "      <td>X3</td>\n",
       "    </tr>\n",
       "    <tr>\n",
       "      <th>3</th>\n",
       "      <td>bd9c44cf-f4c0-43cb-b62e-1527ec5ea72b</td>\n",
       "      <td>annotation</td>\n",
       "      <td>{'name': 'AF488+AF555', 'color': [255, 102, 102]}</td>\n",
       "      <td>NaN</td>\n",
       "      <td>POLYGON ((944.46000 900.54000, 943.34000 900.6...</td>\n",
       "      <td>NaN</td>\n",
       "    </tr>\n",
       "    <tr>\n",
       "      <th>4</th>\n",
       "      <td>3a74e70a-1c2e-42f0-99d3-0c7961b563ef</td>\n",
       "      <td>annotation</td>\n",
       "      <td>{'name': 'AF488S', 'color': [255, 255, 255]}</td>\n",
       "      <td>NaN</td>\n",
       "      <td>POLYGON ((725.81000 1076.88000, 724.86000 1076...</td>\n",
       "      <td>NaN</td>\n",
       "    </tr>\n",
       "  </tbody>\n",
       "</table>\n",
       "</div>"
      ],
      "text/plain": [
       "                                     id  objectType  \\\n",
       "0  fc6a9688-c164-4984-bd98-f4ee852d74b3  annotation   \n",
       "1  4c7cb112-c0a9-4bd7-8976-b1b0a527cff0  annotation   \n",
       "2  04cdd52c-b10f-4105-b168-a7ee57edb4c5  annotation   \n",
       "3  bd9c44cf-f4c0-43cb-b62e-1527ec5ea72b  annotation   \n",
       "4  3a74e70a-1c2e-42f0-99d3-0c7961b563ef  annotation   \n",
       "\n",
       "                                      classification name  \\\n",
       "0                                                NaN   X1   \n",
       "1                                                NaN   X2   \n",
       "2                                                NaN   X3   \n",
       "3  {'name': 'AF488+AF555', 'color': [255, 102, 102]}  NaN   \n",
       "4       {'name': 'AF488S', 'color': [255, 255, 255]}  NaN   \n",
       "\n",
       "                                            geometry annotation_name  \n",
       "0                       POINT (155.32000 1663.57000)              X1  \n",
       "1                       POINT (1861.45000 530.99000)              X2  \n",
       "2                      POINT (1527.71000 1345.29000)              X3  \n",
       "3  POLYGON ((944.46000 900.54000, 943.34000 900.6...             NaN  \n",
       "4  POLYGON ((725.81000 1076.88000, 724.86000 1076...             NaN  "
      ]
     },
     "execution_count": 8,
     "metadata": {},
     "output_type": "execute_result"
    }
   ],
   "source": [
    "df.head()"
   ]
  },
  {
   "cell_type": "code",
   "execution_count": 9,
   "id": "b70461ce",
   "metadata": {},
   "outputs": [
    {
     "name": "stdout",
     "output_type": "stream",
     "text": [
      "\u001b[32m14:48:54.57\u001b[0m | \u001b[1mINFO\u001b[0m | Geometries in DataFrame: 40 Polygons, 3 Points\n"
     ]
    }
   ],
   "source": [
    "geometry_counts = df.geometry.geom_type.value_counts()\n",
    "log_message = \", \".join(f\"{count} {geom_type}s\" for geom_type, count in geometry_counts.items())\n",
    "logger.info(f\"Geometries in DataFrame: {log_message}\")"
   ]
  },
  {
   "cell_type": "code",
   "execution_count": 13,
   "id": "47297119",
   "metadata": {},
   "outputs": [],
   "source": [
    "list_of_calibpoint_names = calibration_points\n",
    "\n",
    "for point_name in list_of_calibpoint_names:\n",
    "    if point_name not in df['annotation_name'].unique():\n",
    "        logger.error(f'Your given annotation_name {point_name} is not present in the file')\n",
    "        logger.error(f'These are the calib points you passed: {list_of_calibpoint_names}')\n",
    "        logger.error(f\"These are the calib points found in the geojson you gave me: {df[df['geometry'].geom_type == 'Point']['annotation_name']}\")"
   ]
  },
  {
   "cell_type": "code",
   "execution_count": 14,
   "id": "58026341",
   "metadata": {},
   "outputs": [],
   "source": [
    "calib_np_array = numpy.array(\n",
    "    [[ df.loc[df['name'] == point_name, 'geometry'].values[0].x,\n",
    "        df.loc[df['name'] == point_name, 'geometry'].values[0].y] \n",
    "        for point_name in list_of_calibpoint_names])"
   ]
  },
  {
   "cell_type": "code",
   "execution_count": 15,
   "id": "e4c3846c",
   "metadata": {},
   "outputs": [
    {
     "data": {
      "text/plain": [
       "array([[ 155.32, 1663.57],\n",
       "       [1861.45,  530.99],\n",
       "       [1527.71, 1345.29]])"
      ]
     },
     "execution_count": 15,
     "metadata": {},
     "output_type": "execute_result"
    }
   ],
   "source": [
    "calib_np_array"
   ]
  },
  {
   "cell_type": "code",
   "execution_count": 16,
   "id": "18cc31c1",
   "metadata": {},
   "outputs": [],
   "source": [
    "def polygon_intersects_triangle(polygon, triangle):\n",
    "        if isinstance(polygon, shapely.Polygon):\n",
    "            return polygon.intersects(triangle)\n",
    "        elif isinstance(polygon, shapely.LineString):\n",
    "            return polygon.intersects(triangle)\n",
    "        else:\n",
    "            return False  # Return False for other geometry types"
   ]
  },
  {
   "cell_type": "code",
   "execution_count": 17,
   "id": "bc812a31",
   "metadata": {},
   "outputs": [],
   "source": [
    "df['intersects'] = df['geometry'].apply(lambda x: polygon_intersects_triangle(x, shapely.Polygon(calib_np_array)))\n",
    "num_of_polygons_and_LineString = df[df['geometry'].geom_type.isin(['Polygon', 'LineString'])].shape[0]"
   ]
  },
  {
   "cell_type": "code",
   "execution_count": 18,
   "id": "e7b8582c",
   "metadata": {},
   "outputs": [
    {
     "name": "stdout",
     "output_type": "stream",
     "text": [
      "\u001b[32m14:49:46.71\u001b[0m | \u001b[1mINFO\u001b[0m |  40.00% of polygons are within calibration triangle\n"
     ]
    }
   ],
   "source": [
    "intersect_fraction = df['intersects'].sum()/num_of_polygons_and_LineString\n",
    "logger.info(f\" {intersect_fraction*100:.2f}% of polygons are within calibration triangle\")"
   ]
  },
  {
   "cell_type": "code",
   "execution_count": 19,
   "id": "66212631",
   "metadata": {},
   "outputs": [
    {
     "name": "stdout",
     "output_type": "stream",
     "text": [
      "\u001b[32m14:49:47.85\u001b[0m | \u001b[1mINFO\u001b[0m | Point geometries have been removed\n"
     ]
    }
   ],
   "source": [
    "#remove points\n",
    "df = df[df['geometry'].apply(lambda geom: not isinstance(geom, shapely.geometry.Point))]\n",
    "logger.info(f\"Point geometries have been removed\")"
   ]
  },
  {
   "cell_type": "code",
   "execution_count": 20,
   "id": "9fb9ecfa",
   "metadata": {},
   "outputs": [
    {
     "data": {
      "text/html": [
       "<div>\n",
       "<style scoped>\n",
       "    .dataframe tbody tr th:only-of-type {\n",
       "        vertical-align: middle;\n",
       "    }\n",
       "\n",
       "    .dataframe tbody tr th {\n",
       "        vertical-align: top;\n",
       "    }\n",
       "\n",
       "    .dataframe thead th {\n",
       "        text-align: right;\n",
       "    }\n",
       "</style>\n",
       "<table border=\"1\" class=\"dataframe\">\n",
       "  <thead>\n",
       "    <tr style=\"text-align: right;\">\n",
       "      <th></th>\n",
       "      <th>id</th>\n",
       "      <th>objectType</th>\n",
       "      <th>classification</th>\n",
       "      <th>name</th>\n",
       "      <th>geometry</th>\n",
       "      <th>annotation_name</th>\n",
       "      <th>intersects</th>\n",
       "    </tr>\n",
       "  </thead>\n",
       "  <tbody>\n",
       "    <tr>\n",
       "      <th>3</th>\n",
       "      <td>bd9c44cf-f4c0-43cb-b62e-1527ec5ea72b</td>\n",
       "      <td>annotation</td>\n",
       "      <td>{'name': 'AF488+AF555', 'color': [255, 102, 102]}</td>\n",
       "      <td>NaN</td>\n",
       "      <td>POLYGON ((944.46000 900.54000, 943.34000 900.6...</td>\n",
       "      <td>NaN</td>\n",
       "      <td>False</td>\n",
       "    </tr>\n",
       "    <tr>\n",
       "      <th>4</th>\n",
       "      <td>3a74e70a-1c2e-42f0-99d3-0c7961b563ef</td>\n",
       "      <td>annotation</td>\n",
       "      <td>{'name': 'AF488S', 'color': [255, 255, 255]}</td>\n",
       "      <td>NaN</td>\n",
       "      <td>POLYGON ((725.81000 1076.88000, 724.86000 1076...</td>\n",
       "      <td>NaN</td>\n",
       "      <td>False</td>\n",
       "    </tr>\n",
       "    <tr>\n",
       "      <th>5</th>\n",
       "      <td>c275935d-74ea-451d-9fd9-ad2d0d398151</td>\n",
       "      <td>annotation</td>\n",
       "      <td>{'name': 'AF488+AF647', 'color': [230, 204, 255]}</td>\n",
       "      <td>NaN</td>\n",
       "      <td>POLYGON ((922.00000 990.38000, 921.13000 990.4...</td>\n",
       "      <td>NaN</td>\n",
       "      <td>False</td>\n",
       "    </tr>\n",
       "    <tr>\n",
       "      <th>6</th>\n",
       "      <td>52e90c1a-5064-45e0-b5fe-c25fff827d3e</td>\n",
       "      <td>annotation</td>\n",
       "      <td>{'name': 'AF488+AF555', 'color': [255, 102, 102]}</td>\n",
       "      <td>NaN</td>\n",
       "      <td>POLYGON ((942.15000 1077.65000, 941.41000 1077...</td>\n",
       "      <td>NaN</td>\n",
       "      <td>False</td>\n",
       "    </tr>\n",
       "    <tr>\n",
       "      <th>7</th>\n",
       "      <td>06e71d3c-6014-4abf-9061-2253b629afc7</td>\n",
       "      <td>annotation</td>\n",
       "      <td>{'name': 'AF488+AF555', 'color': [255, 102, 102]}</td>\n",
       "      <td>NaN</td>\n",
       "      <td>POLYGON ((1111.56000 1344.85000, 1110.66000 13...</td>\n",
       "      <td>NaN</td>\n",
       "      <td>True</td>\n",
       "    </tr>\n",
       "  </tbody>\n",
       "</table>\n",
       "</div>"
      ],
      "text/plain": [
       "                                     id  objectType  \\\n",
       "3  bd9c44cf-f4c0-43cb-b62e-1527ec5ea72b  annotation   \n",
       "4  3a74e70a-1c2e-42f0-99d3-0c7961b563ef  annotation   \n",
       "5  c275935d-74ea-451d-9fd9-ad2d0d398151  annotation   \n",
       "6  52e90c1a-5064-45e0-b5fe-c25fff827d3e  annotation   \n",
       "7  06e71d3c-6014-4abf-9061-2253b629afc7  annotation   \n",
       "\n",
       "                                      classification name  \\\n",
       "3  {'name': 'AF488+AF555', 'color': [255, 102, 102]}  NaN   \n",
       "4       {'name': 'AF488S', 'color': [255, 255, 255]}  NaN   \n",
       "5  {'name': 'AF488+AF647', 'color': [230, 204, 255]}  NaN   \n",
       "6  {'name': 'AF488+AF555', 'color': [255, 102, 102]}  NaN   \n",
       "7  {'name': 'AF488+AF555', 'color': [255, 102, 102]}  NaN   \n",
       "\n",
       "                                            geometry annotation_name  \\\n",
       "3  POLYGON ((944.46000 900.54000, 943.34000 900.6...             NaN   \n",
       "4  POLYGON ((725.81000 1076.88000, 724.86000 1076...             NaN   \n",
       "5  POLYGON ((922.00000 990.38000, 921.13000 990.4...             NaN   \n",
       "6  POLYGON ((942.15000 1077.65000, 941.41000 1077...             NaN   \n",
       "7  POLYGON ((1111.56000 1344.85000, 1110.66000 13...             NaN   \n",
       "\n",
       "   intersects  \n",
       "3       False  \n",
       "4       False  \n",
       "5       False  \n",
       "6       False  \n",
       "7        True  "
      ]
     },
     "execution_count": 20,
     "metadata": {},
     "output_type": "execute_result"
    }
   ],
   "source": [
    "df.head()"
   ]
  },
  {
   "cell_type": "code",
   "execution_count": 21,
   "id": "bcb6f648",
   "metadata": {},
   "outputs": [],
   "source": [
    "#check and remove empty classifications\n",
    "if df['classification'].isna().sum() !=0 :\n",
    "    df = df[df['classification'].notna()]"
   ]
  },
  {
   "cell_type": "code",
   "execution_count": 22,
   "id": "f7d0ddd6",
   "metadata": {},
   "outputs": [
    {
     "data": {
      "text/html": [
       "<div>\n",
       "<style scoped>\n",
       "    .dataframe tbody tr th:only-of-type {\n",
       "        vertical-align: middle;\n",
       "    }\n",
       "\n",
       "    .dataframe tbody tr th {\n",
       "        vertical-align: top;\n",
       "    }\n",
       "\n",
       "    .dataframe thead th {\n",
       "        text-align: right;\n",
       "    }\n",
       "</style>\n",
       "<table border=\"1\" class=\"dataframe\">\n",
       "  <thead>\n",
       "    <tr style=\"text-align: right;\">\n",
       "      <th></th>\n",
       "      <th>id</th>\n",
       "      <th>objectType</th>\n",
       "      <th>classification</th>\n",
       "      <th>name</th>\n",
       "      <th>geometry</th>\n",
       "      <th>annotation_name</th>\n",
       "      <th>intersects</th>\n",
       "    </tr>\n",
       "  </thead>\n",
       "  <tbody>\n",
       "    <tr>\n",
       "      <th>3</th>\n",
       "      <td>bd9c44cf-f4c0-43cb-b62e-1527ec5ea72b</td>\n",
       "      <td>annotation</td>\n",
       "      <td>{'name': 'AF488+AF555', 'color': [255, 102, 102]}</td>\n",
       "      <td>NaN</td>\n",
       "      <td>POLYGON ((944.46000 900.54000, 943.34000 900.6...</td>\n",
       "      <td>NaN</td>\n",
       "      <td>False</td>\n",
       "    </tr>\n",
       "    <tr>\n",
       "      <th>4</th>\n",
       "      <td>3a74e70a-1c2e-42f0-99d3-0c7961b563ef</td>\n",
       "      <td>annotation</td>\n",
       "      <td>{'name': 'AF488S', 'color': [255, 255, 255]}</td>\n",
       "      <td>NaN</td>\n",
       "      <td>POLYGON ((725.81000 1076.88000, 724.86000 1076...</td>\n",
       "      <td>NaN</td>\n",
       "      <td>False</td>\n",
       "    </tr>\n",
       "    <tr>\n",
       "      <th>5</th>\n",
       "      <td>c275935d-74ea-451d-9fd9-ad2d0d398151</td>\n",
       "      <td>annotation</td>\n",
       "      <td>{'name': 'AF488+AF647', 'color': [230, 204, 255]}</td>\n",
       "      <td>NaN</td>\n",
       "      <td>POLYGON ((922.00000 990.38000, 921.13000 990.4...</td>\n",
       "      <td>NaN</td>\n",
       "      <td>False</td>\n",
       "    </tr>\n",
       "    <tr>\n",
       "      <th>6</th>\n",
       "      <td>52e90c1a-5064-45e0-b5fe-c25fff827d3e</td>\n",
       "      <td>annotation</td>\n",
       "      <td>{'name': 'AF488+AF555', 'color': [255, 102, 102]}</td>\n",
       "      <td>NaN</td>\n",
       "      <td>POLYGON ((942.15000 1077.65000, 941.41000 1077...</td>\n",
       "      <td>NaN</td>\n",
       "      <td>False</td>\n",
       "    </tr>\n",
       "    <tr>\n",
       "      <th>7</th>\n",
       "      <td>06e71d3c-6014-4abf-9061-2253b629afc7</td>\n",
       "      <td>annotation</td>\n",
       "      <td>{'name': 'AF488+AF555', 'color': [255, 102, 102]}</td>\n",
       "      <td>NaN</td>\n",
       "      <td>POLYGON ((1111.56000 1344.85000, 1110.66000 13...</td>\n",
       "      <td>NaN</td>\n",
       "      <td>True</td>\n",
       "    </tr>\n",
       "  </tbody>\n",
       "</table>\n",
       "</div>"
      ],
      "text/plain": [
       "                                     id  objectType  \\\n",
       "3  bd9c44cf-f4c0-43cb-b62e-1527ec5ea72b  annotation   \n",
       "4  3a74e70a-1c2e-42f0-99d3-0c7961b563ef  annotation   \n",
       "5  c275935d-74ea-451d-9fd9-ad2d0d398151  annotation   \n",
       "6  52e90c1a-5064-45e0-b5fe-c25fff827d3e  annotation   \n",
       "7  06e71d3c-6014-4abf-9061-2253b629afc7  annotation   \n",
       "\n",
       "                                      classification name  \\\n",
       "3  {'name': 'AF488+AF555', 'color': [255, 102, 102]}  NaN   \n",
       "4       {'name': 'AF488S', 'color': [255, 255, 255]}  NaN   \n",
       "5  {'name': 'AF488+AF647', 'color': [230, 204, 255]}  NaN   \n",
       "6  {'name': 'AF488+AF555', 'color': [255, 102, 102]}  NaN   \n",
       "7  {'name': 'AF488+AF555', 'color': [255, 102, 102]}  NaN   \n",
       "\n",
       "                                            geometry annotation_name  \\\n",
       "3  POLYGON ((944.46000 900.54000, 943.34000 900.6...             NaN   \n",
       "4  POLYGON ((725.81000 1076.88000, 724.86000 1076...             NaN   \n",
       "5  POLYGON ((922.00000 990.38000, 921.13000 990.4...             NaN   \n",
       "6  POLYGON ((942.15000 1077.65000, 941.41000 1077...             NaN   \n",
       "7  POLYGON ((1111.56000 1344.85000, 1110.66000 13...             NaN   \n",
       "\n",
       "   intersects  \n",
       "3       False  \n",
       "4       False  \n",
       "5       False  \n",
       "6       False  \n",
       "7        True  "
      ]
     },
     "execution_count": 22,
     "metadata": {},
     "output_type": "execute_result"
    }
   ],
   "source": [
    "df.head()"
   ]
  },
  {
   "cell_type": "code",
   "execution_count": 23,
   "id": "54721fbb",
   "metadata": {},
   "outputs": [],
   "source": [
    "#get classification name from inside geometry properties\n",
    "df['classification_name'] = df['classification'].apply(lambda x: x.get('name'))"
   ]
  },
  {
   "cell_type": "code",
   "execution_count": 24,
   "id": "83d9db54",
   "metadata": {},
   "outputs": [
    {
     "data": {
      "text/html": [
       "<div>\n",
       "<style scoped>\n",
       "    .dataframe tbody tr th:only-of-type {\n",
       "        vertical-align: middle;\n",
       "    }\n",
       "\n",
       "    .dataframe tbody tr th {\n",
       "        vertical-align: top;\n",
       "    }\n",
       "\n",
       "    .dataframe thead th {\n",
       "        text-align: right;\n",
       "    }\n",
       "</style>\n",
       "<table border=\"1\" class=\"dataframe\">\n",
       "  <thead>\n",
       "    <tr style=\"text-align: right;\">\n",
       "      <th></th>\n",
       "      <th>id</th>\n",
       "      <th>objectType</th>\n",
       "      <th>classification</th>\n",
       "      <th>name</th>\n",
       "      <th>geometry</th>\n",
       "      <th>annotation_name</th>\n",
       "      <th>intersects</th>\n",
       "      <th>classification_name</th>\n",
       "    </tr>\n",
       "  </thead>\n",
       "  <tbody>\n",
       "    <tr>\n",
       "      <th>3</th>\n",
       "      <td>bd9c44cf-f4c0-43cb-b62e-1527ec5ea72b</td>\n",
       "      <td>annotation</td>\n",
       "      <td>{'name': 'AF488+AF555', 'color': [255, 102, 102]}</td>\n",
       "      <td>NaN</td>\n",
       "      <td>POLYGON ((944.46000 900.54000, 943.34000 900.6...</td>\n",
       "      <td>NaN</td>\n",
       "      <td>False</td>\n",
       "      <td>AF488+AF555</td>\n",
       "    </tr>\n",
       "    <tr>\n",
       "      <th>4</th>\n",
       "      <td>3a74e70a-1c2e-42f0-99d3-0c7961b563ef</td>\n",
       "      <td>annotation</td>\n",
       "      <td>{'name': 'AF488S', 'color': [255, 255, 255]}</td>\n",
       "      <td>NaN</td>\n",
       "      <td>POLYGON ((725.81000 1076.88000, 724.86000 1076...</td>\n",
       "      <td>NaN</td>\n",
       "      <td>False</td>\n",
       "      <td>AF488S</td>\n",
       "    </tr>\n",
       "    <tr>\n",
       "      <th>5</th>\n",
       "      <td>c275935d-74ea-451d-9fd9-ad2d0d398151</td>\n",
       "      <td>annotation</td>\n",
       "      <td>{'name': 'AF488+AF647', 'color': [230, 204, 255]}</td>\n",
       "      <td>NaN</td>\n",
       "      <td>POLYGON ((922.00000 990.38000, 921.13000 990.4...</td>\n",
       "      <td>NaN</td>\n",
       "      <td>False</td>\n",
       "      <td>AF488+AF647</td>\n",
       "    </tr>\n",
       "    <tr>\n",
       "      <th>6</th>\n",
       "      <td>52e90c1a-5064-45e0-b5fe-c25fff827d3e</td>\n",
       "      <td>annotation</td>\n",
       "      <td>{'name': 'AF488+AF555', 'color': [255, 102, 102]}</td>\n",
       "      <td>NaN</td>\n",
       "      <td>POLYGON ((942.15000 1077.65000, 941.41000 1077...</td>\n",
       "      <td>NaN</td>\n",
       "      <td>False</td>\n",
       "      <td>AF488+AF555</td>\n",
       "    </tr>\n",
       "    <tr>\n",
       "      <th>7</th>\n",
       "      <td>06e71d3c-6014-4abf-9061-2253b629afc7</td>\n",
       "      <td>annotation</td>\n",
       "      <td>{'name': 'AF488+AF555', 'color': [255, 102, 102]}</td>\n",
       "      <td>NaN</td>\n",
       "      <td>POLYGON ((1111.56000 1344.85000, 1110.66000 13...</td>\n",
       "      <td>NaN</td>\n",
       "      <td>True</td>\n",
       "      <td>AF488+AF555</td>\n",
       "    </tr>\n",
       "  </tbody>\n",
       "</table>\n",
       "</div>"
      ],
      "text/plain": [
       "                                     id  objectType  \\\n",
       "3  bd9c44cf-f4c0-43cb-b62e-1527ec5ea72b  annotation   \n",
       "4  3a74e70a-1c2e-42f0-99d3-0c7961b563ef  annotation   \n",
       "5  c275935d-74ea-451d-9fd9-ad2d0d398151  annotation   \n",
       "6  52e90c1a-5064-45e0-b5fe-c25fff827d3e  annotation   \n",
       "7  06e71d3c-6014-4abf-9061-2253b629afc7  annotation   \n",
       "\n",
       "                                      classification name  \\\n",
       "3  {'name': 'AF488+AF555', 'color': [255, 102, 102]}  NaN   \n",
       "4       {'name': 'AF488S', 'color': [255, 255, 255]}  NaN   \n",
       "5  {'name': 'AF488+AF647', 'color': [230, 204, 255]}  NaN   \n",
       "6  {'name': 'AF488+AF555', 'color': [255, 102, 102]}  NaN   \n",
       "7  {'name': 'AF488+AF555', 'color': [255, 102, 102]}  NaN   \n",
       "\n",
       "                                            geometry annotation_name  \\\n",
       "3  POLYGON ((944.46000 900.54000, 943.34000 900.6...             NaN   \n",
       "4  POLYGON ((725.81000 1076.88000, 724.86000 1076...             NaN   \n",
       "5  POLYGON ((922.00000 990.38000, 921.13000 990.4...             NaN   \n",
       "6  POLYGON ((942.15000 1077.65000, 941.41000 1077...             NaN   \n",
       "7  POLYGON ((1111.56000 1344.85000, 1110.66000 13...             NaN   \n",
       "\n",
       "   intersects classification_name  \n",
       "3       False         AF488+AF555  \n",
       "4       False              AF488S  \n",
       "5       False         AF488+AF647  \n",
       "6       False         AF488+AF555  \n",
       "7        True         AF488+AF555  "
      ]
     },
     "execution_count": 24,
     "metadata": {},
     "output_type": "execute_result"
    }
   ],
   "source": [
    "df.head()"
   ]
  },
  {
   "cell_type": "code",
   "execution_count": 25,
   "id": "13a2d28f",
   "metadata": {},
   "outputs": [
    {
     "data": {
      "text/plain": [
       "id                       object\n",
       "objectType               object\n",
       "classification           object\n",
       "name                     object\n",
       "geometry               geometry\n",
       "annotation_name          object\n",
       "intersects                 bool\n",
       "classification_name      object\n",
       "dtype: object"
      ]
     },
     "execution_count": 25,
     "metadata": {},
     "output_type": "execute_result"
    }
   ],
   "source": [
    "df.dtypes"
   ]
  },
  {
   "cell_type": "code",
   "execution_count": null,
   "id": "fdcc3f93",
   "metadata": {},
   "outputs": [],
   "source": [
    "#change a column to dictionary\n",
    "df['classification'] = df['classification'].apply(lambda x: ast.literal_eval(x))\n",
    "\n",
    "import ast\n",
    "\n",
    "df['classification_name'] = df['classification'].apply(lambda x: ast.literal_eval(x).get('name') if isinstance(x, str) else x.get('name'))\n",
    "# df['classification_name'] = df['classification'].apply(lambda x: x.get('name'))\n"
   ]
  },
  {
   "cell_type": "code",
   "execution_count": 29,
   "id": "604c5d64",
   "metadata": {},
   "outputs": [],
   "source": [
    "def load_and_QC_geojson_file(geojson_path: str, list_of_calibpoint_names: list = ['calib1','calib2','calib3']):\n",
    "    \"\"\"\n",
    "    This function loads a geojson file and checks for common issues that might arise when converting it to xml for LMD\n",
    "\n",
    "    Parameters:\n",
    "    geojson_path (str): path to the geojson file\n",
    "    list_of_calibpoint_names (list): list of calibration point names in the geojson file\n",
    "\n",
    "    Returns:\n",
    "    None\n",
    "\n",
    "    Latest update: 29.04.2024 by Jose Nimo\n",
    "    \"\"\"\n",
    "\n",
    "    #load geojson file\n",
    "    df = geopandas.read_file(geojson_path)\n",
    "    logger.info(f\"Geojson file loaded with shape {df.shape}\")\n",
    "\n",
    "    try:\n",
    "        df['annotation_name'] = df['name']\n",
    "    except:\n",
    "        logger.warning('No name column found, meaning no annotation in Qupath was named, at least calibration points should be named')\n",
    "\n",
    "    geometry_counts = df.geometry.geom_type.value_counts()\n",
    "    log_message = \", \".join(f\"{count} {geom_type}s\" for geom_type, count in geometry_counts.items())\n",
    "    logger.info(f\"Geometries in DataFrame: {log_message}\")\n",
    "\n",
    "    #check for calibration points\n",
    "    for point_name in list_of_calibpoint_names:\n",
    "        if point_name not in df['annotation_name'].unique():\n",
    "            logger.error(f'Your given annotation_name {point_name} is not present in the file')\n",
    "            logger.error(f'These are the calib points you passed: {list_of_calibpoint_names}')\n",
    "            logger.error(f\"These are the calib points found in the geojson you gave me: {df[df['geometry'].geom_type == 'Point']['annotation_name']}\")\n",
    "\n",
    "    calib_np_array = numpy.array(\n",
    "        [[ df.loc[df['name'] == point_name, 'geometry'].values[0].x,\n",
    "            df.loc[df['name'] == point_name, 'geometry'].values[0].y] \n",
    "            for point_name in list_of_calibpoint_names])\n",
    "\n",
    "    def polygon_intersects_triangle(polygon, triangle):\n",
    "        if isinstance(polygon, shapely.Polygon):\n",
    "            return polygon.intersects(triangle)\n",
    "        elif isinstance(polygon, shapely.LineString):\n",
    "            return polygon.intersects(triangle)\n",
    "        else:\n",
    "            return False  # Return False for other geometry types\n",
    "\n",
    "    df['intersects'] = df['geometry'].apply(lambda x: polygon_intersects_triangle(x, shapely.Polygon(calib_np_array)))\n",
    "    num_of_polygons_and_LineString = df[df['geometry'].geom_type.isin(['Polygon', 'LineString'])].shape[0]\n",
    "\n",
    "    intersect_fraction = df['intersects'].sum()/num_of_polygons_and_LineString\n",
    "    logger.info(f\" {intersect_fraction*100:.2f}% of polygons are within calibration triangle\")\n",
    "\n",
    "    if intersect_fraction < 0.25:\n",
    "        logger.warning(f\"Less than 25% of the objects intersect with the calibration triangle\")\n",
    "        logger.warning(f\"Polygons will most likely be warped, consider changing calib points\")\n",
    "\n",
    "    #remove points\n",
    "    df = df[df['geometry'].apply(lambda geom: not isinstance(geom, shapely.geometry.Point))]\n",
    "    logger.info(f\"Point geometries have been removed\")\n",
    "\n",
    "    #check and remove empty classifications\n",
    "    if df['classification'].isna().sum() !=0 :\n",
    "        df = df[df['classification'].notna()]\n",
    "\n",
    "    #get classification name from inside geometry properties\n",
    "    df['classification_name'] = df['classification'].apply(lambda x: x.get('name'))\n",
    "\n",
    "    #check for MultiPolygon objects\n",
    "    if 'MultiPolygon' in df.geometry.geom_type.value_counts().keys():\n",
    "        df = df[df.geometry.geom_type != 'MultiPolygon']\n",
    "\n",
    "    df['coords'] = df.geometry.simplify(1).apply(extract_coordinates)\n",
    "\n",
    "    logger.success(f\"QC of geojson file complete\")"
   ]
  }
 ],
 "metadata": {
  "kernelspec": {
   "display_name": "Python 3 (ipykernel)",
   "language": "python",
   "name": "python3"
  },
  "language_info": {
   "codemirror_mode": {
    "name": "ipython",
    "version": 3
   },
   "file_extension": ".py",
   "mimetype": "text/x-python",
   "name": "python",
   "nbconvert_exporter": "python",
   "pygments_lexer": "ipython3",
   "version": "3.9.18"
  }
 },
 "nbformat": 4,
 "nbformat_minor": 5
}
