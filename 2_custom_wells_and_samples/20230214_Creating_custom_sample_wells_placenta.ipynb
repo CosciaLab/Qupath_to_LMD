{
 "cells": [
  {
   "cell_type": "code",
   "execution_count": 9,
   "id": "cf0d62d7-a9d4-4416-b20c-7c6fec6c6af3",
   "metadata": {
    "tags": []
   },
   "outputs": [],
   "source": [
    "import pandas as pd\n",
    "import numpy as np\n",
    "import os\n",
    "import string"
   ]
  },
  {
   "cell_type": "code",
   "execution_count": null,
   "id": "f60fa1e4",
   "metadata": {},
   "outputs": [],
   "source": []
  },
  {
   "cell_type": "code",
   "execution_count": 2,
   "id": "d7c80a6e-40d6-4e50-a3e1-701cbef22480",
   "metadata": {
    "tags": []
   },
   "outputs": [],
   "source": [
    "variable_list_1 = ['108','041','082','187','018',\n",
    "               '033','167','030','017','040',\n",
    "               '098']\n",
    "\n",
    "variable_list_2 = ['STB_nVEC', 'STB_gen',\n",
    "               'CTB',\n",
    "               'HBC_nTroph','HBC_nVEC', 'HBC_mid',\n",
    "               'CCT',\n",
    "               'VEC',\n",
    "               'Str']\n",
    "\n",
    "variable_list_3 = ['1','2','3']"
   ]
  },
  {
   "cell_type": "code",
   "execution_count": 3,
   "id": "9c8f12f5-9523-4567-b394-c42ad31dda8a",
   "metadata": {
    "tags": []
   },
   "outputs": [],
   "source": [
    "list_of_all_samples = []\n",
    "\n",
    "for variable1 in variable_list_1:\n",
    "    for variable2 in variable_list_2:\n",
    "        for variable3 in variable_list_3:\n",
    "            list_of_all_samples.append(\n",
    "                variable1 + '_' +\n",
    "                variable2 + '_' +\n",
    "                variable3)\n",
    "            "
   ]
  },
  {
   "cell_type": "code",
   "execution_count": 5,
   "id": "8ec52cde-f7d6-415d-a164-0351b1f13b29",
   "metadata": {
    "tags": []
   },
   "outputs": [
    {
     "data": {
      "text/plain": [
       "297"
      ]
     },
     "execution_count": 5,
     "metadata": {},
     "output_type": "execute_result"
    }
   ],
   "source": [
    "len(list_of_all_samples)"
   ]
  },
  {
   "cell_type": "code",
   "execution_count": 11,
   "id": "ff40745a-a140-471a-bd27-ecdacdb8c4db",
   "metadata": {
    "tags": []
   },
   "outputs": [
    {
     "name": "stdout",
     "output_type": "stream",
     "text": [
      "checking the first five wells: ['C2', 'C3', 'C4', 'C5', 'C6']\n",
      "checking the last five wells: ['N18', 'N19', 'N20', 'N21', 'N22']\n"
     ]
    }
   ],
   "source": [
    "list_of_acceptable_wells =[]\n",
    "for row in list(string.ascii_uppercase[2:14]):\n",
    "    for column in range(2,23):\n",
    "        list_of_acceptable_wells.append(str(row) + str(column))\n",
    "\n",
    "print('checking the first five wells: ' + str(list_of_acceptable_wells[:5]))\n",
    "print('checking the last five wells: ' + str(list_of_acceptable_wells[-5:]))"
   ]
  },
  {
   "cell_type": "code",
   "execution_count": 12,
   "id": "be652709-508f-49af-8055-2a1a0ca1e16b",
   "metadata": {
    "tags": []
   },
   "outputs": [
    {
     "data": {
      "text/plain": [
       "252"
      ]
     },
     "execution_count": 12,
     "metadata": {},
     "output_type": "execute_result"
    }
   ],
   "source": [
    "len(list_of_acceptable_wells)"
   ]
  },
  {
   "cell_type": "markdown",
   "id": "395c10eb-e721-4597-9827-a3b2516150fe",
   "metadata": {},
   "source": [
    "### already have some defined wells? put them here "
   ]
  },
  {
   "cell_type": "code",
   "execution_count": 14,
   "id": "c98c3a68-40fd-4c19-b9b5-e9cab65db8e1",
   "metadata": {
    "tags": []
   },
   "outputs": [],
   "source": [
    "already_taken_samples_and_wells = {'033_HBC_mid_3': 'C3',\n",
    "                                 '033_HBC_nVEC_1': 'C4',\n",
    "                                 '033_HBC_nVEC_2': 'C5',\n",
    "                                 '033_HBC_mid_2': 'C6',\n",
    "                                 '033_HBC_nTroph_3': 'C7',\n",
    "                                 '033_HBC_nTroph_1': 'C8',\n",
    "                                 '033_HBC_mid_1': 'C9',\n",
    "                                 '033_HBC_nVEC_3': 'C10',\n",
    "                                 '033_HBC_nTroph_2': 'C11'}"
   ]
  },
  {
   "cell_type": "code",
   "execution_count": 26,
   "id": "7dcf88f5-b9b6-484b-adc8-c46c6fd2675d",
   "metadata": {
    "tags": []
   },
   "outputs": [
    {
     "name": "stdout",
     "output_type": "stream",
     "text": [
      "C3 well was found already in dict, skipping it\n",
      "C4 well was found already in dict, skipping it\n",
      "C5 well was found already in dict, skipping it\n",
      "C6 well was found already in dict, skipping it\n",
      "C7 well was found already in dict, skipping it\n",
      "C8 well was found already in dict, skipping it\n",
      "C9 well was found already in dict, skipping it\n",
      "C10 well was found already in dict, skipping it\n",
      "C11 well was found already in dict, skipping it\n"
     ]
    }
   ],
   "source": [
    "list_of_not_taken_wells = []\n",
    "\n",
    "for well in list_of_acceptable_wells:\n",
    "    if well in already_taken_samples_and_wells.values():\n",
    "        print(well + ' well was found already in dict, skipping it')\n",
    "    else:\n",
    "        list_of_not_taken_wells.append(well)"
   ]
  },
  {
   "cell_type": "code",
   "execution_count": 27,
   "id": "e2aaf349-3059-40ff-bc20-6d1a5b431ee7",
   "metadata": {
    "tags": []
   },
   "outputs": [
    {
     "data": {
      "text/plain": [
       "243"
      ]
     },
     "execution_count": 27,
     "metadata": {},
     "output_type": "execute_result"
    }
   ],
   "source": [
    "len(list_of_not_taken_wells)"
   ]
  },
  {
   "cell_type": "code",
   "execution_count": null,
   "id": "be977666-40a2-4a6d-98fa-14c3f136de00",
   "metadata": {},
   "outputs": [],
   "source": [
    "plate_2_patients = ['167','030',"
   ]
  },
  {
   "cell_type": "code",
   "execution_count": 15,
   "id": "927f628f-8525-477b-931e-d9cb16e90e3e",
   "metadata": {
    "tags": []
   },
   "outputs": [],
   "source": [
    "plate_1_patients = ['018','033']"
   ]
  },
  {
   "cell_type": "code",
   "execution_count": 28,
   "id": "ddaf9ef5-1cc2-43ea-a103-065ed91d43fc",
   "metadata": {
    "tags": []
   },
   "outputs": [
    {
     "name": "stdout",
     "output_type": "stream",
     "text": [
      "033_HBC_nTroph_1already in samples_and_wells, skipping it\n",
      "033_HBC_nTroph_2already in samples_and_wells, skipping it\n",
      "033_HBC_nTroph_3already in samples_and_wells, skipping it\n",
      "033_HBC_nVEC_1already in samples_and_wells, skipping it\n",
      "033_HBC_nVEC_2already in samples_and_wells, skipping it\n",
      "033_HBC_nVEC_3already in samples_and_wells, skipping it\n",
      "033_HBC_mid_1already in samples_and_wells, skipping it\n",
      "033_HBC_mid_2already in samples_and_wells, skipping it\n",
      "033_HBC_mid_3already in samples_and_wells, skipping it\n"
     ]
    }
   ],
   "source": [
    "#loop through the two desired patients\n",
    "for patient in  plate_1_patients:\n",
    "    #loop through all samples permutations\n",
    "    for sample, well in zip(list_of_all_samples,list_of_not_taken_wells):\n",
    "        #filter samples only with patient id in them\n",
    "        if sample[:3] == patient:\n",
    "            #check if sample already in dict\n",
    "            if sample in samples_and_wells.keys():\n",
    "                print(sample + ' already in samples_and_wells, skipping it')\n",
    "            else:\n",
    "                samples_and_wells[sample] = well\n",
    "            "
   ]
  },
  {
   "cell_type": "code",
   "execution_count": 29,
   "id": "d34c4569-7348-4a60-bf4b-5b02676c0207",
   "metadata": {
    "tags": []
   },
   "outputs": [
    {
     "data": {
      "text/plain": [
       "{'033_HBC_mid_3': 'C3',\n",
       " '033_HBC_nVEC_1': 'C4',\n",
       " '033_HBC_nVEC_2': 'C5',\n",
       " '033_HBC_mid_2': 'C6',\n",
       " '033_HBC_nTroph_3': 'C7',\n",
       " '033_HBC_nTroph_1': 'C8',\n",
       " '033_HBC_mid_1': 'C9',\n",
       " '033_HBC_nVEC_3': 'C10',\n",
       " '033_HBC_nTroph_2': 'C11',\n",
       " '018_STB_nVEC_1': 'H14',\n",
       " '018_STB_nVEC_2': 'H15',\n",
       " '018_STB_nVEC_3': 'H16',\n",
       " '018_STB_gen_1': 'H17',\n",
       " '018_STB_gen_2': 'H18',\n",
       " '018_STB_gen_3': 'H19',\n",
       " '018_CTB_1': 'H20',\n",
       " '018_CTB_2': 'H21',\n",
       " '018_CTB_3': 'H22',\n",
       " '018_HBC_nTroph_1': 'I2',\n",
       " '018_HBC_nTroph_2': 'I3',\n",
       " '018_HBC_nTroph_3': 'I4',\n",
       " '018_HBC_nVEC_1': 'I5',\n",
       " '018_HBC_nVEC_2': 'I6',\n",
       " '018_HBC_nVEC_3': 'I7',\n",
       " '018_HBC_mid_1': 'I8',\n",
       " '018_HBC_mid_2': 'I9',\n",
       " '018_HBC_mid_3': 'I10',\n",
       " '018_CCT_1': 'I11',\n",
       " '018_CCT_2': 'I12',\n",
       " '018_CCT_3': 'I13',\n",
       " '018_VEC_1': 'I14',\n",
       " '018_VEC_2': 'I15',\n",
       " '018_VEC_3': 'I16',\n",
       " '018_Str_1': 'I17',\n",
       " '018_Str_2': 'I18',\n",
       " '018_Str_3': 'I19',\n",
       " '033_STB_nVEC_1': 'I20',\n",
       " '033_STB_nVEC_2': 'I21',\n",
       " '033_STB_nVEC_3': 'I22',\n",
       " '033_STB_gen_1': 'J2',\n",
       " '033_STB_gen_2': 'J3',\n",
       " '033_STB_gen_3': 'J4',\n",
       " '033_CTB_1': 'J5',\n",
       " '033_CTB_2': 'J6',\n",
       " '033_CTB_3': 'J7',\n",
       " '033_CCT_1': 'J17',\n",
       " '033_CCT_2': 'J18',\n",
       " '033_CCT_3': 'J19',\n",
       " '033_VEC_1': 'J20',\n",
       " '033_VEC_2': 'J21',\n",
       " '033_VEC_3': 'J22',\n",
       " '033_Str_1': 'K2',\n",
       " '033_Str_2': 'K3',\n",
       " '033_Str_3': 'K4'}"
      ]
     },
     "execution_count": 29,
     "metadata": {},
     "output_type": "execute_result"
    }
   ],
   "source": [
    "samples_and_wells"
   ]
  },
  {
   "cell_type": "code",
   "execution_count": 22,
   "id": "cff42ab9-a1c1-4ea4-b497-2955eb57b7ec",
   "metadata": {
    "tags": []
   },
   "outputs": [
    {
     "name": "stdout",
     "output_type": "stream",
     "text": [
      "test is found in sample and wells keys\n"
     ]
    }
   ],
   "source": [
    "for \n",
    "if test in samples_and_wells.keys():\n",
    "    print('test is found in sample and wells keys')"
   ]
  },
  {
   "cell_type": "code",
   "execution_count": 18,
   "id": "e2a19367-f7ef-4d1d-a808-a9a540d18bee",
   "metadata": {
    "collapsed": true,
    "jupyter": {
     "outputs_hidden": true
    },
    "tags": []
   },
   "outputs": [
    {
     "name": "stdout",
     "output_type": "stream",
     "text": [
      "018_STB_nVEC_1\n",
      "018_STB_nVEC_2\n",
      "018_STB_nVEC_3\n",
      "018_STB_gen_1\n",
      "018_STB_gen_2\n",
      "018_STB_gen_3\n",
      "018_CTB_1\n",
      "018_CTB_2\n",
      "018_CTB_3\n",
      "018_HBC_nTroph_1\n",
      "018_HBC_nTroph_2\n",
      "018_HBC_nTroph_3\n",
      "018_HBC_nVEC_1\n",
      "018_HBC_nVEC_2\n",
      "018_HBC_nVEC_3\n",
      "018_HBC_mid_1\n",
      "018_HBC_mid_2\n",
      "018_HBC_mid_3\n",
      "018_CCT_1\n",
      "018_CCT_2\n",
      "018_CCT_3\n",
      "018_VEC_1\n",
      "018_VEC_2\n",
      "018_VEC_3\n",
      "018_Str_1\n",
      "018_Str_2\n",
      "018_Str_3\n"
     ]
    }
   ],
   "source": [
    "#sample slicing\n",
    "for sample in list_of_all_samples:\n",
    "        if sample[:3] == '018':\n",
    "            print(sample)"
   ]
  },
  {
   "cell_type": "markdown",
   "id": "4fecabd2",
   "metadata": {},
   "source": [
    "# Creating samples and wells for 384 and 96 well plates"
   ]
  },
  {
   "cell_type": "code",
   "execution_count": 2,
   "id": "e53dd509",
   "metadata": {},
   "outputs": [],
   "source": [
    "import string"
   ]
  },
  {
   "cell_type": "code",
   "execution_count": 11,
   "id": "8bbeebd9",
   "metadata": {},
   "outputs": [],
   "source": [
    "wp_384 =[]\n",
    "for row in list(string.ascii_uppercase[0:16]):\n",
    "    for column in range(1,25):\n",
    "        wp_384.append(str(row) + str(column))"
   ]
  },
  {
   "cell_type": "code",
   "execution_count": 17,
   "id": "60b31398",
   "metadata": {},
   "outputs": [],
   "source": [
    "wp_384_dict = {}\n",
    "for i in wp_384:\n",
    "    wp_384_dict[i] = i"
   ]
  },
  {
   "cell_type": "code",
   "execution_count": 18,
   "id": "e483aa97",
   "metadata": {},
   "outputs": [
    {
     "data": {
      "text/plain": [
       "{'A1': 'A1',\n",
       " 'A2': 'A2',\n",
       " 'A3': 'A3',\n",
       " 'A4': 'A4',\n",
       " 'A5': 'A5',\n",
       " 'A6': 'A6',\n",
       " 'A7': 'A7',\n",
       " 'A8': 'A8',\n",
       " 'A9': 'A9',\n",
       " 'A10': 'A10',\n",
       " 'A11': 'A11',\n",
       " 'A12': 'A12',\n",
       " 'A13': 'A13',\n",
       " 'A14': 'A14',\n",
       " 'A15': 'A15',\n",
       " 'A16': 'A16',\n",
       " 'A17': 'A17',\n",
       " 'A18': 'A18',\n",
       " 'A19': 'A19',\n",
       " 'A20': 'A20',\n",
       " 'A21': 'A21',\n",
       " 'A22': 'A22',\n",
       " 'A23': 'A23',\n",
       " 'A24': 'A24',\n",
       " 'B1': 'B1',\n",
       " 'B2': 'B2',\n",
       " 'B3': 'B3',\n",
       " 'B4': 'B4',\n",
       " 'B5': 'B5',\n",
       " 'B6': 'B6',\n",
       " 'B7': 'B7',\n",
       " 'B8': 'B8',\n",
       " 'B9': 'B9',\n",
       " 'B10': 'B10',\n",
       " 'B11': 'B11',\n",
       " 'B12': 'B12',\n",
       " 'B13': 'B13',\n",
       " 'B14': 'B14',\n",
       " 'B15': 'B15',\n",
       " 'B16': 'B16',\n",
       " 'B17': 'B17',\n",
       " 'B18': 'B18',\n",
       " 'B19': 'B19',\n",
       " 'B20': 'B20',\n",
       " 'B21': 'B21',\n",
       " 'B22': 'B22',\n",
       " 'B23': 'B23',\n",
       " 'B24': 'B24',\n",
       " 'C1': 'C1',\n",
       " 'C2': 'C2',\n",
       " 'C3': 'C3',\n",
       " 'C4': 'C4',\n",
       " 'C5': 'C5',\n",
       " 'C6': 'C6',\n",
       " 'C7': 'C7',\n",
       " 'C8': 'C8',\n",
       " 'C9': 'C9',\n",
       " 'C10': 'C10',\n",
       " 'C11': 'C11',\n",
       " 'C12': 'C12',\n",
       " 'C13': 'C13',\n",
       " 'C14': 'C14',\n",
       " 'C15': 'C15',\n",
       " 'C16': 'C16',\n",
       " 'C17': 'C17',\n",
       " 'C18': 'C18',\n",
       " 'C19': 'C19',\n",
       " 'C20': 'C20',\n",
       " 'C21': 'C21',\n",
       " 'C22': 'C22',\n",
       " 'C23': 'C23',\n",
       " 'C24': 'C24',\n",
       " 'D1': 'D1',\n",
       " 'D2': 'D2',\n",
       " 'D3': 'D3',\n",
       " 'D4': 'D4',\n",
       " 'D5': 'D5',\n",
       " 'D6': 'D6',\n",
       " 'D7': 'D7',\n",
       " 'D8': 'D8',\n",
       " 'D9': 'D9',\n",
       " 'D10': 'D10',\n",
       " 'D11': 'D11',\n",
       " 'D12': 'D12',\n",
       " 'D13': 'D13',\n",
       " 'D14': 'D14',\n",
       " 'D15': 'D15',\n",
       " 'D16': 'D16',\n",
       " 'D17': 'D17',\n",
       " 'D18': 'D18',\n",
       " 'D19': 'D19',\n",
       " 'D20': 'D20',\n",
       " 'D21': 'D21',\n",
       " 'D22': 'D22',\n",
       " 'D23': 'D23',\n",
       " 'D24': 'D24',\n",
       " 'E1': 'E1',\n",
       " 'E2': 'E2',\n",
       " 'E3': 'E3',\n",
       " 'E4': 'E4',\n",
       " 'E5': 'E5',\n",
       " 'E6': 'E6',\n",
       " 'E7': 'E7',\n",
       " 'E8': 'E8',\n",
       " 'E9': 'E9',\n",
       " 'E10': 'E10',\n",
       " 'E11': 'E11',\n",
       " 'E12': 'E12',\n",
       " 'E13': 'E13',\n",
       " 'E14': 'E14',\n",
       " 'E15': 'E15',\n",
       " 'E16': 'E16',\n",
       " 'E17': 'E17',\n",
       " 'E18': 'E18',\n",
       " 'E19': 'E19',\n",
       " 'E20': 'E20',\n",
       " 'E21': 'E21',\n",
       " 'E22': 'E22',\n",
       " 'E23': 'E23',\n",
       " 'E24': 'E24',\n",
       " 'F1': 'F1',\n",
       " 'F2': 'F2',\n",
       " 'F3': 'F3',\n",
       " 'F4': 'F4',\n",
       " 'F5': 'F5',\n",
       " 'F6': 'F6',\n",
       " 'F7': 'F7',\n",
       " 'F8': 'F8',\n",
       " 'F9': 'F9',\n",
       " 'F10': 'F10',\n",
       " 'F11': 'F11',\n",
       " 'F12': 'F12',\n",
       " 'F13': 'F13',\n",
       " 'F14': 'F14',\n",
       " 'F15': 'F15',\n",
       " 'F16': 'F16',\n",
       " 'F17': 'F17',\n",
       " 'F18': 'F18',\n",
       " 'F19': 'F19',\n",
       " 'F20': 'F20',\n",
       " 'F21': 'F21',\n",
       " 'F22': 'F22',\n",
       " 'F23': 'F23',\n",
       " 'F24': 'F24',\n",
       " 'G1': 'G1',\n",
       " 'G2': 'G2',\n",
       " 'G3': 'G3',\n",
       " 'G4': 'G4',\n",
       " 'G5': 'G5',\n",
       " 'G6': 'G6',\n",
       " 'G7': 'G7',\n",
       " 'G8': 'G8',\n",
       " 'G9': 'G9',\n",
       " 'G10': 'G10',\n",
       " 'G11': 'G11',\n",
       " 'G12': 'G12',\n",
       " 'G13': 'G13',\n",
       " 'G14': 'G14',\n",
       " 'G15': 'G15',\n",
       " 'G16': 'G16',\n",
       " 'G17': 'G17',\n",
       " 'G18': 'G18',\n",
       " 'G19': 'G19',\n",
       " 'G20': 'G20',\n",
       " 'G21': 'G21',\n",
       " 'G22': 'G22',\n",
       " 'G23': 'G23',\n",
       " 'G24': 'G24',\n",
       " 'H1': 'H1',\n",
       " 'H2': 'H2',\n",
       " 'H3': 'H3',\n",
       " 'H4': 'H4',\n",
       " 'H5': 'H5',\n",
       " 'H6': 'H6',\n",
       " 'H7': 'H7',\n",
       " 'H8': 'H8',\n",
       " 'H9': 'H9',\n",
       " 'H10': 'H10',\n",
       " 'H11': 'H11',\n",
       " 'H12': 'H12',\n",
       " 'H13': 'H13',\n",
       " 'H14': 'H14',\n",
       " 'H15': 'H15',\n",
       " 'H16': 'H16',\n",
       " 'H17': 'H17',\n",
       " 'H18': 'H18',\n",
       " 'H19': 'H19',\n",
       " 'H20': 'H20',\n",
       " 'H21': 'H21',\n",
       " 'H22': 'H22',\n",
       " 'H23': 'H23',\n",
       " 'H24': 'H24',\n",
       " 'I1': 'I1',\n",
       " 'I2': 'I2',\n",
       " 'I3': 'I3',\n",
       " 'I4': 'I4',\n",
       " 'I5': 'I5',\n",
       " 'I6': 'I6',\n",
       " 'I7': 'I7',\n",
       " 'I8': 'I8',\n",
       " 'I9': 'I9',\n",
       " 'I10': 'I10',\n",
       " 'I11': 'I11',\n",
       " 'I12': 'I12',\n",
       " 'I13': 'I13',\n",
       " 'I14': 'I14',\n",
       " 'I15': 'I15',\n",
       " 'I16': 'I16',\n",
       " 'I17': 'I17',\n",
       " 'I18': 'I18',\n",
       " 'I19': 'I19',\n",
       " 'I20': 'I20',\n",
       " 'I21': 'I21',\n",
       " 'I22': 'I22',\n",
       " 'I23': 'I23',\n",
       " 'I24': 'I24',\n",
       " 'J1': 'J1',\n",
       " 'J2': 'J2',\n",
       " 'J3': 'J3',\n",
       " 'J4': 'J4',\n",
       " 'J5': 'J5',\n",
       " 'J6': 'J6',\n",
       " 'J7': 'J7',\n",
       " 'J8': 'J8',\n",
       " 'J9': 'J9',\n",
       " 'J10': 'J10',\n",
       " 'J11': 'J11',\n",
       " 'J12': 'J12',\n",
       " 'J13': 'J13',\n",
       " 'J14': 'J14',\n",
       " 'J15': 'J15',\n",
       " 'J16': 'J16',\n",
       " 'J17': 'J17',\n",
       " 'J18': 'J18',\n",
       " 'J19': 'J19',\n",
       " 'J20': 'J20',\n",
       " 'J21': 'J21',\n",
       " 'J22': 'J22',\n",
       " 'J23': 'J23',\n",
       " 'J24': 'J24',\n",
       " 'K1': 'K1',\n",
       " 'K2': 'K2',\n",
       " 'K3': 'K3',\n",
       " 'K4': 'K4',\n",
       " 'K5': 'K5',\n",
       " 'K6': 'K6',\n",
       " 'K7': 'K7',\n",
       " 'K8': 'K8',\n",
       " 'K9': 'K9',\n",
       " 'K10': 'K10',\n",
       " 'K11': 'K11',\n",
       " 'K12': 'K12',\n",
       " 'K13': 'K13',\n",
       " 'K14': 'K14',\n",
       " 'K15': 'K15',\n",
       " 'K16': 'K16',\n",
       " 'K17': 'K17',\n",
       " 'K18': 'K18',\n",
       " 'K19': 'K19',\n",
       " 'K20': 'K20',\n",
       " 'K21': 'K21',\n",
       " 'K22': 'K22',\n",
       " 'K23': 'K23',\n",
       " 'K24': 'K24',\n",
       " 'L1': 'L1',\n",
       " 'L2': 'L2',\n",
       " 'L3': 'L3',\n",
       " 'L4': 'L4',\n",
       " 'L5': 'L5',\n",
       " 'L6': 'L6',\n",
       " 'L7': 'L7',\n",
       " 'L8': 'L8',\n",
       " 'L9': 'L9',\n",
       " 'L10': 'L10',\n",
       " 'L11': 'L11',\n",
       " 'L12': 'L12',\n",
       " 'L13': 'L13',\n",
       " 'L14': 'L14',\n",
       " 'L15': 'L15',\n",
       " 'L16': 'L16',\n",
       " 'L17': 'L17',\n",
       " 'L18': 'L18',\n",
       " 'L19': 'L19',\n",
       " 'L20': 'L20',\n",
       " 'L21': 'L21',\n",
       " 'L22': 'L22',\n",
       " 'L23': 'L23',\n",
       " 'L24': 'L24',\n",
       " 'M1': 'M1',\n",
       " 'M2': 'M2',\n",
       " 'M3': 'M3',\n",
       " 'M4': 'M4',\n",
       " 'M5': 'M5',\n",
       " 'M6': 'M6',\n",
       " 'M7': 'M7',\n",
       " 'M8': 'M8',\n",
       " 'M9': 'M9',\n",
       " 'M10': 'M10',\n",
       " 'M11': 'M11',\n",
       " 'M12': 'M12',\n",
       " 'M13': 'M13',\n",
       " 'M14': 'M14',\n",
       " 'M15': 'M15',\n",
       " 'M16': 'M16',\n",
       " 'M17': 'M17',\n",
       " 'M18': 'M18',\n",
       " 'M19': 'M19',\n",
       " 'M20': 'M20',\n",
       " 'M21': 'M21',\n",
       " 'M22': 'M22',\n",
       " 'M23': 'M23',\n",
       " 'M24': 'M24',\n",
       " 'N1': 'N1',\n",
       " 'N2': 'N2',\n",
       " 'N3': 'N3',\n",
       " 'N4': 'N4',\n",
       " 'N5': 'N5',\n",
       " 'N6': 'N6',\n",
       " 'N7': 'N7',\n",
       " 'N8': 'N8',\n",
       " 'N9': 'N9',\n",
       " 'N10': 'N10',\n",
       " 'N11': 'N11',\n",
       " 'N12': 'N12',\n",
       " 'N13': 'N13',\n",
       " 'N14': 'N14',\n",
       " 'N15': 'N15',\n",
       " 'N16': 'N16',\n",
       " 'N17': 'N17',\n",
       " 'N18': 'N18',\n",
       " 'N19': 'N19',\n",
       " 'N20': 'N20',\n",
       " 'N21': 'N21',\n",
       " 'N22': 'N22',\n",
       " 'N23': 'N23',\n",
       " 'N24': 'N24',\n",
       " 'O1': 'O1',\n",
       " 'O2': 'O2',\n",
       " 'O3': 'O3',\n",
       " 'O4': 'O4',\n",
       " 'O5': 'O5',\n",
       " 'O6': 'O6',\n",
       " 'O7': 'O7',\n",
       " 'O8': 'O8',\n",
       " 'O9': 'O9',\n",
       " 'O10': 'O10',\n",
       " 'O11': 'O11',\n",
       " 'O12': 'O12',\n",
       " 'O13': 'O13',\n",
       " 'O14': 'O14',\n",
       " 'O15': 'O15',\n",
       " 'O16': 'O16',\n",
       " 'O17': 'O17',\n",
       " 'O18': 'O18',\n",
       " 'O19': 'O19',\n",
       " 'O20': 'O20',\n",
       " 'O21': 'O21',\n",
       " 'O22': 'O22',\n",
       " 'O23': 'O23',\n",
       " 'O24': 'O24',\n",
       " 'P1': 'P1',\n",
       " 'P2': 'P2',\n",
       " 'P3': 'P3',\n",
       " 'P4': 'P4',\n",
       " 'P5': 'P5',\n",
       " 'P6': 'P6',\n",
       " 'P7': 'P7',\n",
       " 'P8': 'P8',\n",
       " 'P9': 'P9',\n",
       " 'P10': 'P10',\n",
       " 'P11': 'P11',\n",
       " 'P12': 'P12',\n",
       " 'P13': 'P13',\n",
       " 'P14': 'P14',\n",
       " 'P15': 'P15',\n",
       " 'P16': 'P16',\n",
       " 'P17': 'P17',\n",
       " 'P18': 'P18',\n",
       " 'P19': 'P19',\n",
       " 'P20': 'P20',\n",
       " 'P21': 'P21',\n",
       " 'P22': 'P22',\n",
       " 'P23': 'P23',\n",
       " 'P24': 'P24'}"
      ]
     },
     "execution_count": 18,
     "metadata": {},
     "output_type": "execute_result"
    }
   ],
   "source": [
    "wp_384_dict"
   ]
  },
  {
   "cell_type": "code",
   "execution_count": 19,
   "id": "df0410f1",
   "metadata": {},
   "outputs": [],
   "source": [
    "wp_96 =[]\n",
    "for row in list(string.ascii_uppercase[0:8]):\n",
    "    for column in range(1,13):\n",
    "        wp_96.append(str(row) + str(column))\n",
    "\n",
    "wp_96_dict = {}\n",
    "for i in wp_96:\n",
    "    wp_96_dict[i] = i"
   ]
  },
  {
   "cell_type": "code",
   "execution_count": 20,
   "id": "cbf899ff",
   "metadata": {},
   "outputs": [
    {
     "data": {
      "text/plain": [
       "{'A1': 'A1',\n",
       " 'A2': 'A2',\n",
       " 'A3': 'A3',\n",
       " 'A4': 'A4',\n",
       " 'A5': 'A5',\n",
       " 'A6': 'A6',\n",
       " 'A7': 'A7',\n",
       " 'A8': 'A8',\n",
       " 'A9': 'A9',\n",
       " 'A10': 'A10',\n",
       " 'A11': 'A11',\n",
       " 'A12': 'A12',\n",
       " 'B1': 'B1',\n",
       " 'B2': 'B2',\n",
       " 'B3': 'B3',\n",
       " 'B4': 'B4',\n",
       " 'B5': 'B5',\n",
       " 'B6': 'B6',\n",
       " 'B7': 'B7',\n",
       " 'B8': 'B8',\n",
       " 'B9': 'B9',\n",
       " 'B10': 'B10',\n",
       " 'B11': 'B11',\n",
       " 'B12': 'B12',\n",
       " 'C1': 'C1',\n",
       " 'C2': 'C2',\n",
       " 'C3': 'C3',\n",
       " 'C4': 'C4',\n",
       " 'C5': 'C5',\n",
       " 'C6': 'C6',\n",
       " 'C7': 'C7',\n",
       " 'C8': 'C8',\n",
       " 'C9': 'C9',\n",
       " 'C10': 'C10',\n",
       " 'C11': 'C11',\n",
       " 'C12': 'C12',\n",
       " 'D1': 'D1',\n",
       " 'D2': 'D2',\n",
       " 'D3': 'D3',\n",
       " 'D4': 'D4',\n",
       " 'D5': 'D5',\n",
       " 'D6': 'D6',\n",
       " 'D7': 'D7',\n",
       " 'D8': 'D8',\n",
       " 'D9': 'D9',\n",
       " 'D10': 'D10',\n",
       " 'D11': 'D11',\n",
       " 'D12': 'D12',\n",
       " 'E1': 'E1',\n",
       " 'E2': 'E2',\n",
       " 'E3': 'E3',\n",
       " 'E4': 'E4',\n",
       " 'E5': 'E5',\n",
       " 'E6': 'E6',\n",
       " 'E7': 'E7',\n",
       " 'E8': 'E8',\n",
       " 'E9': 'E9',\n",
       " 'E10': 'E10',\n",
       " 'E11': 'E11',\n",
       " 'E12': 'E12',\n",
       " 'F1': 'F1',\n",
       " 'F2': 'F2',\n",
       " 'F3': 'F3',\n",
       " 'F4': 'F4',\n",
       " 'F5': 'F5',\n",
       " 'F6': 'F6',\n",
       " 'F7': 'F7',\n",
       " 'F8': 'F8',\n",
       " 'F9': 'F9',\n",
       " 'F10': 'F10',\n",
       " 'F11': 'F11',\n",
       " 'F12': 'F12',\n",
       " 'G1': 'G1',\n",
       " 'G2': 'G2',\n",
       " 'G3': 'G3',\n",
       " 'G4': 'G4',\n",
       " 'G5': 'G5',\n",
       " 'G6': 'G6',\n",
       " 'G7': 'G7',\n",
       " 'G8': 'G8',\n",
       " 'G9': 'G9',\n",
       " 'G10': 'G10',\n",
       " 'G11': 'G11',\n",
       " 'G12': 'G12',\n",
       " 'H1': 'H1',\n",
       " 'H2': 'H2',\n",
       " 'H3': 'H3',\n",
       " 'H4': 'H4',\n",
       " 'H5': 'H5',\n",
       " 'H6': 'H6',\n",
       " 'H7': 'H7',\n",
       " 'H8': 'H8',\n",
       " 'H9': 'H9',\n",
       " 'H10': 'H10',\n",
       " 'H11': 'H11',\n",
       " 'H12': 'H12'}"
      ]
     },
     "execution_count": 20,
     "metadata": {},
     "output_type": "execute_result"
    }
   ],
   "source": [
    "wp_96_dict"
   ]
  },
  {
   "cell_type": "code",
   "execution_count": null,
   "id": "20d211a1",
   "metadata": {},
   "outputs": [],
   "source": [
    "#save to text file\n"
   ]
  }
 ],
 "metadata": {
  "kernelspec": {
   "display_name": "Python 3 (ipykernel)",
   "language": "python",
   "name": "python3"
  },
  "language_info": {
   "codemirror_mode": {
    "name": "ipython",
    "version": 3
   },
   "file_extension": ".py",
   "mimetype": "text/x-python",
   "name": "python",
   "nbconvert_exporter": "python",
   "pygments_lexer": "ipython3",
   "version": "3.9.18"
  }
 },
 "nbformat": 4,
 "nbformat_minor": 5
}
