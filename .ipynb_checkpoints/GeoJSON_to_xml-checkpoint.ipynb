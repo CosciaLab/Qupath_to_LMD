{
 "cells": [
  {
   "cell_type": "markdown",
   "id": "cf13cc91-7305-426c-ad15-2252f543b8d0",
   "metadata": {
    "tags": []
   },
   "source": [
    "# One Jupyter notebook. From GeoJSON to .xml "
   ]
  },
  {
   "cell_type": "markdown",
   "id": "1a8a0247-2ce7-4436-b874-2edfa336c4b3",
   "metadata": {},
   "source": [
    "## Imports"
   ]
  },
  {
   "cell_type": "code",
   "execution_count": 82,
   "id": "ac38f724-596e-48f2-ae0c-29bb8e71030b",
   "metadata": {},
   "outputs": [],
   "source": [
    "import json\n",
    "import geojson \n",
    "import geopandas\n",
    "import pandas as pd\n",
    "import numpy as np\n",
    "import os"
   ]
  },
  {
   "cell_type": "code",
   "execution_count": 83,
   "id": "056eff8c-b479-4872-a02c-6da6d5acc005",
   "metadata": {},
   "outputs": [],
   "source": [
    "from lmd.lib import Collection, Shape\n",
    "from lmd import tools\n",
    "from PIL import Image\n",
    "from lmd.lib import SegmentationLoader\n",
    "import tifffile\n",
    "import string"
   ]
  },
  {
   "cell_type": "markdown",
   "id": "36985444-7a8a-4bf8-9da8-57c786abcfdb",
   "metadata": {
    "tags": []
   },
   "source": [
    "## From GeoJSON to Dataframe"
   ]
  },
  {
   "cell_type": "markdown",
   "id": "150d264b-36ab-45fa-aa62-eb064edd4394",
   "metadata": {
    "jp-MarkdownHeadingCollapsed": true,
    "tags": []
   },
   "source": [
    "### Functions"
   ]
  },
  {
   "cell_type": "code",
   "execution_count": 28,
   "id": "a7459e3e-8a48-4f0d-b151-de5ceed30c24",
   "metadata": {
    "tags": []
   },
   "outputs": [],
   "source": [
    "#extract calibration points, export as list for lmdpy\n",
    "#order of input list matters for lmd callibration\n",
    "def get_calib_points(list_of_calibpoint_names, df):\n",
    "    #create shape list\n",
    "    pointlist = []\n",
    "    for point_name in list_of_calibpoint_names:\n",
    "        pointlist.append(df.loc[df['name'] == point_name, 'geometry'].values[0])\n",
    "    #create coordenate list\n",
    "    listarray = []\n",
    "    for point in pointlist:\n",
    "        listarray.append([point.x, point.y])\n",
    "    nparray = np.array(listarray)\n",
    "    return(nparray)\n",
    "\n",
    "#returns dataframe with only polygon objects\n",
    "def remove_non_polygons(df):\n",
    "    #convert entire df to text\n",
    "    df_str = df.astype(str)\n",
    "    #filter original df by finding the word polygon, poly_df created\n",
    "    poly_df = df[df_str['geometry'].str.contains(\"POLYGON\")]\n",
    "    poly_df = poly_df.reset_index(drop=True)\n",
    "    return(poly_df)\n",
    "\n",
    "#creates new column for coordenates in a list of list format\n",
    "#assumes only polygons in dataframe\n",
    "def replace_coords(df):\n",
    "    df['lol'] = np.nan\n",
    "    df['lol'] = df['lol'].astype('object')\n",
    "    \n",
    "    for i in df.index:\n",
    "        #get geometry object for row i\n",
    "        geom=df.at[i, 'geometry']\n",
    "        #list the coordenate points as tuples\n",
    "        tmp = list(geom.exterior.coords)\n",
    "        #transform list of tuples to list of lists\n",
    "        tmp_lol = [list(i) for i in tmp]\n",
    "        #add list of list to lol column\n",
    "        df.at[i,'lol'] = tmp_lol\n",
    "    \n",
    "    return(df)\n",
    "\n",
    "#creates a column for polygon type\n",
    "#assumes only polygons in dataframe\n",
    "def get_contour_type(df):\n",
    "    #create empty column\n",
    "    df['Name'] = np.nan\n",
    "    #fill empty column with whatever is inside dictionary name entry\n",
    "    for i in df.index:\n",
    "        tmp = df.classification[i].get('name')\n",
    "        df.at[i,'Name'] = tmp\n",
    "    return(df)"
   ]
  },
  {
   "cell_type": "markdown",
   "id": "39a634b4-5386-452f-86e7-1a1af6ebafc9",
   "metadata": {},
   "source": [
    "### Processing from GeoJSON to Dataframe"
   ]
  },
  {
   "cell_type": "code",
   "execution_count": 48,
   "id": "6e3988b1-ccec-4714-b2be-b71370b5b964",
   "metadata": {},
   "outputs": [],
   "source": [
    "path = r'C:\\Users\\jnimoca\\Jose_BI\\Jupyter\\20230127_Qupath_Contour\\2023_02_02__CD163_CD31_CDH1.geojson'"
   ]
  },
  {
   "cell_type": "code",
   "execution_count": 49,
   "id": "ef5e42fa-f5df-4c78-a6c4-cf7c8e4d4155",
   "metadata": {},
   "outputs": [],
   "source": [
    "df = geopandas.read_file(path)"
   ]
  },
  {
   "cell_type": "code",
   "execution_count": 50,
   "id": "2f5aa73d-77c3-4f6c-aad1-6c216c77b6a9",
   "metadata": {},
   "outputs": [],
   "source": [
    "#assumes user will always label their calibration points like this \n",
    "caliblist = get_calib_points(['calib1','calib2','calib3'],df)"
   ]
  },
  {
   "cell_type": "code",
   "execution_count": 51,
   "id": "e4b85361-f8eb-4d8c-8eea-681904a56db8",
   "metadata": {},
   "outputs": [
    {
     "data": {
      "text/plain": [
       "array([[25418.13,  9763.33],\n",
       "       [15419.01, 23633.92],\n",
       "       [11319.27, 10408.52]])"
      ]
     },
     "execution_count": 51,
     "metadata": {},
     "output_type": "execute_result"
    }
   ],
   "source": [
    "#sanity check 1, they should be in the right order, from top to bottom.\n",
    "caliblist"
   ]
  },
  {
   "cell_type": "code",
   "execution_count": 52,
   "id": "29e9f14f-17b4-4950-8700-be7e6d20e40b",
   "metadata": {},
   "outputs": [],
   "source": [
    "#filter out all non-polygon objects\n",
    "poly_df = remove_non_polygons(df)\n",
    "#create a new column with coordenates in a py-lmd acceptable format\n",
    "poly_df = replace_coords(poly_df)\n",
    "#create a new column containing the name of the class of each polygon (each row one polygon)\n",
    "poly_df = get_contour_type(poly_df)"
   ]
  },
  {
   "attachments": {
    "7de2c770-4529-47f5-8a51-1d195445b045.png": {
     "image/png": "[encoded data removed]"
    }
   },
   "cell_type": "markdown",
   "id": "33575d0a-12d5-4e7e-a574-f615171e16db",
   "metadata": {},
   "source": [
    "Polygon table should look like this:  \n",
    "![image.png](attachment:7de2c770-4529-47f5-8a51-1d195445b045.png)"
   ]
  },
  {
   "cell_type": "code",
   "execution_count": 85,
   "id": "9aa5b34d-9d34-400c-bb01-2e4b49533385",
   "metadata": {
    "tags": []
   },
   "outputs": [
    {
     "name": "stdout",
     "output_type": "stream",
     "text": [
      "this is how the table looks: \n"
     ]
    },
    {
     "data": {
      "text/html": [
       "<div>\n",
       "<style scoped>\n",
       "    .dataframe tbody tr th:only-of-type {\n",
       "        vertical-align: middle;\n",
       "    }\n",
       "\n",
       "    .dataframe tbody tr th {\n",
       "        vertical-align: top;\n",
       "    }\n",
       "\n",
       "    .dataframe thead th {\n",
       "        text-align: right;\n",
       "    }\n",
       "</style>\n",
       "<table border=\"1\" class=\"dataframe\">\n",
       "  <thead>\n",
       "    <tr style=\"text-align: right;\">\n",
       "      <th></th>\n",
       "      <th>id</th>\n",
       "      <th>objectType</th>\n",
       "      <th>classification</th>\n",
       "      <th>name</th>\n",
       "      <th>geometry</th>\n",
       "      <th>lol</th>\n",
       "      <th>Name</th>\n",
       "    </tr>\n",
       "  </thead>\n",
       "  <tbody>\n",
       "    <tr>\n",
       "      <th>0</th>\n",
       "      <td>21309e03-f40d-4e9f-b7d0-0e2eedd16149</td>\n",
       "      <td>annotation</td>\n",
       "      <td>{'name': 'vessels', 'color': [240, 205, 62]}</td>\n",
       "      <td>None</td>\n",
       "      <td>POLYGON ((12006.00000 13655.00000, 12003.00000...</td>\n",
       "      <td>[[12006.0, 13655.0], [12003.0, 13655.5], [1199...</td>\n",
       "      <td>vessels</td>\n",
       "    </tr>\n",
       "    <tr>\n",
       "      <th>1</th>\n",
       "      <td>4009fe46-8ffc-4d14-8de9-6320d8d622d4</td>\n",
       "      <td>annotation</td>\n",
       "      <td>{'name': 'vessels', 'color': [240, 205, 62]}</td>\n",
       "      <td>None</td>\n",
       "      <td>POLYGON ((14056.00000 13488.00000, 14044.00000...</td>\n",
       "      <td>[[14056.0, 13488.0], [14044.0, 13489.0], [1403...</td>\n",
       "      <td>vessels</td>\n",
       "    </tr>\n",
       "    <tr>\n",
       "      <th>2</th>\n",
       "      <td>8c0dfb98-4d43-42cb-8604-11751101f80e</td>\n",
       "      <td>annotation</td>\n",
       "      <td>{'name': 'vessels', 'color': [240, 205, 62]}</td>\n",
       "      <td>None</td>\n",
       "      <td>POLYGON ((13033.00000 13509.00000, 13021.00000...</td>\n",
       "      <td>[[13033.0, 13509.0], [13021.0, 13510.0], [1301...</td>\n",
       "      <td>vessels</td>\n",
       "    </tr>\n",
       "    <tr>\n",
       "      <th>3</th>\n",
       "      <td>724620c7-0a80-48e8-89b4-d986b0092e7b</td>\n",
       "      <td>annotation</td>\n",
       "      <td>{'name': 'vessels', 'color': [240, 205, 62]}</td>\n",
       "      <td>None</td>\n",
       "      <td>POLYGON ((13084.00000 14500.00000, 13072.00000...</td>\n",
       "      <td>[[13084.0, 14500.0], [13072.0, 14501.0], [1306...</td>\n",
       "      <td>vessels</td>\n",
       "    </tr>\n",
       "    <tr>\n",
       "      <th>4</th>\n",
       "      <td>e89cecf7-72dc-425b-883c-8177ba1ed809</td>\n",
       "      <td>annotation</td>\n",
       "      <td>{'name': 'Macropages', 'color': [255, 0, 0]}</td>\n",
       "      <td>None</td>\n",
       "      <td>POLYGON ((11173.00000 15219.50000, 11172.94000...</td>\n",
       "      <td>[[11173.0, 15219.5], [11172.94, 15221.48], [11...</td>\n",
       "      <td>Macropages</td>\n",
       "    </tr>\n",
       "  </tbody>\n",
       "</table>\n",
       "</div>"
      ],
      "text/plain": [
       "                                     id  objectType  \\\n",
       "0  21309e03-f40d-4e9f-b7d0-0e2eedd16149  annotation   \n",
       "1  4009fe46-8ffc-4d14-8de9-6320d8d622d4  annotation   \n",
       "2  8c0dfb98-4d43-42cb-8604-11751101f80e  annotation   \n",
       "3  724620c7-0a80-48e8-89b4-d986b0092e7b  annotation   \n",
       "4  e89cecf7-72dc-425b-883c-8177ba1ed809  annotation   \n",
       "\n",
       "                                 classification  name  \\\n",
       "0  {'name': 'vessels', 'color': [240, 205, 62]}  None   \n",
       "1  {'name': 'vessels', 'color': [240, 205, 62]}  None   \n",
       "2  {'name': 'vessels', 'color': [240, 205, 62]}  None   \n",
       "3  {'name': 'vessels', 'color': [240, 205, 62]}  None   \n",
       "4  {'name': 'Macropages', 'color': [255, 0, 0]}  None   \n",
       "\n",
       "                                            geometry  \\\n",
       "0  POLYGON ((12006.00000 13655.00000, 12003.00000...   \n",
       "1  POLYGON ((14056.00000 13488.00000, 14044.00000...   \n",
       "2  POLYGON ((13033.00000 13509.00000, 13021.00000...   \n",
       "3  POLYGON ((13084.00000 14500.00000, 13072.00000...   \n",
       "4  POLYGON ((11173.00000 15219.50000, 11172.94000...   \n",
       "\n",
       "                                                 lol        Name  \n",
       "0  [[12006.0, 13655.0], [12003.0, 13655.5], [1199...     vessels  \n",
       "1  [[14056.0, 13488.0], [14044.0, 13489.0], [1403...     vessels  \n",
       "2  [[13033.0, 13509.0], [13021.0, 13510.0], [1301...     vessels  \n",
       "3  [[13084.0, 14500.0], [13072.0, 14501.0], [1306...     vessels  \n",
       "4  [[11173.0, 15219.5], [11172.94, 15221.48], [11...  Macropages  "
      ]
     },
     "execution_count": 85,
     "metadata": {},
     "output_type": "execute_result"
    }
   ],
   "source": [
    "#sanity checks\n",
    "print('this is how the table looks: ')\n",
    "poly_df.head()"
   ]
  },
  {
   "cell_type": "code",
   "execution_count": 63,
   "id": "f850e1ed-21dc-45cc-8bc6-dd2e58241871",
   "metadata": {},
   "outputs": [
    {
     "name": "stdout",
     "output_type": "stream",
     "text": [
      "samples: \n"
     ]
    },
    {
     "data": {
      "text/plain": [
       "Macrophages2    13\n",
       "Macropages      10\n",
       "CTB              7\n",
       "STB_2            6\n",
       "CTB2             6\n",
       "vessels          4\n",
       "STB              4\n",
       "CellColumn       3\n",
       "Name: Name, dtype: int64"
      ]
     },
     "execution_count": 63,
     "metadata": {},
     "output_type": "execute_result"
    }
   ],
   "source": [
    "print('samples: ')\n",
    "poly_df.Name.value_counts()"
   ]
  },
  {
   "cell_type": "markdown",
   "id": "922374c9-048f-49d0-94c2-c1bd1edcf071",
   "metadata": {
    "tags": []
   },
   "source": [
    "## From Dataframe to Collection object"
   ]
  },
  {
   "cell_type": "code",
   "execution_count": 64,
   "id": "e760fa13-b790-4876-918b-5e6db7058478",
   "metadata": {},
   "outputs": [],
   "source": [
    "#create collection object with calibration points\n",
    "my_collection = Collection(calibration_points = caliblist)"
   ]
  },
  {
   "cell_type": "code",
   "execution_count": 65,
   "id": "fd1b9efa-5a69-4ff3-95c5-a8e1fecc76a9",
   "metadata": {},
   "outputs": [],
   "source": [
    "#transforn coordenate system\n",
    "#when importing shapes the coordenats will transformed with this matrix \n",
    "#based on qupath's different frame of reference\n",
    "my_collection.orientation_transform = np.array([[1,0 ], [0,-1]])"
   ]
  },
  {
   "cell_type": "code",
   "execution_count": 66,
   "id": "7dea2901-19cc-49a6-be2a-94256ff0c4db",
   "metadata": {},
   "outputs": [],
   "source": [
    "#add every polygon to the collection\n",
    "#it passes the coordenates (formated as list of lists) of every row into the new.shape function \n",
    "for i in poly_df.index:\n",
    "    my_collection.new_shape(poly_df.at[i,'lol'])"
   ]
  },
  {
   "cell_type": "code",
   "execution_count": 79,
   "id": "c32a85fe-1e5f-440f-8e38-1c1c87841fc7",
   "metadata": {},
   "outputs": [
    {
     "name": "stdout",
     "output_type": "stream",
     "text": [
      "===== Collection Stats =====\n",
      "Number of shapes: 53\n",
      "Number of vertices: 9,142\n",
      "============================\n",
      "Mean vertices: 172\n",
      "Min vertices: 101\n",
      "5% percentile vertices: 101\n",
      "Median vertices: 143\n",
      "95% percentile vertices: 294\n",
      "Max vertices: 525\n"
     ]
    }
   ],
   "source": [
    "my_collection.stats()"
   ]
  },
  {
   "cell_type": "code",
   "execution_count": 67,
   "id": "287fce29-c295-4ba9-93c1-65aaa2023dc8",
   "metadata": {},
   "outputs": [
    {
     "data": {
      "image/png": "[encoded data removed]",
      "text/plain": [
       "<Figure size 500x500 with 1 Axes>"
      ]
     },
     "metadata": {},
     "output_type": "display_data"
    }
   ],
   "source": [
    "#sanity check 3, to check the contours\n",
    "my_collection.plot(calibration = True)"
   ]
  },
  {
   "cell_type": "code",
   "execution_count": 71,
   "id": "5630c230-c500-46a8-9db5-a54c085b6457",
   "metadata": {},
   "outputs": [
    {
     "name": "stdout",
     "output_type": "stream",
     "text": [
      "checking the first five wells: ['C3', 'C5', 'C7', 'C9', 'C11']\n",
      "checking the last five wells: ['N15', 'N17', 'N19', 'N21', 'N23']\n"
     ]
    }
   ],
   "source": [
    "#384 well plate collection, 24 columns (1->24), 16 rows (A->P), two columns and two rows for the margin.\n",
    "#will also leave a space in between, just for sample prep sanity\n",
    "\n",
    "list_of_acceptable_wells =[]\n",
    "\n",
    "for row in list(string.ascii_uppercase[2:14]):\n",
    "    for column in range(3,24,2):\n",
    "        list_of_acceptable_wells.append(str(row) + str(column)) \n",
    "        \n",
    "print('checking the first five wells: ' + str(list_of_acceptable_wells[:5]))\n",
    "print('checking the last five wells: ' + str(list_of_acceptable_wells[-5:]))"
   ]
  },
  {
   "cell_type": "code",
   "execution_count": 72,
   "id": "18f84582-7a3b-420e-83df-96a97ad868b3",
   "metadata": {},
   "outputs": [],
   "source": [
    "#classes represent all the different wells, each class goes into one well.\n",
    "all_classes = poly_df.Name.unique()\n",
    "\n",
    "#samples_and_wells will be a list of dictionary entries\n",
    "#each dictionary entry has two keys: \"classes\" and \"well\"\n",
    "#the value for \"classes\" will be shown in lmd for cutting\n",
    "#the value for \"well\" will be the well to collect with for that specific sample\n",
    "\n",
    "samples_and_wells = []\n",
    "for sample_class,well in zip(all_classes, list_of_acceptable_wells):\n",
    "    tmp_dict = {}\n",
    "    tmp_dict[\"classes\"] = sample_class\n",
    "    tmp_dict[\"well\"]    = well\n",
    "    samples_and_wells.append(tmp_dict)"
   ]
  },
  {
   "cell_type": "code",
   "execution_count": 88,
   "id": "cec34bd9-a4a1-4983-89ea-d0e3868dc3a2",
   "metadata": {},
   "outputs": [
    {
     "data": {
      "text/plain": [
       "[{'classes': 'vessels', 'well': 'C3'},\n",
       " {'classes': 'Macropages', 'well': 'C5'},\n",
       " {'classes': 'Macrophages2', 'well': 'C7'},\n",
       " {'classes': 'STB', 'well': 'C9'},\n",
       " {'classes': 'STB_2', 'well': 'C11'},\n",
       " {'classes': 'CTB', 'well': 'C13'},\n",
       " {'classes': 'CTB2', 'well': 'C15'},\n",
       " {'classes': 'CellColumn', 'well': 'C17'}]"
      ]
     },
     "execution_count": 88,
     "metadata": {},
     "output_type": "execute_result"
    }
   ],
   "source": [
    "samples_and_wells"
   ]
  },
  {
   "cell_type": "code",
   "execution_count": 86,
   "id": "8cddb462-b426-4142-8c1b-ef7399c1cf33",
   "metadata": {},
   "outputs": [],
   "source": [
    "samples_and_wells_dict = {}\n",
    "for sample_class, well in zip(all_classes, list_of_acceptable_wells):\n",
    "    samples_and_wells_dict[sample_class] = well"
   ]
  },
  {
   "cell_type": "code",
   "execution_count": 87,
   "id": "9b51afde-b524-4552-b664-6c8f60523834",
   "metadata": {},
   "outputs": [
    {
     "data": {
      "text/plain": [
       "{'vessels': 'C3',\n",
       " 'Macropages': 'C5',\n",
       " 'Macrophages2': 'C7',\n",
       " 'STB': 'C9',\n",
       " 'STB_2': 'C11',\n",
       " 'CTB': 'C13',\n",
       " 'CTB2': 'C15',\n",
       " 'CellColumn': 'C17'}"
      ]
     },
     "execution_count": 87,
     "metadata": {},
     "output_type": "execute_result"
    }
   ],
   "source": [
    "samples_and_wells_dict"
   ]
  },
  {
   "cell_type": "code",
   "execution_count": 89,
   "id": "79e9a5b1-2f4c-45d3-ab32-2a435701de6d",
   "metadata": {},
   "outputs": [],
   "source": [
    "#add every polygon to the collection\n",
    "#it passes the coordenates (formated as list of lists) of every row into the new.shape function \n",
    "\n",
    "second_collection = Collection(calibration_points = caliblist)\n",
    "for i in poly_df.index:\n",
    "    second_collection.new_shape(poly_df.at[i,'lol'], well = samples_and_wells_dict[poly_df.at[i, \"Name\"]]) #add well parameter which defines which well the shape should go to"
   ]
  },
  {
   "cell_type": "code",
   "execution_count": 90,
   "id": "6dd5f01b-5303-473a-bcf3-9648f84e90e5",
   "metadata": {},
   "outputs": [
    {
     "data": {
      "text/plain": [
       "<lmd.lib.Collection at 0x2147c8aa080>"
      ]
     },
     "execution_count": 90,
     "metadata": {},
     "output_type": "execute_result"
    }
   ],
   "source": [
    "second_collection"
   ]
  },
  {
   "cell_type": "code",
   "execution_count": 77,
   "id": "f1f20ce4-874b-4070-84b2-5a8d9655bbb9",
   "metadata": {},
   "outputs": [
    {
     "name": "stdout",
     "output_type": "stream",
     "text": [
      "these are the wells each sample is going into\n",
      "\n",
      "vessels -> C3\n",
      "Macropages -> C5\n",
      "Macrophages2 -> C7\n",
      "STB -> C9\n",
      "STB_2 -> C11\n",
      "CTB -> C13\n",
      "CTB2 -> C15\n",
      "CellColumn -> C17\n"
     ]
    }
   ],
   "source": [
    "#check the samples and wells list\n",
    "print(\"these are the wells each sample is going into\")\n",
    "print(\"\")\n",
    "for i in samples_and_wells:\n",
    "    print(i['classes'] + \" -> \" + i['well'])"
   ]
  },
  {
   "cell_type": "code",
   "execution_count": 91,
   "id": "be47da32-bb5c-4097-bca3-b055760f80fc",
   "metadata": {},
   "outputs": [
    {
     "name": "stdout",
     "output_type": "stream",
     "text": [
      "[2541813.  976333.]\n",
      "[1541901. 2363392.]\n",
      "[1131927. 1040852.]\n"
     ]
    }
   ],
   "source": [
    "second_collection.save(r'C:/Users/jnimoca/Jose_BI/Jupyter/20230127_Qupath_Contour/qupath.xml')"
   ]
  }
 ],
 "metadata": {
  "kernelspec": {
   "display_name": "Python 3 (ipykernel)",
   "language": "python",
   "name": "python3"
  },
  "language_info": {
   "codemirror_mode": {
    "name": "ipython",
    "version": 3
   },
   "file_extension": ".py",
   "mimetype": "text/x-python",
   "name": "python",
   "nbconvert_exporter": "python",
   "pygments_lexer": "ipython3",
   "version": "3.10.6"
  }
 },
 "nbformat": 4,
 "nbformat_minor": 5
}
