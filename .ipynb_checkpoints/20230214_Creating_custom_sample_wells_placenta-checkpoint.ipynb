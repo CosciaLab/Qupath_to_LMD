{
 "cells": [
  {
   "cell_type": "code",
   "execution_count": 9,
   "id": "cf0d62d7-a9d4-4416-b20c-7c6fec6c6af3",
   "metadata": {
    "tags": []
   },
   "outputs": [],
   "source": [
    "import pandas as pd\n",
    "import numpy as np\n",
    "import os\n",
    "import string"
   ]
  },
  {
   "cell_type": "code",
   "execution_count": 2,
   "id": "d7c80a6e-40d6-4e50-a3e1-701cbef22480",
   "metadata": {
    "tags": []
   },
   "outputs": [],
   "source": [
    "variable_list_1 = ['108','041','082','187','018',\n",
    "               '033','167','030','017','040',\n",
    "               '098']\n",
    "\n",
    "variable_list_2 = ['STB_nVEC', 'STB_gen',\n",
    "               'CTB',\n",
    "               'HBC_nTroph','HBC_nVEC', 'HBC_mid',\n",
    "               'CCT',\n",
    "               'VEC',\n",
    "               'Str']\n",
    "\n",
    "variable_list_3 = ['1','2','3']"
   ]
  },
  {
   "cell_type": "code",
   "execution_count": 3,
   "id": "9c8f12f5-9523-4567-b394-c42ad31dda8a",
   "metadata": {
    "tags": []
   },
   "outputs": [],
   "source": [
    "list_of_all_samples = []\n",
    "\n",
    "for variable1 in variable_list_1:\n",
    "    for variable2 in variable_list_2:\n",
    "        for variable3 in variable_list_3:\n",
    "            list_of_all_samples.append(\n",
    "                variable1 + '_' +\n",
    "                variable2 + '_' +\n",
    "                variable3)\n",
    "            "
   ]
  },
  {
   "cell_type": "code",
   "execution_count": 5,
   "id": "8ec52cde-f7d6-415d-a164-0351b1f13b29",
   "metadata": {
    "tags": []
   },
   "outputs": [
    {
     "data": {
      "text/plain": [
       "297"
      ]
     },
     "execution_count": 5,
     "metadata": {},
     "output_type": "execute_result"
    }
   ],
   "source": [
    "len(list_of_all_samples)"
   ]
  },
  {
   "cell_type": "code",
   "execution_count": 11,
   "id": "ff40745a-a140-471a-bd27-ecdacdb8c4db",
   "metadata": {
    "tags": []
   },
   "outputs": [
    {
     "name": "stdout",
     "output_type": "stream",
     "text": [
      "checking the first five wells: ['C2', 'C3', 'C4', 'C5', 'C6']\n",
      "checking the last five wells: ['N18', 'N19', 'N20', 'N21', 'N22']\n"
     ]
    }
   ],
   "source": [
    "list_of_acceptable_wells =[]\n",
    "for row in list(string.ascii_uppercase[2:14]):\n",
    "    for column in range(2,23):\n",
    "        list_of_acceptable_wells.append(str(row) + str(column))\n",
    "\n",
    "print('checking the first five wells: ' + str(list_of_acceptable_wells[:5]))\n",
    "print('checking the last five wells: ' + str(list_of_acceptable_wells[-5:]))"
   ]
  },
  {
   "cell_type": "code",
   "execution_count": 12,
   "id": "be652709-508f-49af-8055-2a1a0ca1e16b",
   "metadata": {
    "tags": []
   },
   "outputs": [
    {
     "data": {
      "text/plain": [
       "252"
      ]
     },
     "execution_count": 12,
     "metadata": {},
     "output_type": "execute_result"
    }
   ],
   "source": [
    "len(list_of_acceptable_wells)"
   ]
  },
  {
   "cell_type": "markdown",
   "id": "395c10eb-e721-4597-9827-a3b2516150fe",
   "metadata": {},
   "source": [
    "### already have some defined wells? put them here "
   ]
  },
  {
   "cell_type": "code",
   "execution_count": 14,
   "id": "c98c3a68-40fd-4c19-b9b5-e9cab65db8e1",
   "metadata": {
    "tags": []
   },
   "outputs": [],
   "source": [
    "already_taken_samples_and_wells = {'033_HBC_mid_3': 'C3',\n",
    "                                 '033_HBC_nVEC_1': 'C4',\n",
    "                                 '033_HBC_nVEC_2': 'C5',\n",
    "                                 '033_HBC_mid_2': 'C6',\n",
    "                                 '033_HBC_nTroph_3': 'C7',\n",
    "                                 '033_HBC_nTroph_1': 'C8',\n",
    "                                 '033_HBC_mid_1': 'C9',\n",
    "                                 '033_HBC_nVEC_3': 'C10',\n",
    "                                 '033_HBC_nTroph_2': 'C11'}"
   ]
  },
  {
   "cell_type": "code",
   "execution_count": 26,
   "id": "7dcf88f5-b9b6-484b-adc8-c46c6fd2675d",
   "metadata": {
    "tags": []
   },
   "outputs": [
    {
     "name": "stdout",
     "output_type": "stream",
     "text": [
      "C3 well was found already in dict, skipping it\n",
      "C4 well was found already in dict, skipping it\n",
      "C5 well was found already in dict, skipping it\n",
      "C6 well was found already in dict, skipping it\n",
      "C7 well was found already in dict, skipping it\n",
      "C8 well was found already in dict, skipping it\n",
      "C9 well was found already in dict, skipping it\n",
      "C10 well was found already in dict, skipping it\n",
      "C11 well was found already in dict, skipping it\n"
     ]
    }
   ],
   "source": [
    "list_of_not_taken_wells = []\n",
    "\n",
    "for well in list_of_acceptable_wells:\n",
    "    if well in already_taken_samples_and_wells.values():\n",
    "        print(well + ' well was found already in dict, skipping it')\n",
    "    else:\n",
    "        list_of_not_taken_wells.append(well)"
   ]
  },
  {
   "cell_type": "code",
   "execution_count": 27,
   "id": "e2aaf349-3059-40ff-bc20-6d1a5b431ee7",
   "metadata": {
    "tags": []
   },
   "outputs": [
    {
     "data": {
      "text/plain": [
       "243"
      ]
     },
     "execution_count": 27,
     "metadata": {},
     "output_type": "execute_result"
    }
   ],
   "source": [
    "len(list_of_not_taken_wells)"
   ]
  },
  {
   "cell_type": "code",
   "execution_count": null,
   "id": "be977666-40a2-4a6d-98fa-14c3f136de00",
   "metadata": {},
   "outputs": [],
   "source": [
    "plate_2_patients = ['167','030',"
   ]
  },
  {
   "cell_type": "code",
   "execution_count": 15,
   "id": "927f628f-8525-477b-931e-d9cb16e90e3e",
   "metadata": {
    "tags": []
   },
   "outputs": [],
   "source": [
    "plate_1_patients = ['018','033']"
   ]
  },
  {
   "cell_type": "code",
   "execution_count": 28,
   "id": "ddaf9ef5-1cc2-43ea-a103-065ed91d43fc",
   "metadata": {
    "tags": []
   },
   "outputs": [
    {
     "name": "stdout",
     "output_type": "stream",
     "text": [
      "033_HBC_nTroph_1already in samples_and_wells, skipping it\n",
      "033_HBC_nTroph_2already in samples_and_wells, skipping it\n",
      "033_HBC_nTroph_3already in samples_and_wells, skipping it\n",
      "033_HBC_nVEC_1already in samples_and_wells, skipping it\n",
      "033_HBC_nVEC_2already in samples_and_wells, skipping it\n",
      "033_HBC_nVEC_3already in samples_and_wells, skipping it\n",
      "033_HBC_mid_1already in samples_and_wells, skipping it\n",
      "033_HBC_mid_2already in samples_and_wells, skipping it\n",
      "033_HBC_mid_3already in samples_and_wells, skipping it\n"
     ]
    }
   ],
   "source": [
    "#loop through the two desired patients\n",
    "for patient in  plate_1_patients:\n",
    "    #loop through all samples permutations\n",
    "    for sample, well in zip(list_of_all_samples,list_of_not_taken_wells):\n",
    "        #filter samples only with patient id in them\n",
    "        if sample[:3] == patient:\n",
    "            #check if sample already in dict\n",
    "            if sample in samples_and_wells.keys():\n",
    "                print(sample + ' already in samples_and_wells, skipping it')\n",
    "            else:\n",
    "                samples_and_wells[sample] = well\n",
    "            "
   ]
  },
  {
   "cell_type": "code",
   "execution_count": 29,
   "id": "d34c4569-7348-4a60-bf4b-5b02676c0207",
   "metadata": {
    "tags": []
   },
   "outputs": [
    {
     "data": {
      "text/plain": [
       "{'033_HBC_mid_3': 'C3',\n",
       " '033_HBC_nVEC_1': 'C4',\n",
       " '033_HBC_nVEC_2': 'C5',\n",
       " '033_HBC_mid_2': 'C6',\n",
       " '033_HBC_nTroph_3': 'C7',\n",
       " '033_HBC_nTroph_1': 'C8',\n",
       " '033_HBC_mid_1': 'C9',\n",
       " '033_HBC_nVEC_3': 'C10',\n",
       " '033_HBC_nTroph_2': 'C11',\n",
       " '018_STB_nVEC_1': 'H14',\n",
       " '018_STB_nVEC_2': 'H15',\n",
       " '018_STB_nVEC_3': 'H16',\n",
       " '018_STB_gen_1': 'H17',\n",
       " '018_STB_gen_2': 'H18',\n",
       " '018_STB_gen_3': 'H19',\n",
       " '018_CTB_1': 'H20',\n",
       " '018_CTB_2': 'H21',\n",
       " '018_CTB_3': 'H22',\n",
       " '018_HBC_nTroph_1': 'I2',\n",
       " '018_HBC_nTroph_2': 'I3',\n",
       " '018_HBC_nTroph_3': 'I4',\n",
       " '018_HBC_nVEC_1': 'I5',\n",
       " '018_HBC_nVEC_2': 'I6',\n",
       " '018_HBC_nVEC_3': 'I7',\n",
       " '018_HBC_mid_1': 'I8',\n",
       " '018_HBC_mid_2': 'I9',\n",
       " '018_HBC_mid_3': 'I10',\n",
       " '018_CCT_1': 'I11',\n",
       " '018_CCT_2': 'I12',\n",
       " '018_CCT_3': 'I13',\n",
       " '018_VEC_1': 'I14',\n",
       " '018_VEC_2': 'I15',\n",
       " '018_VEC_3': 'I16',\n",
       " '018_Str_1': 'I17',\n",
       " '018_Str_2': 'I18',\n",
       " '018_Str_3': 'I19',\n",
       " '033_STB_nVEC_1': 'I20',\n",
       " '033_STB_nVEC_2': 'I21',\n",
       " '033_STB_nVEC_3': 'I22',\n",
       " '033_STB_gen_1': 'J2',\n",
       " '033_STB_gen_2': 'J3',\n",
       " '033_STB_gen_3': 'J4',\n",
       " '033_CTB_1': 'J5',\n",
       " '033_CTB_2': 'J6',\n",
       " '033_CTB_3': 'J7',\n",
       " '033_CCT_1': 'J17',\n",
       " '033_CCT_2': 'J18',\n",
       " '033_CCT_3': 'J19',\n",
       " '033_VEC_1': 'J20',\n",
       " '033_VEC_2': 'J21',\n",
       " '033_VEC_3': 'J22',\n",
       " '033_Str_1': 'K2',\n",
       " '033_Str_2': 'K3',\n",
       " '033_Str_3': 'K4'}"
      ]
     },
     "execution_count": 29,
     "metadata": {},
     "output_type": "execute_result"
    }
   ],
   "source": [
    "samples_and_wells"
   ]
  },
  {
   "cell_type": "code",
   "execution_count": 22,
   "id": "cff42ab9-a1c1-4ea4-b497-2955eb57b7ec",
   "metadata": {
    "tags": []
   },
   "outputs": [
    {
     "name": "stdout",
     "output_type": "stream",
     "text": [
      "test is found in sample and wells keys\n"
     ]
    }
   ],
   "source": [
    "for \n",
    "if test in samples_and_wells.keys():\n",
    "    print('test is found in sample and wells keys')"
   ]
  },
  {
   "cell_type": "code",
   "execution_count": 18,
   "id": "e2a19367-f7ef-4d1d-a808-a9a540d18bee",
   "metadata": {
    "collapsed": true,
    "jupyter": {
     "outputs_hidden": true
    },
    "tags": []
   },
   "outputs": [
    {
     "name": "stdout",
     "output_type": "stream",
     "text": [
      "018_STB_nVEC_1\n",
      "018_STB_nVEC_2\n",
      "018_STB_nVEC_3\n",
      "018_STB_gen_1\n",
      "018_STB_gen_2\n",
      "018_STB_gen_3\n",
      "018_CTB_1\n",
      "018_CTB_2\n",
      "018_CTB_3\n",
      "018_HBC_nTroph_1\n",
      "018_HBC_nTroph_2\n",
      "018_HBC_nTroph_3\n",
      "018_HBC_nVEC_1\n",
      "018_HBC_nVEC_2\n",
      "018_HBC_nVEC_3\n",
      "018_HBC_mid_1\n",
      "018_HBC_mid_2\n",
      "018_HBC_mid_3\n",
      "018_CCT_1\n",
      "018_CCT_2\n",
      "018_CCT_3\n",
      "018_VEC_1\n",
      "018_VEC_2\n",
      "018_VEC_3\n",
      "018_Str_1\n",
      "018_Str_2\n",
      "018_Str_3\n"
     ]
    }
   ],
   "source": [
    "#sample slicing\n",
    "for sample in list_of_all_samples:\n",
    "        if sample[:3] == '018':\n",
    "            print(sample)"
   ]
  }
 ],
 "metadata": {
  "kernelspec": {
   "display_name": "Python 3 (ipykernel)",
   "language": "python",
   "name": "python3"
  },
  "language_info": {
   "codemirror_mode": {
    "name": "ipython",
    "version": 3
   },
   "file_extension": ".py",
   "mimetype": "text/x-python",
   "name": "python",
   "nbconvert_exporter": "python",
   "pygments_lexer": "ipython3",
   "version": "3.9.16"
  }
 },
 "nbformat": 4,
 "nbformat_minor": 5
}
