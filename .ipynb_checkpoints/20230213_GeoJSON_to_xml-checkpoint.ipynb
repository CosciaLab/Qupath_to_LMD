{
 "cells": [
  {
   "cell_type": "markdown",
   "id": "cf13cc91-7305-426c-ad15-2252f543b8d0",
   "metadata": {
    "tags": []
   },
   "source": [
    "# One Jupyter notebook. From GeoJSON to .xml "
   ]
  },
  {
   "cell_type": "markdown",
   "id": "1a8a0247-2ce7-4436-b874-2edfa336c4b3",
   "metadata": {},
   "source": [
    "## Imports"
   ]
  },
  {
   "cell_type": "code",
   "execution_count": 1,
   "id": "ac38f724-596e-48f2-ae0c-29bb8e71030b",
   "metadata": {},
   "outputs": [],
   "source": [
    "import json\n",
    "import geojson \n",
    "import geopandas\n",
    "import pandas as pd\n",
    "import numpy as np\n",
    "import os"
   ]
  },
  {
   "cell_type": "code",
   "execution_count": 2,
   "id": "056eff8c-b479-4872-a02c-6da6d5acc005",
   "metadata": {},
   "outputs": [],
   "source": [
    "from lmd.lib import Collection, Shape\n",
    "from lmd import tools\n",
    "from PIL import Image\n",
    "from lmd.lib import SegmentationLoader\n",
    "import tifffile\n",
    "import string"
   ]
  },
  {
   "cell_type": "markdown",
   "id": "36985444-7a8a-4bf8-9da8-57c786abcfdb",
   "metadata": {
    "tags": []
   },
   "source": [
    "## From GeoJSON to Dataframe"
   ]
  },
  {
   "cell_type": "markdown",
   "id": "150d264b-36ab-45fa-aa62-eb064edd4394",
   "metadata": {
    "jp-MarkdownHeadingCollapsed": true,
    "tags": []
   },
   "source": [
    "### Functions"
   ]
  },
  {
   "cell_type": "code",
   "execution_count": 3,
   "id": "a7459e3e-8a48-4f0d-b151-de5ceed30c24",
   "metadata": {
    "tags": []
   },
   "outputs": [],
   "source": [
    "#extract calibration points, export as list for lmdpy\n",
    "#order of input list matters for lmd callibration\n",
    "def get_calib_points(list_of_calibpoint_names, df):\n",
    "    #create shape list\n",
    "    pointlist = []\n",
    "    for point_name in list_of_calibpoint_names:\n",
    "        pointlist.append(df.loc[df['name'] == point_name, 'geometry'].values[0])\n",
    "    #create coordenate list\n",
    "    listarray = []\n",
    "    for point in pointlist:\n",
    "        listarray.append([point.x, point.y])\n",
    "    nparray = np.array(listarray)\n",
    "    return(nparray)\n",
    "\n",
    "#returns dataframe with only polygon objects\n",
    "def remove_non_polygons(df):\n",
    "    #convert entire df to text\n",
    "    df_str = df.astype(str)\n",
    "    #filter original df by finding the word polygon, poly_df created\n",
    "    poly_df = df[df_str['geometry'].str.contains(\"POLYGON\")]\n",
    "    poly_df = poly_df.reset_index(drop=True)\n",
    "    return(poly_df)\n",
    "\n",
    "#creates new column for coordenates in a list of list format\n",
    "#assumes only polygons in dataframe\n",
    "def replace_coords(df):\n",
    "    df['lol'] = np.nan\n",
    "    df['lol'] = df['lol'].astype('object')\n",
    "    \n",
    "    for i in df.index:\n",
    "        #get geometry object for row i\n",
    "        geom=df.at[i, 'geometry']\n",
    "        #list the coordenate points as tuples\n",
    "        tmp = list(geom.exterior.coords)\n",
    "        #transform list of tuples to list of lists\n",
    "        tmp_lol = [list(i) for i in tmp]\n",
    "        #add list of list to lol column\n",
    "        df.at[i,'lol'] = tmp_lol\n",
    "    \n",
    "    return(df)\n",
    "\n",
    "#creates a column for polygon type\n",
    "#assumes only polygons in dataframe\n",
    "def get_contour_type(df):\n",
    "    #create empty column\n",
    "    df['Name'] = np.nan\n",
    "    #fill empty column with whatever is inside dictionary name entry\n",
    "    for i in df.index:\n",
    "        tmp = df.classification[i].get('name')\n",
    "        df.at[i,'Name'] = tmp\n",
    "    return(df)"
   ]
  },
  {
   "cell_type": "markdown",
   "id": "39a634b4-5386-452f-86e7-1a1af6ebafc9",
   "metadata": {},
   "source": [
    "### Processing from GeoJSON to Dataframe"
   ]
  },
  {
   "cell_type": "code",
   "execution_count": 4,
   "id": "6e3988b1-ccec-4714-b2be-b71370b5b964",
   "metadata": {},
   "outputs": [],
   "source": [
    "path = r'C:\\Users\\jnimoca\\Jose_BI\\Jupyter\\20230127_Qupath_Contour\\test_geojson_files\\2023_02_02__CD163_CD31_CDH1.geojson'"
   ]
  },
  {
   "cell_type": "code",
   "execution_count": 5,
   "id": "ef5e42fa-f5df-4c78-a6c4-cf7c8e4d4155",
   "metadata": {},
   "outputs": [],
   "source": [
    "df = geopandas.read_file(path)"
   ]
  },
  {
   "cell_type": "code",
   "execution_count": 6,
   "id": "2f5aa73d-77c3-4f6c-aad1-6c216c77b6a9",
   "metadata": {},
   "outputs": [],
   "source": [
    "#assumes user will always label their calibration points like this \n",
    "caliblist = get_calib_points(['calib1','calib2','calib3'],df)"
   ]
  },
  {
   "cell_type": "code",
   "execution_count": 7,
   "id": "e4b85361-f8eb-4d8c-8eea-681904a56db8",
   "metadata": {},
   "outputs": [
    {
     "data": {
      "text/plain": [
       "array([[25418.13,  9763.33],\n",
       "       [15419.01, 23633.92],\n",
       "       [11319.27, 10408.52]])"
      ]
     },
     "execution_count": 7,
     "metadata": {},
     "output_type": "execute_result"
    }
   ],
   "source": [
    "#sanity check 1, they should be in the right order, from top to bottom.\n",
    "caliblist"
   ]
  },
  {
   "cell_type": "code",
   "execution_count": 8,
   "id": "29e9f14f-17b4-4950-8700-be7e6d20e40b",
   "metadata": {},
   "outputs": [],
   "source": [
    "#filter out all non-polygon objects\n",
    "poly_df = remove_non_polygons(df)\n",
    "#create a new column with coordenates in a py-lmd acceptable format\n",
    "poly_df = replace_coords(poly_df)\n",
    "#create a new column containing the name of the class of each polygon (each row one polygon)\n",
    "poly_df = get_contour_type(poly_df)"
   ]
  },
  {
   "attachments": {
    "7de2c770-4529-47f5-8a51-1d195445b045.png": {
     "image/png": "[encoded data removed]"
    }
   },
   "cell_type": "markdown",
   "id": "33575d0a-12d5-4e7e-a574-f615171e16db",
   "metadata": {},
   "source": [
    "Polygon table should look like this:  \n",
    "![image.png](attachment:7de2c770-4529-47f5-8a51-1d195445b045.png)"
   ]
  },
  {
   "cell_type": "code",
   "execution_count": 9,
   "id": "9aa5b34d-9d34-400c-bb01-2e4b49533385",
   "metadata": {
    "tags": []
   },
   "outputs": [
    {
     "name": "stdout",
     "output_type": "stream",
     "text": [
      "this is how the table looks: \n"
     ]
    },
    {
     "data": {
      "text/html": [
       "<div>\n",
       "<style scoped>\n",
       "    .dataframe tbody tr th:only-of-type {\n",
       "        vertical-align: middle;\n",
       "    }\n",
       "\n",
       "    .dataframe tbody tr th {\n",
       "        vertical-align: top;\n",
       "    }\n",
       "\n",
       "    .dataframe thead th {\n",
       "        text-align: right;\n",
       "    }\n",
       "</style>\n",
       "<table border=\"1\" class=\"dataframe\">\n",
       "  <thead>\n",
       "    <tr style=\"text-align: right;\">\n",
       "      <th></th>\n",
       "      <th>id</th>\n",
       "      <th>objectType</th>\n",
       "      <th>classification</th>\n",
       "      <th>name</th>\n",
       "      <th>geometry</th>\n",
       "      <th>lol</th>\n",
       "      <th>Name</th>\n",
       "    </tr>\n",
       "  </thead>\n",
       "  <tbody>\n",
       "    <tr>\n",
       "      <th>0</th>\n",
       "      <td>21309e03-f40d-4e9f-b7d0-0e2eedd16149</td>\n",
       "      <td>annotation</td>\n",
       "      <td>{'name': 'vessels', 'color': [240, 205, 62]}</td>\n",
       "      <td>NaN</td>\n",
       "      <td>POLYGON ((12006.00000 13655.00000, 12003.00000...</td>\n",
       "      <td>[[12006.0, 13655.0], [12003.0, 13655.5], [1199...</td>\n",
       "      <td>vessels</td>\n",
       "    </tr>\n",
       "    <tr>\n",
       "      <th>1</th>\n",
       "      <td>4009fe46-8ffc-4d14-8de9-6320d8d622d4</td>\n",
       "      <td>annotation</td>\n",
       "      <td>{'name': 'vessels', 'color': [240, 205, 62]}</td>\n",
       "      <td>NaN</td>\n",
       "      <td>POLYGON ((14056.00000 13488.00000, 14044.00000...</td>\n",
       "      <td>[[14056.0, 13488.0], [14044.0, 13489.0], [1403...</td>\n",
       "      <td>vessels</td>\n",
       "    </tr>\n",
       "    <tr>\n",
       "      <th>2</th>\n",
       "      <td>8c0dfb98-4d43-42cb-8604-11751101f80e</td>\n",
       "      <td>annotation</td>\n",
       "      <td>{'name': 'vessels', 'color': [240, 205, 62]}</td>\n",
       "      <td>NaN</td>\n",
       "      <td>POLYGON ((13033.00000 13509.00000, 13021.00000...</td>\n",
       "      <td>[[13033.0, 13509.0], [13021.0, 13510.0], [1301...</td>\n",
       "      <td>vessels</td>\n",
       "    </tr>\n",
       "    <tr>\n",
       "      <th>3</th>\n",
       "      <td>724620c7-0a80-48e8-89b4-d986b0092e7b</td>\n",
       "      <td>annotation</td>\n",
       "      <td>{'name': 'vessels', 'color': [240, 205, 62]}</td>\n",
       "      <td>NaN</td>\n",
       "      <td>POLYGON ((13084.00000 14500.00000, 13072.00000...</td>\n",
       "      <td>[[13084.0, 14500.0], [13072.0, 14501.0], [1306...</td>\n",
       "      <td>vessels</td>\n",
       "    </tr>\n",
       "    <tr>\n",
       "      <th>4</th>\n",
       "      <td>e89cecf7-72dc-425b-883c-8177ba1ed809</td>\n",
       "      <td>annotation</td>\n",
       "      <td>{'name': 'Macropages', 'color': [255, 0, 0]}</td>\n",
       "      <td>NaN</td>\n",
       "      <td>POLYGON ((11173.00000 15219.50000, 11172.94000...</td>\n",
       "      <td>[[11173.0, 15219.5], [11172.94, 15221.48], [11...</td>\n",
       "      <td>Macropages</td>\n",
       "    </tr>\n",
       "  </tbody>\n",
       "</table>\n",
       "</div>"
      ],
      "text/plain": [
       "                                     id  objectType  \\\n",
       "0  21309e03-f40d-4e9f-b7d0-0e2eedd16149  annotation   \n",
       "1  4009fe46-8ffc-4d14-8de9-6320d8d622d4  annotation   \n",
       "2  8c0dfb98-4d43-42cb-8604-11751101f80e  annotation   \n",
       "3  724620c7-0a80-48e8-89b4-d986b0092e7b  annotation   \n",
       "4  e89cecf7-72dc-425b-883c-8177ba1ed809  annotation   \n",
       "\n",
       "                                 classification name  \\\n",
       "0  {'name': 'vessels', 'color': [240, 205, 62]}  NaN   \n",
       "1  {'name': 'vessels', 'color': [240, 205, 62]}  NaN   \n",
       "2  {'name': 'vessels', 'color': [240, 205, 62]}  NaN   \n",
       "3  {'name': 'vessels', 'color': [240, 205, 62]}  NaN   \n",
       "4  {'name': 'Macropages', 'color': [255, 0, 0]}  NaN   \n",
       "\n",
       "                                            geometry  \\\n",
       "0  POLYGON ((12006.00000 13655.00000, 12003.00000...   \n",
       "1  POLYGON ((14056.00000 13488.00000, 14044.00000...   \n",
       "2  POLYGON ((13033.00000 13509.00000, 13021.00000...   \n",
       "3  POLYGON ((13084.00000 14500.00000, 13072.00000...   \n",
       "4  POLYGON ((11173.00000 15219.50000, 11172.94000...   \n",
       "\n",
       "                                                 lol        Name  \n",
       "0  [[12006.0, 13655.0], [12003.0, 13655.5], [1199...     vessels  \n",
       "1  [[14056.0, 13488.0], [14044.0, 13489.0], [1403...     vessels  \n",
       "2  [[13033.0, 13509.0], [13021.0, 13510.0], [1301...     vessels  \n",
       "3  [[13084.0, 14500.0], [13072.0, 14501.0], [1306...     vessels  \n",
       "4  [[11173.0, 15219.5], [11172.94, 15221.48], [11...  Macropages  "
      ]
     },
     "execution_count": 9,
     "metadata": {},
     "output_type": "execute_result"
    }
   ],
   "source": [
    "#sanity checks\n",
    "print('this is how the table looks: ')\n",
    "poly_df.head()"
   ]
  },
  {
   "cell_type": "code",
   "execution_count": 24,
   "id": "f850e1ed-21dc-45cc-8bc6-dd2e58241871",
   "metadata": {},
   "outputs": [
    {
     "data": {
      "text/plain": [
       "Macrophages2    13\n",
       "Macropages      10\n",
       "CTB              7\n",
       "STB_2            6\n",
       "CTB2             6\n",
       "vessels          4\n",
       "STB              4\n",
       "CellColumn       3\n",
       "Name: Name, dtype: int64"
      ]
     },
     "execution_count": 24,
     "metadata": {},
     "output_type": "execute_result"
    }
   ],
   "source": [
    "poly_df.Name.value_counts()"
   ]
  },
  {
   "cell_type": "code",
   "execution_count": 18,
   "id": "e5dcc9aa-84a8-436b-b670-38dcad59be75",
   "metadata": {
    "tags": []
   },
   "outputs": [],
   "source": [
    "def filter_table_by_name(df, string):\n",
    "    new_df = df.copy()\n",
    "    new_df = new_df[new_df['Name'].str.contains(string)]\n",
    "    return new_df"
   ]
  },
  {
   "cell_type": "code",
   "execution_count": 19,
   "id": "c10c0795-b3e4-4bb6-95a2-142a57b62320",
   "metadata": {
    "tags": []
   },
   "outputs": [],
   "source": [
    "vessels_df = filter_table_by_name(poly_df,'vessels')"
   ]
  },
  {
   "cell_type": "code",
   "execution_count": 26,
   "id": "c0c87a3f-3300-414e-85ec-0ee859c2e4ee",
   "metadata": {
    "tags": []
   },
   "outputs": [
    {
     "data": {
      "text/plain": [
       "vessels    4\n",
       "Name: Name, dtype: int64"
      ]
     },
     "execution_count": 26,
     "metadata": {},
     "output_type": "execute_result"
    }
   ],
   "source": [
    "vessels_df.Name.value_counts()"
   ]
  },
  {
   "cell_type": "markdown",
   "id": "922374c9-048f-49d0-94c2-c1bd1edcf071",
   "metadata": {
    "tags": []
   },
   "source": [
    "## From Dataframe to Collection object"
   ]
  },
  {
   "cell_type": "code",
   "execution_count": 39,
   "id": "c2036961-7f86-4907-9b1c-6584c7fc5d0a",
   "metadata": {
    "tags": []
   },
   "outputs": [],
   "source": [
    "def dataframe_to_xml(processed_geopandas_df, caliblist, output_path):\n",
    "    \n",
    "    #load the classes \n",
    "    #classes represent all the different wells, each class goes into one well.\n",
    "    all_classes = processed_geopandas_df.Name.unique()\n",
    "    \n",
    "    #sanity check 1\n",
    "    print('all the classes to be cut with this xml')\n",
    "    print(all_classes)\n",
    "    print('')\n",
    "    \n",
    "    #create list of acceptable wells, default is using a space in between columns\n",
    "    list_of_acceptable_wells =[]\n",
    "    for row in list(string.ascii_uppercase[2:14]):\n",
    "        for column in range(3,24,2):\n",
    "            list_of_acceptable_wells.append(str(row) + str(column))\n",
    "    \n",
    "    #check list of acceptable wells\n",
    "    print('list of acceptable wells created')\n",
    "    print('checking the first five wells: ' + str(list_of_acceptable_wells[:5]))\n",
    "    print('checking the last five wells: ' + str(list_of_acceptable_wells[-5:]))\n",
    "    \n",
    "    #samples_and_wells will be dictionary\n",
    "    #key is the sample class, value is the well string\n",
    "    samples_and_wells = {}\n",
    "    for sample_class, well in zip(all_classes, list_of_acceptable_wells):\n",
    "        samples_and_wells[sample_class] = well\n",
    "        \n",
    "    #sanity check 2\n",
    "    print('\\n samples and their wells')\n",
    "    print(samples_and_wells)\n",
    "    print('')\n",
    "    \n",
    "    #create the collection of py-lmd-env package\n",
    "    #uses caliblist passed on the function, order matters\n",
    "    #orientation vector is for QuPath coordenate system\n",
    "    the_collection = Collection(calibration_points = caliblist)\n",
    "    the_collection.orientation_transform = np.array([[1,0 ], [0,-1]])\n",
    "    for i in processed_geopandas_df.index:\n",
    "        the_collection.new_shape(processed_geopandas_df.at[i,'lol'], \n",
    "                                    well = samples_and_wells[processed_geopandas_df.at[i, \"Name\"]])\n",
    "   \n",
    "    #sanity check 3\n",
    "    print(the_collection.stats())\n",
    "    \n",
    "    #sanity check 4\n",
    "    print('\\n Lets see how it looks like')\n",
    "    print('Xs are calibpoints, shapes should be colored')\n",
    "    the_collection.plot(calibration = True)    \n",
    "    \n",
    "    the_collection.save(output_path)\n",
    "    print('\\n xml file saved as: ')\n",
    "    print(output_path)"
   ]
  },
  {
   "cell_type": "code",
   "execution_count": 40,
   "id": "fa51f830-a46a-44f4-90e8-9ff1722a5379",
   "metadata": {
    "tags": []
   },
   "outputs": [
    {
     "name": "stdout",
     "output_type": "stream",
     "text": [
      "all the classes to be cut with this xml\n",
      "['vessels']\n",
      "\n",
      "list of acceptable wells created\n",
      "checking the first five wells: ['C3', 'C5', 'C7', 'C9', 'C11']\n",
      "checking the last five wells: ['N15', 'N17', 'N19', 'N21', 'N23']\n",
      "\n",
      " samples and their wells\n",
      "{'vessels': 'C3'}\n",
      "\n",
      "===== Collection Stats =====\n",
      "Number of shapes: 4\n",
      "Number of vertices: 1,144\n",
      "============================\n",
      "Mean vertices: 286\n",
      "Min vertices: 143\n",
      "5% percentile vertices: 149\n",
      "Median vertices: 238\n",
      "95% percentile vertices: 490\n",
      "Max vertices: 525\n",
      "None\n",
      "\n",
      " Lets see how it looks like\n",
      "Xs are calibpoints, shapes should be colored\n"
     ]
    },
    {
     "data": {
      "image/png": "[encoded data removed]",
      "text/plain": [
       "<Figure size 500x500 with 1 Axes>"
      ]
     },
     "metadata": {},
     "output_type": "display_data"
    },
    {
     "name": "stdout",
     "output_type": "stream",
     "text": [
      "[2541813. -976333.]\n",
      "[ 1541901. -2363392.]\n",
      "[ 1131927. -1040852.]\n",
      "\n",
      " xml file saved as: \n",
      "C:/Users/jnimoca/Jose_BI/Jupyter/20230127_Qupath_Contour/test_output_xml_files/vessels.xml\n"
     ]
    }
   ],
   "source": [
    "dataframe_to_xml(processed_geopandas_df=vessels_df,\n",
    "                 caliblist=caliblist,\n",
    "                 output_path = r'C:/Users/jnimoca/Jose_BI/Jupyter/20230127_Qupath_Contour/test_output_xml_files/vessels.xml')"
   ]
  }
 ],
 "metadata": {
  "kernelspec": {
   "display_name": "Python 3 (ipykernel)",
   "language": "python",
   "name": "python3"
  },
  "language_info": {
   "codemirror_mode": {
    "name": "ipython",
    "version": 3
   },
   "file_extension": ".py",
   "mimetype": "text/x-python",
   "name": "python",
   "nbconvert_exporter": "python",
   "pygments_lexer": "ipython3",
   "version": "3.9.16"
  }
 },
 "nbformat": 4,
 "nbformat_minor": 5
}
