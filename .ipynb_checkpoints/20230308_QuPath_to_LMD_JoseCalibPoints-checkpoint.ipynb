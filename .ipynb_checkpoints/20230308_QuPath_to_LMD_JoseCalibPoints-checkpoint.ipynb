{
 "cells": [
  {
   "cell_type": "markdown",
   "id": "cf13cc91-7305-426c-ad15-2252f543b8d0",
   "metadata": {
    "tags": []
   },
   "source": [
    "# One Jupyter notebook. From GeoJSON to .xml "
   ]
  },
  {
   "cell_type": "markdown",
   "id": "1a8a0247-2ce7-4436-b874-2edfa336c4b3",
   "metadata": {
    "jp-MarkdownHeadingCollapsed": true,
    "tags": []
   },
   "source": [
    "## Imports"
   ]
  },
  {
   "cell_type": "code",
   "execution_count": 12,
   "id": "ac38f724-596e-48f2-ae0c-29bb8e71030b",
   "metadata": {
    "tags": []
   },
   "outputs": [],
   "source": [
    "import json\n",
    "import geojson \n",
    "import geopandas\n",
    "import pandas as pd\n",
    "import numpy as np\n",
    "import os\n",
    "import datetime as dt\n",
    "\n",
    "from lmd.lib import Collection, Shape\n",
    "from lmd import tools\n",
    "from PIL import Image\n",
    "from lmd.lib import SegmentationLoader\n",
    "\n",
    "import tifffile\n",
    "import string\n",
    "\n",
    "from shapely.geometry import Point, LineString"
   ]
  },
  {
   "cell_type": "code",
   "execution_count": 13,
   "id": "f8cde38f-0e7f-472a-b93b-4cceb23546a4",
   "metadata": {
    "tags": []
   },
   "outputs": [
    {
     "name": "stdout",
     "output_type": "stream",
     "text": [
      "Current Conda Environment: py-lmd-env\n"
     ]
    }
   ],
   "source": [
    "# show current anaconda env\n",
    "print (\"Current Conda Environment: \" + str(os.environ['CONDA_DEFAULT_ENV']))"
   ]
  },
  {
   "cell_type": "markdown",
   "id": "36985444-7a8a-4bf8-9da8-57c786abcfdb",
   "metadata": {
    "tags": []
   },
   "source": [
    "## From GeoJSON to Dataframe"
   ]
  },
  {
   "cell_type": "code",
   "execution_count": 14,
   "id": "ef43c7fe-4e7f-4595-9d99-7aa268099a36",
   "metadata": {
    "tags": []
   },
   "outputs": [],
   "source": [
    "#user defined variables:\n",
    "\n",
    "path_to_file = r'Z:\\Users\\Jose\\automated_calib_points'\n",
    "file = r'Calibpoints_forFrameSlide.geojson'\n",
    "calibration_points = ['calib1','calib2','calib3']\n",
    "\n",
    "#change batch to True if you want to process many geoJSON, it assumes they all have the same calibration points\n",
    "batch=False\n",
    "#if processing batch it assumes calibration points ['Calib1','Calib2','Calib3']"
   ]
  },
  {
   "cell_type": "markdown",
   "id": "533bc771-e333-41fd-9f62-fb2665ba0f46",
   "metadata": {
    "tags": []
   },
   "source": [
    "### Samples and wells"
   ]
  },
  {
   "cell_type": "code",
   "execution_count": 15,
   "id": "f8a30eb9-2d04-454c-b496-59f8b843cce4",
   "metadata": {
    "tags": []
   },
   "outputs": [],
   "source": [
    "#if you want to pass a custom well loadout use the following dictionary:  \n",
    "#A,B,C,D will have to be the class name used in qupath, it has to be the exact name.  \n",
    "#please choose wells with a 2-row 2-column margin. not rows (A, B, N, O) not columns (1,22,23)  \n",
    "#remember the shift between software and collection in the lmd.  "
   ]
  },
  {
   "cell_type": "markdown",
   "id": "def373de-98f5-4975-9c88-12e5ad5a7f49",
   "metadata": {
    "tags": []
   },
   "source": [
    "samples_and_wells = {\n",
    " '187_HBC_mid_3': 'C3',\n",
    " '187_HBC_nVEC_1': 'C4',\n",
    " '187_HBC_nVEC_2': 'C5',\n",
    " '187_HBC_mid_2': 'C6',\n",
    " '187_HBC_nTroph_3': 'C7',\n",
    " '187_HBC_nTroph_1': 'C8',\n",
    " '187_HBC_mid_1': 'C9',\n",
    " '187_HBC_nVEC_3': 'C10',\n",
    " '187_HBC_nTroph_2': 'C11',\n",
    " '108_STB_nVEC_1': 'F3',\n",
    " '108_STB_nVEC_2': 'F4',\n",
    " '108_STB_nVEC_3': 'F5',\n",
    " '108_STB_gen_1': 'F6',\n",
    " '108_STB_gen_2': 'F7',\n",
    " '108_STB_gen_3': 'F8',\n",
    " '108_CTB_1_1': 'F9',\n",
    " '108_CTB_2_1': 'F10',\n",
    " '108_CTB_3_1': 'F11',\n",
    " '108_HBC_nTroph_1': 'G3',\n",
    " '108_HBC_nTroph_2': 'G4',\n",
    " '108_HBC_nTroph_3': 'G5',\n",
    " '108_HBC_nVEC_1': 'G6',\n",
    " '108_HBC_nVEC_2': 'G7',\n",
    " '108_HBC_nVEC_3': 'G8',\n",
    " '108_HBC_mid_1': 'G9',\n",
    " '108_HBC_mid_2': 'G10',\n",
    " '108_HBC_mid_3': 'G11',\n",
    " '108_CCT_1': 'H3',\n",
    " '108_CCT_2': 'H4',\n",
    " '108_CCT_3': 'H5',\n",
    " '108_VEC_1': 'H6',\n",
    " '108_VEC_2': 'H7',\n",
    " '108_VEC_3': 'H8',\n",
    " '108_Str_1': 'H9',\n",
    " '108_Str_2': 'H10',\n",
    " '108_Str_3': 'H11',\n",
    " '187_STB_nVEC_1': 'D3',\n",
    " '187_STB_nVEC_2': 'D4',\n",
    " '187_STB_nVEC_3': 'D5',\n",
    " '187_STB_gen_1': 'D6',\n",
    " '187_STB_gen_2': 'D7',\n",
    " '187_STB_gen_3': 'D8',\n",
    " '187_CTB_1': 'D9',\n",
    " '187_CTB_2': 'D10',\n",
    " '187_CTB_3': 'D11',\n",
    " '187_CCT_1': 'E3',\n",
    " '187_CCT_2': 'E4',\n",
    " '187_CCT_3': 'E5',\n",
    " '187_VEC_1': 'E6',\n",
    " '187_VEC_2': 'E7',\n",
    " '187_VEC_3': 'E8',\n",
    " '187_str_1': 'E9',\n",
    " '187_str_2': 'E10',\n",
    " '187_str_3': 'E11'}"
   ]
  },
  {
   "cell_type": "markdown",
   "id": "e0cc0a7b-dcd3-4cb5-b30f-42414f3576d4",
   "metadata": {
    "tags": []
   },
   "source": [
    "## Code"
   ]
  },
  {
   "cell_type": "markdown",
   "id": "e0dfb0dd-c054-4594-a4de-f645f82464d4",
   "metadata": {
    "jp-MarkdownHeadingCollapsed": true,
    "tags": []
   },
   "source": [
    "### process dataframe"
   ]
  },
  {
   "cell_type": "code",
   "execution_count": 16,
   "id": "72326893-150c-4cda-8ef3-e1cb4213cddc",
   "metadata": {
    "tags": []
   },
   "outputs": [],
   "source": [
    "single_file_path = os.path.join(path_to_file,file)\n",
    "\n",
    "def start_pipeline(dataf):\n",
    "    return dataf.copy()\n",
    "              \n",
    "def remove_calib_points(df):\n",
    "    #convert entire df to text\n",
    "    df_str = df.astype(str)\n",
    "    #filter original df by finding the word polygon, poly_df created\n",
    "    poly_df = df[df_str['geometry'].str.contains(\"POLYGON\")]\n",
    "    poly_df = poly_df.reset_index(drop=True)\n",
    "    return(poly_df)              \n",
    "\n",
    "def replace_coords(df):\n",
    "    df['lol'] = np.nan\n",
    "    df['lol'] = df['lol'].astype('object')\n",
    "    \n",
    "    for i in df.index:\n",
    "        #get geometry object for row i\n",
    "        geom=df.at[i, 'geometry']\n",
    "        #list the coordenate points as tuples\n",
    "        tmp = list(geom.exterior.coords)\n",
    "        #transform list of tuples to list of lists\n",
    "        tmp_lol = [list(i) for i in tmp]\n",
    "        #add list of list to lol column\n",
    "        df.at[i,'lol'] = tmp_lol\n",
    "    return(df)\n",
    "      \n",
    "def replace_coords_simple(df):\n",
    "    df['lol_simple'] = np.nan\n",
    "    df['lol_simple'] = df['lol_simple'].astype('object')\n",
    "    df['simple'] = df.geometry.simplify(1)\n",
    "    \n",
    "    for i in df.index:\n",
    "        #get geometry object for row i\n",
    "        geom=df.at[i, 'simple']\n",
    "        #list the coordenate points as tuples\n",
    "        tmp = list(geom.exterior.coords)\n",
    "        #transform list of tuples to list of lists\n",
    "        tmp_lol = [list(i) for i in tmp]\n",
    "        #add list of list to lol column\n",
    "        df.at[i,'lol_simple'] = tmp_lol\n",
    "    return(df)\n",
    "\n",
    "def remove_unclassified_polygons(df):\n",
    "    if df['classification'].isna().sum() !=0 :\n",
    "        print(f\"you have {df['classification'].isna().sum()} NaNs in your classification column\")\n",
    "        print('these are unclassified objects from Qupath, they will be ignored') \n",
    "    df = df[df['classification'].notna()]\n",
    "    return df\n",
    "\n",
    "def get_contour_type(df):\n",
    "    #creates a column for polygon type\n",
    "    #assumes only polygons in dataframe\n",
    "    #create empty column\n",
    "    df['Name'] = np.nan\n",
    "    #fill empty column with whatever is inside dictionary name entry  \n",
    "    for i in df.index:\n",
    "        tmp = df.classification[i].get('name')\n",
    "        df.at[i,'Name'] = tmp\n",
    "    return(df)\n",
    "              \n",
    "def get_calib_points(list_of_calibpoint_names, df):\n",
    "    #create shape list\n",
    "    pointlist = []\n",
    "    for point_name in list_of_calibpoint_names:\n",
    "        if point_name in df['name'].unique():\n",
    "            pointlist.append(df.loc[df['name'] == point_name, 'geometry'].values[0])\n",
    "        else:\n",
    "            print('your given calib name is not present in the file, change it and try again')\n",
    "            print('these are the calib points you passed: ')\n",
    "            print(list_of_calibpoint_names)\n",
    "            print('these are the calib points found in the geojson you gave me: ')\n",
    "            print(df['name'].unique())\n",
    "            \n",
    "    #create coordenate list\n",
    "    listarray = []\n",
    "    for point in pointlist:\n",
    "        listarray.append([point.x, point.y])\n",
    "    nparray = np.array(listarray)\n",
    "    return(nparray)"
   ]
  },
  {
   "cell_type": "markdown",
   "id": "770d633f-58a4-4899-8b35-6d5a17b3f579",
   "metadata": {
    "jp-MarkdownHeadingCollapsed": true,
    "tags": []
   },
   "source": [
    "### Utilities"
   ]
  },
  {
   "cell_type": "code",
   "execution_count": 17,
   "id": "9e7b3b3b-c07e-42a2-a736-19fd4e263fbe",
   "metadata": {
    "tags": []
   },
   "outputs": [],
   "source": [
    "#utilities\n",
    "\n",
    "#Create a datafrate for polygons with a specific name, if it contains a string\n",
    "\n",
    "def filter_table_by_name(df, string):\n",
    "    new_df = df.copy()\n",
    "    new_df = new_df[new_df['Name'].str.contains(string)]\n",
    "    return new_df\n",
    "\n",
    "#list all geoJSON files in a given path\n",
    "def list_geoJSON_in_path(path):\n",
    "    filelist = os.listdir(path)\n",
    "    #filter the files so there are only images\n",
    "    filelist =  [x for x in filelist if '.geojson' in x]\n",
    "    return filelist"
   ]
  },
  {
   "cell_type": "markdown",
   "id": "35a1c037-7ad3-4f40-985a-07397ce5a8a4",
   "metadata": {
    "jp-MarkdownHeadingCollapsed": true,
    "tags": []
   },
   "source": [
    "### Pipe from dataframe to xml"
   ]
  },
  {
   "cell_type": "code",
   "execution_count": 18,
   "id": "57791413-1d88-4db8-978f-abb5b545d15b",
   "metadata": {},
   "outputs": [],
   "source": [
    "def dataframe_to_xml_v2():\n",
    "    \n",
    "    df = geopandas.read_file(single_file_path)\n",
    "    caliblist = get_calib_points(calibration_points, df)\n",
    "    clean_df = (df\n",
    "                 .pipe(start_pipeline)\n",
    "                 .pipe(remove_calib_points)\n",
    "                 .pipe(replace_coords)\n",
    "                 .pipe(replace_coords_simple)\n",
    "                 .pipe(remove_unclassified_polygons)\n",
    "                 .pipe(get_contour_type))\n",
    "\n",
    "    \n",
    "    \n",
    "    #load the classes \n",
    "    #classes represent all the different wells, each class goes into one well.\n",
    "    all_classes = clean_df.Name.unique()\n",
    "    \n",
    "    #create list of acceptable wells, default is using a space in between columns\n",
    "    list_of_acceptable_wells =[]\n",
    "    for row in list(string.ascii_uppercase[2:14]):\n",
    "        for column in range(2,22):\n",
    "            list_of_acceptable_wells.append(str(row) + str(column))\n",
    "            \n",
    "    #samples_and_wells will be dictionary,key is the sample class, value is the well string\n",
    "    #loads global variable with that name\n",
    "    global samples_and_wells \n",
    "    try:\n",
    "        samples_and_wells\n",
    "        print(\"samples_and_wells was preloaded, using it for assigning wells\")\n",
    "    except NameError:\n",
    "        print(\"samples_and_wells not detected, assigning wells at random\")\n",
    "        samples_and_wells = {}\n",
    "        for sample_class, well in zip(all_classes, list_of_acceptable_wells):\n",
    "            samples_and_wells[sample_class] = well\n",
    "        \n",
    "    #create the collection of py-lmd-env package\n",
    "    #uses caliblist passed on the function, order matters\n",
    "    #orientation vector is for QuPath coordenate system\n",
    "    the_collection = Collection(calibration_points = caliblist)\n",
    "    the_collection.orientation_transform = np.array([[1,0 ], [0,-1]])\n",
    "    print('\\nusing simplified shapes')\n",
    "    for i in clean_df.index:\n",
    "        the_collection.new_shape(clean_df.at[i,'lol_simple'], \n",
    "                                    well = samples_and_wells[clean_df.at[i, \"Name\"]])\n",
    "    \n",
    "\n",
    "    #save collection as xml\n",
    "    print('these are your calibration point coordenates')\n",
    "    output_name= os.path.splitext(single_file_path)[0]+'.xml'\n",
    "    the_collection.save(output_name)\n",
    "    \n",
    "    #________________________________________________________\n",
    "    #Information for user\n",
    "    #________________________________________________________\n",
    "    \n",
    "    #create and export dataframe with sample placement in 384 well plate\n",
    "    rows_A_P= [i for i in string.ascii_uppercase[:16]]\n",
    "    columns_1_24 = [str(i) for i in range(1,25)]\n",
    "    df_wp384 = pd.DataFrame(0,columns=columns_1_24, index=rows_A_P)\n",
    "    \n",
    "    for i in samples_and_wells:\n",
    "        location = samples_and_wells[i]\n",
    "        df_wp384.at[location[0],location[1:]] = i\n",
    "    df_wp384_output_name = os.path.splitext(single_file_path)[0]+'_384_wellplate.csv'\n",
    "    print('\\n csv file of 384 well plate positions, saved as: ')\n",
    "    print(df_wp384_output_name)\n",
    "    df_wp384.to_csv(df_wp384_output_name, index=True)\n",
    "    \n",
    "    #print statistics about collection\n",
    "    print('')\n",
    "    print(the_collection.stats())\n",
    "    #plot diagram of all shapes with calibpoints\n",
    "    the_collection.plot(calibration = True)    \n",
    "    \n",
    "    #print where file was saved\n",
    "    print('\\n xml file saved as: ')\n",
    "    print(output_name)\n",
    "    \n",
    "    #create a printlist of all classes, with their wells, and the number of contours \n",
    "    printlist = []\n",
    "    for i in clean_df.Name.unique():\n",
    "        sublist=[]\n",
    "        sublist.append(i)\n",
    "        sublist.append(samples_and_wells[i])\n",
    "        sublist.append(clean_df[clean_df.Name == i]['Name'].shape[0])\n",
    "        printlist.append(sublist)\n",
    "    \n",
    "    #print the printlist in a human readable format\n",
    "    print('\\n')\n",
    "    print('Sample','-----------','Well','--','How many contours\\n')\n",
    "    #sort for the order of the class name\n",
    "    printlist.sort(key=lambda x: x[0])\n",
    "    for i in range(len(printlist)):\n",
    "        if printlist[i][0] in list(clean_df.Name):\n",
    "            space1_number = 18 - len(printlist[i][0])\n",
    "            space1 = '-' * int(space1_number)\n",
    "            space2_number = 5 - len(printlist[i][1])\n",
    "            space2 = '-' * int(space2_number)\n",
    "            print(printlist[i][0], space1, printlist[i][1], space2, printlist[i][2])"
   ]
  },
  {
   "cell_type": "markdown",
   "id": "39a634b4-5386-452f-86e7-1a1af6ebafc9",
   "metadata": {
    "tags": []
   },
   "source": [
    "## Processing from GeoJSON to Dataframe"
   ]
  },
  {
   "cell_type": "code",
   "execution_count": 19,
   "id": "1ac652ce-308a-4f7a-8235-f92c70fcd27b",
   "metadata": {
    "tags": []
   },
   "outputs": [
    {
     "name": "stdout",
     "output_type": "stream",
     "text": [
      "samples_and_wells not detected, assigning wells at random\n",
      "\n",
      "using simplified shapes\n",
      "these are your calibration point coordenates\n",
      "[ 162857. -178216.]\n",
      "[6672986. -154293.]\n",
      "[  169284. -2451689.]\n",
      "\n",
      " csv file of 384 well plate positions, saved as: \n",
      "Z:\\Users\\Jose\\automated_calib_points\\Calibpoints_forFrameSlide_384_wellplate.csv\n",
      "\n",
      "===== Collection Stats =====\n",
      "Number of shapes: 30\n",
      "Number of vertices: 216\n",
      "============================\n",
      "Mean vertices: 7\n",
      "Min vertices: 4\n",
      "5% percentile vertices: 4\n",
      "Median vertices: 6\n",
      "95% percentile vertices: 15\n",
      "Max vertices: 17\n",
      "None\n"
     ]
    },
    {
     "data": {
      "image/png": "[encoded data removed]",
      "text/plain": [
       "<Figure size 500x500 with 1 Axes>"
      ]
     },
     "metadata": {},
     "output_type": "display_data"
    },
    {
     "name": "stdout",
     "output_type": "stream",
     "text": [
      "\n",
      " xml file saved as: \n",
      "Z:\\Users\\Jose\\automated_calib_points\\Calibpoints_forFrameSlide.xml\n",
      "\n",
      "\n",
      "Sample ----------- Well -- How many contours\n",
      "\n",
      "to_cut_for_calib -- C2 --- 30\n"
     ]
    }
   ],
   "source": [
    "#options: \n",
    "#write down batch=True inside parentheses if you are processing a series of files\n",
    "dataframe_to_xml_v2()"
   ]
  }
 ],
 "metadata": {
  "kernelspec": {
   "display_name": "Python 3 (ipykernel)",
   "language": "python",
   "name": "python3"
  },
  "language_info": {
   "codemirror_mode": {
    "name": "ipython",
    "version": 3
   },
   "file_extension": ".py",
   "mimetype": "text/x-python",
   "name": "python",
   "nbconvert_exporter": "python",
   "pygments_lexer": "ipython3",
   "version": "3.9.16"
  }
 },
 "nbformat": 4,
 "nbformat_minor": 5
}
