{
 "cells": [
  {
   "cell_type": "markdown",
   "id": "0a3457d8-f4ac-4f69-930a-d52b1339d6b8",
   "metadata": {
    "tags": []
   },
   "source": [
    "# Import packages"
   ]
  },
  {
   "cell_type": "code",
   "execution_count": 1,
   "id": "5975b499-c1fd-41da-9dd6-7a471f080755",
   "metadata": {},
   "outputs": [],
   "source": [
    "import pandas as pd\n",
    "import numpy as np\n",
    "import os"
   ]
  },
  {
   "cell_type": "code",
   "execution_count": 3,
   "id": "fdf3564d-1706-4230-9944-acd34b247b39",
   "metadata": {},
   "outputs": [],
   "source": [
    "import json\n",
    "import geojson \n",
    "import geopandas"
   ]
  },
  {
   "cell_type": "markdown",
   "id": "fc491970-bd67-4141-9e2b-6e8fe1095edc",
   "metadata": {
    "tags": []
   },
   "source": [
    "# Summary"
   ]
  },
  {
   "cell_type": "code",
   "execution_count": 301,
   "id": "1a8fe008-ee99-407f-bc14-1216a787a180",
   "metadata": {
    "jupyter": {
     "source_hidden": true
    },
    "tags": []
   },
   "outputs": [],
   "source": [
    "#extract calibration points, export as list for lmdpy\n",
    "#order of input list matters for lmd callibration\n",
    "def get_calib_points(list_of_calibpoint_names, df):\n",
    "    #create shape list\n",
    "    pointlist = []\n",
    "    for point_name in list_of_calibpoint_names:\n",
    "        pointlist.append(df.loc[df['name'] == point_name, 'geometry'].values[0])\n",
    "    #create coordenate list\n",
    "    listarray = []\n",
    "    for point in pointlist:\n",
    "        listarray.append([point.x, point.y])\n",
    "    nparray = np.array(listarray)\n",
    "    return(nparray)\n",
    "\n",
    "#returns dataframe with only polygon objects\n",
    "def remove_non_polygons(df):\n",
    "    #convert entire df to text\n",
    "    df_str = df.astype(str)\n",
    "    #filter original df by finding the word polygon, poly_df created\n",
    "    poly_df = df[df_str['geometry'].str.contains(\"POLYGON\")]\n",
    "    poly_df = poly_df.reset_index(drop=True)\n",
    "    return(poly_df)\n",
    "\n",
    "#creates new column for coordenates in a list of list format\n",
    "#assumes only polygons in dataframe\n",
    "def replace_coords(df):\n",
    "    df['lol'] = np.nan\n",
    "    df['lol'] = df['lol'].astype('object')\n",
    "    \n",
    "    for i in df.index:\n",
    "        #get geometry object for row i\n",
    "        geom=df.at[i, 'geometry']\n",
    "        #list the coordenate points as tuples\n",
    "        tmp = list(geom.exterior.coords)\n",
    "        #transform list of tuples to list of lists\n",
    "        tmp_lol = [list(i) for i in tmp]\n",
    "        #add list of list to lol column\n",
    "        df.at[i,'lol'] = tmp_lol\n",
    "    \n",
    "    return(df)\n",
    "\n",
    "#creates a column for polygon type\n",
    "#assumes only polygons in dataframe\n",
    "def get_contour_type(df):\n",
    "    #create empty column\n",
    "    df['Name'] = np.nan\n",
    "    #fill empty column with whatever is inside dictionary name entry\n",
    "    for i in df.index:\n",
    "        tmp = df.classification[i].get('name')\n",
    "        df.at[i,'Name'] = tmp\n",
    "    return(df)"
   ]
  },
  {
   "cell_type": "code",
   "execution_count": 15,
   "id": "6e3988b1-ccec-4714-b2be-b71370b5b964",
   "metadata": {},
   "outputs": [],
   "source": [
    "path = r'C:\\Users\\jnimoca\\Jose_BI\\Jupyter\\20230127_Qupath_Contour\\03012023_JN.geojson'"
   ]
  },
  {
   "cell_type": "code",
   "execution_count": 303,
   "id": "ef5e42fa-f5df-4c78-a6c4-cf7c8e4d4155",
   "metadata": {},
   "outputs": [],
   "source": [
    "df = geopandas.read_file(path)"
   ]
  },
  {
   "cell_type": "code",
   "execution_count": 304,
   "id": "8c12eb0c-3d99-408c-bd7e-6c262cf9a3a1",
   "metadata": {},
   "outputs": [],
   "source": [
    "df1 = remove_non_polygons(df)"
   ]
  },
  {
   "cell_type": "code",
   "execution_count": 305,
   "id": "b449bf91-35c4-4a84-bb47-c2f4f872dc79",
   "metadata": {},
   "outputs": [],
   "source": [
    "df2 = replace_coords(df1)"
   ]
  },
  {
   "cell_type": "code",
   "execution_count": 306,
   "id": "070726e0-44ab-430c-9bb7-412c96611947",
   "metadata": {},
   "outputs": [],
   "source": [
    "df3 = get_contour_type(df2)"
   ]
  },
  {
   "cell_type": "code",
   "execution_count": 307,
   "id": "415389c5-ca42-4b41-8883-0041541e4482",
   "metadata": {},
   "outputs": [
    {
     "data": {
      "text/html": [
       "<div>\n",
       "<style scoped>\n",
       "    .dataframe tbody tr th:only-of-type {\n",
       "        vertical-align: middle;\n",
       "    }\n",
       "\n",
       "    .dataframe tbody tr th {\n",
       "        vertical-align: top;\n",
       "    }\n",
       "\n",
       "    .dataframe thead th {\n",
       "        text-align: right;\n",
       "    }\n",
       "</style>\n",
       "<table border=\"1\" class=\"dataframe\">\n",
       "  <thead>\n",
       "    <tr style=\"text-align: right;\">\n",
       "      <th></th>\n",
       "      <th>id</th>\n",
       "      <th>objectType</th>\n",
       "      <th>classification</th>\n",
       "      <th>name</th>\n",
       "      <th>isLocked</th>\n",
       "      <th>geometry</th>\n",
       "      <th>lol</th>\n",
       "      <th>Name</th>\n",
       "    </tr>\n",
       "  </thead>\n",
       "  <tbody>\n",
       "    <tr>\n",
       "      <th>0</th>\n",
       "      <td>3e2e81db-0e02-4b32-9565-ee876f1f0e73</td>\n",
       "      <td>annotation</td>\n",
       "      <td>{'name': 'Tumor', 'color': [200, 0, 0]}</td>\n",
       "      <td>None</td>\n",
       "      <td>None</td>\n",
       "      <td>POLYGON ((7493.00000 12129.00000, 7487.00000 1...</td>\n",
       "      <td>[[7493.0, 12129.0], [7487.0, 12130.0], [7485.0...</td>\n",
       "      <td>Tumor</td>\n",
       "    </tr>\n",
       "    <tr>\n",
       "      <th>1</th>\n",
       "      <td>e6ac1916-2781-4fa9-98b6-e8f1b262daee</td>\n",
       "      <td>annotation</td>\n",
       "      <td>{'name': 'Tumor', 'color': [200, 0, 0]}</td>\n",
       "      <td>None</td>\n",
       "      <td>None</td>\n",
       "      <td>POLYGON ((6796.00000 12243.00000, 6790.00000 1...</td>\n",
       "      <td>[[6796.0, 12243.0], [6790.0, 12244.0], [6788.0...</td>\n",
       "      <td>Tumor</td>\n",
       "    </tr>\n",
       "    <tr>\n",
       "      <th>2</th>\n",
       "      <td>b7b74c76-b03f-4592-b47f-83f045d84a1e</td>\n",
       "      <td>annotation</td>\n",
       "      <td>{'name': 'Tumor', 'color': [200, 0, 0]}</td>\n",
       "      <td>None</td>\n",
       "      <td>None</td>\n",
       "      <td>POLYGON ((7043.00000 12839.50000, 7042.65000 1...</td>\n",
       "      <td>[[7043.0, 12839.5], [7042.65, 12846.0], [7041....</td>\n",
       "      <td>Tumor</td>\n",
       "    </tr>\n",
       "  </tbody>\n",
       "</table>\n",
       "</div>"
      ],
      "text/plain": [
       "                                     id  objectType  \\\n",
       "0  3e2e81db-0e02-4b32-9565-ee876f1f0e73  annotation   \n",
       "1  e6ac1916-2781-4fa9-98b6-e8f1b262daee  annotation   \n",
       "2  b7b74c76-b03f-4592-b47f-83f045d84a1e  annotation   \n",
       "\n",
       "                            classification  name isLocked  \\\n",
       "0  {'name': 'Tumor', 'color': [200, 0, 0]}  None     None   \n",
       "1  {'name': 'Tumor', 'color': [200, 0, 0]}  None     None   \n",
       "2  {'name': 'Tumor', 'color': [200, 0, 0]}  None     None   \n",
       "\n",
       "                                            geometry  \\\n",
       "0  POLYGON ((7493.00000 12129.00000, 7487.00000 1...   \n",
       "1  POLYGON ((6796.00000 12243.00000, 6790.00000 1...   \n",
       "2  POLYGON ((7043.00000 12839.50000, 7042.65000 1...   \n",
       "\n",
       "                                                 lol   Name  \n",
       "0  [[7493.0, 12129.0], [7487.0, 12130.0], [7485.0...  Tumor  \n",
       "1  [[6796.0, 12243.0], [6790.0, 12244.0], [6788.0...  Tumor  \n",
       "2  [[7043.0, 12839.5], [7042.65, 12846.0], [7041....  Tumor  "
      ]
     },
     "execution_count": 307,
     "metadata": {},
     "output_type": "execute_result"
    }
   ],
   "source": [
    "df3"
   ]
  },
  {
   "cell_type": "markdown",
   "id": "6ff91e39-64d0-40b1-a18e-3d9819dec2b4",
   "metadata": {
    "jp-MarkdownHeadingCollapsed": true,
    "tags": []
   },
   "source": [
    "# Explore JSON file"
   ]
  },
  {
   "cell_type": "code",
   "execution_count": 15,
   "id": "faf01862-515d-4dd6-8e99-10e5b24bf453",
   "metadata": {},
   "outputs": [],
   "source": [
    "path = r'C:\\Users\\jnimoca\\Jose_BI\\Jupyter\\20230127_Qupath_Contour\\03012023_JN.geojson'"
   ]
  },
  {
   "cell_type": "code",
   "execution_count": 296,
   "id": "eff4428b-047b-438d-ae91-76f21f5e4b8d",
   "metadata": {},
   "outputs": [],
   "source": [
    "df = geopandas.read_file(path)"
   ]
  },
  {
   "cell_type": "code",
   "execution_count": 17,
   "id": "c58f5e10-1175-410c-9506-7ef54a181521",
   "metadata": {},
   "outputs": [
    {
     "data": {
      "text/html": [
       "<div>\n",
       "<style scoped>\n",
       "    .dataframe tbody tr th:only-of-type {\n",
       "        vertical-align: middle;\n",
       "    }\n",
       "\n",
       "    .dataframe tbody tr th {\n",
       "        vertical-align: top;\n",
       "    }\n",
       "\n",
       "    .dataframe thead th {\n",
       "        text-align: right;\n",
       "    }\n",
       "</style>\n",
       "<table border=\"1\" class=\"dataframe\">\n",
       "  <thead>\n",
       "    <tr style=\"text-align: right;\">\n",
       "      <th></th>\n",
       "      <th>id</th>\n",
       "      <th>objectType</th>\n",
       "      <th>classification</th>\n",
       "      <th>name</th>\n",
       "      <th>isLocked</th>\n",
       "      <th>geometry</th>\n",
       "    </tr>\n",
       "  </thead>\n",
       "  <tbody>\n",
       "    <tr>\n",
       "      <th>0</th>\n",
       "      <td>e7ac14bf-1f34-4531-974f-08196f93867a</td>\n",
       "      <td>annotation</td>\n",
       "      <td>None</td>\n",
       "      <td>calib1</td>\n",
       "      <td>True</td>\n",
       "      <td>POINT (11585.84000 14257.66000)</td>\n",
       "    </tr>\n",
       "    <tr>\n",
       "      <th>1</th>\n",
       "      <td>1ec79115-3f61-4438-82da-44b71a7cc5f2</td>\n",
       "      <td>annotation</td>\n",
       "      <td>None</td>\n",
       "      <td>calib2</td>\n",
       "      <td>True</td>\n",
       "      <td>POINT (6171.84000 7092.46000)</td>\n",
       "    </tr>\n",
       "    <tr>\n",
       "      <th>2</th>\n",
       "      <td>14284a89-a139-4f33-b377-1f37244eee1b</td>\n",
       "      <td>annotation</td>\n",
       "      <td>None</td>\n",
       "      <td>calib3</td>\n",
       "      <td>True</td>\n",
       "      <td>POINT (5046.31000 11523.93000)</td>\n",
       "    </tr>\n",
       "    <tr>\n",
       "      <th>3</th>\n",
       "      <td>3e2e81db-0e02-4b32-9565-ee876f1f0e73</td>\n",
       "      <td>annotation</td>\n",
       "      <td>{'name': 'Tumor', 'color': [200, 0, 0]}</td>\n",
       "      <td>None</td>\n",
       "      <td>None</td>\n",
       "      <td>POLYGON ((7493.00000 12129.00000, 7487.00000 1...</td>\n",
       "    </tr>\n",
       "    <tr>\n",
       "      <th>4</th>\n",
       "      <td>e6ac1916-2781-4fa9-98b6-e8f1b262daee</td>\n",
       "      <td>annotation</td>\n",
       "      <td>{'name': 'Tumor', 'color': [200, 0, 0]}</td>\n",
       "      <td>None</td>\n",
       "      <td>None</td>\n",
       "      <td>POLYGON ((6796.00000 12243.00000, 6790.00000 1...</td>\n",
       "    </tr>\n",
       "  </tbody>\n",
       "</table>\n",
       "</div>"
      ],
      "text/plain": [
       "                                     id  objectType  \\\n",
       "0  e7ac14bf-1f34-4531-974f-08196f93867a  annotation   \n",
       "1  1ec79115-3f61-4438-82da-44b71a7cc5f2  annotation   \n",
       "2  14284a89-a139-4f33-b377-1f37244eee1b  annotation   \n",
       "3  3e2e81db-0e02-4b32-9565-ee876f1f0e73  annotation   \n",
       "4  e6ac1916-2781-4fa9-98b6-e8f1b262daee  annotation   \n",
       "\n",
       "                            classification    name isLocked  \\\n",
       "0                                     None  calib1     True   \n",
       "1                                     None  calib2     True   \n",
       "2                                     None  calib3     True   \n",
       "3  {'name': 'Tumor', 'color': [200, 0, 0]}    None     None   \n",
       "4  {'name': 'Tumor', 'color': [200, 0, 0]}    None     None   \n",
       "\n",
       "                                            geometry  \n",
       "0                    POINT (11585.84000 14257.66000)  \n",
       "1                      POINT (6171.84000 7092.46000)  \n",
       "2                     POINT (5046.31000 11523.93000)  \n",
       "3  POLYGON ((7493.00000 12129.00000, 7487.00000 1...  \n",
       "4  POLYGON ((6796.00000 12243.00000, 6790.00000 1...  "
      ]
     },
     "execution_count": 17,
     "metadata": {},
     "output_type": "execute_result"
    }
   ],
   "source": [
    "df.head()"
   ]
  },
  {
   "cell_type": "code",
   "execution_count": 19,
   "id": "bf444f97-2d82-4f59-8118-4805073669e5",
   "metadata": {},
   "outputs": [
    {
     "data": {
      "text/plain": [
       "(6, 6)"
      ]
     },
     "execution_count": 19,
     "metadata": {},
     "output_type": "execute_result"
    }
   ],
   "source": [
    "df.shape"
   ]
  },
  {
   "cell_type": "code",
   "execution_count": 23,
   "id": "41bf422b-d16d-4297-a4be-64d173bcc391",
   "metadata": {},
   "outputs": [
    {
     "data": {
      "image/svg+xml": [
       "<svg xmlns=\"http://www.w3.org/2000/svg\" xmlns:xlink=\"http://www.w3.org/1999/xlink\" width=\"300\" height=\"300\" viewBox=\"7229.2 12098.2 492.60000000000036 831.5999999999985\" preserveAspectRatio=\"xMinYMin meet\"><g transform=\"matrix(1,0,0,-1,0,25028.0)\"><path fill-rule=\"evenodd\" fill=\"#66cc99\" stroke=\"#555555\" stroke-width=\"5.543999999999991\" opacity=\"0.6\" d=\"M 7493.0,12129.0 L 7487.0,12130.0 L 7485.0,12130.0 L 7483.57,12130.57 L 7481.0,12131.0 L 7479.0,12131.8 L 7478.0,12132.0 L 7475.0,12133.0 L 7473.0,12133.0 L 7468.0,12135.0 L 7466.0,12136.0 L 7465.0,12136.0 L 7462.86,12136.86 L 7462.0,12137.0 L 7460.0,12137.0 L 7455.0,12139.0 L 7453.0,12140.0 L 7451.0,12141.0 L 7449.86,12141.86 L 7447.0,12143.0 L 7445.67,12144.33 L 7444.0,12145.0 L 7439.0,12148.0 L 7435.8,12152.0 L 7433.77,12153.69 L 7433.0,12154.0 L 7431.0,12156.0 L 7429.0,12158.0 L 7424.0,12162.0 L 7422.0,12165.33 L 7420.0,12168.0 L 7417.0,12172.0 L 7415.88,12173.5 L 7414.0,12175.0 L 7412.5,12177.5 L 7412.0,12178.0 L 7411.6,12179.0 L 7411.0,12180.0 L 7409.0,12185.0 L 7408.0,12188.0 L 7407.0,12189.0 L 7405.0,12194.0 L 7402.0,12200.0 L 7400.0,12205.0 L 7398.0,12209.0 L 7396.0,12211.0 L 7392.0,12221.0 L 7390.38,12223.69 L 7390.0,12224.0 L 7387.0,12229.0 L 7386.33,12230.67 L 7385.0,12232.0 L 7384.33,12233.67 L 7384.0,12234.0 L 7380.0,12240.0 L 7379.0,12241.0 L 7378.5,12241.5 L 7376.0,12243.0 L 7372.0,12247.0 L 7369.71,12248.71 L 7369.0,12249.0 L 7368.0,12250.0 L 7363.0,12254.0 L 7361.5,12256.5 L 7361.0,12257.0 L 7360.6,12258.0 L 7360.0,12259.0 L 7359.33,12260.67 L 7359.0,12261.0 L 7354.0,12266.0 L 7352.85,12268.87 L 7352.0,12270.0 L 7351.0,12272.0 L 7350.6,12273.0 L 7350.0,12274.0 L 7348.0,12279.0 L 7347.0,12282.0 L 7346.88,12282.63 L 7346.5,12283.5 L 7345.0,12286.0 L 7343.0,12291.0 L 7342.0,12295.0 L 7340.0,12300.0 L 7340.0,12302.0 L 7339.0,12308.0 L 7337.0,12313.0 L 7335.0,12318.0 L 7335.0,12319.5 L 7334.0,12322.0 L 7332.0,12330.0 L 7332.0,12331.0 L 7331.63,12333.2 L 7330.15,12336.46 L 7329.0,12338.0 L 7328.0,12340.0 L 7326.0,12345.0 L 7326.0,12347.0 L 7325.8,12348.0 L 7325.0,12350.0 L 7324.0,12356.0 L 7322.0,12364.0 L 7322.0,12365.0 L 7321.0,12371.0 L 7321.0,12372.49 L 7320.91,12372.78 L 7320.0,12374.0 L 7318.0,12380.0 L 7315.14,12390.71 L 7313.0,12395.0 L 7312.0,12397.0 L 7310.0,12402.0 L 7310.0,12403.5 L 7309.0,12406.0 L 7303.0,12424.0 L 7302.8,12425.0 L 7302.0,12427.0 L 7297.0,12451.0 L 7296.0,12457.0 L 7296.09,12457.45 L 7295.57,12460.57 L 7295.0,12462.0 L 7294.0,12466.0 L 7294.0,12469.0 L 7293.36,12474.09 L 7293.0,12475.0 L 7292.0,12481.0 L 7292.0,12501.0 L 7292.0,12505.0 L 7292.0,12512.0 L 7292.0,12532.0 L 7292.0,12534.0 L 7292.0,12541.0 L 7291.0,12547.0 L 7287.0,12563.0 L 7287.0,12566.0 L 7286.0,12573.0 L 7285.5,12576.5 L 7285.0,12578.0 L 7284.0,12583.0 L 7282.63,12594.0 L 7280.0,12601.0 L 7279.4,12604.0 L 7279.0,12605.0 L 7278.0,12611.0 L 7278.0,12612.0 L 7278.0,12614.0 L 7278.47,12616.82 L 7278.0,12622.0 L 7277.4,12628.0 L 7277.0,12629.0 L 7276.0,12635.0 L 7276.0,12636.0 L 7275.0,12641.0 L 7274.57,12643.57 L 7274.0,12645.0 L 7273.0,12651.0 L 7273.0,12653.0 L 7273.0,12663.5 L 7271.0,12672.5 L 7270.0,12675.0 L 7269.0,12678.0 L 7268.8,12679.0 L 7268.0,12681.0 L 7267.0,12687.0 L 7267.0,12689.0 L 7265.0,12693.0 L 7263.0,12698.0 L 7263.0,12699.5 L 7262.0,12702.0 L 7261.0,12707.0 L 7260.0,12713.0 L 7260.0,12714.0 L 7260.0,12718.0 L 7260.0,12719.0 L 7260.0,12721.0 L 7260.0,12722.0 L 7260.0,12723.0 L 7260.0,12724.0 L 7260.0,12725.0 L 7261.0,12731.0 L 7265.0,12741.0 L 7267.0,12744.0 L 7268.5,12746.25 L 7270.0,12750.0 L 7271.2,12752.0 L 7272.0,12754.0 L 7273.0,12755.0 L 7273.43,12755.57 L 7274.0,12757.0 L 7274.6,12758.0 L 7275.0,12759.0 L 7275.5,12759.5 L 7277.0,12762.0 L 7282.0,12766.0 L 7283.0,12767.0 L 7290.0,12774.0 L 7293.33,12775.33 L 7296.0,12778.0 L 7301.0,12780.0 L 7303.85,12781.14 L 7304.2,12781.4 L 7305.0,12783.0 L 7306.71,12785.29 L 7307.0,12786.0 L 7308.0,12787.0 L 7310.4,12790.0 L 7311.0,12791.0 L 7311.56,12791.45 L 7312.0,12792.0 L 7312.78,12792.47 L 7313.0,12793.0 L 7313.6,12794.0 L 7314.0,12795.0 L 7314.5,12795.5 L 7316.0,12798.0 L 7316.3,12798.24 L 7317.0,12800.0 L 7318.0,12803.0 L 7320.0,12808.0 L 7322.0,12813.0 L 7323.0,12814.0 L 7330.0,12821.0 L 7331.0,12822.0 L 7338.85,12825.14 L 7340.0,12826.0 L 7342.0,12827.0 L 7344.0,12828.0 L 7349.0,12830.0 L 7349.5,12830.0 L 7352.0,12831.0 L 7358.0,12832.0 L 7378.0,12832.0 L 7384.0,12831.0 L 7384.71,12830.71 L 7389.0,12830.0 L 7390.6,12830.0 L 7391.0,12831.0 L 7394.0,12834.0 L 7398.0,12839.0 L 7402.0,12843.0 L 7403.8,12844.5 L 7404.0,12845.0 L 7410.0,12851.0 L 7410.5,12851.5 L 7412.0,12854.0 L 7417.0,12858.0 L 7418.0,12859.0 L 7418.71,12859.29 L 7421.0,12861.0 L 7421.33,12861.17 L 7422.0,12862.0 L 7424.73,12864.34 L 7425.0,12865.0 L 7426.0,12866.0 L 7430.0,12871.0 L 7432.5,12872.5 L 7433.0,12873.0 L 7435.0,12875.0 L 7440.0,12879.0 L 7444.0,12882.0 L 7446.0,12883.0 L 7446.45,12883.18 L 7449.0,12885.0 L 7450.0,12886.0 L 7452.01,12886.81 L 7454.0,12888.0 L 7456.39,12888.8 L 7458.0,12890.0 L 7460.0,12891.0 L 7465.0,12893.0 L 7466.0,12893.0 L 7470.0,12895.0 L 7475.0,12897.0 L 7475.5,12897.0 L 7478.0,12898.0 L 7480.0,12898.0 L 7486.0,12899.0 L 7499.0,12899.0 L 7505.0,12898.0 L 7507.0,12898.0 L 7507.71,12897.71 L 7512.0,12897.0 L 7514.0,12896.2 L 7515.0,12896.0 L 7518.0,12895.0 L 7523.0,12893.0 L 7524.0,12892.4 L 7525.0,12892.0 L 7530.0,12890.0 L 7532.0,12889.0 L 7534.67,12887.0 L 7538.0,12885.0 L 7539.33,12883.33 L 7541.0,12882.0 L 7543.0,12878.66 L 7544.18,12877.09 L 7546.0,12876.0 L 7550.0,12871.0 L 7553.0,12867.0 L 7554.0,12866.0 L 7559.19,12859.32 L 7560.0,12859.0 L 7560.5,12858.5 L 7563.0,12857.0 L 7565.12,12854.35 L 7566.0,12854.0 L 7568.14,12853.14 L 7569.0,12853.0 L 7574.0,12851.0 L 7575.0,12850.4 L 7576.0,12850.0 L 7576.5,12849.5 L 7579.0,12848.0 L 7586.0,12842.0 L 7589.0,12838.0 L 7599.0,12834.0 L 7605.0,12828.0 L 7607.0,12826.0 L 7607.4,12825.0 L 7609.0,12823.0 L 7610.0,12822.0 L 7610.29,12821.29 L 7612.0,12819.0 L 7613.0,12818.0 L 7613.29,12817.29 L 7615.0,12815.0 L 7618.0,12809.0 L 7621.0,12805.0 L 7623.57,12801.57 L 7625.0,12801.0 L 7626.0,12800.4 L 7627.0,12800.0 L 7627.5,12799.5 L 7630.0,12798.0 L 7632.0,12795.5 L 7632.67,12795.0 L 7636.0,12793.0 L 7637.33,12791.33 L 7639.0,12790.0 L 7641.0,12786.67 L 7643.0,12784.0 L 7644.0,12782.0 L 7645.0,12781.0 L 7645.29,12780.29 L 7647.0,12778.0 L 7648.0,12776.0 L 7649.0,12775.0 L 7653.0,12765.0 L 7654.0,12759.0 L 7654.0,12758.0 L 7654.0,12757.0 L 7654.0,12756.0 L 7653.77,12754.59 L 7654.0,12754.0 L 7655.0,12748.0 L 7655.0,12743.0 L 7655.0,12740.0 L 7655.0,12738.0 L 7654.0,12732.0 L 7653.6,12730.99 L 7653.56,12730.63 L 7654.0,12728.0 L 7654.0,12726.0 L 7654.0,12723.0 L 7654.0,12721.0 L 7654.0,12713.0 L 7654.0,12708.0 L 7654.0,12706.0 L 7654.0,12700.5 L 7655.0,12698.0 L 7655.0,12694.0 L 7655.64,12688.91 L 7656.0,12688.0 L 7657.0,12683.0 L 7658.0,12677.0 L 7658.0,12673.0 L 7657.88,12672.3 L 7658.0,12672.0 L 7659.0,12666.0 L 7659.0,12643.5 L 7660.0,12639.0 L 7660.2,12638.0 L 7661.0,12636.0 L 7663.0,12626.0 L 7664.0,12620.0 L 7663.9,12619.41 L 7668.0,12594.0 L 7669.0,12588.0 L 7670.0,12585.0 L 7670.2,12584.0 L 7671.0,12582.0 L 7672.0,12577.0 L 7675.75,12560.13 L 7677.0,12557.0 L 7677.82,12553.73 L 7686.0,12531.0 L 7686.33,12529.0 L 7687.0,12527.0 L 7688.0,12524.0 L 7688.2,12523.0 L 7689.0,12521.0 L 7690.0,12515.0 L 7690.0,12514.0 L 7691.0,12494.0 L 7690.91,12493.55 L 7691.0,12493.0 L 7691.0,12487.0 L 7691.0,12481.0 L 7691.0,12479.0 L 7690.0,12473.0 L 7689.62,12472.05 L 7689.42,12469.47 L 7690.0,12466.0 L 7690.0,12461.0 L 7690.0,12457.0 L 7689.0,12451.0 L 7688.88,12450.71 L 7689.0,12450.0 L 7688.0,12444.0 L 7686.0,12434.0 L 7686.0,12429.0 L 7686.0,12424.0 L 7686.0,12420.0 L 7686.0,12413.0 L 7685.0,12407.0 L 7684.43,12405.57 L 7684.0,12403.0 L 7684.0,12401.0 L 7683.0,12398.5 L 7683.0,12395.0 L 7682.91,12394.45 L 7683.0,12394.0 L 7682.0,12388.0 L 7682.0,12385.0 L 7681.0,12379.0 L 7680.67,12378.17 L 7679.96,12374.26 L 7680.0,12374.0 L 7680.0,12371.0 L 7679.0,12365.0 L 7678.2,12363.0 L 7678.0,12362.0 L 7678.0,12360.0 L 7676.43,12356.09 L 7676.4,12355.6 L 7677.0,12352.0 L 7677.0,12350.0 L 7677.0,12345.0 L 7676.62,12342.72 L 7677.23,12337.54 L 7678.0,12336.0 L 7680.0,12331.0 L 7680.0,12329.0 L 7681.0,12323.0 L 7681.0,12322.0 L 7681.0,12318.0 L 7680.0,12312.0 L 7680.0,12310.0 L 7678.0,12305.0 L 7677.0,12303.0 L 7676.36,12302.14 L 7676.0,12300.0 L 7672.0,12290.0 L 7670.0,12288.0 L 7668.0,12286.0 L 7666.0,12283.33 L 7664.0,12280.0 L 7658.0,12273.0 L 7654.0,12270.0 L 7638.19,12256.82 L 7637.31,12255.77 L 7637.0,12255.0 L 7635.0,12253.0 L 7632.0,12250.0 L 7631.0,12249.0 L 7630.5,12248.5 L 7629.0,12246.0 L 7625.0,12243.0 L 7624.0,12242.0 L 7623.09,12241.64 L 7621.5,12240.5 L 7620.0,12238.0 L 7616.24,12235.0 L 7616.11,12234.78 L 7615.0,12232.0 L 7613.5,12230.5 L 7612.0,12228.0 L 7611.14,12227.36 L 7611.0,12227.0 L 7609.67,12225.67 L 7609.0,12224.0 L 7608.67,12223.67 L 7608.0,12222.0 L 7606.67,12220.67 L 7606.0,12219.0 L 7605.0,12217.0 L 7603.5,12215.0 L 7603.0,12214.0 L 7602.0,12212.0 L 7600.29,12209.71 L 7600.0,12209.0 L 7599.0,12208.0 L 7595.8,12204.0 L 7593.0,12197.0 L 7591.4,12195.4 L 7591.0,12194.5 L 7591.0,12193.0 L 7589.0,12188.0 L 7588.0,12186.0 L 7586.29,12183.71 L 7586.0,12183.0 L 7585.0,12182.0 L 7581.0,12177.0 L 7579.67,12176.2 L 7579.31,12175.77 L 7579.0,12175.0 L 7577.0,12173.0 L 7575.0,12171.0 L 7573.4,12169.0 L 7571.0,12165.0 L 7566.0,12161.0 L 7562.0,12158.0 L 7561.33,12157.67 L 7560.0,12156.0 L 7557.5,12154.5 L 7557.0,12154.0 L 7556.0,12153.6 L 7555.0,12153.0 L 7551.67,12151.67 L 7551.0,12151.0 L 7547.0,12147.0 L 7544.0,12144.0 L 7541.0,12142.8 L 7540.5,12142.5 L 7538.0,12140.0 L 7535.0,12137.0 L 7530.0,12135.0 L 7529.0,12134.0 L 7519.0,12130.0 L 7513.0,12129.0 L 7493.0,12129.0 z\" /></g></svg>"
      ],
      "text/plain": [
       "<POLYGON ((7493 12129, 7487 12130, 7485 12130, 7483.57 12130.57, 7481 12131,...>"
      ]
     },
     "execution_count": 23,
     "metadata": {},
     "output_type": "execute_result"
    }
   ],
   "source": [
    "df.geometry[3]"
   ]
  },
  {
   "cell_type": "code",
   "execution_count": 26,
   "id": "e39c29d1-7f41-41c8-862f-063a6468ebba",
   "metadata": {},
   "outputs": [
    {
     "data": {
      "text/plain": [
       "'POINT (11585.84 14257.66)'"
      ]
     },
     "execution_count": 26,
     "metadata": {},
     "output_type": "execute_result"
    }
   ],
   "source": [
    "str(df.geometry[0])"
   ]
  },
  {
   "cell_type": "markdown",
   "id": "ef95a0ff-189a-44cf-baa7-9c2294c6c7fa",
   "metadata": {
    "jp-MarkdownHeadingCollapsed": true,
    "tags": []
   },
   "source": [
    "# Dirty: recursively get calibration points from json"
   ]
  },
  {
   "cell_type": "code",
   "execution_count": null,
   "id": "22ed3fe0-69bc-44e5-8fb6-455d4dc3f89a",
   "metadata": {},
   "outputs": [],
   "source": [
    "#help1\n",
    "import numpy as np\n",
    "from shapely.geometry import Point\n",
    "mypoints = [Point(1, 2), Point(1.123, 2.234), Point(2.234, 4.32432)]\n",
    "\n",
    "listarray = []\n",
    "for pp in mypoints:\n",
    "    listarray.append([pp.x, pp.y])\n",
    "nparray = np.array(listarray)\n",
    "\n",
    "print mypoints\n",
    "print nparray\n",
    "\n",
    "#help2\n",
    "fruits = [\"apple\", \"banana\", \"cherry\", \"kiwi\", \"mango\"]\n",
    "newlist = [x for x in fruits if \"a\" in x]\n",
    "print(newlist)\n",
    "\n",
    "#help3\n",
    "df.loc[df['column_name'] == some_value]\n",
    "\n",
    "#help4\n",
    "df2=df.loc[df['Fee'] == 30000, 'Courses']\n",
    "\n",
    "#help5\n",
    "[x.upper() for x in df[\"TOP10\"]]"
   ]
  },
  {
   "cell_type": "code",
   "execution_count": 67,
   "id": "f5eca20f-9d11-4ede-917e-de4a59075e95",
   "metadata": {},
   "outputs": [],
   "source": [
    "pointlist = [x for x in df.geometry[:3]] "
   ]
  },
  {
   "cell_type": "code",
   "execution_count": 68,
   "id": "89d9e9c2-3432-4811-bf45-89860aee4736",
   "metadata": {},
   "outputs": [
    {
     "data": {
      "text/plain": [
       "[<POINT (11585.84 14257.66)>,\n",
       " <POINT (6171.84 7092.46)>,\n",
       " <POINT (5046.31 11523.93)>]"
      ]
     },
     "execution_count": 68,
     "metadata": {},
     "output_type": "execute_result"
    }
   ],
   "source": [
    "pointlist"
   ]
  },
  {
   "cell_type": "code",
   "execution_count": 69,
   "id": "378a8447-6140-4447-929a-ead05de28784",
   "metadata": {},
   "outputs": [
    {
     "name": "stdout",
     "output_type": "stream",
     "text": [
      "POINT (11585.84 14257.66)\n",
      "POINT (6171.84 7092.46)\n",
      "POINT (5046.31 11523.93)\n"
     ]
    }
   ],
   "source": [
    "listarray = []\n",
    "for point in pointlist:\n",
    "    print(point)\n",
    "    listarray.append([point.x, point.y])\n",
    "nparray = np.array(listarray)"
   ]
  },
  {
   "cell_type": "code",
   "execution_count": 30,
   "id": "a2312e15-9b72-47c4-ab9d-af603fc8808a",
   "metadata": {},
   "outputs": [
    {
     "data": {
      "text/plain": [
       "array([[11585.84, 14257.66],\n",
       "       [ 6171.84,  7092.46],\n",
       "       [ 5046.31, 11523.93]])"
      ]
     },
     "execution_count": 30,
     "metadata": {},
     "output_type": "execute_result"
    }
   ],
   "source": [
    "nparray"
   ]
  },
  {
   "cell_type": "code",
   "execution_count": 72,
   "id": "117037ca-4832-4117-979d-aa81002a3fb1",
   "metadata": {},
   "outputs": [
    {
     "name": "stdout",
     "output_type": "stream",
     "text": [
      "POINT (6171.84 7092.46)\n"
     ]
    }
   ],
   "source": [
    "print(df.geometry[1])"
   ]
  },
  {
   "cell_type": "code",
   "execution_count": 73,
   "id": "d17a152b-355b-42c0-ad5c-ee14ccf1a853",
   "metadata": {},
   "outputs": [
    {
     "data": {
      "text/html": [
       "<div>\n",
       "<style scoped>\n",
       "    .dataframe tbody tr th:only-of-type {\n",
       "        vertical-align: middle;\n",
       "    }\n",
       "\n",
       "    .dataframe tbody tr th {\n",
       "        vertical-align: top;\n",
       "    }\n",
       "\n",
       "    .dataframe thead th {\n",
       "        text-align: right;\n",
       "    }\n",
       "</style>\n",
       "<table border=\"1\" class=\"dataframe\">\n",
       "  <thead>\n",
       "    <tr style=\"text-align: right;\">\n",
       "      <th></th>\n",
       "      <th>geometry</th>\n",
       "    </tr>\n",
       "  </thead>\n",
       "  <tbody>\n",
       "    <tr>\n",
       "      <th>0</th>\n",
       "      <td>POINT (11585.84000 14257.66000)</td>\n",
       "    </tr>\n",
       "  </tbody>\n",
       "</table>\n",
       "</div>"
      ],
      "text/plain": [
       "                          geometry\n",
       "0  POINT (11585.84000 14257.66000)"
      ]
     },
     "execution_count": 73,
     "metadata": {},
     "output_type": "execute_result"
    }
   ],
   "source": [
    "df.loc[df['name'] == 'calib1', ['geometry']]"
   ]
  },
  {
   "cell_type": "code",
   "execution_count": 81,
   "id": "407d56cc-fc4e-4709-bbc4-c6a8f1264228",
   "metadata": {},
   "outputs": [
    {
     "data": {
      "text/plain": [
       "0    POINT (11585.84000 14257.66000)\n",
       "Name: geometry, dtype: geometry"
      ]
     },
     "execution_count": 81,
     "metadata": {},
     "output_type": "execute_result"
    }
   ],
   "source": [
    "df.loc[df['name'] == 'calib1', 'geometry']"
   ]
  },
  {
   "cell_type": "code",
   "execution_count": 79,
   "id": "2fa90a44-753b-49b5-9260-b895d80c2b95",
   "metadata": {},
   "outputs": [
    {
     "data": {
      "image/svg+xml": [
       "<svg xmlns=\"http://www.w3.org/2000/svg\" xmlns:xlink=\"http://www.w3.org/1999/xlink\" width=\"100.0\" height=\"100.0\" viewBox=\"11584.84 14256.66 2.0 2.0\" preserveAspectRatio=\"xMinYMin meet\"><g transform=\"matrix(1,0,0,-1,0,28515.32)\"><circle cx=\"11585.84\" cy=\"14257.66\" r=\"0.06\" stroke=\"#555555\" stroke-width=\"0.02\" fill=\"#66cc99\" opacity=\"0.6\" /></g></svg>"
      ],
      "text/plain": [
       "<POINT (11585.84 14257.66)>"
      ]
     },
     "execution_count": 79,
     "metadata": {},
     "output_type": "execute_result"
    }
   ],
   "source": [
    "df.loc[df['name'] == 'calib1', 'geometry'].values[0]"
   ]
  },
  {
   "cell_type": "code",
   "execution_count": 80,
   "id": "13c96a55-38bb-4acc-894f-ab980db71ca8",
   "metadata": {},
   "outputs": [
    {
     "name": "stdout",
     "output_type": "stream",
     "text": [
      "POINT (11585.84 14257.66)\n"
     ]
    }
   ],
   "source": [
    "print(df.loc[df['name'] == 'calib1', 'geometry'].values[0])"
   ]
  },
  {
   "cell_type": "code",
   "execution_count": null,
   "id": "ce95c08d-db44-4558-b078-bef35552cc1c",
   "metadata": {},
   "outputs": [
    {
     "data": {
      "text/plain": [
       "array([<POINT (11585.84 14257.66)>], dtype=object)"
      ]
     },
     "execution_count": 78,
     "metadata": {},
     "output_type": "execute_result"
    }
   ],
   "source": [
    "df.loc[df['name'] == 'calib1', ['geometry']].values[0]"
   ]
  },
  {
   "cell_type": "code",
   "execution_count": null,
   "id": "882e532d-4b84-4099-8587-b4f9903f1994",
   "metadata": {},
   "outputs": [
    {
     "data": {
      "text/plain": [
       "array([<POINT (11585.84 14257.66)>], dtype=object)"
      ]
     },
     "execution_count": 78,
     "metadata": {},
     "output_type": "execute_result"
    }
   ],
   "source": [
    "df.loc[df['name'] == 'calib1', ['geometry']].values[0]"
   ]
  },
  {
   "cell_type": "code",
   "execution_count": 84,
   "id": "4a12666b-0880-43a3-b79e-f3b21a57c78a",
   "metadata": {},
   "outputs": [],
   "source": [
    "# this function creates a list that will be passed to lmdpy\n",
    "# it should only contain the required point coordenated from the geopandas dataframe\n",
    "# the order of the points is defined by the order passed into the list of names\n",
    "\n",
    "def get_calib_points(list_of_calibpoint_names, df):\n",
    "    \n",
    "    #create shape list\n",
    "    pointlist = []\n",
    "    for point_name in list_of_calibpoint_names:\n",
    "        pointlist.append(df.loc[df['name'] == point_name, 'geometry'].values[0])\n",
    "        \n",
    "    #create coordenate list\n",
    "    listarray = []\n",
    "    for point in pointlist:\n",
    "        listarray.append([point.x, point.y])\n",
    "    nparray = np.array(listarray)\n",
    "        \n",
    "    return(nparray)"
   ]
  },
  {
   "cell_type": "code",
   "execution_count": 86,
   "id": "4f0cefc3-1edb-4f4a-b47d-d4627cea97a6",
   "metadata": {},
   "outputs": [
    {
     "data": {
      "text/plain": [
       "array([[11585.84, 14257.66]])"
      ]
     },
     "execution_count": 86,
     "metadata": {},
     "output_type": "execute_result"
    }
   ],
   "source": [
    "thelist = get_calib_points(['calib1'],df)\n",
    "thelist"
   ]
  },
  {
   "cell_type": "code",
   "execution_count": 87,
   "id": "b85cad9e-e2ab-4e79-8609-5636c814c253",
   "metadata": {},
   "outputs": [
    {
     "data": {
      "text/plain": [
       "array([[ 6171.84,  7092.46],\n",
       "       [ 5046.31, 11523.93]])"
      ]
     },
     "execution_count": 87,
     "metadata": {},
     "output_type": "execute_result"
    }
   ],
   "source": [
    "thelist = get_calib_points(['calib2','calib3'],df)\n",
    "thelist"
   ]
  },
  {
   "cell_type": "code",
   "execution_count": 88,
   "id": "9250aed9-f7cc-4984-9ffa-473b4b6a42ca",
   "metadata": {},
   "outputs": [
    {
     "data": {
      "text/plain": [
       "array([[ 6171.84,  7092.46],\n",
       "       [11585.84, 14257.66]])"
      ]
     },
     "execution_count": 88,
     "metadata": {},
     "output_type": "execute_result"
    }
   ],
   "source": [
    "thelist = get_calib_points(['calib2','calib1'],df)\n",
    "thelist"
   ]
  },
  {
   "cell_type": "code",
   "execution_count": null,
   "id": "475ea334-0033-4e98-bf66-e0e20a88efd1",
   "metadata": {},
   "outputs": [],
   "source": []
  },
  {
   "cell_type": "code",
   "execution_count": 53,
   "id": "842920c5-217c-4504-b3c5-31b627933305",
   "metadata": {},
   "outputs": [],
   "source": [
    "# this function creates a list that will be passed to lmdpy\n",
    "# it should only contain the required point coordenated from the geopandas dataframe\n",
    "# the order of the points is defined by the order passed into the list of names\n",
    "\n",
    "def get_calib_points2(list_of_calibpoints_names, geopandas_dataframe):\n",
    "    \n",
    "    #create shape list\n",
    "    pointlist = []\n",
    "    for point_name in list_of_calibpoints_names:\n",
    "        print(point_name)\n",
    "        pointlist.append(df.loc[df['name'] == point_name, 'geometry'])\n",
    "        print(pointlist)\n",
    "        \n",
    "    #create coordenate list\n",
    "    listarray = []\n",
    "    for point in pointlist:\n",
    "        print(point)\n",
    "        listarray.append(np.array([point.x, point.y]))\n",
    "        print(listarray)\n",
    "        \n"
   ]
  },
  {
   "cell_type": "code",
   "execution_count": 52,
   "id": "6e2d4d88-8219-4b07-abf0-1a1da6952a80",
   "metadata": {},
   "outputs": [
    {
     "name": "stdout",
     "output_type": "stream",
     "text": [
      "calib1\n",
      "[0    POINT (11585.84000 14257.66000)\n",
      "Name: geometry, dtype: geometry]\n",
      "calib3\n",
      "[0    POINT (11585.84000 14257.66000)\n",
      "Name: geometry, dtype: geometry, 2    POINT (5046.31000 11523.93000)\n",
      "Name: geometry, dtype: geometry]\n",
      "0    POINT (11585.84000 14257.66000)\n",
      "Name: geometry, dtype: geometry\n",
      "[[0    11585.84\n",
      "dtype: float64, 0    14257.66\n",
      "dtype: float64]]\n",
      "2    POINT (5046.31000 11523.93000)\n",
      "Name: geometry, dtype: geometry\n",
      "[[0    11585.84\n",
      "dtype: float64, 0    14257.66\n",
      "dtype: float64], [2    5046.31\n",
      "dtype: float64, 2    11523.93\n",
      "dtype: float64]]\n",
      "[[[11585.84]\n",
      "  [14257.66]]\n",
      "\n",
      " [[ 5046.31]\n",
      "  [11523.93]]]\n"
     ]
    }
   ],
   "source": [
    "calib_coords = get_calib_points(['calib1','calib3'],df)\n",
    "calib_coords"
   ]
  },
  {
   "cell_type": "code",
   "execution_count": 54,
   "id": "b5acbfbe-82fb-40fa-bcba-96a34f58a630",
   "metadata": {},
   "outputs": [
    {
     "name": "stdout",
     "output_type": "stream",
     "text": [
      "calib1\n",
      "[0    POINT (11585.84000 14257.66000)\n",
      "Name: geometry, dtype: geometry]\n",
      "calib3\n",
      "[0    POINT (11585.84000 14257.66000)\n",
      "Name: geometry, dtype: geometry, 2    POINT (5046.31000 11523.93000)\n",
      "Name: geometry, dtype: geometry]\n",
      "0    POINT (11585.84000 14257.66000)\n",
      "Name: geometry, dtype: geometry\n",
      "[array([[11585.84],\n",
      "       [14257.66]])]\n",
      "2    POINT (5046.31000 11523.93000)\n",
      "Name: geometry, dtype: geometry\n",
      "[array([[11585.84],\n",
      "       [14257.66]]), array([[ 5046.31],\n",
      "       [11523.93]])]\n"
     ]
    }
   ],
   "source": [
    "calib_coords = get_calib_points2(['calib1','calib3'],df)"
   ]
  },
  {
   "cell_type": "code",
   "execution_count": 37,
   "id": "059d1ad8-9dad-4436-a97f-2a527fd58c14",
   "metadata": {},
   "outputs": [
    {
     "data": {
      "text/html": [
       "<div>\n",
       "<style scoped>\n",
       "    .dataframe tbody tr th:only-of-type {\n",
       "        vertical-align: middle;\n",
       "    }\n",
       "\n",
       "    .dataframe tbody tr th {\n",
       "        vertical-align: top;\n",
       "    }\n",
       "\n",
       "    .dataframe thead th {\n",
       "        text-align: right;\n",
       "    }\n",
       "</style>\n",
       "<table border=\"1\" class=\"dataframe\">\n",
       "  <thead>\n",
       "    <tr style=\"text-align: right;\">\n",
       "      <th></th>\n",
       "      <th>id</th>\n",
       "      <th>objectType</th>\n",
       "      <th>classification</th>\n",
       "      <th>name</th>\n",
       "      <th>isLocked</th>\n",
       "      <th>geometry</th>\n",
       "    </tr>\n",
       "  </thead>\n",
       "  <tbody>\n",
       "    <tr>\n",
       "      <th>0</th>\n",
       "      <td>e7ac14bf-1f34-4531-974f-08196f93867a</td>\n",
       "      <td>annotation</td>\n",
       "      <td>None</td>\n",
       "      <td>calib1</td>\n",
       "      <td>True</td>\n",
       "      <td>POINT (11585.84000 14257.66000)</td>\n",
       "    </tr>\n",
       "    <tr>\n",
       "      <th>1</th>\n",
       "      <td>1ec79115-3f61-4438-82da-44b71a7cc5f2</td>\n",
       "      <td>annotation</td>\n",
       "      <td>None</td>\n",
       "      <td>calib2</td>\n",
       "      <td>True</td>\n",
       "      <td>POINT (6171.84000 7092.46000)</td>\n",
       "    </tr>\n",
       "    <tr>\n",
       "      <th>2</th>\n",
       "      <td>14284a89-a139-4f33-b377-1f37244eee1b</td>\n",
       "      <td>annotation</td>\n",
       "      <td>None</td>\n",
       "      <td>calib3</td>\n",
       "      <td>True</td>\n",
       "      <td>POINT (5046.31000 11523.93000)</td>\n",
       "    </tr>\n",
       "  </tbody>\n",
       "</table>\n",
       "</div>"
      ],
      "text/plain": [
       "                                     id  objectType classification    name  \\\n",
       "0  e7ac14bf-1f34-4531-974f-08196f93867a  annotation           None  calib1   \n",
       "1  1ec79115-3f61-4438-82da-44b71a7cc5f2  annotation           None  calib2   \n",
       "2  14284a89-a139-4f33-b377-1f37244eee1b  annotation           None  calib3   \n",
       "\n",
       "  isLocked                         geometry  \n",
       "0     True  POINT (11585.84000 14257.66000)  \n",
       "1     True    POINT (6171.84000 7092.46000)  \n",
       "2     True   POINT (5046.31000 11523.93000)  "
      ]
     },
     "execution_count": 37,
     "metadata": {},
     "output_type": "execute_result"
    }
   ],
   "source": [
    "df.head(3)"
   ]
  },
  {
   "cell_type": "code",
   "execution_count": 62,
   "id": "6d3e80f9-923b-41bb-8fb8-81114e601698",
   "metadata": {},
   "outputs": [],
   "source": [
    "# this function creates a list that will be passed to lmdpy\n",
    "# it should only contain the required point coordenated from the geopandas dataframe\n",
    "# the order of the points is defined by the order passed into the list of names\n",
    "\n",
    "def get_calib_points3(list_of_calibpoints_names, geopandas_dataframe):\n",
    "    \n",
    "    pointlist= [geopandas_dataframe.loc[geopandas_dataframe['name'] == point_name, 'geometry'] for point_name in list_of_calibpoints_names]\n",
    "    \n",
    "    listarray = []\n",
    "    for point in pointlist:\n",
    "        print(point)\n",
    "        listarray.append([point.x, point.y])\n",
    "    nparray = np.array(listarray)\n",
    "    return nparray   \n"
   ]
  },
  {
   "cell_type": "code",
   "execution_count": 64,
   "id": "94debcbd-6c5b-4da1-905e-14860c4db84d",
   "metadata": {},
   "outputs": [
    {
     "name": "stdout",
     "output_type": "stream",
     "text": [
      "0    POINT (11585.84000 14257.66000)\n",
      "Name: geometry, dtype: geometry\n",
      "2    POINT (5046.31000 11523.93000)\n",
      "Name: geometry, dtype: geometry\n"
     ]
    },
    {
     "data": {
      "text/plain": [
       "array([[[11585.84],\n",
       "        [14257.66]],\n",
       "\n",
       "       [[ 5046.31],\n",
       "        [11523.93]]])"
      ]
     },
     "execution_count": 64,
     "metadata": {},
     "output_type": "execute_result"
    }
   ],
   "source": [
    "get_calib_points3(['calib1','calib3'],df)"
   ]
  },
  {
   "attachments": {
    "2b82569c-ef91-4998-9882-a81ec8450b0a.png": {
     "image/png": "[encoded data removed]"
    },
    "bce495b3-057d-4dc3-a472-f041ebe3dce7.png": {
     "image/png": "[encoded data removed]"
    }
   },
   "cell_type": "markdown",
   "id": "29168a1b-073a-4c6d-b8f2-052ca0c6105d",
   "metadata": {},
   "source": [
    "![image.png](attachment:2b82569c-ef91-4998-9882-a81ec8450b0a.png)![image.png](attachment:bce495b3-057d-4dc3-a472-f041ebe3dce7.png)"
   ]
  },
  {
   "cell_type": "markdown",
   "id": "3cf77a8b-e832-44f8-bc45-41d0573152a2",
   "metadata": {
    "jp-MarkdownHeadingCollapsed": true,
    "tags": []
   },
   "source": [
    "# Clean: Getting calibration points list, from geoJSON"
   ]
  },
  {
   "cell_type": "code",
   "execution_count": null,
   "id": "90c8d006-ec72-4c70-9e73-29c480e34fc5",
   "metadata": {},
   "outputs": [],
   "source": [
    "\n",
    "# expects numpy imported as np \n",
    "# this function creates a list that will be passed to lmdpy\n",
    "# it should only contain the required point coordenated from the geopandas dataframe\n",
    "# the order of the points is defined by the order passed into the list of names\n",
    "\n",
    "def get_calib_points(list_of_calibpoint_names, df):\n",
    "    \n",
    "    #create shape list\n",
    "    pointlist = []\n",
    "    for point_name in list_of_calibpoint_names:\n",
    "        pointlist.append(df.loc[df['name'] == point_name, 'geometry'].values[0])\n",
    "        \n",
    "    #create coordenate list\n",
    "    listarray = []\n",
    "    for point in pointlist:\n",
    "        listarray.append([point.x, point.y])\n",
    "    nparray = np.array(listarray)\n",
    "        \n",
    "    return(nparray)"
   ]
  },
  {
   "cell_type": "markdown",
   "id": "230d3c96-3593-4a7e-a33b-74970cd93fde",
   "metadata": {
    "jp-MarkdownHeadingCollapsed": true,
    "tags": []
   },
   "source": [
    "### Tests"
   ]
  },
  {
   "cell_type": "code",
   "execution_count": 94,
   "id": "d3956613-12da-4235-8d11-6f2ea84f2e18",
   "metadata": {},
   "outputs": [
    {
     "data": {
      "text/html": [
       "<div>\n",
       "<style scoped>\n",
       "    .dataframe tbody tr th:only-of-type {\n",
       "        vertical-align: middle;\n",
       "    }\n",
       "\n",
       "    .dataframe tbody tr th {\n",
       "        vertical-align: top;\n",
       "    }\n",
       "\n",
       "    .dataframe thead th {\n",
       "        text-align: right;\n",
       "    }\n",
       "</style>\n",
       "<table border=\"1\" class=\"dataframe\">\n",
       "  <thead>\n",
       "    <tr style=\"text-align: right;\">\n",
       "      <th></th>\n",
       "      <th>id</th>\n",
       "      <th>objectType</th>\n",
       "      <th>classification</th>\n",
       "      <th>name</th>\n",
       "      <th>isLocked</th>\n",
       "      <th>geometry</th>\n",
       "    </tr>\n",
       "  </thead>\n",
       "  <tbody>\n",
       "    <tr>\n",
       "      <th>0</th>\n",
       "      <td>e7ac14bf-1f34-4531-974f-08196f93867a</td>\n",
       "      <td>annotation</td>\n",
       "      <td>None</td>\n",
       "      <td>calib1</td>\n",
       "      <td>True</td>\n",
       "      <td>POINT (11585.84000 14257.66000)</td>\n",
       "    </tr>\n",
       "    <tr>\n",
       "      <th>1</th>\n",
       "      <td>1ec79115-3f61-4438-82da-44b71a7cc5f2</td>\n",
       "      <td>annotation</td>\n",
       "      <td>None</td>\n",
       "      <td>calib2</td>\n",
       "      <td>True</td>\n",
       "      <td>POINT (6171.84000 7092.46000)</td>\n",
       "    </tr>\n",
       "    <tr>\n",
       "      <th>2</th>\n",
       "      <td>14284a89-a139-4f33-b377-1f37244eee1b</td>\n",
       "      <td>annotation</td>\n",
       "      <td>None</td>\n",
       "      <td>calib3</td>\n",
       "      <td>True</td>\n",
       "      <td>POINT (5046.31000 11523.93000)</td>\n",
       "    </tr>\n",
       "  </tbody>\n",
       "</table>\n",
       "</div>"
      ],
      "text/plain": [
       "                                     id  objectType classification    name  \\\n",
       "0  e7ac14bf-1f34-4531-974f-08196f93867a  annotation           None  calib1   \n",
       "1  1ec79115-3f61-4438-82da-44b71a7cc5f2  annotation           None  calib2   \n",
       "2  14284a89-a139-4f33-b377-1f37244eee1b  annotation           None  calib3   \n",
       "\n",
       "  isLocked                         geometry  \n",
       "0     True  POINT (11585.84000 14257.66000)  \n",
       "1     True    POINT (6171.84000 7092.46000)  \n",
       "2     True   POINT (5046.31000 11523.93000)  "
      ]
     },
     "execution_count": 94,
     "metadata": {},
     "output_type": "execute_result"
    }
   ],
   "source": [
    "df[:3]"
   ]
  },
  {
   "cell_type": "code",
   "execution_count": 95,
   "id": "2484ae56-b637-4770-9701-068e8de94a19",
   "metadata": {},
   "outputs": [
    {
     "data": {
      "text/plain": [
       "array([[11585.84, 14257.66]])"
      ]
     },
     "execution_count": 95,
     "metadata": {},
     "output_type": "execute_result"
    }
   ],
   "source": [
    "#prints one calib point\n",
    "thelist = get_calib_points(['calib1'],df)\n",
    "thelist"
   ]
  },
  {
   "cell_type": "code",
   "execution_count": 96,
   "id": "36816d1f-cdd0-4bb1-8aab-e4d77c8b9027",
   "metadata": {},
   "outputs": [
    {
     "data": {
      "text/plain": [
       "array([[ 6171.84,  7092.46],\n",
       "       [ 5046.31, 11523.93]])"
      ]
     },
     "execution_count": 96,
     "metadata": {},
     "output_type": "execute_result"
    }
   ],
   "source": [
    "#prints a list of calib points\n",
    "thelist = get_calib_points(['calib2','calib3'],df)\n",
    "thelist"
   ]
  },
  {
   "cell_type": "code",
   "execution_count": 97,
   "id": "db83caeb-236c-460d-89e2-4df39708f5b9",
   "metadata": {},
   "outputs": [
    {
     "data": {
      "text/plain": [
       "array([[ 6171.84,  7092.46],\n",
       "       [11585.84, 14257.66]])"
      ]
     },
     "execution_count": 97,
     "metadata": {},
     "output_type": "execute_result"
    }
   ],
   "source": [
    "#follows order as in the input list\n",
    "thelist = get_calib_points(['calib2','calib1'],df)\n",
    "thelist"
   ]
  },
  {
   "cell_type": "markdown",
   "id": "03a857f1-057a-4355-aeaa-b22e66c29083",
   "metadata": {
    "jp-MarkdownHeadingCollapsed": true,
    "tags": []
   },
   "source": [
    "# Dirty: Obtaining polygon coordenates for lmdpy "
   ]
  },
  {
   "cell_type": "markdown",
   "id": "551296b3-366f-4e25-be9e-6ee6517eb96d",
   "metadata": {
    "jp-MarkdownHeadingCollapsed": true,
    "tags": []
   },
   "source": [
    "## Create dataframe just polygons"
   ]
  },
  {
   "cell_type": "code",
   "execution_count": 98,
   "id": "7c28ea2b-fbe5-4fc7-923c-bd3f3a55dbf4",
   "metadata": {},
   "outputs": [
    {
     "data": {
      "text/html": [
       "<div>\n",
       "<style scoped>\n",
       "    .dataframe tbody tr th:only-of-type {\n",
       "        vertical-align: middle;\n",
       "    }\n",
       "\n",
       "    .dataframe tbody tr th {\n",
       "        vertical-align: top;\n",
       "    }\n",
       "\n",
       "    .dataframe thead th {\n",
       "        text-align: right;\n",
       "    }\n",
       "</style>\n",
       "<table border=\"1\" class=\"dataframe\">\n",
       "  <thead>\n",
       "    <tr style=\"text-align: right;\">\n",
       "      <th></th>\n",
       "      <th>id</th>\n",
       "      <th>objectType</th>\n",
       "      <th>classification</th>\n",
       "      <th>name</th>\n",
       "      <th>isLocked</th>\n",
       "      <th>geometry</th>\n",
       "    </tr>\n",
       "  </thead>\n",
       "  <tbody>\n",
       "    <tr>\n",
       "      <th>0</th>\n",
       "      <td>e7ac14bf-1f34-4531-974f-08196f93867a</td>\n",
       "      <td>annotation</td>\n",
       "      <td>None</td>\n",
       "      <td>calib1</td>\n",
       "      <td>True</td>\n",
       "      <td>POINT (11585.84000 14257.66000)</td>\n",
       "    </tr>\n",
       "    <tr>\n",
       "      <th>1</th>\n",
       "      <td>1ec79115-3f61-4438-82da-44b71a7cc5f2</td>\n",
       "      <td>annotation</td>\n",
       "      <td>None</td>\n",
       "      <td>calib2</td>\n",
       "      <td>True</td>\n",
       "      <td>POINT (6171.84000 7092.46000)</td>\n",
       "    </tr>\n",
       "    <tr>\n",
       "      <th>2</th>\n",
       "      <td>14284a89-a139-4f33-b377-1f37244eee1b</td>\n",
       "      <td>annotation</td>\n",
       "      <td>None</td>\n",
       "      <td>calib3</td>\n",
       "      <td>True</td>\n",
       "      <td>POINT (5046.31000 11523.93000)</td>\n",
       "    </tr>\n",
       "    <tr>\n",
       "      <th>3</th>\n",
       "      <td>3e2e81db-0e02-4b32-9565-ee876f1f0e73</td>\n",
       "      <td>annotation</td>\n",
       "      <td>{'name': 'Tumor', 'color': [200, 0, 0]}</td>\n",
       "      <td>None</td>\n",
       "      <td>None</td>\n",
       "      <td>POLYGON ((7493.00000 12129.00000, 7487.00000 1...</td>\n",
       "    </tr>\n",
       "    <tr>\n",
       "      <th>4</th>\n",
       "      <td>e6ac1916-2781-4fa9-98b6-e8f1b262daee</td>\n",
       "      <td>annotation</td>\n",
       "      <td>{'name': 'Tumor', 'color': [200, 0, 0]}</td>\n",
       "      <td>None</td>\n",
       "      <td>None</td>\n",
       "      <td>POLYGON ((6796.00000 12243.00000, 6790.00000 1...</td>\n",
       "    </tr>\n",
       "    <tr>\n",
       "      <th>5</th>\n",
       "      <td>b7b74c76-b03f-4592-b47f-83f045d84a1e</td>\n",
       "      <td>annotation</td>\n",
       "      <td>{'name': 'Tumor', 'color': [200, 0, 0]}</td>\n",
       "      <td>None</td>\n",
       "      <td>None</td>\n",
       "      <td>POLYGON ((7043.00000 12839.50000, 7042.65000 1...</td>\n",
       "    </tr>\n",
       "  </tbody>\n",
       "</table>\n",
       "</div>"
      ],
      "text/plain": [
       "                                     id  objectType  \\\n",
       "0  e7ac14bf-1f34-4531-974f-08196f93867a  annotation   \n",
       "1  1ec79115-3f61-4438-82da-44b71a7cc5f2  annotation   \n",
       "2  14284a89-a139-4f33-b377-1f37244eee1b  annotation   \n",
       "3  3e2e81db-0e02-4b32-9565-ee876f1f0e73  annotation   \n",
       "4  e6ac1916-2781-4fa9-98b6-e8f1b262daee  annotation   \n",
       "5  b7b74c76-b03f-4592-b47f-83f045d84a1e  annotation   \n",
       "\n",
       "                            classification    name isLocked  \\\n",
       "0                                     None  calib1     True   \n",
       "1                                     None  calib2     True   \n",
       "2                                     None  calib3     True   \n",
       "3  {'name': 'Tumor', 'color': [200, 0, 0]}    None     None   \n",
       "4  {'name': 'Tumor', 'color': [200, 0, 0]}    None     None   \n",
       "5  {'name': 'Tumor', 'color': [200, 0, 0]}    None     None   \n",
       "\n",
       "                                            geometry  \n",
       "0                    POINT (11585.84000 14257.66000)  \n",
       "1                      POINT (6171.84000 7092.46000)  \n",
       "2                     POINT (5046.31000 11523.93000)  \n",
       "3  POLYGON ((7493.00000 12129.00000, 7487.00000 1...  \n",
       "4  POLYGON ((6796.00000 12243.00000, 6790.00000 1...  \n",
       "5  POLYGON ((7043.00000 12839.50000, 7042.65000 1...  "
      ]
     },
     "execution_count": 98,
     "metadata": {},
     "output_type": "execute_result"
    }
   ],
   "source": [
    "df"
   ]
  },
  {
   "cell_type": "code",
   "execution_count": null,
   "id": "3bed2915-1841-4365-b938-f5fd799afc38",
   "metadata": {},
   "outputs": [],
   "source": [
    "#this is what I am aiming for\n",
    "triangle_coordinates = np.array([[10,70], [40,70], [40,100], [10,70]])\n",
    "my_first_collection.new_shape(triangle_coordinates)\n",
    "my_first_collection.plot(calibration = True)"
   ]
  },
  {
   "cell_type": "code",
   "execution_count": 99,
   "id": "b2c28874-374c-4cdd-893a-93d8141d8359",
   "metadata": {},
   "outputs": [],
   "source": [
    "shapelist = [x for x in df.geometry[3:]] "
   ]
  },
  {
   "cell_type": "code",
   "execution_count": 100,
   "id": "0f5a8fde-d470-4c41-9896-80844b774629",
   "metadata": {},
   "outputs": [
    {
     "data": {
      "text/plain": [
       "[<POLYGON ((7493 12129, 7487 12130, 7485 12130, 7483.57 12130.57, 7481 12131,...>,\n",
       " <POLYGON ((6796 12243, 6790 12244, 6788 12244.8, 6787 12245, 6784 12246, 678...>,\n",
       " <POLYGON ((7043 12839.5, 7042.65 12846, 7041.61 12852.47, 7039.87 12858.89, ...>]"
      ]
     },
     "execution_count": 100,
     "metadata": {},
     "output_type": "execute_result"
    }
   ],
   "source": [
    "shapelist"
   ]
  },
  {
   "cell_type": "code",
   "execution_count": 103,
   "id": "438e2fb9-436c-4d2b-b532-e19d0bd0d968",
   "metadata": {},
   "outputs": [],
   "source": [
    "text = str(df.loc[df['name'] == 'calib1', 'geometry'].values[0])"
   ]
  },
  {
   "cell_type": "code",
   "execution_count": 104,
   "id": "fd75f30e-e68a-4901-85cf-c106ea7769b4",
   "metadata": {},
   "outputs": [
    {
     "data": {
      "text/plain": [
       "'POINT'"
      ]
     },
     "execution_count": 104,
     "metadata": {},
     "output_type": "execute_result"
    }
   ],
   "source": [
    "text[:5]"
   ]
  },
  {
   "cell_type": "code",
   "execution_count": 105,
   "id": "c7d085f3-c260-4305-b125-e6cce42bfdb6",
   "metadata": {
    "collapsed": true,
    "jupyter": {
     "outputs_hidden": true
    },
    "tags": []
   },
   "outputs": [
    {
     "ename": "KeyError",
     "evalue": "False",
     "output_type": "error",
     "traceback": [
      "\u001b[1;31m---------------------------------------------------------------------------\u001b[0m",
      "\u001b[1;31mKeyError\u001b[0m                                  Traceback (most recent call last)",
      "File \u001b[1;32m~\\Jose_BI\\Anaconda\\envs\\data\\lib\\site-packages\\pandas\\core\\indexes\\base.py:3629\u001b[0m, in \u001b[0;36mIndex.get_loc\u001b[1;34m(self, key, method, tolerance)\u001b[0m\n\u001b[0;32m   3628\u001b[0m \u001b[38;5;28;01mtry\u001b[39;00m:\n\u001b[1;32m-> 3629\u001b[0m     \u001b[38;5;28;01mreturn\u001b[39;00m \u001b[38;5;28;43mself\u001b[39;49m\u001b[38;5;241;43m.\u001b[39;49m\u001b[43m_engine\u001b[49m\u001b[38;5;241;43m.\u001b[39;49m\u001b[43mget_loc\u001b[49m\u001b[43m(\u001b[49m\u001b[43mcasted_key\u001b[49m\u001b[43m)\u001b[49m\n\u001b[0;32m   3630\u001b[0m \u001b[38;5;28;01mexcept\u001b[39;00m \u001b[38;5;167;01mKeyError\u001b[39;00m \u001b[38;5;28;01mas\u001b[39;00m err:\n",
      "File \u001b[1;32m~\\Jose_BI\\Anaconda\\envs\\data\\lib\\site-packages\\pandas\\_libs\\index.pyx:136\u001b[0m, in \u001b[0;36mpandas._libs.index.IndexEngine.get_loc\u001b[1;34m()\u001b[0m\n",
      "File \u001b[1;32m~\\Jose_BI\\Anaconda\\envs\\data\\lib\\site-packages\\pandas\\_libs\\index.pyx:163\u001b[0m, in \u001b[0;36mpandas._libs.index.IndexEngine.get_loc\u001b[1;34m()\u001b[0m\n",
      "File \u001b[1;32mpandas\\_libs\\hashtable_class_helper.pxi:5198\u001b[0m, in \u001b[0;36mpandas._libs.hashtable.PyObjectHashTable.get_item\u001b[1;34m()\u001b[0m\n",
      "File \u001b[1;32mpandas\\_libs\\hashtable_class_helper.pxi:5206\u001b[0m, in \u001b[0;36mpandas._libs.hashtable.PyObjectHashTable.get_item\u001b[1;34m()\u001b[0m\n",
      "\u001b[1;31mKeyError\u001b[0m: False",
      "\nThe above exception was the direct cause of the following exception:\n",
      "\u001b[1;31mKeyError\u001b[0m                                  Traceback (most recent call last)",
      "Input \u001b[1;32mIn [105]\u001b[0m, in \u001b[0;36m<cell line: 4>\u001b[1;34m()\u001b[0m\n\u001b[0;32m      1\u001b[0m \u001b[38;5;66;03m#lets create a geopandas dataframe with only polygons in it\u001b[39;00m\n\u001b[0;32m      2\u001b[0m \u001b[38;5;66;03m#lets filter by  the text in the geometry column\u001b[39;00m\n\u001b[1;32m----> 4\u001b[0m poly_df \u001b[38;5;241m=\u001b[39m \u001b[43mdf\u001b[49m\u001b[43m[\u001b[49m\u001b[38;5;28;43mstr\u001b[39;49m\u001b[43m(\u001b[49m\u001b[43mdf\u001b[49m\u001b[43m[\u001b[49m\u001b[38;5;124;43m'\u001b[39;49m\u001b[38;5;124;43mgeometry\u001b[39;49m\u001b[38;5;124;43m'\u001b[39;49m\u001b[43m]\u001b[49m\u001b[43m[\u001b[49m\u001b[43m:\u001b[49m\u001b[38;5;241;43m8\u001b[39;49m\u001b[43m]\u001b[49m\u001b[43m)\u001b[49m\u001b[38;5;241;43m==\u001b[39;49m\u001b[38;5;124;43m'\u001b[39;49m\u001b[38;5;124;43mPOLYGON\u001b[39;49m\u001b[38;5;124;43m'\u001b[39;49m\u001b[43m]\u001b[49m\n",
      "File \u001b[1;32m~\\Jose_BI\\Anaconda\\envs\\data\\lib\\site-packages\\geopandas\\geodataframe.py:1415\u001b[0m, in \u001b[0;36mGeoDataFrame.__getitem__\u001b[1;34m(self, key)\u001b[0m\n\u001b[0;32m   1409\u001b[0m \u001b[38;5;28;01mdef\u001b[39;00m \u001b[38;5;21m__getitem__\u001b[39m(\u001b[38;5;28mself\u001b[39m, key):\n\u001b[0;32m   1410\u001b[0m     \u001b[38;5;124;03m\"\"\"\u001b[39;00m\n\u001b[0;32m   1411\u001b[0m \u001b[38;5;124;03m    If the result is a column containing only 'geometry', return a\u001b[39;00m\n\u001b[0;32m   1412\u001b[0m \u001b[38;5;124;03m    GeoSeries. If it's a DataFrame with any columns of GeometryDtype,\u001b[39;00m\n\u001b[0;32m   1413\u001b[0m \u001b[38;5;124;03m    return a GeoDataFrame.\u001b[39;00m\n\u001b[0;32m   1414\u001b[0m \u001b[38;5;124;03m    \"\"\"\u001b[39;00m\n\u001b[1;32m-> 1415\u001b[0m     result \u001b[38;5;241m=\u001b[39m \u001b[38;5;28;43msuper\u001b[39;49m\u001b[43m(\u001b[49m\u001b[43m)\u001b[49m\u001b[38;5;241;43m.\u001b[39;49m\u001b[38;5;21;43m__getitem__\u001b[39;49m\u001b[43m(\u001b[49m\u001b[43mkey\u001b[49m\u001b[43m)\u001b[49m\n\u001b[0;32m   1416\u001b[0m     geo_col \u001b[38;5;241m=\u001b[39m \u001b[38;5;28mself\u001b[39m\u001b[38;5;241m.\u001b[39m_geometry_column_name\n\u001b[0;32m   1417\u001b[0m     \u001b[38;5;28;01mif\u001b[39;00m \u001b[38;5;28misinstance\u001b[39m(result, Series) \u001b[38;5;129;01mand\u001b[39;00m \u001b[38;5;28misinstance\u001b[39m(result\u001b[38;5;241m.\u001b[39mdtype, GeometryDtype):\n",
      "File \u001b[1;32m~\\Jose_BI\\Anaconda\\envs\\data\\lib\\site-packages\\pandas\\core\\frame.py:3505\u001b[0m, in \u001b[0;36mDataFrame.__getitem__\u001b[1;34m(self, key)\u001b[0m\n\u001b[0;32m   3503\u001b[0m \u001b[38;5;28;01mif\u001b[39;00m \u001b[38;5;28mself\u001b[39m\u001b[38;5;241m.\u001b[39mcolumns\u001b[38;5;241m.\u001b[39mnlevels \u001b[38;5;241m>\u001b[39m \u001b[38;5;241m1\u001b[39m:\n\u001b[0;32m   3504\u001b[0m     \u001b[38;5;28;01mreturn\u001b[39;00m \u001b[38;5;28mself\u001b[39m\u001b[38;5;241m.\u001b[39m_getitem_multilevel(key)\n\u001b[1;32m-> 3505\u001b[0m indexer \u001b[38;5;241m=\u001b[39m \u001b[38;5;28;43mself\u001b[39;49m\u001b[38;5;241;43m.\u001b[39;49m\u001b[43mcolumns\u001b[49m\u001b[38;5;241;43m.\u001b[39;49m\u001b[43mget_loc\u001b[49m\u001b[43m(\u001b[49m\u001b[43mkey\u001b[49m\u001b[43m)\u001b[49m\n\u001b[0;32m   3506\u001b[0m \u001b[38;5;28;01mif\u001b[39;00m is_integer(indexer):\n\u001b[0;32m   3507\u001b[0m     indexer \u001b[38;5;241m=\u001b[39m [indexer]\n",
      "File \u001b[1;32m~\\Jose_BI\\Anaconda\\envs\\data\\lib\\site-packages\\pandas\\core\\indexes\\base.py:3631\u001b[0m, in \u001b[0;36mIndex.get_loc\u001b[1;34m(self, key, method, tolerance)\u001b[0m\n\u001b[0;32m   3629\u001b[0m     \u001b[38;5;28;01mreturn\u001b[39;00m \u001b[38;5;28mself\u001b[39m\u001b[38;5;241m.\u001b[39m_engine\u001b[38;5;241m.\u001b[39mget_loc(casted_key)\n\u001b[0;32m   3630\u001b[0m \u001b[38;5;28;01mexcept\u001b[39;00m \u001b[38;5;167;01mKeyError\u001b[39;00m \u001b[38;5;28;01mas\u001b[39;00m err:\n\u001b[1;32m-> 3631\u001b[0m     \u001b[38;5;28;01mraise\u001b[39;00m \u001b[38;5;167;01mKeyError\u001b[39;00m(key) \u001b[38;5;28;01mfrom\u001b[39;00m \u001b[38;5;21;01merr\u001b[39;00m\n\u001b[0;32m   3632\u001b[0m \u001b[38;5;28;01mexcept\u001b[39;00m \u001b[38;5;167;01mTypeError\u001b[39;00m:\n\u001b[0;32m   3633\u001b[0m     \u001b[38;5;66;03m# If we have a listlike key, _check_indexing_error will raise\u001b[39;00m\n\u001b[0;32m   3634\u001b[0m     \u001b[38;5;66;03m#  InvalidIndexError. Otherwise we fall through and re-raise\u001b[39;00m\n\u001b[0;32m   3635\u001b[0m     \u001b[38;5;66;03m#  the TypeError.\u001b[39;00m\n\u001b[0;32m   3636\u001b[0m     \u001b[38;5;28mself\u001b[39m\u001b[38;5;241m.\u001b[39m_check_indexing_error(key)\n",
      "\u001b[1;31mKeyError\u001b[0m: False"
     ]
    }
   ],
   "source": [
    "#lets create a geopandas dataframe with only polygons in it\n",
    "#lets filter by  the text in the geometry column\n",
    "\n",
    "poly_df = df[str(df['geometry'][:8])=='POLYGON']"
   ]
  },
  {
   "cell_type": "code",
   "execution_count": 109,
   "id": "2d349abb-f22e-4498-aef4-f7e9532e966a",
   "metadata": {
    "collapsed": true,
    "jupyter": {
     "outputs_hidden": true
    },
    "tags": []
   },
   "outputs": [
    {
     "ename": "AttributeError",
     "evalue": "Can only use .str accessor with string values!",
     "output_type": "error",
     "traceback": [
      "\u001b[1;31m---------------------------------------------------------------------------\u001b[0m",
      "\u001b[1;31mAttributeError\u001b[0m                            Traceback (most recent call last)",
      "Input \u001b[1;32mIn [109]\u001b[0m, in \u001b[0;36m<cell line: 1>\u001b[1;34m()\u001b[0m\n\u001b[1;32m----> 1\u001b[0m poly_df \u001b[38;5;241m=\u001b[39m df[\u001b[43mdf\u001b[49m\u001b[43m[\u001b[49m\u001b[38;5;124;43m'\u001b[39;49m\u001b[38;5;124;43mgeometry\u001b[39;49m\u001b[38;5;124;43m'\u001b[39;49m\u001b[43m]\u001b[49m\u001b[38;5;241;43m.\u001b[39;49m\u001b[43mstr\u001b[49m\u001b[38;5;241m.\u001b[39mcontains(\u001b[38;5;124m\"\u001b[39m\u001b[38;5;124mPOLYGON\u001b[39m\u001b[38;5;124m\"\u001b[39m)]\n",
      "File \u001b[1;32m~\\Jose_BI\\Anaconda\\envs\\data\\lib\\site-packages\\pandas\\core\\generic.py:5575\u001b[0m, in \u001b[0;36mNDFrame.__getattr__\u001b[1;34m(self, name)\u001b[0m\n\u001b[0;32m   5568\u001b[0m \u001b[38;5;28;01mif\u001b[39;00m (\n\u001b[0;32m   5569\u001b[0m     name \u001b[38;5;129;01mnot\u001b[39;00m \u001b[38;5;129;01min\u001b[39;00m \u001b[38;5;28mself\u001b[39m\u001b[38;5;241m.\u001b[39m_internal_names_set\n\u001b[0;32m   5570\u001b[0m     \u001b[38;5;129;01mand\u001b[39;00m name \u001b[38;5;129;01mnot\u001b[39;00m \u001b[38;5;129;01min\u001b[39;00m \u001b[38;5;28mself\u001b[39m\u001b[38;5;241m.\u001b[39m_metadata\n\u001b[0;32m   5571\u001b[0m     \u001b[38;5;129;01mand\u001b[39;00m name \u001b[38;5;129;01mnot\u001b[39;00m \u001b[38;5;129;01min\u001b[39;00m \u001b[38;5;28mself\u001b[39m\u001b[38;5;241m.\u001b[39m_accessors\n\u001b[0;32m   5572\u001b[0m     \u001b[38;5;129;01mand\u001b[39;00m \u001b[38;5;28mself\u001b[39m\u001b[38;5;241m.\u001b[39m_info_axis\u001b[38;5;241m.\u001b[39m_can_hold_identifiers_and_holds_name(name)\n\u001b[0;32m   5573\u001b[0m ):\n\u001b[0;32m   5574\u001b[0m     \u001b[38;5;28;01mreturn\u001b[39;00m \u001b[38;5;28mself\u001b[39m[name]\n\u001b[1;32m-> 5575\u001b[0m \u001b[38;5;28;01mreturn\u001b[39;00m \u001b[38;5;28;43mobject\u001b[39;49m\u001b[38;5;241;43m.\u001b[39;49m\u001b[38;5;21;43m__getattribute__\u001b[39;49m\u001b[43m(\u001b[49m\u001b[38;5;28;43mself\u001b[39;49m\u001b[43m,\u001b[49m\u001b[43m \u001b[49m\u001b[43mname\u001b[49m\u001b[43m)\u001b[49m\n",
      "File \u001b[1;32m~\\Jose_BI\\Anaconda\\envs\\data\\lib\\site-packages\\pandas\\core\\accessor.py:182\u001b[0m, in \u001b[0;36mCachedAccessor.__get__\u001b[1;34m(self, obj, cls)\u001b[0m\n\u001b[0;32m    179\u001b[0m \u001b[38;5;28;01mif\u001b[39;00m obj \u001b[38;5;129;01mis\u001b[39;00m \u001b[38;5;28;01mNone\u001b[39;00m:\n\u001b[0;32m    180\u001b[0m     \u001b[38;5;66;03m# we're accessing the attribute of the class, i.e., Dataset.geo\u001b[39;00m\n\u001b[0;32m    181\u001b[0m     \u001b[38;5;28;01mreturn\u001b[39;00m \u001b[38;5;28mself\u001b[39m\u001b[38;5;241m.\u001b[39m_accessor\n\u001b[1;32m--> 182\u001b[0m accessor_obj \u001b[38;5;241m=\u001b[39m \u001b[38;5;28;43mself\u001b[39;49m\u001b[38;5;241;43m.\u001b[39;49m\u001b[43m_accessor\u001b[49m\u001b[43m(\u001b[49m\u001b[43mobj\u001b[49m\u001b[43m)\u001b[49m\n\u001b[0;32m    183\u001b[0m \u001b[38;5;66;03m# Replace the property with the accessor object. Inspired by:\u001b[39;00m\n\u001b[0;32m    184\u001b[0m \u001b[38;5;66;03m# https://www.pydanny.com/cached-property.html\u001b[39;00m\n\u001b[0;32m    185\u001b[0m \u001b[38;5;66;03m# We need to use object.__setattr__ because we overwrite __setattr__ on\u001b[39;00m\n\u001b[0;32m    186\u001b[0m \u001b[38;5;66;03m# NDFrame\u001b[39;00m\n\u001b[0;32m    187\u001b[0m \u001b[38;5;28mobject\u001b[39m\u001b[38;5;241m.\u001b[39m\u001b[38;5;21m__setattr__\u001b[39m(obj, \u001b[38;5;28mself\u001b[39m\u001b[38;5;241m.\u001b[39m_name, accessor_obj)\n",
      "File \u001b[1;32m~\\Jose_BI\\Anaconda\\envs\\data\\lib\\site-packages\\pandas\\core\\strings\\accessor.py:177\u001b[0m, in \u001b[0;36mStringMethods.__init__\u001b[1;34m(self, data)\u001b[0m\n\u001b[0;32m    174\u001b[0m \u001b[38;5;28;01mdef\u001b[39;00m \u001b[38;5;21m__init__\u001b[39m(\u001b[38;5;28mself\u001b[39m, data):\n\u001b[0;32m    175\u001b[0m     \u001b[38;5;28;01mfrom\u001b[39;00m \u001b[38;5;21;01mpandas\u001b[39;00m\u001b[38;5;21;01m.\u001b[39;00m\u001b[38;5;21;01mcore\u001b[39;00m\u001b[38;5;21;01m.\u001b[39;00m\u001b[38;5;21;01marrays\u001b[39;00m\u001b[38;5;21;01m.\u001b[39;00m\u001b[38;5;21;01mstring_\u001b[39;00m \u001b[38;5;28;01mimport\u001b[39;00m StringDtype\n\u001b[1;32m--> 177\u001b[0m     \u001b[38;5;28mself\u001b[39m\u001b[38;5;241m.\u001b[39m_inferred_dtype \u001b[38;5;241m=\u001b[39m \u001b[38;5;28;43mself\u001b[39;49m\u001b[38;5;241;43m.\u001b[39;49m\u001b[43m_validate\u001b[49m\u001b[43m(\u001b[49m\u001b[43mdata\u001b[49m\u001b[43m)\u001b[49m\n\u001b[0;32m    178\u001b[0m     \u001b[38;5;28mself\u001b[39m\u001b[38;5;241m.\u001b[39m_is_categorical \u001b[38;5;241m=\u001b[39m is_categorical_dtype(data\u001b[38;5;241m.\u001b[39mdtype)\n\u001b[0;32m    179\u001b[0m     \u001b[38;5;28mself\u001b[39m\u001b[38;5;241m.\u001b[39m_is_string \u001b[38;5;241m=\u001b[39m \u001b[38;5;28misinstance\u001b[39m(data\u001b[38;5;241m.\u001b[39mdtype, StringDtype)\n",
      "File \u001b[1;32m~\\Jose_BI\\Anaconda\\envs\\data\\lib\\site-packages\\pandas\\core\\strings\\accessor.py:231\u001b[0m, in \u001b[0;36mStringMethods._validate\u001b[1;34m(data)\u001b[0m\n\u001b[0;32m    228\u001b[0m inferred_dtype \u001b[38;5;241m=\u001b[39m lib\u001b[38;5;241m.\u001b[39minfer_dtype(values, skipna\u001b[38;5;241m=\u001b[39m\u001b[38;5;28;01mTrue\u001b[39;00m)\n\u001b[0;32m    230\u001b[0m \u001b[38;5;28;01mif\u001b[39;00m inferred_dtype \u001b[38;5;129;01mnot\u001b[39;00m \u001b[38;5;129;01min\u001b[39;00m allowed_types:\n\u001b[1;32m--> 231\u001b[0m     \u001b[38;5;28;01mraise\u001b[39;00m \u001b[38;5;167;01mAttributeError\u001b[39;00m(\u001b[38;5;124m\"\u001b[39m\u001b[38;5;124mCan only use .str accessor with string values!\u001b[39m\u001b[38;5;124m\"\u001b[39m)\n\u001b[0;32m    232\u001b[0m \u001b[38;5;28;01mreturn\u001b[39;00m inferred_dtype\n",
      "\u001b[1;31mAttributeError\u001b[0m: Can only use .str accessor with string values!"
     ]
    }
   ],
   "source": [
    "poly_df = df[df['geometry'].str.contains(\"POLYGON\")]"
   ]
  },
  {
   "cell_type": "code",
   "execution_count": 115,
   "id": "1bb61cf2-4610-48d8-be91-41ab704b9301",
   "metadata": {},
   "outputs": [],
   "source": [
    "#create a tmp df where the geometry column is text\n",
    "\n",
    "df_str = df.astype(str)"
   ]
  },
  {
   "cell_type": "code",
   "execution_count": 116,
   "id": "ff687673-9e42-4a1d-bd4e-c61a58f7659f",
   "metadata": {},
   "outputs": [
    {
     "data": {
      "text/html": [
       "<div>\n",
       "<style scoped>\n",
       "    .dataframe tbody tr th:only-of-type {\n",
       "        vertical-align: middle;\n",
       "    }\n",
       "\n",
       "    .dataframe tbody tr th {\n",
       "        vertical-align: top;\n",
       "    }\n",
       "\n",
       "    .dataframe thead th {\n",
       "        text-align: right;\n",
       "    }\n",
       "</style>\n",
       "<table border=\"1\" class=\"dataframe\">\n",
       "  <thead>\n",
       "    <tr style=\"text-align: right;\">\n",
       "      <th></th>\n",
       "      <th>id</th>\n",
       "      <th>objectType</th>\n",
       "      <th>classification</th>\n",
       "      <th>name</th>\n",
       "      <th>isLocked</th>\n",
       "      <th>geometry</th>\n",
       "    </tr>\n",
       "  </thead>\n",
       "  <tbody>\n",
       "    <tr>\n",
       "      <th>0</th>\n",
       "      <td>e7ac14bf-1f34-4531-974f-08196f93867a</td>\n",
       "      <td>annotation</td>\n",
       "      <td>None</td>\n",
       "      <td>calib1</td>\n",
       "      <td>True</td>\n",
       "      <td>POINT (11585.84 14257.66)</td>\n",
       "    </tr>\n",
       "    <tr>\n",
       "      <th>1</th>\n",
       "      <td>1ec79115-3f61-4438-82da-44b71a7cc5f2</td>\n",
       "      <td>annotation</td>\n",
       "      <td>None</td>\n",
       "      <td>calib2</td>\n",
       "      <td>True</td>\n",
       "      <td>POINT (6171.84 7092.46)</td>\n",
       "    </tr>\n",
       "    <tr>\n",
       "      <th>2</th>\n",
       "      <td>14284a89-a139-4f33-b377-1f37244eee1b</td>\n",
       "      <td>annotation</td>\n",
       "      <td>None</td>\n",
       "      <td>calib3</td>\n",
       "      <td>True</td>\n",
       "      <td>POINT (5046.31 11523.93)</td>\n",
       "    </tr>\n",
       "    <tr>\n",
       "      <th>3</th>\n",
       "      <td>3e2e81db-0e02-4b32-9565-ee876f1f0e73</td>\n",
       "      <td>annotation</td>\n",
       "      <td>{'name': 'Tumor', 'color': [200, 0, 0]}</td>\n",
       "      <td>None</td>\n",
       "      <td>None</td>\n",
       "      <td>POLYGON ((7493 12129, 7487 12130, 7485 12130, ...</td>\n",
       "    </tr>\n",
       "    <tr>\n",
       "      <th>4</th>\n",
       "      <td>e6ac1916-2781-4fa9-98b6-e8f1b262daee</td>\n",
       "      <td>annotation</td>\n",
       "      <td>{'name': 'Tumor', 'color': [200, 0, 0]}</td>\n",
       "      <td>None</td>\n",
       "      <td>None</td>\n",
       "      <td>POLYGON ((6796 12243, 6790 12244, 6788 12244.8...</td>\n",
       "    </tr>\n",
       "    <tr>\n",
       "      <th>5</th>\n",
       "      <td>b7b74c76-b03f-4592-b47f-83f045d84a1e</td>\n",
       "      <td>annotation</td>\n",
       "      <td>{'name': 'Tumor', 'color': [200, 0, 0]}</td>\n",
       "      <td>None</td>\n",
       "      <td>None</td>\n",
       "      <td>POLYGON ((7043 12839.5, 7042.65 12846, 7041.61...</td>\n",
       "    </tr>\n",
       "  </tbody>\n",
       "</table>\n",
       "</div>"
      ],
      "text/plain": [
       "                                     id  objectType  \\\n",
       "0  e7ac14bf-1f34-4531-974f-08196f93867a  annotation   \n",
       "1  1ec79115-3f61-4438-82da-44b71a7cc5f2  annotation   \n",
       "2  14284a89-a139-4f33-b377-1f37244eee1b  annotation   \n",
       "3  3e2e81db-0e02-4b32-9565-ee876f1f0e73  annotation   \n",
       "4  e6ac1916-2781-4fa9-98b6-e8f1b262daee  annotation   \n",
       "5  b7b74c76-b03f-4592-b47f-83f045d84a1e  annotation   \n",
       "\n",
       "                            classification    name isLocked  \\\n",
       "0                                     None  calib1     True   \n",
       "1                                     None  calib2     True   \n",
       "2                                     None  calib3     True   \n",
       "3  {'name': 'Tumor', 'color': [200, 0, 0]}    None     None   \n",
       "4  {'name': 'Tumor', 'color': [200, 0, 0]}    None     None   \n",
       "5  {'name': 'Tumor', 'color': [200, 0, 0]}    None     None   \n",
       "\n",
       "                                            geometry  \n",
       "0                          POINT (11585.84 14257.66)  \n",
       "1                            POINT (6171.84 7092.46)  \n",
       "2                           POINT (5046.31 11523.93)  \n",
       "3  POLYGON ((7493 12129, 7487 12130, 7485 12130, ...  \n",
       "4  POLYGON ((6796 12243, 6790 12244, 6788 12244.8...  \n",
       "5  POLYGON ((7043 12839.5, 7042.65 12846, 7041.61...  "
      ]
     },
     "execution_count": 116,
     "metadata": {},
     "output_type": "execute_result"
    }
   ],
   "source": [
    "df_str"
   ]
  },
  {
   "cell_type": "code",
   "execution_count": 117,
   "id": "3c5469d1-e2a0-4aba-8403-baec701c7a8d",
   "metadata": {},
   "outputs": [],
   "source": [
    "poly_df = df[df_str['geometry'].str.contains(\"POLYGON\")]"
   ]
  },
  {
   "cell_type": "code",
   "execution_count": 118,
   "id": "dd53ea16-b099-46cf-a434-42c905bde5fc",
   "metadata": {},
   "outputs": [
    {
     "data": {
      "text/html": [
       "<div>\n",
       "<style scoped>\n",
       "    .dataframe tbody tr th:only-of-type {\n",
       "        vertical-align: middle;\n",
       "    }\n",
       "\n",
       "    .dataframe tbody tr th {\n",
       "        vertical-align: top;\n",
       "    }\n",
       "\n",
       "    .dataframe thead th {\n",
       "        text-align: right;\n",
       "    }\n",
       "</style>\n",
       "<table border=\"1\" class=\"dataframe\">\n",
       "  <thead>\n",
       "    <tr style=\"text-align: right;\">\n",
       "      <th></th>\n",
       "      <th>id</th>\n",
       "      <th>objectType</th>\n",
       "      <th>classification</th>\n",
       "      <th>name</th>\n",
       "      <th>isLocked</th>\n",
       "      <th>geometry</th>\n",
       "    </tr>\n",
       "  </thead>\n",
       "  <tbody>\n",
       "    <tr>\n",
       "      <th>3</th>\n",
       "      <td>3e2e81db-0e02-4b32-9565-ee876f1f0e73</td>\n",
       "      <td>annotation</td>\n",
       "      <td>{'name': 'Tumor', 'color': [200, 0, 0]}</td>\n",
       "      <td>None</td>\n",
       "      <td>None</td>\n",
       "      <td>POLYGON ((7493.00000 12129.00000, 7487.00000 1...</td>\n",
       "    </tr>\n",
       "    <tr>\n",
       "      <th>4</th>\n",
       "      <td>e6ac1916-2781-4fa9-98b6-e8f1b262daee</td>\n",
       "      <td>annotation</td>\n",
       "      <td>{'name': 'Tumor', 'color': [200, 0, 0]}</td>\n",
       "      <td>None</td>\n",
       "      <td>None</td>\n",
       "      <td>POLYGON ((6796.00000 12243.00000, 6790.00000 1...</td>\n",
       "    </tr>\n",
       "    <tr>\n",
       "      <th>5</th>\n",
       "      <td>b7b74c76-b03f-4592-b47f-83f045d84a1e</td>\n",
       "      <td>annotation</td>\n",
       "      <td>{'name': 'Tumor', 'color': [200, 0, 0]}</td>\n",
       "      <td>None</td>\n",
       "      <td>None</td>\n",
       "      <td>POLYGON ((7043.00000 12839.50000, 7042.65000 1...</td>\n",
       "    </tr>\n",
       "  </tbody>\n",
       "</table>\n",
       "</div>"
      ],
      "text/plain": [
       "                                     id  objectType  \\\n",
       "3  3e2e81db-0e02-4b32-9565-ee876f1f0e73  annotation   \n",
       "4  e6ac1916-2781-4fa9-98b6-e8f1b262daee  annotation   \n",
       "5  b7b74c76-b03f-4592-b47f-83f045d84a1e  annotation   \n",
       "\n",
       "                            classification  name isLocked  \\\n",
       "3  {'name': 'Tumor', 'color': [200, 0, 0]}  None     None   \n",
       "4  {'name': 'Tumor', 'color': [200, 0, 0]}  None     None   \n",
       "5  {'name': 'Tumor', 'color': [200, 0, 0]}  None     None   \n",
       "\n",
       "                                            geometry  \n",
       "3  POLYGON ((7493.00000 12129.00000, 7487.00000 1...  \n",
       "4  POLYGON ((6796.00000 12243.00000, 6790.00000 1...  \n",
       "5  POLYGON ((7043.00000 12839.50000, 7042.65000 1...  "
      ]
     },
     "execution_count": 118,
     "metadata": {},
     "output_type": "execute_result"
    }
   ],
   "source": [
    "poly_df"
   ]
  },
  {
   "cell_type": "code",
   "execution_count": 119,
   "id": "441aee70-33d0-4caf-9f0e-9448f054e16e",
   "metadata": {},
   "outputs": [],
   "source": [
    "#success!"
   ]
  },
  {
   "cell_type": "code",
   "execution_count": 121,
   "id": "5f61e3c8-97fc-44b9-b6e9-afdd1f4dcb6d",
   "metadata": {},
   "outputs": [],
   "source": [
    "#check original dataframe\n",
    "df\n",
    "#convert entire df to text\n",
    "df_str = df.astype(str)\n",
    "#filter original df by finding the word polygon, poly_df created\n",
    "poly_df = df[df_str['geometry'].str.contains(\"POLYGON\")]"
   ]
  },
  {
   "cell_type": "markdown",
   "id": "07047a48-9cba-4a8b-807a-ef6f11e18d29",
   "metadata": {
    "jp-MarkdownHeadingCollapsed": true,
    "tags": []
   },
   "source": [
    "## Create array out of dataframe"
   ]
  },
  {
   "cell_type": "code",
   "execution_count": 122,
   "id": "d9c7f9f3-1d3e-4365-8fdd-6b6d2fec79de",
   "metadata": {},
   "outputs": [
    {
     "data": {
      "text/html": [
       "<div>\n",
       "<style scoped>\n",
       "    .dataframe tbody tr th:only-of-type {\n",
       "        vertical-align: middle;\n",
       "    }\n",
       "\n",
       "    .dataframe tbody tr th {\n",
       "        vertical-align: top;\n",
       "    }\n",
       "\n",
       "    .dataframe thead th {\n",
       "        text-align: right;\n",
       "    }\n",
       "</style>\n",
       "<table border=\"1\" class=\"dataframe\">\n",
       "  <thead>\n",
       "    <tr style=\"text-align: right;\">\n",
       "      <th></th>\n",
       "      <th>id</th>\n",
       "      <th>objectType</th>\n",
       "      <th>classification</th>\n",
       "      <th>name</th>\n",
       "      <th>isLocked</th>\n",
       "      <th>geometry</th>\n",
       "    </tr>\n",
       "  </thead>\n",
       "  <tbody>\n",
       "    <tr>\n",
       "      <th>3</th>\n",
       "      <td>3e2e81db-0e02-4b32-9565-ee876f1f0e73</td>\n",
       "      <td>annotation</td>\n",
       "      <td>{'name': 'Tumor', 'color': [200, 0, 0]}</td>\n",
       "      <td>None</td>\n",
       "      <td>None</td>\n",
       "      <td>POLYGON ((7493.00000 12129.00000, 7487.00000 1...</td>\n",
       "    </tr>\n",
       "    <tr>\n",
       "      <th>4</th>\n",
       "      <td>e6ac1916-2781-4fa9-98b6-e8f1b262daee</td>\n",
       "      <td>annotation</td>\n",
       "      <td>{'name': 'Tumor', 'color': [200, 0, 0]}</td>\n",
       "      <td>None</td>\n",
       "      <td>None</td>\n",
       "      <td>POLYGON ((6796.00000 12243.00000, 6790.00000 1...</td>\n",
       "    </tr>\n",
       "    <tr>\n",
       "      <th>5</th>\n",
       "      <td>b7b74c76-b03f-4592-b47f-83f045d84a1e</td>\n",
       "      <td>annotation</td>\n",
       "      <td>{'name': 'Tumor', 'color': [200, 0, 0]}</td>\n",
       "      <td>None</td>\n",
       "      <td>None</td>\n",
       "      <td>POLYGON ((7043.00000 12839.50000, 7042.65000 1...</td>\n",
       "    </tr>\n",
       "  </tbody>\n",
       "</table>\n",
       "</div>"
      ],
      "text/plain": [
       "                                     id  objectType  \\\n",
       "3  3e2e81db-0e02-4b32-9565-ee876f1f0e73  annotation   \n",
       "4  e6ac1916-2781-4fa9-98b6-e8f1b262daee  annotation   \n",
       "5  b7b74c76-b03f-4592-b47f-83f045d84a1e  annotation   \n",
       "\n",
       "                            classification  name isLocked  \\\n",
       "3  {'name': 'Tumor', 'color': [200, 0, 0]}  None     None   \n",
       "4  {'name': 'Tumor', 'color': [200, 0, 0]}  None     None   \n",
       "5  {'name': 'Tumor', 'color': [200, 0, 0]}  None     None   \n",
       "\n",
       "                                            geometry  \n",
       "3  POLYGON ((7493.00000 12129.00000, 7487.00000 1...  \n",
       "4  POLYGON ((6796.00000 12243.00000, 6790.00000 1...  \n",
       "5  POLYGON ((7043.00000 12839.50000, 7042.65000 1...  "
      ]
     },
     "execution_count": 122,
     "metadata": {},
     "output_type": "execute_result"
    }
   ],
   "source": [
    "poly_df"
   ]
  },
  {
   "cell_type": "code",
   "execution_count": null,
   "id": "c8a74bfb-7133-4f5a-a98d-a45bfe6e5f46",
   "metadata": {},
   "outputs": [],
   "source": [
    "shapelist = [x for x in poly_df.geometry[:]] \n",
    "\n",
    "listarray = []\n",
    "for shape in shapelist:\n",
    "    listarray.append([point.x, point.y])\n",
    "nparray = np.array(listarray)"
   ]
  },
  {
   "cell_type": "code",
   "execution_count": 123,
   "id": "96ff0b68-fa57-488c-b689-3ac47d9ba68d",
   "metadata": {},
   "outputs": [],
   "source": [
    "def coord_lister(geom):\n",
    "    coords = list(geom.exterior.coords)\n",
    "    return (coords)\n",
    "\n",
    "coordinates_list = poly_df.geometry.apply(coord_lister)"
   ]
  },
  {
   "cell_type": "code",
   "execution_count": 124,
   "id": "08e46e95-c069-4b08-8578-c213b1653c86",
   "metadata": {},
   "outputs": [
    {
     "data": {
      "text/plain": [
       "3    [(7493.0, 12129.0), (7487.0, 12130.0), (7485.0...\n",
       "4    [(6796.0, 12243.0), (6790.0, 12244.0), (6788.0...\n",
       "5    [(7043.0, 12839.5), (7042.65, 12846.0), (7041....\n",
       "Name: geometry, dtype: object"
      ]
     },
     "execution_count": 124,
     "metadata": {},
     "output_type": "execute_result"
    }
   ],
   "source": [
    "coordinates_list"
   ]
  },
  {
   "cell_type": "code",
   "execution_count": 125,
   "id": "7b1f7526-3922-42a5-9477-b0f92944f9ce",
   "metadata": {
    "collapsed": true,
    "jupyter": {
     "outputs_hidden": true
    },
    "tags": []
   },
   "outputs": [
    {
     "data": {
      "text/plain": [
       "array([list([(7493.0, 12129.0), (7487.0, 12130.0), (7485.0, 12130.0), (7483.57, 12130.57), (7481.0, 12131.0), (7479.0, 12131.8), (7478.0, 12132.0), (7475.0, 12133.0), (7473.0, 12133.0), (7468.0, 12135.0), (7466.0, 12136.0), (7465.0, 12136.0), (7462.86, 12136.86), (7462.0, 12137.0), (7460.0, 12137.0), (7455.0, 12139.0), (7453.0, 12140.0), (7451.0, 12141.0), (7449.86, 12141.86), (7447.0, 12143.0), (7445.67, 12144.33), (7444.0, 12145.0), (7439.0, 12148.0), (7435.8, 12152.0), (7433.77, 12153.69), (7433.0, 12154.0), (7431.0, 12156.0), (7429.0, 12158.0), (7424.0, 12162.0), (7422.0, 12165.33), (7420.0, 12168.0), (7417.0, 12172.0), (7415.88, 12173.5), (7414.0, 12175.0), (7412.5, 12177.5), (7412.0, 12178.0), (7411.6, 12179.0), (7411.0, 12180.0), (7409.0, 12185.0), (7408.0, 12188.0), (7407.0, 12189.0), (7405.0, 12194.0), (7402.0, 12200.0), (7400.0, 12205.0), (7398.0, 12209.0), (7396.0, 12211.0), (7392.0, 12221.0), (7390.38, 12223.69), (7390.0, 12224.0), (7387.0, 12229.0), (7386.33, 12230.67), (7385.0, 12232.0), (7384.33, 12233.67), (7384.0, 12234.0), (7380.0, 12240.0), (7379.0, 12241.0), (7378.5, 12241.5), (7376.0, 12243.0), (7372.0, 12247.0), (7369.71, 12248.71), (7369.0, 12249.0), (7368.0, 12250.0), (7363.0, 12254.0), (7361.5, 12256.5), (7361.0, 12257.0), (7360.6, 12258.0), (7360.0, 12259.0), (7359.33, 12260.67), (7359.0, 12261.0), (7354.0, 12266.0), (7352.85, 12268.87), (7352.0, 12270.0), (7351.0, 12272.0), (7350.6, 12273.0), (7350.0, 12274.0), (7348.0, 12279.0), (7347.0, 12282.0), (7346.88, 12282.63), (7346.5, 12283.5), (7345.0, 12286.0), (7343.0, 12291.0), (7342.0, 12295.0), (7340.0, 12300.0), (7340.0, 12302.0), (7339.0, 12308.0), (7337.0, 12313.0), (7335.0, 12318.0), (7335.0, 12319.5), (7334.0, 12322.0), (7332.0, 12330.0), (7332.0, 12331.0), (7331.63, 12333.2), (7330.15, 12336.46), (7329.0, 12338.0), (7328.0, 12340.0), (7326.0, 12345.0), (7326.0, 12347.0), (7325.8, 12348.0), (7325.0, 12350.0), (7324.0, 12356.0), (7322.0, 12364.0), (7322.0, 12365.0), (7321.0, 12371.0), (7321.0, 12372.49), (7320.91, 12372.78), (7320.0, 12374.0), (7318.0, 12380.0), (7315.14, 12390.71), (7313.0, 12395.0), (7312.0, 12397.0), (7310.0, 12402.0), (7310.0, 12403.5), (7309.0, 12406.0), (7303.0, 12424.0), (7302.8, 12425.0), (7302.0, 12427.0), (7297.0, 12451.0), (7296.0, 12457.0), (7296.09, 12457.45), (7295.57, 12460.57), (7295.0, 12462.0), (7294.0, 12466.0), (7294.0, 12469.0), (7293.36, 12474.09), (7293.0, 12475.0), (7292.0, 12481.0), (7292.0, 12501.0), (7292.0, 12505.0), (7292.0, 12512.0), (7292.0, 12532.0), (7292.0, 12534.0), (7292.0, 12541.0), (7291.0, 12547.0), (7287.0, 12563.0), (7287.0, 12566.0), (7286.0, 12573.0), (7285.5, 12576.5), (7285.0, 12578.0), (7284.0, 12583.0), (7282.63, 12594.0), (7280.0, 12601.0), (7279.4, 12604.0), (7279.0, 12605.0), (7278.0, 12611.0), (7278.0, 12612.0), (7278.0, 12614.0), (7278.47, 12616.82), (7278.0, 12622.0), (7277.4, 12628.0), (7277.0, 12629.0), (7276.0, 12635.0), (7276.0, 12636.0), (7275.0, 12641.0), (7274.57, 12643.57), (7274.0, 12645.0), (7273.0, 12651.0), (7273.0, 12653.0), (7273.0, 12663.5), (7271.0, 12672.5), (7270.0, 12675.0), (7269.0, 12678.0), (7268.8, 12679.0), (7268.0, 12681.0), (7267.0, 12687.0), (7267.0, 12689.0), (7265.0, 12693.0), (7263.0, 12698.0), (7263.0, 12699.5), (7262.0, 12702.0), (7261.0, 12707.0), (7260.0, 12713.0), (7260.0, 12714.0), (7260.0, 12718.0), (7260.0, 12719.0), (7260.0, 12721.0), (7260.0, 12722.0), (7260.0, 12723.0), (7260.0, 12724.0), (7260.0, 12725.0), (7261.0, 12731.0), (7265.0, 12741.0), (7267.0, 12744.0), (7268.5, 12746.25), (7270.0, 12750.0), (7271.2, 12752.0), (7272.0, 12754.0), (7273.0, 12755.0), (7273.43, 12755.57), (7274.0, 12757.0), (7274.6, 12758.0), (7275.0, 12759.0), (7275.5, 12759.5), (7277.0, 12762.0), (7282.0, 12766.0), (7283.0, 12767.0), (7290.0, 12774.0), (7293.33, 12775.33), (7296.0, 12778.0), (7301.0, 12780.0), (7303.85, 12781.14), (7304.2, 12781.4), (7305.0, 12783.0), (7306.71, 12785.29), (7307.0, 12786.0), (7308.0, 12787.0), (7310.4, 12790.0), (7311.0, 12791.0), (7311.56, 12791.45), (7312.0, 12792.0), (7312.78, 12792.47), (7313.0, 12793.0), (7313.6, 12794.0), (7314.0, 12795.0), (7314.5, 12795.5), (7316.0, 12798.0), (7316.3, 12798.24), (7317.0, 12800.0), (7318.0, 12803.0), (7320.0, 12808.0), (7322.0, 12813.0), (7323.0, 12814.0), (7330.0, 12821.0), (7331.0, 12822.0), (7338.85, 12825.14), (7340.0, 12826.0), (7342.0, 12827.0), (7344.0, 12828.0), (7349.0, 12830.0), (7349.5, 12830.0), (7352.0, 12831.0), (7358.0, 12832.0), (7378.0, 12832.0), (7384.0, 12831.0), (7384.71, 12830.71), (7389.0, 12830.0), (7390.6, 12830.0), (7391.0, 12831.0), (7394.0, 12834.0), (7398.0, 12839.0), (7402.0, 12843.0), (7403.8, 12844.5), (7404.0, 12845.0), (7410.0, 12851.0), (7410.5, 12851.5), (7412.0, 12854.0), (7417.0, 12858.0), (7418.0, 12859.0), (7418.71, 12859.29), (7421.0, 12861.0), (7421.33, 12861.17), (7422.0, 12862.0), (7424.73, 12864.34), (7425.0, 12865.0), (7426.0, 12866.0), (7430.0, 12871.0), (7432.5, 12872.5), (7433.0, 12873.0), (7435.0, 12875.0), (7440.0, 12879.0), (7444.0, 12882.0), (7446.0, 12883.0), (7446.45, 12883.18), (7449.0, 12885.0), (7450.0, 12886.0), (7452.01, 12886.81), (7454.0, 12888.0), (7456.39, 12888.8), (7458.0, 12890.0), (7460.0, 12891.0), (7465.0, 12893.0), (7466.0, 12893.0), (7470.0, 12895.0), (7475.0, 12897.0), (7475.5, 12897.0), (7478.0, 12898.0), (7480.0, 12898.0), (7486.0, 12899.0), (7499.0, 12899.0), (7505.0, 12898.0), (7507.0, 12898.0), (7507.71, 12897.71), (7512.0, 12897.0), (7514.0, 12896.2), (7515.0, 12896.0), (7518.0, 12895.0), (7523.0, 12893.0), (7524.0, 12892.4), (7525.0, 12892.0), (7530.0, 12890.0), (7532.0, 12889.0), (7534.67, 12887.0), (7538.0, 12885.0), (7539.33, 12883.33), (7541.0, 12882.0), (7543.0, 12878.66), (7544.18, 12877.09), (7546.0, 12876.0), (7550.0, 12871.0), (7553.0, 12867.0), (7554.0, 12866.0), (7559.19, 12859.32), (7560.0, 12859.0), (7560.5, 12858.5), (7563.0, 12857.0), (7565.12, 12854.35), (7566.0, 12854.0), (7568.14, 12853.14), (7569.0, 12853.0), (7574.0, 12851.0), (7575.0, 12850.4), (7576.0, 12850.0), (7576.5, 12849.5), (7579.0, 12848.0), (7586.0, 12842.0), (7589.0, 12838.0), (7599.0, 12834.0), (7605.0, 12828.0), (7607.0, 12826.0), (7607.4, 12825.0), (7609.0, 12823.0), (7610.0, 12822.0), (7610.29, 12821.29), (7612.0, 12819.0), (7613.0, 12818.0), (7613.29, 12817.29), (7615.0, 12815.0), (7618.0, 12809.0), (7621.0, 12805.0), (7623.57, 12801.57), (7625.0, 12801.0), (7626.0, 12800.4), (7627.0, 12800.0), (7627.5, 12799.5), (7630.0, 12798.0), (7632.0, 12795.5), (7632.67, 12795.0), (7636.0, 12793.0), (7637.33, 12791.33), (7639.0, 12790.0), (7641.0, 12786.67), (7643.0, 12784.0), (7644.0, 12782.0), (7645.0, 12781.0), (7645.29, 12780.29), (7647.0, 12778.0), (7648.0, 12776.0), (7649.0, 12775.0), (7653.0, 12765.0), (7654.0, 12759.0), (7654.0, 12758.0), (7654.0, 12757.0), (7654.0, 12756.0), (7653.77, 12754.59), (7654.0, 12754.0), (7655.0, 12748.0), (7655.0, 12743.0), (7655.0, 12740.0), (7655.0, 12738.0), (7654.0, 12732.0), (7653.6, 12730.99), (7653.56, 12730.63), (7654.0, 12728.0), (7654.0, 12726.0), (7654.0, 12723.0), (7654.0, 12721.0), (7654.0, 12713.0), (7654.0, 12708.0), (7654.0, 12706.0), (7654.0, 12700.5), (7655.0, 12698.0), (7655.0, 12694.0), (7655.64, 12688.91), (7656.0, 12688.0), (7657.0, 12683.0), (7658.0, 12677.0), (7658.0, 12673.0), (7657.88, 12672.3), (7658.0, 12672.0), (7659.0, 12666.0), (7659.0, 12643.5), (7660.0, 12639.0), (7660.2, 12638.0), (7661.0, 12636.0), (7663.0, 12626.0), (7664.0, 12620.0), (7663.9, 12619.41), (7668.0, 12594.0), (7669.0, 12588.0), (7670.0, 12585.0), (7670.2, 12584.0), (7671.0, 12582.0), (7672.0, 12577.0), (7675.75, 12560.13), (7677.0, 12557.0), (7677.82, 12553.73), (7686.0, 12531.0), (7686.33, 12529.0), (7687.0, 12527.0), (7688.0, 12524.0), (7688.2, 12523.0), (7689.0, 12521.0), (7690.0, 12515.0), (7690.0, 12514.0), (7691.0, 12494.0), (7690.91, 12493.55), (7691.0, 12493.0), (7691.0, 12487.0), (7691.0, 12481.0), (7691.0, 12479.0), (7690.0, 12473.0), (7689.62, 12472.05), (7689.42, 12469.47), (7690.0, 12466.0), (7690.0, 12461.0), (7690.0, 12457.0), (7689.0, 12451.0), (7688.88, 12450.71), (7689.0, 12450.0), (7688.0, 12444.0), (7686.0, 12434.0), (7686.0, 12429.0), (7686.0, 12424.0), (7686.0, 12420.0), (7686.0, 12413.0), (7685.0, 12407.0), (7684.43, 12405.57), (7684.0, 12403.0), (7684.0, 12401.0), (7683.0, 12398.5), (7683.0, 12395.0), (7682.91, 12394.45), (7683.0, 12394.0), (7682.0, 12388.0), (7682.0, 12385.0), (7681.0, 12379.0), (7680.67, 12378.17), (7679.96, 12374.26), (7680.0, 12374.0), (7680.0, 12371.0), (7679.0, 12365.0), (7678.2, 12363.0), (7678.0, 12362.0), (7678.0, 12360.0), (7676.43, 12356.09), (7676.4, 12355.6), (7677.0, 12352.0), (7677.0, 12350.0), (7677.0, 12345.0), (7676.62, 12342.72), (7677.23, 12337.54), (7678.0, 12336.0), (7680.0, 12331.0), (7680.0, 12329.0), (7681.0, 12323.0), (7681.0, 12322.0), (7681.0, 12318.0), (7680.0, 12312.0), (7680.0, 12310.0), (7678.0, 12305.0), (7677.0, 12303.0), (7676.36, 12302.14), (7676.0, 12300.0), (7672.0, 12290.0), (7670.0, 12288.0), (7668.0, 12286.0), (7666.0, 12283.33), (7664.0, 12280.0), (7658.0, 12273.0), (7654.0, 12270.0), (7638.19, 12256.82), (7637.31, 12255.77), (7637.0, 12255.0), (7635.0, 12253.0), (7632.0, 12250.0), (7631.0, 12249.0), (7630.5, 12248.5), (7629.0, 12246.0), (7625.0, 12243.0), (7624.0, 12242.0), (7623.09, 12241.64), (7621.5, 12240.5), (7620.0, 12238.0), (7616.24, 12235.0), (7616.11, 12234.78), (7615.0, 12232.0), (7613.5, 12230.5), (7612.0, 12228.0), (7611.14, 12227.36), (7611.0, 12227.0), (7609.67, 12225.67), (7609.0, 12224.0), (7608.67, 12223.67), (7608.0, 12222.0), (7606.67, 12220.67), (7606.0, 12219.0), (7605.0, 12217.0), (7603.5, 12215.0), (7603.0, 12214.0), (7602.0, 12212.0), (7600.29, 12209.71), (7600.0, 12209.0), (7599.0, 12208.0), (7595.8, 12204.0), (7593.0, 12197.0), (7591.4, 12195.4), (7591.0, 12194.5), (7591.0, 12193.0), (7589.0, 12188.0), (7588.0, 12186.0), (7586.29, 12183.71), (7586.0, 12183.0), (7585.0, 12182.0), (7581.0, 12177.0), (7579.67, 12176.2), (7579.31, 12175.77), (7579.0, 12175.0), (7577.0, 12173.0), (7575.0, 12171.0), (7573.4, 12169.0), (7571.0, 12165.0), (7566.0, 12161.0), (7562.0, 12158.0), (7561.33, 12157.67), (7560.0, 12156.0), (7557.5, 12154.5), (7557.0, 12154.0), (7556.0, 12153.6), (7555.0, 12153.0), (7551.67, 12151.67), (7551.0, 12151.0), (7547.0, 12147.0), (7544.0, 12144.0), (7541.0, 12142.8), (7540.5, 12142.5), (7538.0, 12140.0), (7535.0, 12137.0), (7530.0, 12135.0), (7529.0, 12134.0), (7519.0, 12130.0), (7513.0, 12129.0), (7493.0, 12129.0)]),\n",
       "       list([(6796.0, 12243.0), (6790.0, 12244.0), (6788.0, 12244.8), (6787.0, 12245.0), (6784.0, 12246.0), (6782.0, 12246.0), (6777.0, 12248.0), (6775.0, 12249.0), (6771.0, 12252.0), (6768.0, 12254.4), (6767.0, 12255.0), (6766.21, 12255.83), (6766.0, 12256.0), (6765.91, 12256.14), (6748.0, 12275.0), (6745.0, 12280.0), (6743.0, 12283.2), (6742.0, 12284.0), (6739.0, 12289.0), (6738.21, 12290.99), (6737.0, 12293.0), (6736.75, 12294.27), (6733.0, 12301.0), (6732.2, 12303.0), (6731.0, 12305.0), (6730.0, 12310.0), (6726.27, 12333.33), (6726.0, 12334.0), (6725.0, 12340.0), (6725.0, 12341.0), (6725.0, 12341.9), (6720.07, 12353.24), (6718.0, 12356.0), (6716.0, 12362.0), (6712.0, 12377.0), (6712.0, 12378.0), (6711.0, 12384.0), (6711.0, 12388.0), (6712.0, 12394.0), (6712.44, 12395.11), (6713.0, 12399.0), (6713.0, 12402.0), (6714.0, 12406.0), (6714.0, 12407.0), (6716.0, 12412.0), (6721.0, 12422.0), (6724.0, 12426.0), (6728.0, 12431.0), (6728.54, 12431.32), (6734.0, 12438.0), (6738.0, 12442.0), (6742.0, 12445.0), (6751.0, 12450.0), (6753.0, 12450.8), (6755.0, 12452.0), (6760.0, 12453.0), (6766.0, 12454.0), (6775.17, 12455.67), (6776.0, 12456.0), (6782.0, 12457.0), (6796.0, 12457.0), (6802.0, 12456.0), (6804.0, 12456.0), (6809.0, 12454.0), (6811.0, 12453.0), (6813.29, 12451.29), (6821.0, 12448.2), (6822.0, 12448.0), (6827.0, 12446.0), (6828.17, 12445.33), (6829.0, 12445.0), (6829.33, 12444.67), (6841.0, 12438.0), (6842.0, 12437.4), (6843.0, 12437.0), (6846.0, 12435.0), (6849.0, 12433.0), (6857.0, 12425.0), (6861.0, 12422.0), (6866.0, 12418.0), (6869.0, 12413.0), (6869.8, 12411.0), (6875.5, 12401.5), (6876.0, 12401.0), (6879.0, 12396.0), (6879.4, 12395.0), (6880.0, 12394.0), (6880.14, 12393.14), (6881.0, 12391.0), (6881.75, 12388.0), (6884.0, 12382.0), (6884.6, 12379.0), (6885.0, 12378.0), (6886.0, 12372.0), (6886.0, 12371.0), (6886.0, 12367.0), (6886.0, 12359.0), (6886.0, 12355.0), (6885.0, 12349.0), (6884.14, 12346.86), (6884.0, 12346.0), (6879.41, 12331.47), (6879.0, 12329.0), (6878.0, 12325.0), (6877.2, 12323.0), (6877.0, 12322.0), (6871.0, 12306.0), (6870.25, 12304.75), (6870.0, 12304.0), (6868.0, 12299.0), (6865.0, 12294.0), (6864.65, 12293.72), (6860.8, 12286.5), (6859.0, 12282.0), (6857.0, 12280.0), (6853.67, 12276.67), (6851.55, 12273.64), (6851.0, 12272.0), (6848.0, 12268.0), (6847.29, 12267.15), (6846.0, 12265.0), (6843.0, 12262.0), (6839.0, 12258.0), (6838.0, 12257.0), (6834.0, 12254.0), (6833.0, 12253.0), (6831.01, 12252.2), (6829.0, 12251.0), (6828.54, 12250.82), (6826.0, 12249.0), (6825.0, 12248.0), (6823.0, 12247.2), (6821.0, 12246.0), (6815.0, 12244.0), (6810.0, 12243.0), (6809.5, 12243.08), (6809.0, 12243.0), (6796.0, 12243.0)]),\n",
       "       list([(7043.0, 12839.5), (7042.65, 12846.0), (7041.61, 12852.47), (7039.87, 12858.89), (7037.45, 12865.24), (7034.36, 12871.48), (7030.61, 12877.6), (7026.2, 12883.57), (7021.17, 12889.36), (7015.52, 12894.96), (7009.29, 12900.34), (7002.5, 12905.47), (6995.16, 12910.35), (6987.32, 12914.95), (6979.01, 12919.25), (6970.24, 12923.23), (6961.07, 12926.89), (6951.53, 12930.2), (6941.65, 12933.15), (6931.47, 12935.73), (6921.04, 12937.93), (6910.39, 12939.75), (6899.57, 12941.17), (6888.62, 12942.18), (6877.58, 12942.8), (6866.5, 12943.0), (6855.42, 12942.8), (6844.38, 12942.18), (6833.43, 12941.17), (6822.61, 12939.75), (6811.96, 12937.93), (6801.53, 12935.73), (6791.35, 12933.15), (6781.47, 12930.2), (6771.93, 12926.89), (6762.76, 12923.23), (6753.99, 12919.25), (6745.68, 12914.95), (6737.84, 12910.35), (6730.5, 12905.47), (6723.71, 12900.34), (6717.48, 12894.96), (6711.83, 12889.36), (6706.8, 12883.57), (6702.39, 12877.6), (6698.64, 12871.48), (6695.55, 12865.24), (6693.13, 12858.89), (6691.39, 12852.47), (6690.35, 12846.0), (6690.0, 12839.5), (6690.35, 12833.0), (6691.39, 12826.53), (6693.13, 12820.11), (6695.55, 12813.76), (6698.64, 12807.52), (6702.39, 12801.4), (6706.8, 12795.43), (6711.83, 12789.64), (6717.48, 12784.04), (6723.71, 12778.66), (6730.5, 12773.53), (6737.84, 12768.65), (6745.68, 12764.05), (6753.99, 12759.75), (6762.76, 12755.77), (6771.93, 12752.11), (6781.47, 12748.8), (6791.35, 12745.85), (6801.53, 12743.27), (6811.96, 12741.07), (6822.61, 12739.25), (6833.43, 12737.83), (6844.38, 12736.82), (6855.42, 12736.2), (6866.5, 12736.0), (6877.58, 12736.2), (6888.62, 12736.82), (6899.57, 12737.83), (6910.39, 12739.25), (6921.04, 12741.07), (6931.47, 12743.27), (6941.65, 12745.85), (6951.53, 12748.8), (6961.07, 12752.11), (6970.24, 12755.77), (6979.01, 12759.75), (6987.32, 12764.05), (6995.16, 12768.65), (7002.5, 12773.53), (7009.29, 12778.66), (7015.52, 12784.04), (7021.17, 12789.64), (7026.2, 12795.43), (7030.61, 12801.4), (7034.36, 12807.52), (7037.45, 12813.76), (7039.87, 12820.11), (7041.61, 12826.53), (7042.65, 12833.0), (7043.0, 12839.5)])],\n",
       "      dtype=object)"
      ]
     },
     "execution_count": 125,
     "metadata": {},
     "output_type": "execute_result"
    }
   ],
   "source": [
    "nparray = np.array(coordinates_list)\n",
    "nparray"
   ]
  },
  {
   "cell_type": "code",
   "execution_count": 126,
   "id": "9113f4ba-e8fb-42fa-ae9c-bd3ab43889b0",
   "metadata": {},
   "outputs": [],
   "source": [
    "shapelist = [x for x in poly_df.geometry[:]] "
   ]
  },
  {
   "cell_type": "code",
   "execution_count": 127,
   "id": "8e911621-b55b-4ded-8d35-023537990e1f",
   "metadata": {},
   "outputs": [
    {
     "data": {
      "text/plain": [
       "[<POLYGON ((7493 12129, 7487 12130, 7485 12130, 7483.57 12130.57, 7481 12131,...>,\n",
       " <POLYGON ((6796 12243, 6790 12244, 6788 12244.8, 6787 12245, 6784 12246, 678...>,\n",
       " <POLYGON ((7043 12839.5, 7042.65 12846, 7041.61 12852.47, 7039.87 12858.89, ...>]"
      ]
     },
     "execution_count": 127,
     "metadata": {},
     "output_type": "execute_result"
    }
   ],
   "source": [
    "shapelist"
   ]
  },
  {
   "cell_type": "code",
   "execution_count": 130,
   "id": "6c156ce3-6d82-4ec6-94c9-ac1191f011f9",
   "metadata": {},
   "outputs": [],
   "source": [
    "shape1 = shapelist[0].exterior.coords"
   ]
  },
  {
   "cell_type": "code",
   "execution_count": 134,
   "id": "14b3fb20-20e5-4308-9ff4-dc5d0b9bf43a",
   "metadata": {},
   "outputs": [
    {
     "data": {
      "text/plain": [
       "[(7493.0, 12129.0),\n",
       " (7487.0, 12130.0),\n",
       " (7485.0, 12130.0),\n",
       " (7483.57, 12130.57),\n",
       " (7481.0, 12131.0),\n",
       " (7479.0, 12131.8),\n",
       " (7478.0, 12132.0),\n",
       " (7475.0, 12133.0),\n",
       " (7473.0, 12133.0),\n",
       " (7468.0, 12135.0)]"
      ]
     },
     "execution_count": 134,
     "metadata": {},
     "output_type": "execute_result"
    }
   ],
   "source": [
    "thelist = list(shape1)\n",
    "thelist[:10]"
   ]
  },
  {
   "cell_type": "code",
   "execution_count": null,
   "id": "215ca4ee-e241-4308-9404-a039f0b31748",
   "metadata": {},
   "outputs": [],
   "source": [
    "#this is what I am aiming for\n",
    "triangle_coordinates = np.array([[10,70], [40,70], [40,100], [10,70]])"
   ]
  },
  {
   "cell_type": "code",
   "execution_count": 138,
   "id": "bc0b7764-ecdc-45ff-a7f0-f80d4630f4e3",
   "metadata": {},
   "outputs": [
    {
     "data": {
      "text/plain": [
       "(7493.0, 12129.0)"
      ]
     },
     "execution_count": 138,
     "metadata": {},
     "output_type": "execute_result"
    }
   ],
   "source": [
    "thelist[0]\n",
    "# AttributeError: 'tuple' object has no attribute 'dtype' #"
   ]
  },
  {
   "cell_type": "code",
   "execution_count": 139,
   "id": "fb160381-b00a-4229-907b-219af64f074d",
   "metadata": {},
   "outputs": [],
   "source": [
    "points = np.array(shapelist[0])"
   ]
  },
  {
   "cell_type": "code",
   "execution_count": 142,
   "id": "a1de2eee-b394-4018-b838-6178acd4ec25",
   "metadata": {},
   "outputs": [
    {
     "data": {
      "text/plain": [
       "array(<POLYGON ((7493 12129, 7487 12130, 7485 12130, 7483.57 12130.57, 7481 12131,...>,\n",
       "      dtype=object)"
      ]
     },
     "execution_count": 142,
     "metadata": {},
     "output_type": "execute_result"
    }
   ],
   "source": [
    "points"
   ]
  },
  {
   "cell_type": "code",
   "execution_count": 143,
   "id": "8383cfdf-2284-445c-9023-6f7c69605933",
   "metadata": {},
   "outputs": [],
   "source": [
    "from shapely import Polygon"
   ]
  },
  {
   "cell_type": "code",
   "execution_count": 144,
   "id": "3e6bc2ec-c698-4022-b94a-f16ecf2e535e",
   "metadata": {},
   "outputs": [
    {
     "data": {
      "text/plain": [
       "243181.1358499999"
      ]
     },
     "execution_count": 144,
     "metadata": {},
     "output_type": "execute_result"
    }
   ],
   "source": [
    "shapelist[0].area"
   ]
  },
  {
   "cell_type": "code",
   "execution_count": 145,
   "id": "2b1bc2c6-e49a-4051-95d0-0cead7f91160",
   "metadata": {},
   "outputs": [],
   "source": [
    "#convert a list of tuples into a list of lists\n",
    "lol = [list(i) for i in thelist]"
   ]
  },
  {
   "cell_type": "code",
   "execution_count": 146,
   "id": "a0c34e74-7ce1-4d67-8b11-740afb485987",
   "metadata": {},
   "outputs": [
    {
     "data": {
      "text/plain": [
       "[[7493.0, 12129.0],\n",
       " [7487.0, 12130.0],\n",
       " [7485.0, 12130.0],\n",
       " [7483.57, 12130.57],\n",
       " [7481.0, 12131.0]]"
      ]
     },
     "execution_count": 146,
     "metadata": {},
     "output_type": "execute_result"
    }
   ],
   "source": [
    "lol[:5]"
   ]
  },
  {
   "cell_type": "code",
   "execution_count": 151,
   "id": "1367686b-ce25-4384-8cfa-33d3e921bba5",
   "metadata": {},
   "outputs": [],
   "source": [
    "#replace poly_df entry with list of lists with coordenates\n",
    "#assumes all entries are polygons\n",
    "\n",
    "def replace_coords(df):\n",
    "    \n",
    "    for i in df['id']:\n",
    "        #get geometry object for current row\n",
    "        geom = df[df['id']==i, 'geometry'] \n",
    "        #convert object into list of tuples\n",
    "        tmp = list(geom.exterior.coords)\n",
    "        # convert a list of tuples into a list of lists\n",
    "        tmp = [list(i) for i in thelist]\n",
    "        #replace dataframe with new list of lists instead of geometry objects\n",
    "        df.loc([i,'geometry']) == tmp\n",
    "    \n",
    "    return(df)"
   ]
  },
  {
   "cell_type": "code",
   "execution_count": 147,
   "id": "776011c2-0a09-456c-9355-1afcbf5aa03e",
   "metadata": {},
   "outputs": [
    {
     "data": {
      "text/html": [
       "<div>\n",
       "<style scoped>\n",
       "    .dataframe tbody tr th:only-of-type {\n",
       "        vertical-align: middle;\n",
       "    }\n",
       "\n",
       "    .dataframe tbody tr th {\n",
       "        vertical-align: top;\n",
       "    }\n",
       "\n",
       "    .dataframe thead th {\n",
       "        text-align: right;\n",
       "    }\n",
       "</style>\n",
       "<table border=\"1\" class=\"dataframe\">\n",
       "  <thead>\n",
       "    <tr style=\"text-align: right;\">\n",
       "      <th></th>\n",
       "      <th>id</th>\n",
       "      <th>objectType</th>\n",
       "      <th>classification</th>\n",
       "      <th>name</th>\n",
       "      <th>isLocked</th>\n",
       "      <th>geometry</th>\n",
       "    </tr>\n",
       "  </thead>\n",
       "  <tbody>\n",
       "    <tr>\n",
       "      <th>3</th>\n",
       "      <td>3e2e81db-0e02-4b32-9565-ee876f1f0e73</td>\n",
       "      <td>annotation</td>\n",
       "      <td>{'name': 'Tumor', 'color': [200, 0, 0]}</td>\n",
       "      <td>None</td>\n",
       "      <td>None</td>\n",
       "      <td>POLYGON ((7493.00000 12129.00000, 7487.00000 1...</td>\n",
       "    </tr>\n",
       "    <tr>\n",
       "      <th>4</th>\n",
       "      <td>e6ac1916-2781-4fa9-98b6-e8f1b262daee</td>\n",
       "      <td>annotation</td>\n",
       "      <td>{'name': 'Tumor', 'color': [200, 0, 0]}</td>\n",
       "      <td>None</td>\n",
       "      <td>None</td>\n",
       "      <td>POLYGON ((6796.00000 12243.00000, 6790.00000 1...</td>\n",
       "    </tr>\n",
       "    <tr>\n",
       "      <th>5</th>\n",
       "      <td>b7b74c76-b03f-4592-b47f-83f045d84a1e</td>\n",
       "      <td>annotation</td>\n",
       "      <td>{'name': 'Tumor', 'color': [200, 0, 0]}</td>\n",
       "      <td>None</td>\n",
       "      <td>None</td>\n",
       "      <td>POLYGON ((7043.00000 12839.50000, 7042.65000 1...</td>\n",
       "    </tr>\n",
       "  </tbody>\n",
       "</table>\n",
       "</div>"
      ],
      "text/plain": [
       "                                     id  objectType  \\\n",
       "3  3e2e81db-0e02-4b32-9565-ee876f1f0e73  annotation   \n",
       "4  e6ac1916-2781-4fa9-98b6-e8f1b262daee  annotation   \n",
       "5  b7b74c76-b03f-4592-b47f-83f045d84a1e  annotation   \n",
       "\n",
       "                            classification  name isLocked  \\\n",
       "3  {'name': 'Tumor', 'color': [200, 0, 0]}  None     None   \n",
       "4  {'name': 'Tumor', 'color': [200, 0, 0]}  None     None   \n",
       "5  {'name': 'Tumor', 'color': [200, 0, 0]}  None     None   \n",
       "\n",
       "                                            geometry  \n",
       "3  POLYGON ((7493.00000 12129.00000, 7487.00000 1...  \n",
       "4  POLYGON ((6796.00000 12243.00000, 6790.00000 1...  \n",
       "5  POLYGON ((7043.00000 12839.50000, 7042.65000 1...  "
      ]
     },
     "execution_count": 147,
     "metadata": {},
     "output_type": "execute_result"
    }
   ],
   "source": [
    "poly_df"
   ]
  },
  {
   "cell_type": "code",
   "execution_count": 152,
   "id": "c27c5e99-2548-4f8d-b96c-8fa58954c3d1",
   "metadata": {},
   "outputs": [],
   "source": [
    "df_copy = poly_df.copy()"
   ]
  },
  {
   "cell_type": "code",
   "execution_count": 157,
   "id": "4ffb91dd-0f87-4eb2-b56e-91c419a20664",
   "metadata": {},
   "outputs": [
    {
     "data": {
      "text/html": [
       "<div>\n",
       "<style scoped>\n",
       "    .dataframe tbody tr th:only-of-type {\n",
       "        vertical-align: middle;\n",
       "    }\n",
       "\n",
       "    .dataframe tbody tr th {\n",
       "        vertical-align: top;\n",
       "    }\n",
       "\n",
       "    .dataframe thead th {\n",
       "        text-align: right;\n",
       "    }\n",
       "</style>\n",
       "<table border=\"1\" class=\"dataframe\">\n",
       "  <thead>\n",
       "    <tr style=\"text-align: right;\">\n",
       "      <th></th>\n",
       "      <th>id</th>\n",
       "      <th>objectType</th>\n",
       "      <th>classification</th>\n",
       "      <th>name</th>\n",
       "      <th>isLocked</th>\n",
       "      <th>geometry</th>\n",
       "    </tr>\n",
       "  </thead>\n",
       "  <tbody>\n",
       "    <tr>\n",
       "      <th>3</th>\n",
       "      <td>3e2e81db-0e02-4b32-9565-ee876f1f0e73</td>\n",
       "      <td>annotation</td>\n",
       "      <td>{'name': 'Tumor', 'color': [200, 0, 0]}</td>\n",
       "      <td>None</td>\n",
       "      <td>None</td>\n",
       "      <td>POLYGON ((7493.00000 12129.00000, 7487.00000 1...</td>\n",
       "    </tr>\n",
       "    <tr>\n",
       "      <th>4</th>\n",
       "      <td>e6ac1916-2781-4fa9-98b6-e8f1b262daee</td>\n",
       "      <td>annotation</td>\n",
       "      <td>{'name': 'Tumor', 'color': [200, 0, 0]}</td>\n",
       "      <td>None</td>\n",
       "      <td>None</td>\n",
       "      <td>POLYGON ((6796.00000 12243.00000, 6790.00000 1...</td>\n",
       "    </tr>\n",
       "    <tr>\n",
       "      <th>5</th>\n",
       "      <td>b7b74c76-b03f-4592-b47f-83f045d84a1e</td>\n",
       "      <td>annotation</td>\n",
       "      <td>{'name': 'Tumor', 'color': [200, 0, 0]}</td>\n",
       "      <td>None</td>\n",
       "      <td>None</td>\n",
       "      <td>POLYGON ((7043.00000 12839.50000, 7042.65000 1...</td>\n",
       "    </tr>\n",
       "  </tbody>\n",
       "</table>\n",
       "</div>"
      ],
      "text/plain": [
       "                                     id  objectType  \\\n",
       "3  3e2e81db-0e02-4b32-9565-ee876f1f0e73  annotation   \n",
       "4  e6ac1916-2781-4fa9-98b6-e8f1b262daee  annotation   \n",
       "5  b7b74c76-b03f-4592-b47f-83f045d84a1e  annotation   \n",
       "\n",
       "                            classification  name isLocked  \\\n",
       "3  {'name': 'Tumor', 'color': [200, 0, 0]}  None     None   \n",
       "4  {'name': 'Tumor', 'color': [200, 0, 0]}  None     None   \n",
       "5  {'name': 'Tumor', 'color': [200, 0, 0]}  None     None   \n",
       "\n",
       "                                            geometry  \n",
       "3  POLYGON ((7493.00000 12129.00000, 7487.00000 1...  \n",
       "4  POLYGON ((6796.00000 12243.00000, 6790.00000 1...  \n",
       "5  POLYGON ((7043.00000 12839.50000, 7042.65000 1...  "
      ]
     },
     "execution_count": 157,
     "metadata": {},
     "output_type": "execute_result"
    }
   ],
   "source": [
    "df_copy"
   ]
  },
  {
   "cell_type": "code",
   "execution_count": 173,
   "id": "e961d1ea-31cc-432f-bc67-34acbee91b56",
   "metadata": {},
   "outputs": [
    {
     "data": {
      "image/svg+xml": [
       "<svg xmlns=\"http://www.w3.org/2000/svg\" xmlns:xlink=\"http://www.w3.org/1999/xlink\" width=\"192.1200000000008\" height=\"231.11999999999898\" viewBox=\"6702.44 12234.44 192.1200000000008 231.11999999999898\" preserveAspectRatio=\"xMinYMin meet\"><g transform=\"matrix(1,0,0,-1,0,24700.0)\"><path fill-rule=\"evenodd\" fill=\"#66cc99\" stroke=\"#555555\" stroke-width=\"2.0\" opacity=\"0.6\" d=\"M 6796.0,12243.0 L 6790.0,12244.0 L 6788.0,12244.8 L 6787.0,12245.0 L 6784.0,12246.0 L 6782.0,12246.0 L 6777.0,12248.0 L 6775.0,12249.0 L 6771.0,12252.0 L 6768.0,12254.4 L 6767.0,12255.0 L 6766.21,12255.83 L 6766.0,12256.0 L 6765.91,12256.14 L 6748.0,12275.0 L 6745.0,12280.0 L 6743.0,12283.2 L 6742.0,12284.0 L 6739.0,12289.0 L 6738.21,12290.99 L 6737.0,12293.0 L 6736.75,12294.27 L 6733.0,12301.0 L 6732.2,12303.0 L 6731.0,12305.0 L 6730.0,12310.0 L 6726.27,12333.33 L 6726.0,12334.0 L 6725.0,12340.0 L 6725.0,12341.0 L 6725.0,12341.9 L 6720.07,12353.24 L 6718.0,12356.0 L 6716.0,12362.0 L 6712.0,12377.0 L 6712.0,12378.0 L 6711.0,12384.0 L 6711.0,12388.0 L 6712.0,12394.0 L 6712.44,12395.11 L 6713.0,12399.0 L 6713.0,12402.0 L 6714.0,12406.0 L 6714.0,12407.0 L 6716.0,12412.0 L 6721.0,12422.0 L 6724.0,12426.0 L 6728.0,12431.0 L 6728.54,12431.32 L 6734.0,12438.0 L 6738.0,12442.0 L 6742.0,12445.0 L 6751.0,12450.0 L 6753.0,12450.8 L 6755.0,12452.0 L 6760.0,12453.0 L 6766.0,12454.0 L 6775.17,12455.67 L 6776.0,12456.0 L 6782.0,12457.0 L 6796.0,12457.0 L 6802.0,12456.0 L 6804.0,12456.0 L 6809.0,12454.0 L 6811.0,12453.0 L 6813.29,12451.29 L 6821.0,12448.2 L 6822.0,12448.0 L 6827.0,12446.0 L 6828.17,12445.33 L 6829.0,12445.0 L 6829.33,12444.67 L 6841.0,12438.0 L 6842.0,12437.4 L 6843.0,12437.0 L 6846.0,12435.0 L 6849.0,12433.0 L 6857.0,12425.0 L 6861.0,12422.0 L 6866.0,12418.0 L 6869.0,12413.0 L 6869.8,12411.0 L 6875.5,12401.5 L 6876.0,12401.0 L 6879.0,12396.0 L 6879.4,12395.0 L 6880.0,12394.0 L 6880.14,12393.14 L 6881.0,12391.0 L 6881.75,12388.0 L 6884.0,12382.0 L 6884.6,12379.0 L 6885.0,12378.0 L 6886.0,12372.0 L 6886.0,12371.0 L 6886.0,12367.0 L 6886.0,12359.0 L 6886.0,12355.0 L 6885.0,12349.0 L 6884.14,12346.86 L 6884.0,12346.0 L 6879.41,12331.47 L 6879.0,12329.0 L 6878.0,12325.0 L 6877.2,12323.0 L 6877.0,12322.0 L 6871.0,12306.0 L 6870.25,12304.75 L 6870.0,12304.0 L 6868.0,12299.0 L 6865.0,12294.0 L 6864.65,12293.72 L 6860.8,12286.5 L 6859.0,12282.0 L 6857.0,12280.0 L 6853.67,12276.67 L 6851.55,12273.64 L 6851.0,12272.0 L 6848.0,12268.0 L 6847.29,12267.15 L 6846.0,12265.0 L 6843.0,12262.0 L 6839.0,12258.0 L 6838.0,12257.0 L 6834.0,12254.0 L 6833.0,12253.0 L 6831.01,12252.2 L 6829.0,12251.0 L 6828.54,12250.82 L 6826.0,12249.0 L 6825.0,12248.0 L 6823.0,12247.2 L 6821.0,12246.0 L 6815.0,12244.0 L 6810.0,12243.0 L 6809.5,12243.08 L 6809.0,12243.0 L 6796.0,12243.0 z\" /></g></svg>"
      ],
      "text/plain": [
       "<POLYGON ((6796 12243, 6790 12244, 6788 12244.8, 6787 12245, 6784 12246, 678...>"
      ]
     },
     "execution_count": 173,
     "metadata": {},
     "output_type": "execute_result"
    }
   ],
   "source": [
    "df_copy['geometry'][1]"
   ]
  },
  {
   "cell_type": "code",
   "execution_count": 172,
   "id": "8b38ab90-b3b2-4f27-b9e8-da5562a62070",
   "metadata": {},
   "outputs": [],
   "source": [
    "df_copy = df_copy.reset_index()"
   ]
  },
  {
   "cell_type": "code",
   "execution_count": 174,
   "id": "256d73ba-2148-48c1-9fe5-6a88bcde2dad",
   "metadata": {
    "collapsed": true,
    "jupyter": {
     "outputs_hidden": true
    },
    "tags": []
   },
   "outputs": [
    {
     "ename": "InvalidIndexError",
     "evalue": "(0     True\n1    False\n2    False\nName: id, dtype: bool, 'geometry')",
     "output_type": "error",
     "traceback": [
      "\u001b[1;31m---------------------------------------------------------------------------\u001b[0m",
      "\u001b[1;31mTypeError\u001b[0m                                 Traceback (most recent call last)",
      "File \u001b[1;32m~\\Jose_BI\\Anaconda\\envs\\data\\lib\\site-packages\\pandas\\core\\indexes\\base.py:3629\u001b[0m, in \u001b[0;36mIndex.get_loc\u001b[1;34m(self, key, method, tolerance)\u001b[0m\n\u001b[0;32m   3628\u001b[0m \u001b[38;5;28;01mtry\u001b[39;00m:\n\u001b[1;32m-> 3629\u001b[0m     \u001b[38;5;28;01mreturn\u001b[39;00m \u001b[38;5;28;43mself\u001b[39;49m\u001b[38;5;241;43m.\u001b[39;49m\u001b[43m_engine\u001b[49m\u001b[38;5;241;43m.\u001b[39;49m\u001b[43mget_loc\u001b[49m\u001b[43m(\u001b[49m\u001b[43mcasted_key\u001b[49m\u001b[43m)\u001b[49m\n\u001b[0;32m   3630\u001b[0m \u001b[38;5;28;01mexcept\u001b[39;00m \u001b[38;5;167;01mKeyError\u001b[39;00m \u001b[38;5;28;01mas\u001b[39;00m err:\n",
      "File \u001b[1;32m~\\Jose_BI\\Anaconda\\envs\\data\\lib\\site-packages\\pandas\\_libs\\index.pyx:136\u001b[0m, in \u001b[0;36mpandas._libs.index.IndexEngine.get_loc\u001b[1;34m()\u001b[0m\n",
      "File \u001b[1;32m~\\Jose_BI\\Anaconda\\envs\\data\\lib\\site-packages\\pandas\\_libs\\index.pyx:142\u001b[0m, in \u001b[0;36mpandas._libs.index.IndexEngine.get_loc\u001b[1;34m()\u001b[0m\n",
      "\u001b[1;31mTypeError\u001b[0m: '(0     True\n1    False\n2    False\nName: id, dtype: bool, 'geometry')' is an invalid key",
      "\nDuring handling of the above exception, another exception occurred:\n",
      "\u001b[1;31mInvalidIndexError\u001b[0m                         Traceback (most recent call last)",
      "Input \u001b[1;32mIn [174]\u001b[0m, in \u001b[0;36m<cell line: 1>\u001b[1;34m()\u001b[0m\n\u001b[1;32m----> 1\u001b[0m \u001b[43mreplace_coords\u001b[49m\u001b[43m(\u001b[49m\u001b[43mdf_copy\u001b[49m\u001b[43m)\u001b[49m\n",
      "Input \u001b[1;32mIn [151]\u001b[0m, in \u001b[0;36mreplace_coords\u001b[1;34m(df)\u001b[0m\n\u001b[0;32m      4\u001b[0m \u001b[38;5;28;01mdef\u001b[39;00m \u001b[38;5;21mreplace_coords\u001b[39m(df):\n\u001b[0;32m      6\u001b[0m     \u001b[38;5;28;01mfor\u001b[39;00m i \u001b[38;5;129;01min\u001b[39;00m df[\u001b[38;5;124m'\u001b[39m\u001b[38;5;124mid\u001b[39m\u001b[38;5;124m'\u001b[39m]:\n\u001b[0;32m      7\u001b[0m         \u001b[38;5;66;03m#get geometry object for current row\u001b[39;00m\n\u001b[1;32m----> 8\u001b[0m         geom \u001b[38;5;241m=\u001b[39m \u001b[43mdf\u001b[49m\u001b[43m[\u001b[49m\u001b[43mdf\u001b[49m\u001b[43m[\u001b[49m\u001b[38;5;124;43m'\u001b[39;49m\u001b[38;5;124;43mid\u001b[39;49m\u001b[38;5;124;43m'\u001b[39;49m\u001b[43m]\u001b[49m\u001b[38;5;241;43m==\u001b[39;49m\u001b[43mi\u001b[49m\u001b[43m,\u001b[49m\u001b[43m \u001b[49m\u001b[38;5;124;43m'\u001b[39;49m\u001b[38;5;124;43mgeometry\u001b[39;49m\u001b[38;5;124;43m'\u001b[39;49m\u001b[43m]\u001b[49m \n\u001b[0;32m      9\u001b[0m         \u001b[38;5;66;03m#convert object into list of tuples\u001b[39;00m\n\u001b[0;32m     10\u001b[0m         tmp \u001b[38;5;241m=\u001b[39m \u001b[38;5;28mlist\u001b[39m(geom\u001b[38;5;241m.\u001b[39mexterior\u001b[38;5;241m.\u001b[39mcoords)\n",
      "File \u001b[1;32m~\\Jose_BI\\Anaconda\\envs\\data\\lib\\site-packages\\geopandas\\geodataframe.py:1415\u001b[0m, in \u001b[0;36mGeoDataFrame.__getitem__\u001b[1;34m(self, key)\u001b[0m\n\u001b[0;32m   1409\u001b[0m \u001b[38;5;28;01mdef\u001b[39;00m \u001b[38;5;21m__getitem__\u001b[39m(\u001b[38;5;28mself\u001b[39m, key):\n\u001b[0;32m   1410\u001b[0m     \u001b[38;5;124;03m\"\"\"\u001b[39;00m\n\u001b[0;32m   1411\u001b[0m \u001b[38;5;124;03m    If the result is a column containing only 'geometry', return a\u001b[39;00m\n\u001b[0;32m   1412\u001b[0m \u001b[38;5;124;03m    GeoSeries. If it's a DataFrame with any columns of GeometryDtype,\u001b[39;00m\n\u001b[0;32m   1413\u001b[0m \u001b[38;5;124;03m    return a GeoDataFrame.\u001b[39;00m\n\u001b[0;32m   1414\u001b[0m \u001b[38;5;124;03m    \"\"\"\u001b[39;00m\n\u001b[1;32m-> 1415\u001b[0m     result \u001b[38;5;241m=\u001b[39m \u001b[38;5;28;43msuper\u001b[39;49m\u001b[43m(\u001b[49m\u001b[43m)\u001b[49m\u001b[38;5;241;43m.\u001b[39;49m\u001b[38;5;21;43m__getitem__\u001b[39;49m\u001b[43m(\u001b[49m\u001b[43mkey\u001b[49m\u001b[43m)\u001b[49m\n\u001b[0;32m   1416\u001b[0m     geo_col \u001b[38;5;241m=\u001b[39m \u001b[38;5;28mself\u001b[39m\u001b[38;5;241m.\u001b[39m_geometry_column_name\n\u001b[0;32m   1417\u001b[0m     \u001b[38;5;28;01mif\u001b[39;00m \u001b[38;5;28misinstance\u001b[39m(result, Series) \u001b[38;5;129;01mand\u001b[39;00m \u001b[38;5;28misinstance\u001b[39m(result\u001b[38;5;241m.\u001b[39mdtype, GeometryDtype):\n",
      "File \u001b[1;32m~\\Jose_BI\\Anaconda\\envs\\data\\lib\\site-packages\\pandas\\core\\frame.py:3505\u001b[0m, in \u001b[0;36mDataFrame.__getitem__\u001b[1;34m(self, key)\u001b[0m\n\u001b[0;32m   3503\u001b[0m \u001b[38;5;28;01mif\u001b[39;00m \u001b[38;5;28mself\u001b[39m\u001b[38;5;241m.\u001b[39mcolumns\u001b[38;5;241m.\u001b[39mnlevels \u001b[38;5;241m>\u001b[39m \u001b[38;5;241m1\u001b[39m:\n\u001b[0;32m   3504\u001b[0m     \u001b[38;5;28;01mreturn\u001b[39;00m \u001b[38;5;28mself\u001b[39m\u001b[38;5;241m.\u001b[39m_getitem_multilevel(key)\n\u001b[1;32m-> 3505\u001b[0m indexer \u001b[38;5;241m=\u001b[39m \u001b[38;5;28;43mself\u001b[39;49m\u001b[38;5;241;43m.\u001b[39;49m\u001b[43mcolumns\u001b[49m\u001b[38;5;241;43m.\u001b[39;49m\u001b[43mget_loc\u001b[49m\u001b[43m(\u001b[49m\u001b[43mkey\u001b[49m\u001b[43m)\u001b[49m\n\u001b[0;32m   3506\u001b[0m \u001b[38;5;28;01mif\u001b[39;00m is_integer(indexer):\n\u001b[0;32m   3507\u001b[0m     indexer \u001b[38;5;241m=\u001b[39m [indexer]\n",
      "File \u001b[1;32m~\\Jose_BI\\Anaconda\\envs\\data\\lib\\site-packages\\pandas\\core\\indexes\\base.py:3636\u001b[0m, in \u001b[0;36mIndex.get_loc\u001b[1;34m(self, key, method, tolerance)\u001b[0m\n\u001b[0;32m   3631\u001b[0m         \u001b[38;5;28;01mraise\u001b[39;00m \u001b[38;5;167;01mKeyError\u001b[39;00m(key) \u001b[38;5;28;01mfrom\u001b[39;00m \u001b[38;5;21;01merr\u001b[39;00m\n\u001b[0;32m   3632\u001b[0m     \u001b[38;5;28;01mexcept\u001b[39;00m \u001b[38;5;167;01mTypeError\u001b[39;00m:\n\u001b[0;32m   3633\u001b[0m         \u001b[38;5;66;03m# If we have a listlike key, _check_indexing_error will raise\u001b[39;00m\n\u001b[0;32m   3634\u001b[0m         \u001b[38;5;66;03m#  InvalidIndexError. Otherwise we fall through and re-raise\u001b[39;00m\n\u001b[0;32m   3635\u001b[0m         \u001b[38;5;66;03m#  the TypeError.\u001b[39;00m\n\u001b[1;32m-> 3636\u001b[0m         \u001b[38;5;28;43mself\u001b[39;49m\u001b[38;5;241;43m.\u001b[39;49m\u001b[43m_check_indexing_error\u001b[49m\u001b[43m(\u001b[49m\u001b[43mkey\u001b[49m\u001b[43m)\u001b[49m\n\u001b[0;32m   3637\u001b[0m         \u001b[38;5;28;01mraise\u001b[39;00m\n\u001b[0;32m   3639\u001b[0m \u001b[38;5;66;03m# GH#42269\u001b[39;00m\n",
      "File \u001b[1;32m~\\Jose_BI\\Anaconda\\envs\\data\\lib\\site-packages\\pandas\\core\\indexes\\base.py:5651\u001b[0m, in \u001b[0;36mIndex._check_indexing_error\u001b[1;34m(self, key)\u001b[0m\n\u001b[0;32m   5647\u001b[0m \u001b[38;5;28;01mdef\u001b[39;00m \u001b[38;5;21m_check_indexing_error\u001b[39m(\u001b[38;5;28mself\u001b[39m, key):\n\u001b[0;32m   5648\u001b[0m     \u001b[38;5;28;01mif\u001b[39;00m \u001b[38;5;129;01mnot\u001b[39;00m is_scalar(key):\n\u001b[0;32m   5649\u001b[0m         \u001b[38;5;66;03m# if key is not a scalar, directly raise an error (the code below\u001b[39;00m\n\u001b[0;32m   5650\u001b[0m         \u001b[38;5;66;03m# would convert to numpy arrays and raise later any way) - GH29926\u001b[39;00m\n\u001b[1;32m-> 5651\u001b[0m         \u001b[38;5;28;01mraise\u001b[39;00m InvalidIndexError(key)\n",
      "\u001b[1;31mInvalidIndexError\u001b[0m: (0     True\n1    False\n2    False\nName: id, dtype: bool, 'geometry')"
     ]
    }
   ],
   "source": [
    "replace_coords(df_copy)"
   ]
  },
  {
   "cell_type": "code",
   "execution_count": 151,
   "id": "454a227e-a5cb-456a-a047-1565c03b0a7f",
   "metadata": {},
   "outputs": [],
   "source": [
    "#replace poly_df entry with list of lists with coordenates\n",
    "#assumes all entries are polygons\n",
    "\n",
    "def replace_coords(df):\n",
    "    \n",
    "    for i in df['id']:\n",
    "        #get geometry object for current row\n",
    "        geom = df[df['id']==i, 'geometry'] \n",
    "        #convert object into list of tuples\n",
    "        tmp = list(geom.exterior.coords)\n",
    "        # convert a list of tuples into a list of lists\n",
    "        tmp = [list(i) for i in thelist]\n",
    "        #replace dataframe with new list of lists instead of geometry objects\n",
    "        df.loc([i,'geometry']) == tmp\n",
    "    \n",
    "    return(df)"
   ]
  },
  {
   "cell_type": "code",
   "execution_count": 189,
   "id": "32501cf7-f9db-4f4b-bf88-ef1b2335e366",
   "metadata": {},
   "outputs": [],
   "source": [
    "#replace poly_df entry with list of lists with coordenates\n",
    "#assumes all entries are polygons\n",
    "\n",
    "def replace_coords2(df):\n",
    "    \n",
    "    for i in df.index:\n",
    "        print(i)\n",
    "        geom = df.at[i, 'geometry']\n",
    "        print(geom)\n",
    "        #get geometry object for current row\n",
    "        #geom = df[df['id']==i, 'geometry'] \n",
    "        #convert object into list of tuples\n",
    "        df.at[i, 'geometry']\n",
    "        print(tmp_list[:10])\n",
    "        # convert a list of tuples into a list of lists\n",
    "        tmp_lol = [list(i) for i in thelist]\n",
    "        print(tmp_lol[:10])\n",
    "        #replace dataframe with new list of lists instead of geometry objects\n",
    "        df.at[i, 'geometry'] == tmp_lol\n",
    "    \n",
    "    return df\n",
    "\n",
    "\n",
    "df.loc[\"Mary\", \"age\"]"
   ]
  },
  {
   "cell_type": "code",
   "execution_count": 208,
   "id": "d77f122e-8b3a-4cec-b79a-3b334e895018",
   "metadata": {},
   "outputs": [],
   "source": [
    "df_copy[0] = 'tony'"
   ]
  },
  {
   "cell_type": "code",
   "execution_count": 213,
   "id": "bfcc0afd-f17d-444e-bfc0-597d190b6231",
   "metadata": {},
   "outputs": [],
   "source": [
    "df_copy.at[2,'lol'] = 'yes'"
   ]
  },
  {
   "cell_type": "code",
   "execution_count": 214,
   "id": "800e6243-ea22-4f19-a8e0-3ddc3faf632c",
   "metadata": {},
   "outputs": [
    {
     "data": {
      "text/html": [
       "<div>\n",
       "<style scoped>\n",
       "    .dataframe tbody tr th:only-of-type {\n",
       "        vertical-align: middle;\n",
       "    }\n",
       "\n",
       "    .dataframe tbody tr th {\n",
       "        vertical-align: top;\n",
       "    }\n",
       "\n",
       "    .dataframe thead th {\n",
       "        text-align: right;\n",
       "    }\n",
       "</style>\n",
       "<table border=\"1\" class=\"dataframe\">\n",
       "  <thead>\n",
       "    <tr style=\"text-align: right;\">\n",
       "      <th></th>\n",
       "      <th>index</th>\n",
       "      <th>id</th>\n",
       "      <th>objectType</th>\n",
       "      <th>classification</th>\n",
       "      <th>name</th>\n",
       "      <th>isLocked</th>\n",
       "      <th>geometry</th>\n",
       "      <th>lol</th>\n",
       "      <th>0</th>\n",
       "    </tr>\n",
       "  </thead>\n",
       "  <tbody>\n",
       "    <tr>\n",
       "      <th>0</th>\n",
       "      <td>3</td>\n",
       "      <td>3e2e81db-0e02-4b32-9565-ee876f1f0e73</td>\n",
       "      <td>annotation</td>\n",
       "      <td>{'name': 'Tumor', 'color': [200, 0, 0]}</td>\n",
       "      <td>None</td>\n",
       "      <td>None</td>\n",
       "      <td>POLYGON ((7493.00000 12129.00000, 7487.00000 1...</td>\n",
       "      <td>damn</td>\n",
       "      <td>tony</td>\n",
       "    </tr>\n",
       "    <tr>\n",
       "      <th>1</th>\n",
       "      <td>4</td>\n",
       "      <td>e6ac1916-2781-4fa9-98b6-e8f1b262daee</td>\n",
       "      <td>annotation</td>\n",
       "      <td>{'name': 'Tumor', 'color': [200, 0, 0]}</td>\n",
       "      <td>None</td>\n",
       "      <td>None</td>\n",
       "      <td>POLYGON ((6796.00000 12243.00000, 6790.00000 1...</td>\n",
       "      <td>damn</td>\n",
       "      <td>tony</td>\n",
       "    </tr>\n",
       "    <tr>\n",
       "      <th>2</th>\n",
       "      <td>5</td>\n",
       "      <td>b7b74c76-b03f-4592-b47f-83f045d84a1e</td>\n",
       "      <td>annotation</td>\n",
       "      <td>{'name': 'Tumor', 'color': [200, 0, 0]}</td>\n",
       "      <td>None</td>\n",
       "      <td>None</td>\n",
       "      <td>POLYGON ((7043.00000 12839.50000, 7042.65000 1...</td>\n",
       "      <td>yes</td>\n",
       "      <td>tony</td>\n",
       "    </tr>\n",
       "  </tbody>\n",
       "</table>\n",
       "</div>"
      ],
      "text/plain": [
       "   index                                    id  objectType  \\\n",
       "0      3  3e2e81db-0e02-4b32-9565-ee876f1f0e73  annotation   \n",
       "1      4  e6ac1916-2781-4fa9-98b6-e8f1b262daee  annotation   \n",
       "2      5  b7b74c76-b03f-4592-b47f-83f045d84a1e  annotation   \n",
       "\n",
       "                            classification  name isLocked  \\\n",
       "0  {'name': 'Tumor', 'color': [200, 0, 0]}  None     None   \n",
       "1  {'name': 'Tumor', 'color': [200, 0, 0]}  None     None   \n",
       "2  {'name': 'Tumor', 'color': [200, 0, 0]}  None     None   \n",
       "\n",
       "                                            geometry   lol     0  \n",
       "0  POLYGON ((7493.00000 12129.00000, 7487.00000 1...  damn  tony  \n",
       "1  POLYGON ((6796.00000 12243.00000, 6790.00000 1...  damn  tony  \n",
       "2  POLYGON ((7043.00000 12839.50000, 7042.65000 1...   yes  tony  "
      ]
     },
     "execution_count": 214,
     "metadata": {},
     "output_type": "execute_result"
    }
   ],
   "source": [
    "df_copy."
   ]
  },
  {
   "cell_type": "code",
   "execution_count": 215,
   "id": "d14c4e82-ea59-46a6-ad85-3820f8819eb3",
   "metadata": {
    "collapsed": true,
    "jupyter": {
     "outputs_hidden": true
    },
    "tags": []
   },
   "outputs": [
    {
     "name": "stdout",
     "output_type": "stream",
     "text": [
      "0\n"
     ]
    },
    {
     "ename": "ValueError",
     "evalue": "Must have equal len keys and value when setting with an ndarray",
     "output_type": "error",
     "traceback": [
      "\u001b[1;31m---------------------------------------------------------------------------\u001b[0m",
      "\u001b[1;31mTypeError\u001b[0m                                 Traceback (most recent call last)",
      "\u001b[1;31mTypeError\u001b[0m: float() argument must be a string or a real number, not 'list'",
      "\nThe above exception was the direct cause of the following exception:\n",
      "\u001b[1;31mValueError\u001b[0m                                Traceback (most recent call last)",
      "File \u001b[1;32m~\\Jose_BI\\Anaconda\\envs\\data\\lib\\site-packages\\pandas\\core\\frame.py:3873\u001b[0m, in \u001b[0;36mDataFrame._set_value\u001b[1;34m(self, index, col, value, takeable)\u001b[0m\n\u001b[0;32m   3871\u001b[0m     \u001b[38;5;66;03m# setitem_inplace will do validation that may raise TypeError\u001b[39;00m\n\u001b[0;32m   3872\u001b[0m     \u001b[38;5;66;03m#  or ValueError\u001b[39;00m\n\u001b[1;32m-> 3873\u001b[0m     \u001b[43mseries\u001b[49m\u001b[38;5;241;43m.\u001b[39;49m\u001b[43m_mgr\u001b[49m\u001b[38;5;241;43m.\u001b[39;49m\u001b[43msetitem_inplace\u001b[49m\u001b[43m(\u001b[49m\u001b[43mloc\u001b[49m\u001b[43m,\u001b[49m\u001b[43m \u001b[49m\u001b[43mvalue\u001b[49m\u001b[43m)\u001b[49m\n\u001b[0;32m   3875\u001b[0m \u001b[38;5;28;01mexcept\u001b[39;00m (\u001b[38;5;167;01mKeyError\u001b[39;00m, \u001b[38;5;167;01mTypeError\u001b[39;00m, \u001b[38;5;167;01mValueError\u001b[39;00m):\n\u001b[0;32m   3876\u001b[0m     \u001b[38;5;66;03m# set using a non-recursive method & reset the cache\u001b[39;00m\n",
      "File \u001b[1;32m~\\Jose_BI\\Anaconda\\envs\\data\\lib\\site-packages\\pandas\\core\\internals\\base.py:190\u001b[0m, in \u001b[0;36mSingleDataManager.setitem_inplace\u001b[1;34m(self, indexer, value)\u001b[0m\n\u001b[0;32m    188\u001b[0m     value \u001b[38;5;241m=\u001b[39m np_can_hold_element(arr\u001b[38;5;241m.\u001b[39mdtype, value)\n\u001b[1;32m--> 190\u001b[0m arr[indexer] \u001b[38;5;241m=\u001b[39m value\n",
      "\u001b[1;31mValueError\u001b[0m: setting an array element with a sequence.",
      "\nDuring handling of the above exception, another exception occurred:\n",
      "\u001b[1;31mValueError\u001b[0m                                Traceback (most recent call last)",
      "Input \u001b[1;32mIn [215]\u001b[0m, in \u001b[0;36m<cell line: 5>\u001b[1;34m()\u001b[0m\n\u001b[0;32m     12\u001b[0m tmp_lol \u001b[38;5;241m=\u001b[39m [\u001b[38;5;28mlist\u001b[39m(i) \u001b[38;5;28;01mfor\u001b[39;00m i \u001b[38;5;129;01min\u001b[39;00m tmp]\n\u001b[0;32m     13\u001b[0m \u001b[38;5;66;03m#print(tmp_lol)\u001b[39;00m\n\u001b[1;32m---> 14\u001b[0m df_copy\u001b[38;5;241m.\u001b[39mat[i,\u001b[38;5;124m'\u001b[39m\u001b[38;5;124mlol\u001b[39m\u001b[38;5;124m'\u001b[39m] \u001b[38;5;241m=\u001b[39m tmp_lol\n",
      "File \u001b[1;32m~\\Jose_BI\\Anaconda\\envs\\data\\lib\\site-packages\\pandas\\core\\indexing.py:2286\u001b[0m, in \u001b[0;36m_AtIndexer.__setitem__\u001b[1;34m(self, key, value)\u001b[0m\n\u001b[0;32m   2283\u001b[0m     \u001b[38;5;28mself\u001b[39m\u001b[38;5;241m.\u001b[39mobj\u001b[38;5;241m.\u001b[39mloc[key] \u001b[38;5;241m=\u001b[39m value\n\u001b[0;32m   2284\u001b[0m     \u001b[38;5;28;01mreturn\u001b[39;00m\n\u001b[1;32m-> 2286\u001b[0m \u001b[38;5;28;01mreturn\u001b[39;00m \u001b[38;5;28;43msuper\u001b[39;49m\u001b[43m(\u001b[49m\u001b[43m)\u001b[49m\u001b[38;5;241;43m.\u001b[39;49m\u001b[38;5;21;43m__setitem__\u001b[39;49m\u001b[43m(\u001b[49m\u001b[43mkey\u001b[49m\u001b[43m,\u001b[49m\u001b[43m \u001b[49m\u001b[43mvalue\u001b[49m\u001b[43m)\u001b[49m\n",
      "File \u001b[1;32m~\\Jose_BI\\Anaconda\\envs\\data\\lib\\site-packages\\pandas\\core\\indexing.py:2241\u001b[0m, in \u001b[0;36m_ScalarAccessIndexer.__setitem__\u001b[1;34m(self, key, value)\u001b[0m\n\u001b[0;32m   2238\u001b[0m \u001b[38;5;28;01mif\u001b[39;00m \u001b[38;5;28mlen\u001b[39m(key) \u001b[38;5;241m!=\u001b[39m \u001b[38;5;28mself\u001b[39m\u001b[38;5;241m.\u001b[39mndim:\n\u001b[0;32m   2239\u001b[0m     \u001b[38;5;28;01mraise\u001b[39;00m \u001b[38;5;167;01mValueError\u001b[39;00m(\u001b[38;5;124m\"\u001b[39m\u001b[38;5;124mNot enough indexers for scalar access (setting)!\u001b[39m\u001b[38;5;124m\"\u001b[39m)\n\u001b[1;32m-> 2241\u001b[0m \u001b[38;5;28;43mself\u001b[39;49m\u001b[38;5;241;43m.\u001b[39;49m\u001b[43mobj\u001b[49m\u001b[38;5;241;43m.\u001b[39;49m\u001b[43m_set_value\u001b[49m\u001b[43m(\u001b[49m\u001b[38;5;241;43m*\u001b[39;49m\u001b[43mkey\u001b[49m\u001b[43m,\u001b[49m\u001b[43m \u001b[49m\u001b[43mvalue\u001b[49m\u001b[38;5;241;43m=\u001b[39;49m\u001b[43mvalue\u001b[49m\u001b[43m,\u001b[49m\u001b[43m \u001b[49m\u001b[43mtakeable\u001b[49m\u001b[38;5;241;43m=\u001b[39;49m\u001b[38;5;28;43mself\u001b[39;49m\u001b[38;5;241;43m.\u001b[39;49m\u001b[43m_takeable\u001b[49m\u001b[43m)\u001b[49m\n",
      "File \u001b[1;32m~\\Jose_BI\\Anaconda\\envs\\data\\lib\\site-packages\\pandas\\core\\frame.py:3880\u001b[0m, in \u001b[0;36mDataFrame._set_value\u001b[1;34m(self, index, col, value, takeable)\u001b[0m\n\u001b[0;32m   3878\u001b[0m     \u001b[38;5;28mself\u001b[39m\u001b[38;5;241m.\u001b[39miloc[index, col] \u001b[38;5;241m=\u001b[39m value\n\u001b[0;32m   3879\u001b[0m \u001b[38;5;28;01melse\u001b[39;00m:\n\u001b[1;32m-> 3880\u001b[0m     \u001b[38;5;28mself\u001b[39m\u001b[38;5;241m.\u001b[39mloc[index, col] \u001b[38;5;241m=\u001b[39m value\n\u001b[0;32m   3881\u001b[0m \u001b[38;5;28mself\u001b[39m\u001b[38;5;241m.\u001b[39m_item_cache\u001b[38;5;241m.\u001b[39mpop(col, \u001b[38;5;28;01mNone\u001b[39;00m)\n",
      "File \u001b[1;32m~\\Jose_BI\\Anaconda\\envs\\data\\lib\\site-packages\\pandas\\core\\indexing.py:716\u001b[0m, in \u001b[0;36m_LocationIndexer.__setitem__\u001b[1;34m(self, key, value)\u001b[0m\n\u001b[0;32m    713\u001b[0m \u001b[38;5;28mself\u001b[39m\u001b[38;5;241m.\u001b[39m_has_valid_setitem_indexer(key)\n\u001b[0;32m    715\u001b[0m iloc \u001b[38;5;241m=\u001b[39m \u001b[38;5;28mself\u001b[39m \u001b[38;5;28;01mif\u001b[39;00m \u001b[38;5;28mself\u001b[39m\u001b[38;5;241m.\u001b[39mname \u001b[38;5;241m==\u001b[39m \u001b[38;5;124m\"\u001b[39m\u001b[38;5;124miloc\u001b[39m\u001b[38;5;124m\"\u001b[39m \u001b[38;5;28;01melse\u001b[39;00m \u001b[38;5;28mself\u001b[39m\u001b[38;5;241m.\u001b[39mobj\u001b[38;5;241m.\u001b[39miloc\n\u001b[1;32m--> 716\u001b[0m \u001b[43miloc\u001b[49m\u001b[38;5;241;43m.\u001b[39;49m\u001b[43m_setitem_with_indexer\u001b[49m\u001b[43m(\u001b[49m\u001b[43mindexer\u001b[49m\u001b[43m,\u001b[49m\u001b[43m \u001b[49m\u001b[43mvalue\u001b[49m\u001b[43m,\u001b[49m\u001b[43m \u001b[49m\u001b[38;5;28;43mself\u001b[39;49m\u001b[38;5;241;43m.\u001b[39;49m\u001b[43mname\u001b[49m\u001b[43m)\u001b[49m\n",
      "File \u001b[1;32m~\\Jose_BI\\Anaconda\\envs\\data\\lib\\site-packages\\pandas\\core\\indexing.py:1691\u001b[0m, in \u001b[0;36m_iLocIndexer._setitem_with_indexer\u001b[1;34m(self, indexer, value, name)\u001b[0m\n\u001b[0;32m   1688\u001b[0m \u001b[38;5;66;03m# align and set the values\u001b[39;00m\n\u001b[0;32m   1689\u001b[0m \u001b[38;5;28;01mif\u001b[39;00m take_split_path:\n\u001b[0;32m   1690\u001b[0m     \u001b[38;5;66;03m# We have to operate column-wise\u001b[39;00m\n\u001b[1;32m-> 1691\u001b[0m     \u001b[38;5;28;43mself\u001b[39;49m\u001b[38;5;241;43m.\u001b[39;49m\u001b[43m_setitem_with_indexer_split_path\u001b[49m\u001b[43m(\u001b[49m\u001b[43mindexer\u001b[49m\u001b[43m,\u001b[49m\u001b[43m \u001b[49m\u001b[43mvalue\u001b[49m\u001b[43m,\u001b[49m\u001b[43m \u001b[49m\u001b[43mname\u001b[49m\u001b[43m)\u001b[49m\n\u001b[0;32m   1692\u001b[0m \u001b[38;5;28;01melse\u001b[39;00m:\n\u001b[0;32m   1693\u001b[0m     \u001b[38;5;28mself\u001b[39m\u001b[38;5;241m.\u001b[39m_setitem_single_block(indexer, value, name)\n",
      "File \u001b[1;32m~\\Jose_BI\\Anaconda\\envs\\data\\lib\\site-packages\\pandas\\core\\indexing.py:1730\u001b[0m, in \u001b[0;36m_iLocIndexer._setitem_with_indexer_split_path\u001b[1;34m(self, indexer, value, name)\u001b[0m\n\u001b[0;32m   1727\u001b[0m     \u001b[38;5;28mself\u001b[39m\u001b[38;5;241m.\u001b[39m_setitem_with_indexer_frame_value(indexer, value, name)\n\u001b[0;32m   1729\u001b[0m \u001b[38;5;28;01melif\u001b[39;00m np\u001b[38;5;241m.\u001b[39mndim(value) \u001b[38;5;241m==\u001b[39m \u001b[38;5;241m2\u001b[39m:\n\u001b[1;32m-> 1730\u001b[0m     \u001b[38;5;28;43mself\u001b[39;49m\u001b[38;5;241;43m.\u001b[39;49m\u001b[43m_setitem_with_indexer_2d_value\u001b[49m\u001b[43m(\u001b[49m\u001b[43mindexer\u001b[49m\u001b[43m,\u001b[49m\u001b[43m \u001b[49m\u001b[43mvalue\u001b[49m\u001b[43m)\u001b[49m\n\u001b[0;32m   1732\u001b[0m \u001b[38;5;28;01melif\u001b[39;00m \u001b[38;5;28mlen\u001b[39m(ilocs) \u001b[38;5;241m==\u001b[39m \u001b[38;5;241m1\u001b[39m \u001b[38;5;129;01mand\u001b[39;00m lplane_indexer \u001b[38;5;241m==\u001b[39m \u001b[38;5;28mlen\u001b[39m(value) \u001b[38;5;129;01mand\u001b[39;00m \u001b[38;5;129;01mnot\u001b[39;00m is_scalar(pi):\n\u001b[0;32m   1733\u001b[0m     \u001b[38;5;66;03m# We are setting multiple rows in a single column.\u001b[39;00m\n\u001b[0;32m   1734\u001b[0m     \u001b[38;5;28mself\u001b[39m\u001b[38;5;241m.\u001b[39m_setitem_single_column(ilocs[\u001b[38;5;241m0\u001b[39m], value, pi)\n",
      "File \u001b[1;32m~\\Jose_BI\\Anaconda\\envs\\data\\lib\\site-packages\\pandas\\core\\indexing.py:1796\u001b[0m, in \u001b[0;36m_iLocIndexer._setitem_with_indexer_2d_value\u001b[1;34m(self, indexer, value)\u001b[0m\n\u001b[0;32m   1794\u001b[0m value \u001b[38;5;241m=\u001b[39m np\u001b[38;5;241m.\u001b[39marray(value, dtype\u001b[38;5;241m=\u001b[39m\u001b[38;5;28mobject\u001b[39m)\n\u001b[0;32m   1795\u001b[0m \u001b[38;5;28;01mif\u001b[39;00m \u001b[38;5;28mlen\u001b[39m(ilocs) \u001b[38;5;241m!=\u001b[39m value\u001b[38;5;241m.\u001b[39mshape[\u001b[38;5;241m1\u001b[39m]:\n\u001b[1;32m-> 1796\u001b[0m     \u001b[38;5;28;01mraise\u001b[39;00m \u001b[38;5;167;01mValueError\u001b[39;00m(\n\u001b[0;32m   1797\u001b[0m         \u001b[38;5;124m\"\u001b[39m\u001b[38;5;124mMust have equal len keys and value when setting with an ndarray\u001b[39m\u001b[38;5;124m\"\u001b[39m\n\u001b[0;32m   1798\u001b[0m     )\n\u001b[0;32m   1800\u001b[0m \u001b[38;5;28;01mfor\u001b[39;00m i, loc \u001b[38;5;129;01min\u001b[39;00m \u001b[38;5;28menumerate\u001b[39m(ilocs):\n\u001b[0;32m   1801\u001b[0m     \u001b[38;5;66;03m# setting with a list, re-coerces\u001b[39;00m\n\u001b[0;32m   1802\u001b[0m     \u001b[38;5;28mself\u001b[39m\u001b[38;5;241m.\u001b[39m_setitem_single_column(loc, value[:, i]\u001b[38;5;241m.\u001b[39mtolist(), pi)\n",
      "\u001b[1;31mValueError\u001b[0m: Must have equal len keys and value when setting with an ndarray"
     ]
    }
   ],
   "source": [
    "df_copy['lol'] = np.nan\n",
    "df_copy = df_copy.reset_index()\n",
    "#print(df_copy)\n",
    "\n",
    "for i in df_copy.index:\n",
    "    print(i)\n",
    "    geom=df_copy.at[i, 'geometry']\n",
    "    # print(geom)\n",
    "    tmp = list(geom.exterior.coords)\n",
    "    #print(len(tmp))\n",
    "    #print(tmp[:10])\n",
    "    tmp_lol = [list(i) for i in tmp]\n",
    "    #print(tmp_lol)\n",
    "    df_copy.at[i,'lol'] = tmp_lol"
   ]
  },
  {
   "cell_type": "code",
   "execution_count": 232,
   "id": "78a4f942-5149-4fed-88e9-a634724516b3",
   "metadata": {},
   "outputs": [
    {
     "data": {
      "text/html": [
       "<div>\n",
       "<style scoped>\n",
       "    .dataframe tbody tr th:only-of-type {\n",
       "        vertical-align: middle;\n",
       "    }\n",
       "\n",
       "    .dataframe tbody tr th {\n",
       "        vertical-align: top;\n",
       "    }\n",
       "\n",
       "    .dataframe thead th {\n",
       "        text-align: right;\n",
       "    }\n",
       "</style>\n",
       "<table border=\"1\" class=\"dataframe\">\n",
       "  <thead>\n",
       "    <tr style=\"text-align: right;\">\n",
       "      <th></th>\n",
       "      <th>id</th>\n",
       "      <th>objectType</th>\n",
       "      <th>classification</th>\n",
       "      <th>name</th>\n",
       "      <th>isLocked</th>\n",
       "      <th>geometry</th>\n",
       "      <th>lol</th>\n",
       "    </tr>\n",
       "  </thead>\n",
       "  <tbody>\n",
       "    <tr>\n",
       "      <th>3</th>\n",
       "      <td>3e2e81db-0e02-4b32-9565-ee876f1f0e73</td>\n",
       "      <td>annotation</td>\n",
       "      <td>{'name': 'Tumor', 'color': [200, 0, 0]}</td>\n",
       "      <td>None</td>\n",
       "      <td>None</td>\n",
       "      <td>POLYGON ((7493.00000 12129.00000, 7487.00000 1...</td>\n",
       "      <td>NaN</td>\n",
       "    </tr>\n",
       "    <tr>\n",
       "      <th>4</th>\n",
       "      <td>e6ac1916-2781-4fa9-98b6-e8f1b262daee</td>\n",
       "      <td>annotation</td>\n",
       "      <td>{'name': 'Tumor', 'color': [200, 0, 0]}</td>\n",
       "      <td>None</td>\n",
       "      <td>None</td>\n",
       "      <td>POLYGON ((6796.00000 12243.00000, 6790.00000 1...</td>\n",
       "      <td>NaN</td>\n",
       "    </tr>\n",
       "    <tr>\n",
       "      <th>5</th>\n",
       "      <td>b7b74c76-b03f-4592-b47f-83f045d84a1e</td>\n",
       "      <td>annotation</td>\n",
       "      <td>{'name': 'Tumor', 'color': [200, 0, 0]}</td>\n",
       "      <td>None</td>\n",
       "      <td>None</td>\n",
       "      <td>POLYGON ((7043.00000 12839.50000, 7042.65000 1...</td>\n",
       "      <td>NaN</td>\n",
       "    </tr>\n",
       "  </tbody>\n",
       "</table>\n",
       "</div>"
      ],
      "text/plain": [
       "                                     id  objectType  \\\n",
       "3  3e2e81db-0e02-4b32-9565-ee876f1f0e73  annotation   \n",
       "4  e6ac1916-2781-4fa9-98b6-e8f1b262daee  annotation   \n",
       "5  b7b74c76-b03f-4592-b47f-83f045d84a1e  annotation   \n",
       "\n",
       "                            classification  name isLocked  \\\n",
       "3  {'name': 'Tumor', 'color': [200, 0, 0]}  None     None   \n",
       "4  {'name': 'Tumor', 'color': [200, 0, 0]}  None     None   \n",
       "5  {'name': 'Tumor', 'color': [200, 0, 0]}  None     None   \n",
       "\n",
       "                                            geometry  lol  \n",
       "3  POLYGON ((7493.00000 12129.00000, 7487.00000 1...  NaN  \n",
       "4  POLYGON ((6796.00000 12243.00000, 6790.00000 1...  NaN  \n",
       "5  POLYGON ((7043.00000 12839.50000, 7042.65000 1...  NaN  "
      ]
     },
     "execution_count": 232,
     "metadata": {},
     "output_type": "execute_result"
    }
   ],
   "source": [
    "poly_df"
   ]
  },
  {
   "cell_type": "code",
   "execution_count": 234,
   "id": "2d0bfa2c-8fd5-4007-9f1f-2626b6fec7ea",
   "metadata": {},
   "outputs": [
    {
     "name": "stderr",
     "output_type": "stream",
     "text": [
      "C:\\Users\\jnimoca\\Jose_BI\\Anaconda\\envs\\data\\lib\\site-packages\\geopandas\\geodataframe.py:1443: SettingWithCopyWarning: \n",
      "A value is trying to be set on a copy of a slice from a DataFrame.\n",
      "Try using .loc[row_indexer,col_indexer] = value instead\n",
      "\n",
      "See the caveats in the documentation: https://pandas.pydata.org/pandas-docs/stable/user_guide/indexing.html#returning-a-view-versus-a-copy\n",
      "  super().__setitem__(key, value)\n"
     ]
    }
   ],
   "source": [
    "poly_df['lol'] = poly_df['lol'].astype('object')"
   ]
  },
  {
   "cell_type": "code",
   "execution_count": 235,
   "id": "b0351f94-d9bc-48d2-be53-f092c3dd89e7",
   "metadata": {},
   "outputs": [
    {
     "name": "stdout",
     "output_type": "stream",
     "text": [
      "0\n",
      "0\n",
      "0\n"
     ]
    }
   ],
   "source": [
    "for x in poly_df.index:\n",
    "    print(i)\n",
    "    geom=poly_df.at[x, 'geometry']\n",
    "    # print(geom)\n",
    "    tmp = list(geom.exterior.coords)\n",
    "    #print(len(tmp))\n",
    "    #print(tmp[:10])\n",
    "    tmp_lol = [list(i) for i in tmp]\n",
    "    #print(tmp_lol)\n",
    "    poly_df.at[x,'lol'] = tmp_lol"
   ]
  },
  {
   "cell_type": "code",
   "execution_count": 236,
   "id": "36ef1c89-634c-48ad-a260-0aa933335cd3",
   "metadata": {},
   "outputs": [
    {
     "data": {
      "text/html": [
       "<div>\n",
       "<style scoped>\n",
       "    .dataframe tbody tr th:only-of-type {\n",
       "        vertical-align: middle;\n",
       "    }\n",
       "\n",
       "    .dataframe tbody tr th {\n",
       "        vertical-align: top;\n",
       "    }\n",
       "\n",
       "    .dataframe thead th {\n",
       "        text-align: right;\n",
       "    }\n",
       "</style>\n",
       "<table border=\"1\" class=\"dataframe\">\n",
       "  <thead>\n",
       "    <tr style=\"text-align: right;\">\n",
       "      <th></th>\n",
       "      <th>id</th>\n",
       "      <th>objectType</th>\n",
       "      <th>classification</th>\n",
       "      <th>name</th>\n",
       "      <th>isLocked</th>\n",
       "      <th>geometry</th>\n",
       "      <th>lol</th>\n",
       "    </tr>\n",
       "  </thead>\n",
       "  <tbody>\n",
       "    <tr>\n",
       "      <th>3</th>\n",
       "      <td>3e2e81db-0e02-4b32-9565-ee876f1f0e73</td>\n",
       "      <td>annotation</td>\n",
       "      <td>{'name': 'Tumor', 'color': [200, 0, 0]}</td>\n",
       "      <td>None</td>\n",
       "      <td>None</td>\n",
       "      <td>POLYGON ((7493.00000 12129.00000, 7487.00000 1...</td>\n",
       "      <td>[[7493.0, 12129.0], [7487.0, 12130.0], [7485.0...</td>\n",
       "    </tr>\n",
       "    <tr>\n",
       "      <th>4</th>\n",
       "      <td>e6ac1916-2781-4fa9-98b6-e8f1b262daee</td>\n",
       "      <td>annotation</td>\n",
       "      <td>{'name': 'Tumor', 'color': [200, 0, 0]}</td>\n",
       "      <td>None</td>\n",
       "      <td>None</td>\n",
       "      <td>POLYGON ((6796.00000 12243.00000, 6790.00000 1...</td>\n",
       "      <td>[[6796.0, 12243.0], [6790.0, 12244.0], [6788.0...</td>\n",
       "    </tr>\n",
       "    <tr>\n",
       "      <th>5</th>\n",
       "      <td>b7b74c76-b03f-4592-b47f-83f045d84a1e</td>\n",
       "      <td>annotation</td>\n",
       "      <td>{'name': 'Tumor', 'color': [200, 0, 0]}</td>\n",
       "      <td>None</td>\n",
       "      <td>None</td>\n",
       "      <td>POLYGON ((7043.00000 12839.50000, 7042.65000 1...</td>\n",
       "      <td>[[7043.0, 12839.5], [7042.65, 12846.0], [7041....</td>\n",
       "    </tr>\n",
       "  </tbody>\n",
       "</table>\n",
       "</div>"
      ],
      "text/plain": [
       "                                     id  objectType  \\\n",
       "3  3e2e81db-0e02-4b32-9565-ee876f1f0e73  annotation   \n",
       "4  e6ac1916-2781-4fa9-98b6-e8f1b262daee  annotation   \n",
       "5  b7b74c76-b03f-4592-b47f-83f045d84a1e  annotation   \n",
       "\n",
       "                            classification  name isLocked  \\\n",
       "3  {'name': 'Tumor', 'color': [200, 0, 0]}  None     None   \n",
       "4  {'name': 'Tumor', 'color': [200, 0, 0]}  None     None   \n",
       "5  {'name': 'Tumor', 'color': [200, 0, 0]}  None     None   \n",
       "\n",
       "                                            geometry  \\\n",
       "3  POLYGON ((7493.00000 12129.00000, 7487.00000 1...   \n",
       "4  POLYGON ((6796.00000 12243.00000, 6790.00000 1...   \n",
       "5  POLYGON ((7043.00000 12839.50000, 7042.65000 1...   \n",
       "\n",
       "                                                 lol  \n",
       "3  [[7493.0, 12129.0], [7487.0, 12130.0], [7485.0...  \n",
       "4  [[6796.0, 12243.0], [6790.0, 12244.0], [6788.0...  \n",
       "5  [[7043.0, 12839.5], [7042.65, 12846.0], [7041....  "
      ]
     },
     "execution_count": 236,
     "metadata": {},
     "output_type": "execute_result"
    }
   ],
   "source": [
    "poly_df"
   ]
  },
  {
   "cell_type": "code",
   "execution_count": 217,
   "id": "b6973e6b-f274-4a1f-be61-c26b8b1b4dac",
   "metadata": {
    "collapsed": true,
    "jupyter": {
     "outputs_hidden": true
    },
    "tags": []
   },
   "outputs": [
    {
     "name": "stderr",
     "output_type": "stream",
     "text": [
      "C:\\Users\\jnimoca\\Jose_BI\\Anaconda\\envs\\data\\lib\\site-packages\\geopandas\\geodataframe.py:1443: SettingWithCopyWarning: \n",
      "A value is trying to be set on a copy of a slice from a DataFrame.\n",
      "Try using .loc[row_indexer,col_indexer] = value instead\n",
      "\n",
      "See the caveats in the documentation: https://pandas.pydata.org/pandas-docs/stable/user_guide/indexing.html#returning-a-view-versus-a-copy\n",
      "  super().__setitem__(key, value)\n"
     ]
    }
   ],
   "source": [
    "poly_df['lol'] = np.nan"
   ]
  },
  {
   "cell_type": "code",
   "execution_count": 220,
   "id": "7bc76a3d-a353-4548-8cf5-3b6c60378fbf",
   "metadata": {},
   "outputs": [],
   "source": [
    "df2 = pd.DataFrame([1,2],['a','b'])"
   ]
  },
  {
   "cell_type": "code",
   "execution_count": 221,
   "id": "e6662434-a991-4ecd-8cb9-c5ddd0d48df6",
   "metadata": {},
   "outputs": [
    {
     "data": {
      "text/html": [
       "<div>\n",
       "<style scoped>\n",
       "    .dataframe tbody tr th:only-of-type {\n",
       "        vertical-align: middle;\n",
       "    }\n",
       "\n",
       "    .dataframe tbody tr th {\n",
       "        vertical-align: top;\n",
       "    }\n",
       "\n",
       "    .dataframe thead th {\n",
       "        text-align: right;\n",
       "    }\n",
       "</style>\n",
       "<table border=\"1\" class=\"dataframe\">\n",
       "  <thead>\n",
       "    <tr style=\"text-align: right;\">\n",
       "      <th></th>\n",
       "      <th>0</th>\n",
       "    </tr>\n",
       "  </thead>\n",
       "  <tbody>\n",
       "    <tr>\n",
       "      <th>a</th>\n",
       "      <td>1</td>\n",
       "    </tr>\n",
       "    <tr>\n",
       "      <th>b</th>\n",
       "      <td>2</td>\n",
       "    </tr>\n",
       "  </tbody>\n",
       "</table>\n",
       "</div>"
      ],
      "text/plain": [
       "   0\n",
       "a  1\n",
       "b  2"
      ]
     },
     "execution_count": 221,
     "metadata": {},
     "output_type": "execute_result"
    }
   ],
   "source": [
    "df2"
   ]
  },
  {
   "cell_type": "code",
   "execution_count": 223,
   "id": "e632f1a1-b866-4089-ac21-a60650a402c4",
   "metadata": {},
   "outputs": [],
   "source": [
    "df2['new'] = [3,4]"
   ]
  },
  {
   "cell_type": "code",
   "execution_count": 224,
   "id": "ec067961-6796-4b6b-936a-860b7080f32c",
   "metadata": {},
   "outputs": [
    {
     "data": {
      "text/html": [
       "<div>\n",
       "<style scoped>\n",
       "    .dataframe tbody tr th:only-of-type {\n",
       "        vertical-align: middle;\n",
       "    }\n",
       "\n",
       "    .dataframe tbody tr th {\n",
       "        vertical-align: top;\n",
       "    }\n",
       "\n",
       "    .dataframe thead th {\n",
       "        text-align: right;\n",
       "    }\n",
       "</style>\n",
       "<table border=\"1\" class=\"dataframe\">\n",
       "  <thead>\n",
       "    <tr style=\"text-align: right;\">\n",
       "      <th></th>\n",
       "      <th>0</th>\n",
       "      <th>new</th>\n",
       "    </tr>\n",
       "  </thead>\n",
       "  <tbody>\n",
       "    <tr>\n",
       "      <th>a</th>\n",
       "      <td>1</td>\n",
       "      <td>3</td>\n",
       "    </tr>\n",
       "    <tr>\n",
       "      <th>b</th>\n",
       "      <td>2</td>\n",
       "      <td>4</td>\n",
       "    </tr>\n",
       "  </tbody>\n",
       "</table>\n",
       "</div>"
      ],
      "text/plain": [
       "   0  new\n",
       "a  1    3\n",
       "b  2    4"
      ]
     },
     "execution_count": 224,
     "metadata": {},
     "output_type": "execute_result"
    }
   ],
   "source": [
    "df2"
   ]
  },
  {
   "cell_type": "code",
   "execution_count": 225,
   "id": "e26fe7f5-0c60-4957-bce8-c044dd182fa7",
   "metadata": {},
   "outputs": [],
   "source": [
    "thelist = [9,10]"
   ]
  },
  {
   "cell_type": "code",
   "execution_count": 226,
   "id": "d56db0b8-9238-4917-93d7-03dcfe90b9f7",
   "metadata": {
    "collapsed": true,
    "jupyter": {
     "outputs_hidden": true
    },
    "tags": []
   },
   "outputs": [
    {
     "ename": "ValueError",
     "evalue": "Must have equal len keys and value when setting with an iterable",
     "output_type": "error",
     "traceback": [
      "\u001b[1;31m---------------------------------------------------------------------------\u001b[0m",
      "\u001b[1;31mTypeError\u001b[0m                                 Traceback (most recent call last)",
      "\u001b[1;31mTypeError\u001b[0m: int() argument must be a string, a bytes-like object or a real number, not 'list'",
      "\nThe above exception was the direct cause of the following exception:\n",
      "\u001b[1;31mValueError\u001b[0m                                Traceback (most recent call last)",
      "File \u001b[1;32m~\\Jose_BI\\Anaconda\\envs\\data\\lib\\site-packages\\pandas\\core\\frame.py:3873\u001b[0m, in \u001b[0;36mDataFrame._set_value\u001b[1;34m(self, index, col, value, takeable)\u001b[0m\n\u001b[0;32m   3871\u001b[0m     \u001b[38;5;66;03m# setitem_inplace will do validation that may raise TypeError\u001b[39;00m\n\u001b[0;32m   3872\u001b[0m     \u001b[38;5;66;03m#  or ValueError\u001b[39;00m\n\u001b[1;32m-> 3873\u001b[0m     \u001b[43mseries\u001b[49m\u001b[38;5;241;43m.\u001b[39;49m\u001b[43m_mgr\u001b[49m\u001b[38;5;241;43m.\u001b[39;49m\u001b[43msetitem_inplace\u001b[49m\u001b[43m(\u001b[49m\u001b[43mloc\u001b[49m\u001b[43m,\u001b[49m\u001b[43m \u001b[49m\u001b[43mvalue\u001b[49m\u001b[43m)\u001b[49m\n\u001b[0;32m   3875\u001b[0m \u001b[38;5;28;01mexcept\u001b[39;00m (\u001b[38;5;167;01mKeyError\u001b[39;00m, \u001b[38;5;167;01mTypeError\u001b[39;00m, \u001b[38;5;167;01mValueError\u001b[39;00m):\n\u001b[0;32m   3876\u001b[0m     \u001b[38;5;66;03m# set using a non-recursive method & reset the cache\u001b[39;00m\n",
      "File \u001b[1;32m~\\Jose_BI\\Anaconda\\envs\\data\\lib\\site-packages\\pandas\\core\\internals\\base.py:190\u001b[0m, in \u001b[0;36mSingleDataManager.setitem_inplace\u001b[1;34m(self, indexer, value)\u001b[0m\n\u001b[0;32m    188\u001b[0m     value \u001b[38;5;241m=\u001b[39m np_can_hold_element(arr\u001b[38;5;241m.\u001b[39mdtype, value)\n\u001b[1;32m--> 190\u001b[0m arr[indexer] \u001b[38;5;241m=\u001b[39m value\n",
      "\u001b[1;31mValueError\u001b[0m: setting an array element with a sequence.",
      "\nDuring handling of the above exception, another exception occurred:\n",
      "\u001b[1;31mValueError\u001b[0m                                Traceback (most recent call last)",
      "Input \u001b[1;32mIn [226]\u001b[0m, in \u001b[0;36m<cell line: 1>\u001b[1;34m()\u001b[0m\n\u001b[1;32m----> 1\u001b[0m df2\u001b[38;5;241m.\u001b[39mat[\u001b[38;5;124m'\u001b[39m\u001b[38;5;124ma\u001b[39m\u001b[38;5;124m'\u001b[39m,\u001b[38;5;124m'\u001b[39m\u001b[38;5;124mnew\u001b[39m\u001b[38;5;124m'\u001b[39m] \u001b[38;5;241m=\u001b[39m thelist\n",
      "File \u001b[1;32m~\\Jose_BI\\Anaconda\\envs\\data\\lib\\site-packages\\pandas\\core\\indexing.py:2286\u001b[0m, in \u001b[0;36m_AtIndexer.__setitem__\u001b[1;34m(self, key, value)\u001b[0m\n\u001b[0;32m   2283\u001b[0m     \u001b[38;5;28mself\u001b[39m\u001b[38;5;241m.\u001b[39mobj\u001b[38;5;241m.\u001b[39mloc[key] \u001b[38;5;241m=\u001b[39m value\n\u001b[0;32m   2284\u001b[0m     \u001b[38;5;28;01mreturn\u001b[39;00m\n\u001b[1;32m-> 2286\u001b[0m \u001b[38;5;28;01mreturn\u001b[39;00m \u001b[38;5;28;43msuper\u001b[39;49m\u001b[43m(\u001b[49m\u001b[43m)\u001b[49m\u001b[38;5;241;43m.\u001b[39;49m\u001b[38;5;21;43m__setitem__\u001b[39;49m\u001b[43m(\u001b[49m\u001b[43mkey\u001b[49m\u001b[43m,\u001b[49m\u001b[43m \u001b[49m\u001b[43mvalue\u001b[49m\u001b[43m)\u001b[49m\n",
      "File \u001b[1;32m~\\Jose_BI\\Anaconda\\envs\\data\\lib\\site-packages\\pandas\\core\\indexing.py:2241\u001b[0m, in \u001b[0;36m_ScalarAccessIndexer.__setitem__\u001b[1;34m(self, key, value)\u001b[0m\n\u001b[0;32m   2238\u001b[0m \u001b[38;5;28;01mif\u001b[39;00m \u001b[38;5;28mlen\u001b[39m(key) \u001b[38;5;241m!=\u001b[39m \u001b[38;5;28mself\u001b[39m\u001b[38;5;241m.\u001b[39mndim:\n\u001b[0;32m   2239\u001b[0m     \u001b[38;5;28;01mraise\u001b[39;00m \u001b[38;5;167;01mValueError\u001b[39;00m(\u001b[38;5;124m\"\u001b[39m\u001b[38;5;124mNot enough indexers for scalar access (setting)!\u001b[39m\u001b[38;5;124m\"\u001b[39m)\n\u001b[1;32m-> 2241\u001b[0m \u001b[38;5;28;43mself\u001b[39;49m\u001b[38;5;241;43m.\u001b[39;49m\u001b[43mobj\u001b[49m\u001b[38;5;241;43m.\u001b[39;49m\u001b[43m_set_value\u001b[49m\u001b[43m(\u001b[49m\u001b[38;5;241;43m*\u001b[39;49m\u001b[43mkey\u001b[49m\u001b[43m,\u001b[49m\u001b[43m \u001b[49m\u001b[43mvalue\u001b[49m\u001b[38;5;241;43m=\u001b[39;49m\u001b[43mvalue\u001b[49m\u001b[43m,\u001b[49m\u001b[43m \u001b[49m\u001b[43mtakeable\u001b[49m\u001b[38;5;241;43m=\u001b[39;49m\u001b[38;5;28;43mself\u001b[39;49m\u001b[38;5;241;43m.\u001b[39;49m\u001b[43m_takeable\u001b[49m\u001b[43m)\u001b[49m\n",
      "File \u001b[1;32m~\\Jose_BI\\Anaconda\\envs\\data\\lib\\site-packages\\pandas\\core\\frame.py:3880\u001b[0m, in \u001b[0;36mDataFrame._set_value\u001b[1;34m(self, index, col, value, takeable)\u001b[0m\n\u001b[0;32m   3878\u001b[0m     \u001b[38;5;28mself\u001b[39m\u001b[38;5;241m.\u001b[39miloc[index, col] \u001b[38;5;241m=\u001b[39m value\n\u001b[0;32m   3879\u001b[0m \u001b[38;5;28;01melse\u001b[39;00m:\n\u001b[1;32m-> 3880\u001b[0m     \u001b[38;5;28mself\u001b[39m\u001b[38;5;241m.\u001b[39mloc[index, col] \u001b[38;5;241m=\u001b[39m value\n\u001b[0;32m   3881\u001b[0m \u001b[38;5;28mself\u001b[39m\u001b[38;5;241m.\u001b[39m_item_cache\u001b[38;5;241m.\u001b[39mpop(col, \u001b[38;5;28;01mNone\u001b[39;00m)\n",
      "File \u001b[1;32m~\\Jose_BI\\Anaconda\\envs\\data\\lib\\site-packages\\pandas\\core\\indexing.py:716\u001b[0m, in \u001b[0;36m_LocationIndexer.__setitem__\u001b[1;34m(self, key, value)\u001b[0m\n\u001b[0;32m    713\u001b[0m \u001b[38;5;28mself\u001b[39m\u001b[38;5;241m.\u001b[39m_has_valid_setitem_indexer(key)\n\u001b[0;32m    715\u001b[0m iloc \u001b[38;5;241m=\u001b[39m \u001b[38;5;28mself\u001b[39m \u001b[38;5;28;01mif\u001b[39;00m \u001b[38;5;28mself\u001b[39m\u001b[38;5;241m.\u001b[39mname \u001b[38;5;241m==\u001b[39m \u001b[38;5;124m\"\u001b[39m\u001b[38;5;124miloc\u001b[39m\u001b[38;5;124m\"\u001b[39m \u001b[38;5;28;01melse\u001b[39;00m \u001b[38;5;28mself\u001b[39m\u001b[38;5;241m.\u001b[39mobj\u001b[38;5;241m.\u001b[39miloc\n\u001b[1;32m--> 716\u001b[0m \u001b[43miloc\u001b[49m\u001b[38;5;241;43m.\u001b[39;49m\u001b[43m_setitem_with_indexer\u001b[49m\u001b[43m(\u001b[49m\u001b[43mindexer\u001b[49m\u001b[43m,\u001b[49m\u001b[43m \u001b[49m\u001b[43mvalue\u001b[49m\u001b[43m,\u001b[49m\u001b[43m \u001b[49m\u001b[38;5;28;43mself\u001b[39;49m\u001b[38;5;241;43m.\u001b[39;49m\u001b[43mname\u001b[49m\u001b[43m)\u001b[49m\n",
      "File \u001b[1;32m~\\Jose_BI\\Anaconda\\envs\\data\\lib\\site-packages\\pandas\\core\\indexing.py:1691\u001b[0m, in \u001b[0;36m_iLocIndexer._setitem_with_indexer\u001b[1;34m(self, indexer, value, name)\u001b[0m\n\u001b[0;32m   1688\u001b[0m \u001b[38;5;66;03m# align and set the values\u001b[39;00m\n\u001b[0;32m   1689\u001b[0m \u001b[38;5;28;01mif\u001b[39;00m take_split_path:\n\u001b[0;32m   1690\u001b[0m     \u001b[38;5;66;03m# We have to operate column-wise\u001b[39;00m\n\u001b[1;32m-> 1691\u001b[0m     \u001b[38;5;28;43mself\u001b[39;49m\u001b[38;5;241;43m.\u001b[39;49m\u001b[43m_setitem_with_indexer_split_path\u001b[49m\u001b[43m(\u001b[49m\u001b[43mindexer\u001b[49m\u001b[43m,\u001b[49m\u001b[43m \u001b[49m\u001b[43mvalue\u001b[49m\u001b[43m,\u001b[49m\u001b[43m \u001b[49m\u001b[43mname\u001b[49m\u001b[43m)\u001b[49m\n\u001b[0;32m   1692\u001b[0m \u001b[38;5;28;01melse\u001b[39;00m:\n\u001b[0;32m   1693\u001b[0m     \u001b[38;5;28mself\u001b[39m\u001b[38;5;241m.\u001b[39m_setitem_single_block(indexer, value, name)\n",
      "File \u001b[1;32m~\\Jose_BI\\Anaconda\\envs\\data\\lib\\site-packages\\pandas\\core\\indexing.py:1746\u001b[0m, in \u001b[0;36m_iLocIndexer._setitem_with_indexer_split_path\u001b[1;34m(self, indexer, value, name)\u001b[0m\n\u001b[0;32m   1741\u001b[0m     \u001b[38;5;28;01mif\u001b[39;00m \u001b[38;5;28mlen\u001b[39m(value) \u001b[38;5;241m==\u001b[39m \u001b[38;5;241m1\u001b[39m \u001b[38;5;129;01mand\u001b[39;00m \u001b[38;5;129;01mnot\u001b[39;00m is_integer(info_axis):\n\u001b[0;32m   1742\u001b[0m         \u001b[38;5;66;03m# This is a case like df.iloc[:3, [1]] = [0]\u001b[39;00m\n\u001b[0;32m   1743\u001b[0m         \u001b[38;5;66;03m#  where we treat as df.iloc[:3, 1] = 0\u001b[39;00m\n\u001b[0;32m   1744\u001b[0m         \u001b[38;5;28;01mreturn\u001b[39;00m \u001b[38;5;28mself\u001b[39m\u001b[38;5;241m.\u001b[39m_setitem_with_indexer((pi, info_axis[\u001b[38;5;241m0\u001b[39m]), value[\u001b[38;5;241m0\u001b[39m])\n\u001b[1;32m-> 1746\u001b[0m     \u001b[38;5;28;01mraise\u001b[39;00m \u001b[38;5;167;01mValueError\u001b[39;00m(\n\u001b[0;32m   1747\u001b[0m         \u001b[38;5;124m\"\u001b[39m\u001b[38;5;124mMust have equal len keys and value \u001b[39m\u001b[38;5;124m\"\u001b[39m\n\u001b[0;32m   1748\u001b[0m         \u001b[38;5;124m\"\u001b[39m\u001b[38;5;124mwhen setting with an iterable\u001b[39m\u001b[38;5;124m\"\u001b[39m\n\u001b[0;32m   1749\u001b[0m     )\n\u001b[0;32m   1751\u001b[0m \u001b[38;5;28;01melif\u001b[39;00m lplane_indexer \u001b[38;5;241m==\u001b[39m \u001b[38;5;241m0\u001b[39m \u001b[38;5;129;01mand\u001b[39;00m \u001b[38;5;28mlen\u001b[39m(value) \u001b[38;5;241m==\u001b[39m \u001b[38;5;28mlen\u001b[39m(\u001b[38;5;28mself\u001b[39m\u001b[38;5;241m.\u001b[39mobj\u001b[38;5;241m.\u001b[39mindex):\n\u001b[0;32m   1752\u001b[0m     \u001b[38;5;66;03m# We get here in one case via .loc with a all-False mask\u001b[39;00m\n\u001b[0;32m   1753\u001b[0m     \u001b[38;5;28;01mpass\u001b[39;00m\n",
      "\u001b[1;31mValueError\u001b[0m: Must have equal len keys and value when setting with an iterable"
     ]
    }
   ],
   "source": [
    "df2.at['a','new'] = thelist"
   ]
  },
  {
   "cell_type": "code",
   "execution_count": 227,
   "id": "8f02645d-79a0-4310-be75-863279305716",
   "metadata": {},
   "outputs": [],
   "source": [
    "df2['new'] = df2['new'].astype('object')"
   ]
  },
  {
   "cell_type": "code",
   "execution_count": 228,
   "id": "3b745cfa-3fd3-4c27-9427-704414ee34a2",
   "metadata": {},
   "outputs": [],
   "source": [
    "df2.at['a','new'] = thelist"
   ]
  },
  {
   "cell_type": "code",
   "execution_count": 231,
   "id": "e5744bd1-a4d8-4c51-8bf6-34a50a88b35f",
   "metadata": {},
   "outputs": [
    {
     "data": {
      "text/plain": [
       "[9, 10]"
      ]
     },
     "execution_count": 231,
     "metadata": {},
     "output_type": "execute_result"
    }
   ],
   "source": [
    "df2.at['a','new']"
   ]
  },
  {
   "cell_type": "code",
   "execution_count": 219,
   "id": "58466726-26cf-441d-9015-dc017eeadaa9",
   "metadata": {
    "collapsed": true,
    "jupyter": {
     "outputs_hidden": true
    },
    "tags": []
   },
   "outputs": [
    {
     "name": "stdout",
     "output_type": "stream",
     "text": [
      "0\n"
     ]
    },
    {
     "ename": "ValueError",
     "evalue": "Must have equal len keys and value when setting with an ndarray",
     "output_type": "error",
     "traceback": [
      "\u001b[1;31m---------------------------------------------------------------------------\u001b[0m",
      "\u001b[1;31mTypeError\u001b[0m                                 Traceback (most recent call last)",
      "\u001b[1;31mTypeError\u001b[0m: float() argument must be a string or a real number, not 'list'",
      "\nThe above exception was the direct cause of the following exception:\n",
      "\u001b[1;31mValueError\u001b[0m                                Traceback (most recent call last)",
      "File \u001b[1;32m~\\Jose_BI\\Anaconda\\envs\\data\\lib\\site-packages\\pandas\\core\\frame.py:3873\u001b[0m, in \u001b[0;36mDataFrame._set_value\u001b[1;34m(self, index, col, value, takeable)\u001b[0m\n\u001b[0;32m   3871\u001b[0m     \u001b[38;5;66;03m# setitem_inplace will do validation that may raise TypeError\u001b[39;00m\n\u001b[0;32m   3872\u001b[0m     \u001b[38;5;66;03m#  or ValueError\u001b[39;00m\n\u001b[1;32m-> 3873\u001b[0m     \u001b[43mseries\u001b[49m\u001b[38;5;241;43m.\u001b[39;49m\u001b[43m_mgr\u001b[49m\u001b[38;5;241;43m.\u001b[39;49m\u001b[43msetitem_inplace\u001b[49m\u001b[43m(\u001b[49m\u001b[43mloc\u001b[49m\u001b[43m,\u001b[49m\u001b[43m \u001b[49m\u001b[43mvalue\u001b[49m\u001b[43m)\u001b[49m\n\u001b[0;32m   3875\u001b[0m \u001b[38;5;28;01mexcept\u001b[39;00m (\u001b[38;5;167;01mKeyError\u001b[39;00m, \u001b[38;5;167;01mTypeError\u001b[39;00m, \u001b[38;5;167;01mValueError\u001b[39;00m):\n\u001b[0;32m   3876\u001b[0m     \u001b[38;5;66;03m# set using a non-recursive method & reset the cache\u001b[39;00m\n",
      "File \u001b[1;32m~\\Jose_BI\\Anaconda\\envs\\data\\lib\\site-packages\\pandas\\core\\internals\\base.py:190\u001b[0m, in \u001b[0;36mSingleDataManager.setitem_inplace\u001b[1;34m(self, indexer, value)\u001b[0m\n\u001b[0;32m    188\u001b[0m     value \u001b[38;5;241m=\u001b[39m np_can_hold_element(arr\u001b[38;5;241m.\u001b[39mdtype, value)\n\u001b[1;32m--> 190\u001b[0m arr[indexer] \u001b[38;5;241m=\u001b[39m value\n",
      "\u001b[1;31mValueError\u001b[0m: setting an array element with a sequence.",
      "\nDuring handling of the above exception, another exception occurred:\n",
      "\u001b[1;31mValueError\u001b[0m                                Traceback (most recent call last)",
      "Input \u001b[1;32mIn [219]\u001b[0m, in \u001b[0;36m<cell line: 1>\u001b[1;34m()\u001b[0m\n\u001b[0;32m      8\u001b[0m tmp_lol \u001b[38;5;241m=\u001b[39m [\u001b[38;5;28mlist\u001b[39m(i) \u001b[38;5;28;01mfor\u001b[39;00m i \u001b[38;5;129;01min\u001b[39;00m tmp]\n\u001b[0;32m      9\u001b[0m \u001b[38;5;66;03m#print(tmp_lol)\u001b[39;00m\n\u001b[1;32m---> 10\u001b[0m poly_df\u001b[38;5;241m.\u001b[39mat[x,\u001b[38;5;124m'\u001b[39m\u001b[38;5;124mlol\u001b[39m\u001b[38;5;124m'\u001b[39m] \u001b[38;5;241m=\u001b[39m tmp_lol\n",
      "File \u001b[1;32m~\\Jose_BI\\Anaconda\\envs\\data\\lib\\site-packages\\pandas\\core\\indexing.py:2286\u001b[0m, in \u001b[0;36m_AtIndexer.__setitem__\u001b[1;34m(self, key, value)\u001b[0m\n\u001b[0;32m   2283\u001b[0m     \u001b[38;5;28mself\u001b[39m\u001b[38;5;241m.\u001b[39mobj\u001b[38;5;241m.\u001b[39mloc[key] \u001b[38;5;241m=\u001b[39m value\n\u001b[0;32m   2284\u001b[0m     \u001b[38;5;28;01mreturn\u001b[39;00m\n\u001b[1;32m-> 2286\u001b[0m \u001b[38;5;28;01mreturn\u001b[39;00m \u001b[38;5;28;43msuper\u001b[39;49m\u001b[43m(\u001b[49m\u001b[43m)\u001b[49m\u001b[38;5;241;43m.\u001b[39;49m\u001b[38;5;21;43m__setitem__\u001b[39;49m\u001b[43m(\u001b[49m\u001b[43mkey\u001b[49m\u001b[43m,\u001b[49m\u001b[43m \u001b[49m\u001b[43mvalue\u001b[49m\u001b[43m)\u001b[49m\n",
      "File \u001b[1;32m~\\Jose_BI\\Anaconda\\envs\\data\\lib\\site-packages\\pandas\\core\\indexing.py:2241\u001b[0m, in \u001b[0;36m_ScalarAccessIndexer.__setitem__\u001b[1;34m(self, key, value)\u001b[0m\n\u001b[0;32m   2238\u001b[0m \u001b[38;5;28;01mif\u001b[39;00m \u001b[38;5;28mlen\u001b[39m(key) \u001b[38;5;241m!=\u001b[39m \u001b[38;5;28mself\u001b[39m\u001b[38;5;241m.\u001b[39mndim:\n\u001b[0;32m   2239\u001b[0m     \u001b[38;5;28;01mraise\u001b[39;00m \u001b[38;5;167;01mValueError\u001b[39;00m(\u001b[38;5;124m\"\u001b[39m\u001b[38;5;124mNot enough indexers for scalar access (setting)!\u001b[39m\u001b[38;5;124m\"\u001b[39m)\n\u001b[1;32m-> 2241\u001b[0m \u001b[38;5;28;43mself\u001b[39;49m\u001b[38;5;241;43m.\u001b[39;49m\u001b[43mobj\u001b[49m\u001b[38;5;241;43m.\u001b[39;49m\u001b[43m_set_value\u001b[49m\u001b[43m(\u001b[49m\u001b[38;5;241;43m*\u001b[39;49m\u001b[43mkey\u001b[49m\u001b[43m,\u001b[49m\u001b[43m \u001b[49m\u001b[43mvalue\u001b[49m\u001b[38;5;241;43m=\u001b[39;49m\u001b[43mvalue\u001b[49m\u001b[43m,\u001b[49m\u001b[43m \u001b[49m\u001b[43mtakeable\u001b[49m\u001b[38;5;241;43m=\u001b[39;49m\u001b[38;5;28;43mself\u001b[39;49m\u001b[38;5;241;43m.\u001b[39;49m\u001b[43m_takeable\u001b[49m\u001b[43m)\u001b[49m\n",
      "File \u001b[1;32m~\\Jose_BI\\Anaconda\\envs\\data\\lib\\site-packages\\pandas\\core\\frame.py:3880\u001b[0m, in \u001b[0;36mDataFrame._set_value\u001b[1;34m(self, index, col, value, takeable)\u001b[0m\n\u001b[0;32m   3878\u001b[0m     \u001b[38;5;28mself\u001b[39m\u001b[38;5;241m.\u001b[39miloc[index, col] \u001b[38;5;241m=\u001b[39m value\n\u001b[0;32m   3879\u001b[0m \u001b[38;5;28;01melse\u001b[39;00m:\n\u001b[1;32m-> 3880\u001b[0m     \u001b[38;5;28mself\u001b[39m\u001b[38;5;241m.\u001b[39mloc[index, col] \u001b[38;5;241m=\u001b[39m value\n\u001b[0;32m   3881\u001b[0m \u001b[38;5;28mself\u001b[39m\u001b[38;5;241m.\u001b[39m_item_cache\u001b[38;5;241m.\u001b[39mpop(col, \u001b[38;5;28;01mNone\u001b[39;00m)\n",
      "File \u001b[1;32m~\\Jose_BI\\Anaconda\\envs\\data\\lib\\site-packages\\pandas\\core\\indexing.py:716\u001b[0m, in \u001b[0;36m_LocationIndexer.__setitem__\u001b[1;34m(self, key, value)\u001b[0m\n\u001b[0;32m    713\u001b[0m \u001b[38;5;28mself\u001b[39m\u001b[38;5;241m.\u001b[39m_has_valid_setitem_indexer(key)\n\u001b[0;32m    715\u001b[0m iloc \u001b[38;5;241m=\u001b[39m \u001b[38;5;28mself\u001b[39m \u001b[38;5;28;01mif\u001b[39;00m \u001b[38;5;28mself\u001b[39m\u001b[38;5;241m.\u001b[39mname \u001b[38;5;241m==\u001b[39m \u001b[38;5;124m\"\u001b[39m\u001b[38;5;124miloc\u001b[39m\u001b[38;5;124m\"\u001b[39m \u001b[38;5;28;01melse\u001b[39;00m \u001b[38;5;28mself\u001b[39m\u001b[38;5;241m.\u001b[39mobj\u001b[38;5;241m.\u001b[39miloc\n\u001b[1;32m--> 716\u001b[0m \u001b[43miloc\u001b[49m\u001b[38;5;241;43m.\u001b[39;49m\u001b[43m_setitem_with_indexer\u001b[49m\u001b[43m(\u001b[49m\u001b[43mindexer\u001b[49m\u001b[43m,\u001b[49m\u001b[43m \u001b[49m\u001b[43mvalue\u001b[49m\u001b[43m,\u001b[49m\u001b[43m \u001b[49m\u001b[38;5;28;43mself\u001b[39;49m\u001b[38;5;241;43m.\u001b[39;49m\u001b[43mname\u001b[49m\u001b[43m)\u001b[49m\n",
      "File \u001b[1;32m~\\Jose_BI\\Anaconda\\envs\\data\\lib\\site-packages\\pandas\\core\\indexing.py:1691\u001b[0m, in \u001b[0;36m_iLocIndexer._setitem_with_indexer\u001b[1;34m(self, indexer, value, name)\u001b[0m\n\u001b[0;32m   1688\u001b[0m \u001b[38;5;66;03m# align and set the values\u001b[39;00m\n\u001b[0;32m   1689\u001b[0m \u001b[38;5;28;01mif\u001b[39;00m take_split_path:\n\u001b[0;32m   1690\u001b[0m     \u001b[38;5;66;03m# We have to operate column-wise\u001b[39;00m\n\u001b[1;32m-> 1691\u001b[0m     \u001b[38;5;28;43mself\u001b[39;49m\u001b[38;5;241;43m.\u001b[39;49m\u001b[43m_setitem_with_indexer_split_path\u001b[49m\u001b[43m(\u001b[49m\u001b[43mindexer\u001b[49m\u001b[43m,\u001b[49m\u001b[43m \u001b[49m\u001b[43mvalue\u001b[49m\u001b[43m,\u001b[49m\u001b[43m \u001b[49m\u001b[43mname\u001b[49m\u001b[43m)\u001b[49m\n\u001b[0;32m   1692\u001b[0m \u001b[38;5;28;01melse\u001b[39;00m:\n\u001b[0;32m   1693\u001b[0m     \u001b[38;5;28mself\u001b[39m\u001b[38;5;241m.\u001b[39m_setitem_single_block(indexer, value, name)\n",
      "File \u001b[1;32m~\\Jose_BI\\Anaconda\\envs\\data\\lib\\site-packages\\pandas\\core\\indexing.py:1730\u001b[0m, in \u001b[0;36m_iLocIndexer._setitem_with_indexer_split_path\u001b[1;34m(self, indexer, value, name)\u001b[0m\n\u001b[0;32m   1727\u001b[0m     \u001b[38;5;28mself\u001b[39m\u001b[38;5;241m.\u001b[39m_setitem_with_indexer_frame_value(indexer, value, name)\n\u001b[0;32m   1729\u001b[0m \u001b[38;5;28;01melif\u001b[39;00m np\u001b[38;5;241m.\u001b[39mndim(value) \u001b[38;5;241m==\u001b[39m \u001b[38;5;241m2\u001b[39m:\n\u001b[1;32m-> 1730\u001b[0m     \u001b[38;5;28;43mself\u001b[39;49m\u001b[38;5;241;43m.\u001b[39;49m\u001b[43m_setitem_with_indexer_2d_value\u001b[49m\u001b[43m(\u001b[49m\u001b[43mindexer\u001b[49m\u001b[43m,\u001b[49m\u001b[43m \u001b[49m\u001b[43mvalue\u001b[49m\u001b[43m)\u001b[49m\n\u001b[0;32m   1732\u001b[0m \u001b[38;5;28;01melif\u001b[39;00m \u001b[38;5;28mlen\u001b[39m(ilocs) \u001b[38;5;241m==\u001b[39m \u001b[38;5;241m1\u001b[39m \u001b[38;5;129;01mand\u001b[39;00m lplane_indexer \u001b[38;5;241m==\u001b[39m \u001b[38;5;28mlen\u001b[39m(value) \u001b[38;5;129;01mand\u001b[39;00m \u001b[38;5;129;01mnot\u001b[39;00m is_scalar(pi):\n\u001b[0;32m   1733\u001b[0m     \u001b[38;5;66;03m# We are setting multiple rows in a single column.\u001b[39;00m\n\u001b[0;32m   1734\u001b[0m     \u001b[38;5;28mself\u001b[39m\u001b[38;5;241m.\u001b[39m_setitem_single_column(ilocs[\u001b[38;5;241m0\u001b[39m], value, pi)\n",
      "File \u001b[1;32m~\\Jose_BI\\Anaconda\\envs\\data\\lib\\site-packages\\pandas\\core\\indexing.py:1796\u001b[0m, in \u001b[0;36m_iLocIndexer._setitem_with_indexer_2d_value\u001b[1;34m(self, indexer, value)\u001b[0m\n\u001b[0;32m   1794\u001b[0m value \u001b[38;5;241m=\u001b[39m np\u001b[38;5;241m.\u001b[39marray(value, dtype\u001b[38;5;241m=\u001b[39m\u001b[38;5;28mobject\u001b[39m)\n\u001b[0;32m   1795\u001b[0m \u001b[38;5;28;01mif\u001b[39;00m \u001b[38;5;28mlen\u001b[39m(ilocs) \u001b[38;5;241m!=\u001b[39m value\u001b[38;5;241m.\u001b[39mshape[\u001b[38;5;241m1\u001b[39m]:\n\u001b[1;32m-> 1796\u001b[0m     \u001b[38;5;28;01mraise\u001b[39;00m \u001b[38;5;167;01mValueError\u001b[39;00m(\n\u001b[0;32m   1797\u001b[0m         \u001b[38;5;124m\"\u001b[39m\u001b[38;5;124mMust have equal len keys and value when setting with an ndarray\u001b[39m\u001b[38;5;124m\"\u001b[39m\n\u001b[0;32m   1798\u001b[0m     )\n\u001b[0;32m   1800\u001b[0m \u001b[38;5;28;01mfor\u001b[39;00m i, loc \u001b[38;5;129;01min\u001b[39;00m \u001b[38;5;28menumerate\u001b[39m(ilocs):\n\u001b[0;32m   1801\u001b[0m     \u001b[38;5;66;03m# setting with a list, re-coerces\u001b[39;00m\n\u001b[0;32m   1802\u001b[0m     \u001b[38;5;28mself\u001b[39m\u001b[38;5;241m.\u001b[39m_setitem_single_column(loc, value[:, i]\u001b[38;5;241m.\u001b[39mtolist(), pi)\n",
      "\u001b[1;31mValueError\u001b[0m: Must have equal len keys and value when setting with an ndarray"
     ]
    }
   ],
   "source": [
    "for x in poly_df.index:\n",
    "    print(i)\n",
    "    geom=poly_df.at[x, 'geometry']\n",
    "    # print(geom)\n",
    "    tmp = list(geom.exterior.coords)\n",
    "    #print(len(tmp))\n",
    "    #print(tmp[:10])\n",
    "    tmp_lol = [list(i) for i in tmp]\n",
    "    #print(tmp_lol)\n",
    "    poly_df.at[x,'lol'] = tmp_lol"
   ]
  },
  {
   "cell_type": "code",
   "execution_count": 198,
   "id": "7cc4df39-dc27-424b-a70e-1edfebfe7abb",
   "metadata": {},
   "outputs": [
    {
     "data": {
      "text/html": [
       "<div>\n",
       "<style scoped>\n",
       "    .dataframe tbody tr th:only-of-type {\n",
       "        vertical-align: middle;\n",
       "    }\n",
       "\n",
       "    .dataframe tbody tr th {\n",
       "        vertical-align: top;\n",
       "    }\n",
       "\n",
       "    .dataframe thead th {\n",
       "        text-align: right;\n",
       "    }\n",
       "</style>\n",
       "<table border=\"1\" class=\"dataframe\">\n",
       "  <thead>\n",
       "    <tr style=\"text-align: right;\">\n",
       "      <th></th>\n",
       "      <th>index</th>\n",
       "      <th>id</th>\n",
       "      <th>objectType</th>\n",
       "      <th>classification</th>\n",
       "      <th>name</th>\n",
       "      <th>isLocked</th>\n",
       "      <th>geometry</th>\n",
       "    </tr>\n",
       "  </thead>\n",
       "  <tbody>\n",
       "    <tr>\n",
       "      <th>0</th>\n",
       "      <td>3</td>\n",
       "      <td>3e2e81db-0e02-4b32-9565-ee876f1f0e73</td>\n",
       "      <td>annotation</td>\n",
       "      <td>{'name': 'Tumor', 'color': [200, 0, 0]}</td>\n",
       "      <td>None</td>\n",
       "      <td>None</td>\n",
       "      <td>POLYGON ((7493.00000 12129.00000, 7487.00000 1...</td>\n",
       "    </tr>\n",
       "    <tr>\n",
       "      <th>1</th>\n",
       "      <td>4</td>\n",
       "      <td>e6ac1916-2781-4fa9-98b6-e8f1b262daee</td>\n",
       "      <td>annotation</td>\n",
       "      <td>{'name': 'Tumor', 'color': [200, 0, 0]}</td>\n",
       "      <td>None</td>\n",
       "      <td>None</td>\n",
       "      <td>POLYGON ((6796.00000 12243.00000, 6790.00000 1...</td>\n",
       "    </tr>\n",
       "    <tr>\n",
       "      <th>2</th>\n",
       "      <td>5</td>\n",
       "      <td>b7b74c76-b03f-4592-b47f-83f045d84a1e</td>\n",
       "      <td>annotation</td>\n",
       "      <td>{'name': 'Tumor', 'color': [200, 0, 0]}</td>\n",
       "      <td>None</td>\n",
       "      <td>None</td>\n",
       "      <td>POLYGON ((7043.00000 12839.50000, 7042.65000 1...</td>\n",
       "    </tr>\n",
       "  </tbody>\n",
       "</table>\n",
       "</div>"
      ],
      "text/plain": [
       "   index                                    id  objectType  \\\n",
       "0      3  3e2e81db-0e02-4b32-9565-ee876f1f0e73  annotation   \n",
       "1      4  e6ac1916-2781-4fa9-98b6-e8f1b262daee  annotation   \n",
       "2      5  b7b74c76-b03f-4592-b47f-83f045d84a1e  annotation   \n",
       "\n",
       "                            classification  name isLocked  \\\n",
       "0  {'name': 'Tumor', 'color': [200, 0, 0]}  None     None   \n",
       "1  {'name': 'Tumor', 'color': [200, 0, 0]}  None     None   \n",
       "2  {'name': 'Tumor', 'color': [200, 0, 0]}  None     None   \n",
       "\n",
       "                                            geometry  \n",
       "0  POLYGON ((7493.00000 12129.00000, 7487.00000 1...  \n",
       "1  POLYGON ((6796.00000 12243.00000, 6790.00000 1...  \n",
       "2  POLYGON ((7043.00000 12839.50000, 7042.65000 1...  "
      ]
     },
     "execution_count": 198,
     "metadata": {},
     "output_type": "execute_result"
    }
   ],
   "source": [
    "df_copy"
   ]
  },
  {
   "cell_type": "code",
   "execution_count": null,
   "id": "f361c58b-ad99-4d27-80d8-2ff29612d7b8",
   "metadata": {},
   "outputs": [],
   "source": []
  },
  {
   "cell_type": "code",
   "execution_count": 177,
   "id": "6f203eb7-6c3e-4948-ac78-a557fa3e4707",
   "metadata": {},
   "outputs": [
    {
     "data": {
      "image/svg+xml": [
       "<svg xmlns=\"http://www.w3.org/2000/svg\" xmlns:xlink=\"http://www.w3.org/1999/xlink\" width=\"300\" height=\"300\" viewBox=\"7229.2 12098.2 492.60000000000036 831.5999999999985\" preserveAspectRatio=\"xMinYMin meet\"><g transform=\"matrix(1,0,0,-1,0,25028.0)\"><path fill-rule=\"evenodd\" fill=\"#66cc99\" stroke=\"#555555\" stroke-width=\"5.543999999999991\" opacity=\"0.6\" d=\"M 7493.0,12129.0 L 7487.0,12130.0 L 7485.0,12130.0 L 7483.57,12130.57 L 7481.0,12131.0 L 7479.0,12131.8 L 7478.0,12132.0 L 7475.0,12133.0 L 7473.0,12133.0 L 7468.0,12135.0 L 7466.0,12136.0 L 7465.0,12136.0 L 7462.86,12136.86 L 7462.0,12137.0 L 7460.0,12137.0 L 7455.0,12139.0 L 7453.0,12140.0 L 7451.0,12141.0 L 7449.86,12141.86 L 7447.0,12143.0 L 7445.67,12144.33 L 7444.0,12145.0 L 7439.0,12148.0 L 7435.8,12152.0 L 7433.77,12153.69 L 7433.0,12154.0 L 7431.0,12156.0 L 7429.0,12158.0 L 7424.0,12162.0 L 7422.0,12165.33 L 7420.0,12168.0 L 7417.0,12172.0 L 7415.88,12173.5 L 7414.0,12175.0 L 7412.5,12177.5 L 7412.0,12178.0 L 7411.6,12179.0 L 7411.0,12180.0 L 7409.0,12185.0 L 7408.0,12188.0 L 7407.0,12189.0 L 7405.0,12194.0 L 7402.0,12200.0 L 7400.0,12205.0 L 7398.0,12209.0 L 7396.0,12211.0 L 7392.0,12221.0 L 7390.38,12223.69 L 7390.0,12224.0 L 7387.0,12229.0 L 7386.33,12230.67 L 7385.0,12232.0 L 7384.33,12233.67 L 7384.0,12234.0 L 7380.0,12240.0 L 7379.0,12241.0 L 7378.5,12241.5 L 7376.0,12243.0 L 7372.0,12247.0 L 7369.71,12248.71 L 7369.0,12249.0 L 7368.0,12250.0 L 7363.0,12254.0 L 7361.5,12256.5 L 7361.0,12257.0 L 7360.6,12258.0 L 7360.0,12259.0 L 7359.33,12260.67 L 7359.0,12261.0 L 7354.0,12266.0 L 7352.85,12268.87 L 7352.0,12270.0 L 7351.0,12272.0 L 7350.6,12273.0 L 7350.0,12274.0 L 7348.0,12279.0 L 7347.0,12282.0 L 7346.88,12282.63 L 7346.5,12283.5 L 7345.0,12286.0 L 7343.0,12291.0 L 7342.0,12295.0 L 7340.0,12300.0 L 7340.0,12302.0 L 7339.0,12308.0 L 7337.0,12313.0 L 7335.0,12318.0 L 7335.0,12319.5 L 7334.0,12322.0 L 7332.0,12330.0 L 7332.0,12331.0 L 7331.63,12333.2 L 7330.15,12336.46 L 7329.0,12338.0 L 7328.0,12340.0 L 7326.0,12345.0 L 7326.0,12347.0 L 7325.8,12348.0 L 7325.0,12350.0 L 7324.0,12356.0 L 7322.0,12364.0 L 7322.0,12365.0 L 7321.0,12371.0 L 7321.0,12372.49 L 7320.91,12372.78 L 7320.0,12374.0 L 7318.0,12380.0 L 7315.14,12390.71 L 7313.0,12395.0 L 7312.0,12397.0 L 7310.0,12402.0 L 7310.0,12403.5 L 7309.0,12406.0 L 7303.0,12424.0 L 7302.8,12425.0 L 7302.0,12427.0 L 7297.0,12451.0 L 7296.0,12457.0 L 7296.09,12457.45 L 7295.57,12460.57 L 7295.0,12462.0 L 7294.0,12466.0 L 7294.0,12469.0 L 7293.36,12474.09 L 7293.0,12475.0 L 7292.0,12481.0 L 7292.0,12501.0 L 7292.0,12505.0 L 7292.0,12512.0 L 7292.0,12532.0 L 7292.0,12534.0 L 7292.0,12541.0 L 7291.0,12547.0 L 7287.0,12563.0 L 7287.0,12566.0 L 7286.0,12573.0 L 7285.5,12576.5 L 7285.0,12578.0 L 7284.0,12583.0 L 7282.63,12594.0 L 7280.0,12601.0 L 7279.4,12604.0 L 7279.0,12605.0 L 7278.0,12611.0 L 7278.0,12612.0 L 7278.0,12614.0 L 7278.47,12616.82 L 7278.0,12622.0 L 7277.4,12628.0 L 7277.0,12629.0 L 7276.0,12635.0 L 7276.0,12636.0 L 7275.0,12641.0 L 7274.57,12643.57 L 7274.0,12645.0 L 7273.0,12651.0 L 7273.0,12653.0 L 7273.0,12663.5 L 7271.0,12672.5 L 7270.0,12675.0 L 7269.0,12678.0 L 7268.8,12679.0 L 7268.0,12681.0 L 7267.0,12687.0 L 7267.0,12689.0 L 7265.0,12693.0 L 7263.0,12698.0 L 7263.0,12699.5 L 7262.0,12702.0 L 7261.0,12707.0 L 7260.0,12713.0 L 7260.0,12714.0 L 7260.0,12718.0 L 7260.0,12719.0 L 7260.0,12721.0 L 7260.0,12722.0 L 7260.0,12723.0 L 7260.0,12724.0 L 7260.0,12725.0 L 7261.0,12731.0 L 7265.0,12741.0 L 7267.0,12744.0 L 7268.5,12746.25 L 7270.0,12750.0 L 7271.2,12752.0 L 7272.0,12754.0 L 7273.0,12755.0 L 7273.43,12755.57 L 7274.0,12757.0 L 7274.6,12758.0 L 7275.0,12759.0 L 7275.5,12759.5 L 7277.0,12762.0 L 7282.0,12766.0 L 7283.0,12767.0 L 7290.0,12774.0 L 7293.33,12775.33 L 7296.0,12778.0 L 7301.0,12780.0 L 7303.85,12781.14 L 7304.2,12781.4 L 7305.0,12783.0 L 7306.71,12785.29 L 7307.0,12786.0 L 7308.0,12787.0 L 7310.4,12790.0 L 7311.0,12791.0 L 7311.56,12791.45 L 7312.0,12792.0 L 7312.78,12792.47 L 7313.0,12793.0 L 7313.6,12794.0 L 7314.0,12795.0 L 7314.5,12795.5 L 7316.0,12798.0 L 7316.3,12798.24 L 7317.0,12800.0 L 7318.0,12803.0 L 7320.0,12808.0 L 7322.0,12813.0 L 7323.0,12814.0 L 7330.0,12821.0 L 7331.0,12822.0 L 7338.85,12825.14 L 7340.0,12826.0 L 7342.0,12827.0 L 7344.0,12828.0 L 7349.0,12830.0 L 7349.5,12830.0 L 7352.0,12831.0 L 7358.0,12832.0 L 7378.0,12832.0 L 7384.0,12831.0 L 7384.71,12830.71 L 7389.0,12830.0 L 7390.6,12830.0 L 7391.0,12831.0 L 7394.0,12834.0 L 7398.0,12839.0 L 7402.0,12843.0 L 7403.8,12844.5 L 7404.0,12845.0 L 7410.0,12851.0 L 7410.5,12851.5 L 7412.0,12854.0 L 7417.0,12858.0 L 7418.0,12859.0 L 7418.71,12859.29 L 7421.0,12861.0 L 7421.33,12861.17 L 7422.0,12862.0 L 7424.73,12864.34 L 7425.0,12865.0 L 7426.0,12866.0 L 7430.0,12871.0 L 7432.5,12872.5 L 7433.0,12873.0 L 7435.0,12875.0 L 7440.0,12879.0 L 7444.0,12882.0 L 7446.0,12883.0 L 7446.45,12883.18 L 7449.0,12885.0 L 7450.0,12886.0 L 7452.01,12886.81 L 7454.0,12888.0 L 7456.39,12888.8 L 7458.0,12890.0 L 7460.0,12891.0 L 7465.0,12893.0 L 7466.0,12893.0 L 7470.0,12895.0 L 7475.0,12897.0 L 7475.5,12897.0 L 7478.0,12898.0 L 7480.0,12898.0 L 7486.0,12899.0 L 7499.0,12899.0 L 7505.0,12898.0 L 7507.0,12898.0 L 7507.71,12897.71 L 7512.0,12897.0 L 7514.0,12896.2 L 7515.0,12896.0 L 7518.0,12895.0 L 7523.0,12893.0 L 7524.0,12892.4 L 7525.0,12892.0 L 7530.0,12890.0 L 7532.0,12889.0 L 7534.67,12887.0 L 7538.0,12885.0 L 7539.33,12883.33 L 7541.0,12882.0 L 7543.0,12878.66 L 7544.18,12877.09 L 7546.0,12876.0 L 7550.0,12871.0 L 7553.0,12867.0 L 7554.0,12866.0 L 7559.19,12859.32 L 7560.0,12859.0 L 7560.5,12858.5 L 7563.0,12857.0 L 7565.12,12854.35 L 7566.0,12854.0 L 7568.14,12853.14 L 7569.0,12853.0 L 7574.0,12851.0 L 7575.0,12850.4 L 7576.0,12850.0 L 7576.5,12849.5 L 7579.0,12848.0 L 7586.0,12842.0 L 7589.0,12838.0 L 7599.0,12834.0 L 7605.0,12828.0 L 7607.0,12826.0 L 7607.4,12825.0 L 7609.0,12823.0 L 7610.0,12822.0 L 7610.29,12821.29 L 7612.0,12819.0 L 7613.0,12818.0 L 7613.29,12817.29 L 7615.0,12815.0 L 7618.0,12809.0 L 7621.0,12805.0 L 7623.57,12801.57 L 7625.0,12801.0 L 7626.0,12800.4 L 7627.0,12800.0 L 7627.5,12799.5 L 7630.0,12798.0 L 7632.0,12795.5 L 7632.67,12795.0 L 7636.0,12793.0 L 7637.33,12791.33 L 7639.0,12790.0 L 7641.0,12786.67 L 7643.0,12784.0 L 7644.0,12782.0 L 7645.0,12781.0 L 7645.29,12780.29 L 7647.0,12778.0 L 7648.0,12776.0 L 7649.0,12775.0 L 7653.0,12765.0 L 7654.0,12759.0 L 7654.0,12758.0 L 7654.0,12757.0 L 7654.0,12756.0 L 7653.77,12754.59 L 7654.0,12754.0 L 7655.0,12748.0 L 7655.0,12743.0 L 7655.0,12740.0 L 7655.0,12738.0 L 7654.0,12732.0 L 7653.6,12730.99 L 7653.56,12730.63 L 7654.0,12728.0 L 7654.0,12726.0 L 7654.0,12723.0 L 7654.0,12721.0 L 7654.0,12713.0 L 7654.0,12708.0 L 7654.0,12706.0 L 7654.0,12700.5 L 7655.0,12698.0 L 7655.0,12694.0 L 7655.64,12688.91 L 7656.0,12688.0 L 7657.0,12683.0 L 7658.0,12677.0 L 7658.0,12673.0 L 7657.88,12672.3 L 7658.0,12672.0 L 7659.0,12666.0 L 7659.0,12643.5 L 7660.0,12639.0 L 7660.2,12638.0 L 7661.0,12636.0 L 7663.0,12626.0 L 7664.0,12620.0 L 7663.9,12619.41 L 7668.0,12594.0 L 7669.0,12588.0 L 7670.0,12585.0 L 7670.2,12584.0 L 7671.0,12582.0 L 7672.0,12577.0 L 7675.75,12560.13 L 7677.0,12557.0 L 7677.82,12553.73 L 7686.0,12531.0 L 7686.33,12529.0 L 7687.0,12527.0 L 7688.0,12524.0 L 7688.2,12523.0 L 7689.0,12521.0 L 7690.0,12515.0 L 7690.0,12514.0 L 7691.0,12494.0 L 7690.91,12493.55 L 7691.0,12493.0 L 7691.0,12487.0 L 7691.0,12481.0 L 7691.0,12479.0 L 7690.0,12473.0 L 7689.62,12472.05 L 7689.42,12469.47 L 7690.0,12466.0 L 7690.0,12461.0 L 7690.0,12457.0 L 7689.0,12451.0 L 7688.88,12450.71 L 7689.0,12450.0 L 7688.0,12444.0 L 7686.0,12434.0 L 7686.0,12429.0 L 7686.0,12424.0 L 7686.0,12420.0 L 7686.0,12413.0 L 7685.0,12407.0 L 7684.43,12405.57 L 7684.0,12403.0 L 7684.0,12401.0 L 7683.0,12398.5 L 7683.0,12395.0 L 7682.91,12394.45 L 7683.0,12394.0 L 7682.0,12388.0 L 7682.0,12385.0 L 7681.0,12379.0 L 7680.67,12378.17 L 7679.96,12374.26 L 7680.0,12374.0 L 7680.0,12371.0 L 7679.0,12365.0 L 7678.2,12363.0 L 7678.0,12362.0 L 7678.0,12360.0 L 7676.43,12356.09 L 7676.4,12355.6 L 7677.0,12352.0 L 7677.0,12350.0 L 7677.0,12345.0 L 7676.62,12342.72 L 7677.23,12337.54 L 7678.0,12336.0 L 7680.0,12331.0 L 7680.0,12329.0 L 7681.0,12323.0 L 7681.0,12322.0 L 7681.0,12318.0 L 7680.0,12312.0 L 7680.0,12310.0 L 7678.0,12305.0 L 7677.0,12303.0 L 7676.36,12302.14 L 7676.0,12300.0 L 7672.0,12290.0 L 7670.0,12288.0 L 7668.0,12286.0 L 7666.0,12283.33 L 7664.0,12280.0 L 7658.0,12273.0 L 7654.0,12270.0 L 7638.19,12256.82 L 7637.31,12255.77 L 7637.0,12255.0 L 7635.0,12253.0 L 7632.0,12250.0 L 7631.0,12249.0 L 7630.5,12248.5 L 7629.0,12246.0 L 7625.0,12243.0 L 7624.0,12242.0 L 7623.09,12241.64 L 7621.5,12240.5 L 7620.0,12238.0 L 7616.24,12235.0 L 7616.11,12234.78 L 7615.0,12232.0 L 7613.5,12230.5 L 7612.0,12228.0 L 7611.14,12227.36 L 7611.0,12227.0 L 7609.67,12225.67 L 7609.0,12224.0 L 7608.67,12223.67 L 7608.0,12222.0 L 7606.67,12220.67 L 7606.0,12219.0 L 7605.0,12217.0 L 7603.5,12215.0 L 7603.0,12214.0 L 7602.0,12212.0 L 7600.29,12209.71 L 7600.0,12209.0 L 7599.0,12208.0 L 7595.8,12204.0 L 7593.0,12197.0 L 7591.4,12195.4 L 7591.0,12194.5 L 7591.0,12193.0 L 7589.0,12188.0 L 7588.0,12186.0 L 7586.29,12183.71 L 7586.0,12183.0 L 7585.0,12182.0 L 7581.0,12177.0 L 7579.67,12176.2 L 7579.31,12175.77 L 7579.0,12175.0 L 7577.0,12173.0 L 7575.0,12171.0 L 7573.4,12169.0 L 7571.0,12165.0 L 7566.0,12161.0 L 7562.0,12158.0 L 7561.33,12157.67 L 7560.0,12156.0 L 7557.5,12154.5 L 7557.0,12154.0 L 7556.0,12153.6 L 7555.0,12153.0 L 7551.67,12151.67 L 7551.0,12151.0 L 7547.0,12147.0 L 7544.0,12144.0 L 7541.0,12142.8 L 7540.5,12142.5 L 7538.0,12140.0 L 7535.0,12137.0 L 7530.0,12135.0 L 7529.0,12134.0 L 7519.0,12130.0 L 7513.0,12129.0 L 7493.0,12129.0 z\" /></g></svg>"
      ],
      "text/plain": [
       "<POLYGON ((7493 12129, 7487 12130, 7485 12130, 7483.57 12130.57, 7481 12131,...>"
      ]
     },
     "execution_count": 177,
     "metadata": {},
     "output_type": "execute_result"
    }
   ],
   "source": [
    "df_copy.geometry[0]"
   ]
  },
  {
   "cell_type": "code",
   "execution_count": null,
   "id": "a7754e5f-9666-4b8b-a479-29df0a476219",
   "metadata": {},
   "outputs": [],
   "source": []
  },
  {
   "cell_type": "code",
   "execution_count": 180,
   "id": "34900ab8-eb0c-4bb6-9d1f-d6a0a70fd7f7",
   "metadata": {},
   "outputs": [
    {
     "data": {
      "text/html": [
       "<div>\n",
       "<style scoped>\n",
       "    .dataframe tbody tr th:only-of-type {\n",
       "        vertical-align: middle;\n",
       "    }\n",
       "\n",
       "    .dataframe tbody tr th {\n",
       "        vertical-align: top;\n",
       "    }\n",
       "\n",
       "    .dataframe thead th {\n",
       "        text-align: right;\n",
       "    }\n",
       "</style>\n",
       "<table border=\"1\" class=\"dataframe\">\n",
       "  <thead>\n",
       "    <tr style=\"text-align: right;\">\n",
       "      <th></th>\n",
       "      <th>index</th>\n",
       "      <th>id</th>\n",
       "      <th>objectType</th>\n",
       "      <th>classification</th>\n",
       "      <th>name</th>\n",
       "      <th>isLocked</th>\n",
       "      <th>geometry</th>\n",
       "    </tr>\n",
       "  </thead>\n",
       "  <tbody>\n",
       "    <tr>\n",
       "      <th>0</th>\n",
       "      <td>3</td>\n",
       "      <td>3e2e81db-0e02-4b32-9565-ee876f1f0e73</td>\n",
       "      <td>annotation</td>\n",
       "      <td>{'name': 'Tumor', 'color': [200, 0, 0]}</td>\n",
       "      <td>None</td>\n",
       "      <td>None</td>\n",
       "      <td>POLYGON ((7493.00000 12129.00000, 7487.00000 1...</td>\n",
       "    </tr>\n",
       "    <tr>\n",
       "      <th>1</th>\n",
       "      <td>4</td>\n",
       "      <td>e6ac1916-2781-4fa9-98b6-e8f1b262daee</td>\n",
       "      <td>annotation</td>\n",
       "      <td>{'name': 'Tumor', 'color': [200, 0, 0]}</td>\n",
       "      <td>None</td>\n",
       "      <td>None</td>\n",
       "      <td>POLYGON ((6796.00000 12243.00000, 6790.00000 1...</td>\n",
       "    </tr>\n",
       "    <tr>\n",
       "      <th>2</th>\n",
       "      <td>5</td>\n",
       "      <td>b7b74c76-b03f-4592-b47f-83f045d84a1e</td>\n",
       "      <td>annotation</td>\n",
       "      <td>{'name': 'Tumor', 'color': [200, 0, 0]}</td>\n",
       "      <td>None</td>\n",
       "      <td>None</td>\n",
       "      <td>POLYGON ((7043.00000 12839.50000, 7042.65000 1...</td>\n",
       "    </tr>\n",
       "  </tbody>\n",
       "</table>\n",
       "</div>"
      ],
      "text/plain": [
       "   index                                    id  objectType  \\\n",
       "0      3  3e2e81db-0e02-4b32-9565-ee876f1f0e73  annotation   \n",
       "1      4  e6ac1916-2781-4fa9-98b6-e8f1b262daee  annotation   \n",
       "2      5  b7b74c76-b03f-4592-b47f-83f045d84a1e  annotation   \n",
       "\n",
       "                            classification  name isLocked  \\\n",
       "0  {'name': 'Tumor', 'color': [200, 0, 0]}  None     None   \n",
       "1  {'name': 'Tumor', 'color': [200, 0, 0]}  None     None   \n",
       "2  {'name': 'Tumor', 'color': [200, 0, 0]}  None     None   \n",
       "\n",
       "                                            geometry  \n",
       "0  POLYGON ((7493.00000 12129.00000, 7487.00000 1...  \n",
       "1  POLYGON ((6796.00000 12243.00000, 6790.00000 1...  \n",
       "2  POLYGON ((7043.00000 12839.50000, 7042.65000 1...  "
      ]
     },
     "execution_count": 180,
     "metadata": {},
     "output_type": "execute_result"
    }
   ],
   "source": [
    "replace_coords2(df_copy)"
   ]
  },
  {
   "cell_type": "code",
   "execution_count": 187,
   "id": "9bc8da1b-9c9f-4a4f-a082-ecbead9fda83",
   "metadata": {},
   "outputs": [
    {
     "data": {
      "text/plain": [
       "0    POLYGON ((7493.00000 12129.00000, 7487.00000 1...\n",
       "1    POLYGON ((6796.00000 12243.00000, 6790.00000 1...\n",
       "2    POLYGON ((7043.00000 12839.50000, 7042.65000 1...\n",
       "Name: geometry, dtype: geometry"
      ]
     },
     "execution_count": 187,
     "metadata": {},
     "output_type": "execute_result"
    }
   ],
   "source": [
    "df_copy2.geometry"
   ]
  },
  {
   "cell_type": "markdown",
   "id": "e7b03433-de20-47ec-a8b8-7e20ef2c1e7f",
   "metadata": {
    "jp-MarkdownHeadingCollapsed": true,
    "tags": []
   },
   "source": [
    "# Clean: Get coordenates from dataframe to new column"
   ]
  },
  {
   "cell_type": "code",
   "execution_count": 241,
   "id": "348d228c-42f0-47e2-8753-9108ec7af7cc",
   "metadata": {},
   "outputs": [
    {
     "data": {
      "text/html": [
       "<div>\n",
       "<style scoped>\n",
       "    .dataframe tbody tr th:only-of-type {\n",
       "        vertical-align: middle;\n",
       "    }\n",
       "\n",
       "    .dataframe tbody tr th {\n",
       "        vertical-align: top;\n",
       "    }\n",
       "\n",
       "    .dataframe thead th {\n",
       "        text-align: right;\n",
       "    }\n",
       "</style>\n",
       "<table border=\"1\" class=\"dataframe\">\n",
       "  <thead>\n",
       "    <tr style=\"text-align: right;\">\n",
       "      <th></th>\n",
       "      <th>id</th>\n",
       "      <th>objectType</th>\n",
       "      <th>classification</th>\n",
       "      <th>name</th>\n",
       "      <th>isLocked</th>\n",
       "      <th>geometry</th>\n",
       "    </tr>\n",
       "  </thead>\n",
       "  <tbody>\n",
       "    <tr>\n",
       "      <th>0</th>\n",
       "      <td>e7ac14bf-1f34-4531-974f-08196f93867a</td>\n",
       "      <td>annotation</td>\n",
       "      <td>None</td>\n",
       "      <td>calib1</td>\n",
       "      <td>True</td>\n",
       "      <td>POINT (11585.84000 14257.66000)</td>\n",
       "    </tr>\n",
       "    <tr>\n",
       "      <th>1</th>\n",
       "      <td>1ec79115-3f61-4438-82da-44b71a7cc5f2</td>\n",
       "      <td>annotation</td>\n",
       "      <td>None</td>\n",
       "      <td>calib2</td>\n",
       "      <td>True</td>\n",
       "      <td>POINT (6171.84000 7092.46000)</td>\n",
       "    </tr>\n",
       "    <tr>\n",
       "      <th>2</th>\n",
       "      <td>14284a89-a139-4f33-b377-1f37244eee1b</td>\n",
       "      <td>annotation</td>\n",
       "      <td>None</td>\n",
       "      <td>calib3</td>\n",
       "      <td>True</td>\n",
       "      <td>POINT (5046.31000 11523.93000)</td>\n",
       "    </tr>\n",
       "    <tr>\n",
       "      <th>3</th>\n",
       "      <td>3e2e81db-0e02-4b32-9565-ee876f1f0e73</td>\n",
       "      <td>annotation</td>\n",
       "      <td>{'name': 'Tumor', 'color': [200, 0, 0]}</td>\n",
       "      <td>None</td>\n",
       "      <td>None</td>\n",
       "      <td>POLYGON ((7493.00000 12129.00000, 7487.00000 1...</td>\n",
       "    </tr>\n",
       "    <tr>\n",
       "      <th>4</th>\n",
       "      <td>e6ac1916-2781-4fa9-98b6-e8f1b262daee</td>\n",
       "      <td>annotation</td>\n",
       "      <td>{'name': 'Tumor', 'color': [200, 0, 0]}</td>\n",
       "      <td>None</td>\n",
       "      <td>None</td>\n",
       "      <td>POLYGON ((6796.00000 12243.00000, 6790.00000 1...</td>\n",
       "    </tr>\n",
       "    <tr>\n",
       "      <th>5</th>\n",
       "      <td>b7b74c76-b03f-4592-b47f-83f045d84a1e</td>\n",
       "      <td>annotation</td>\n",
       "      <td>{'name': 'Tumor', 'color': [200, 0, 0]}</td>\n",
       "      <td>None</td>\n",
       "      <td>None</td>\n",
       "      <td>POLYGON ((7043.00000 12839.50000, 7042.65000 1...</td>\n",
       "    </tr>\n",
       "  </tbody>\n",
       "</table>\n",
       "</div>"
      ],
      "text/plain": [
       "                                     id  objectType  \\\n",
       "0  e7ac14bf-1f34-4531-974f-08196f93867a  annotation   \n",
       "1  1ec79115-3f61-4438-82da-44b71a7cc5f2  annotation   \n",
       "2  14284a89-a139-4f33-b377-1f37244eee1b  annotation   \n",
       "3  3e2e81db-0e02-4b32-9565-ee876f1f0e73  annotation   \n",
       "4  e6ac1916-2781-4fa9-98b6-e8f1b262daee  annotation   \n",
       "5  b7b74c76-b03f-4592-b47f-83f045d84a1e  annotation   \n",
       "\n",
       "                            classification    name isLocked  \\\n",
       "0                                     None  calib1     True   \n",
       "1                                     None  calib2     True   \n",
       "2                                     None  calib3     True   \n",
       "3  {'name': 'Tumor', 'color': [200, 0, 0]}    None     None   \n",
       "4  {'name': 'Tumor', 'color': [200, 0, 0]}    None     None   \n",
       "5  {'name': 'Tumor', 'color': [200, 0, 0]}    None     None   \n",
       "\n",
       "                                            geometry  \n",
       "0                    POINT (11585.84000 14257.66000)  \n",
       "1                      POINT (6171.84000 7092.46000)  \n",
       "2                     POINT (5046.31000 11523.93000)  \n",
       "3  POLYGON ((7493.00000 12129.00000, 7487.00000 1...  \n",
       "4  POLYGON ((6796.00000 12243.00000, 6790.00000 1...  \n",
       "5  POLYGON ((7043.00000 12839.50000, 7042.65000 1...  "
      ]
     },
     "execution_count": 241,
     "metadata": {},
     "output_type": "execute_result"
    }
   ],
   "source": [
    "#check original dataframe\n",
    "df"
   ]
  },
  {
   "cell_type": "code",
   "execution_count": 243,
   "id": "e5c12e13-4701-4465-ac86-ec3e5060664f",
   "metadata": {},
   "outputs": [],
   "source": [
    "#convert entire df to text\n",
    "df_str = df.astype(str)\n",
    "#filter original df by finding the word polygon, poly_df created\n",
    "poly_df = df[df_str['geometry'].str.contains(\"POLYGON\")]\n",
    "poly_df = poly_df.reset_index(drop=True)"
   ]
  },
  {
   "cell_type": "code",
   "execution_count": 279,
   "id": "17ba1ad4-de43-4462-aefb-251fefd007ee",
   "metadata": {},
   "outputs": [],
   "source": [
    "def replace_coords(df):\n",
    "    df['lol'] = np.nan\n",
    "    df['lol'] = df['lol'].astype('object')\n",
    "    \n",
    "    for i in df.index:\n",
    "        #get geometry object for row i\n",
    "        geom=df.at[i, 'geometry']\n",
    "        #list the coordenate points as tuples\n",
    "        tmp = list(geom.exterior.coords)\n",
    "        #transform list of tuples to list of lists\n",
    "        tmp_lol = [list(i) for i in tmp]\n",
    "        #add list of list to lol column\n",
    "        df.at[i,'lol'] = tmp_lol\n",
    "    \n",
    "    return(df)"
   ]
  },
  {
   "cell_type": "code",
   "execution_count": 280,
   "id": "2e1b7d38-3400-4b69-8fc2-438c640db6da",
   "metadata": {
    "tags": []
   },
   "outputs": [
    {
     "data": {
      "text/html": [
       "<div>\n",
       "<style scoped>\n",
       "    .dataframe tbody tr th:only-of-type {\n",
       "        vertical-align: middle;\n",
       "    }\n",
       "\n",
       "    .dataframe tbody tr th {\n",
       "        vertical-align: top;\n",
       "    }\n",
       "\n",
       "    .dataframe thead th {\n",
       "        text-align: right;\n",
       "    }\n",
       "</style>\n",
       "<table border=\"1\" class=\"dataframe\">\n",
       "  <thead>\n",
       "    <tr style=\"text-align: right;\">\n",
       "      <th></th>\n",
       "      <th>id</th>\n",
       "      <th>objectType</th>\n",
       "      <th>classification</th>\n",
       "      <th>name</th>\n",
       "      <th>isLocked</th>\n",
       "      <th>geometry</th>\n",
       "      <th>lol</th>\n",
       "    </tr>\n",
       "  </thead>\n",
       "  <tbody>\n",
       "    <tr>\n",
       "      <th>0</th>\n",
       "      <td>3e2e81db-0e02-4b32-9565-ee876f1f0e73</td>\n",
       "      <td>annotation</td>\n",
       "      <td>{'name': 'Tumor', 'color': [200, 0, 0]}</td>\n",
       "      <td>None</td>\n",
       "      <td>None</td>\n",
       "      <td>POLYGON ((7493.00000 12129.00000, 7487.00000 1...</td>\n",
       "      <td>[[7493.0, 12129.0], [7487.0, 12130.0], [7485.0...</td>\n",
       "    </tr>\n",
       "    <tr>\n",
       "      <th>1</th>\n",
       "      <td>e6ac1916-2781-4fa9-98b6-e8f1b262daee</td>\n",
       "      <td>annotation</td>\n",
       "      <td>{'name': 'Tumor', 'color': [200, 0, 0]}</td>\n",
       "      <td>None</td>\n",
       "      <td>None</td>\n",
       "      <td>POLYGON ((6796.00000 12243.00000, 6790.00000 1...</td>\n",
       "      <td>[[6796.0, 12243.0], [6790.0, 12244.0], [6788.0...</td>\n",
       "    </tr>\n",
       "    <tr>\n",
       "      <th>2</th>\n",
       "      <td>b7b74c76-b03f-4592-b47f-83f045d84a1e</td>\n",
       "      <td>annotation</td>\n",
       "      <td>{'name': 'Tumor', 'color': [200, 0, 0]}</td>\n",
       "      <td>None</td>\n",
       "      <td>None</td>\n",
       "      <td>POLYGON ((7043.00000 12839.50000, 7042.65000 1...</td>\n",
       "      <td>[[7043.0, 12839.5], [7042.65, 12846.0], [7041....</td>\n",
       "    </tr>\n",
       "  </tbody>\n",
       "</table>\n",
       "</div>"
      ],
      "text/plain": [
       "                                     id  objectType  \\\n",
       "0  3e2e81db-0e02-4b32-9565-ee876f1f0e73  annotation   \n",
       "1  e6ac1916-2781-4fa9-98b6-e8f1b262daee  annotation   \n",
       "2  b7b74c76-b03f-4592-b47f-83f045d84a1e  annotation   \n",
       "\n",
       "                            classification  name isLocked  \\\n",
       "0  {'name': 'Tumor', 'color': [200, 0, 0]}  None     None   \n",
       "1  {'name': 'Tumor', 'color': [200, 0, 0]}  None     None   \n",
       "2  {'name': 'Tumor', 'color': [200, 0, 0]}  None     None   \n",
       "\n",
       "                                            geometry  \\\n",
       "0  POLYGON ((7493.00000 12129.00000, 7487.00000 1...   \n",
       "1  POLYGON ((6796.00000 12243.00000, 6790.00000 1...   \n",
       "2  POLYGON ((7043.00000 12839.50000, 7042.65000 1...   \n",
       "\n",
       "                                                 lol  \n",
       "0  [[7493.0, 12129.0], [7487.0, 12130.0], [7485.0...  \n",
       "1  [[6796.0, 12243.0], [6790.0, 12244.0], [6788.0...  \n",
       "2  [[7043.0, 12839.5], [7042.65, 12846.0], [7041....  "
      ]
     },
     "execution_count": 280,
     "metadata": {},
     "output_type": "execute_result"
    }
   ],
   "source": [
    "poly_df_lol = replace_coords(poly_df)\n",
    "poly_df_lol"
   ]
  },
  {
   "cell_type": "markdown",
   "id": "430d7659-9544-4e68-8c9b-1285e57eaa32",
   "metadata": {
    "jp-MarkdownHeadingCollapsed": true,
    "tags": []
   },
   "source": [
    "# Dirty: Getting metadata from each polygon"
   ]
  },
  {
   "cell_type": "code",
   "execution_count": 281,
   "id": "fec0e91e-88ab-4554-918c-ec60e7cad4ba",
   "metadata": {},
   "outputs": [
    {
     "data": {
      "text/html": [
       "<div>\n",
       "<style scoped>\n",
       "    .dataframe tbody tr th:only-of-type {\n",
       "        vertical-align: middle;\n",
       "    }\n",
       "\n",
       "    .dataframe tbody tr th {\n",
       "        vertical-align: top;\n",
       "    }\n",
       "\n",
       "    .dataframe thead th {\n",
       "        text-align: right;\n",
       "    }\n",
       "</style>\n",
       "<table border=\"1\" class=\"dataframe\">\n",
       "  <thead>\n",
       "    <tr style=\"text-align: right;\">\n",
       "      <th></th>\n",
       "      <th>id</th>\n",
       "      <th>objectType</th>\n",
       "      <th>classification</th>\n",
       "      <th>name</th>\n",
       "      <th>isLocked</th>\n",
       "      <th>geometry</th>\n",
       "    </tr>\n",
       "  </thead>\n",
       "  <tbody>\n",
       "    <tr>\n",
       "      <th>0</th>\n",
       "      <td>e7ac14bf-1f34-4531-974f-08196f93867a</td>\n",
       "      <td>annotation</td>\n",
       "      <td>None</td>\n",
       "      <td>calib1</td>\n",
       "      <td>True</td>\n",
       "      <td>POINT (11585.84000 14257.66000)</td>\n",
       "    </tr>\n",
       "    <tr>\n",
       "      <th>1</th>\n",
       "      <td>1ec79115-3f61-4438-82da-44b71a7cc5f2</td>\n",
       "      <td>annotation</td>\n",
       "      <td>None</td>\n",
       "      <td>calib2</td>\n",
       "      <td>True</td>\n",
       "      <td>POINT (6171.84000 7092.46000)</td>\n",
       "    </tr>\n",
       "    <tr>\n",
       "      <th>2</th>\n",
       "      <td>14284a89-a139-4f33-b377-1f37244eee1b</td>\n",
       "      <td>annotation</td>\n",
       "      <td>None</td>\n",
       "      <td>calib3</td>\n",
       "      <td>True</td>\n",
       "      <td>POINT (5046.31000 11523.93000)</td>\n",
       "    </tr>\n",
       "    <tr>\n",
       "      <th>3</th>\n",
       "      <td>3e2e81db-0e02-4b32-9565-ee876f1f0e73</td>\n",
       "      <td>annotation</td>\n",
       "      <td>{'name': 'Tumor', 'color': [200, 0, 0]}</td>\n",
       "      <td>None</td>\n",
       "      <td>None</td>\n",
       "      <td>POLYGON ((7493.00000 12129.00000, 7487.00000 1...</td>\n",
       "    </tr>\n",
       "    <tr>\n",
       "      <th>4</th>\n",
       "      <td>e6ac1916-2781-4fa9-98b6-e8f1b262daee</td>\n",
       "      <td>annotation</td>\n",
       "      <td>{'name': 'Tumor', 'color': [200, 0, 0]}</td>\n",
       "      <td>None</td>\n",
       "      <td>None</td>\n",
       "      <td>POLYGON ((6796.00000 12243.00000, 6790.00000 1...</td>\n",
       "    </tr>\n",
       "    <tr>\n",
       "      <th>5</th>\n",
       "      <td>b7b74c76-b03f-4592-b47f-83f045d84a1e</td>\n",
       "      <td>annotation</td>\n",
       "      <td>{'name': 'Tumor', 'color': [200, 0, 0]}</td>\n",
       "      <td>None</td>\n",
       "      <td>None</td>\n",
       "      <td>POLYGON ((7043.00000 12839.50000, 7042.65000 1...</td>\n",
       "    </tr>\n",
       "  </tbody>\n",
       "</table>\n",
       "</div>"
      ],
      "text/plain": [
       "                                     id  objectType  \\\n",
       "0  e7ac14bf-1f34-4531-974f-08196f93867a  annotation   \n",
       "1  1ec79115-3f61-4438-82da-44b71a7cc5f2  annotation   \n",
       "2  14284a89-a139-4f33-b377-1f37244eee1b  annotation   \n",
       "3  3e2e81db-0e02-4b32-9565-ee876f1f0e73  annotation   \n",
       "4  e6ac1916-2781-4fa9-98b6-e8f1b262daee  annotation   \n",
       "5  b7b74c76-b03f-4592-b47f-83f045d84a1e  annotation   \n",
       "\n",
       "                            classification    name isLocked  \\\n",
       "0                                     None  calib1     True   \n",
       "1                                     None  calib2     True   \n",
       "2                                     None  calib3     True   \n",
       "3  {'name': 'Tumor', 'color': [200, 0, 0]}    None     None   \n",
       "4  {'name': 'Tumor', 'color': [200, 0, 0]}    None     None   \n",
       "5  {'name': 'Tumor', 'color': [200, 0, 0]}    None     None   \n",
       "\n",
       "                                            geometry  \n",
       "0                    POINT (11585.84000 14257.66000)  \n",
       "1                      POINT (6171.84000 7092.46000)  \n",
       "2                     POINT (5046.31000 11523.93000)  \n",
       "3  POLYGON ((7493.00000 12129.00000, 7487.00000 1...  \n",
       "4  POLYGON ((6796.00000 12243.00000, 6790.00000 1...  \n",
       "5  POLYGON ((7043.00000 12839.50000, 7042.65000 1...  "
      ]
     },
     "execution_count": 281,
     "metadata": {},
     "output_type": "execute_result"
    }
   ],
   "source": [
    "df"
   ]
  },
  {
   "cell_type": "code",
   "execution_count": 282,
   "id": "d1fc810f-6a63-4761-8cf9-9a01308e34f9",
   "metadata": {},
   "outputs": [
    {
     "data": {
      "text/html": [
       "<div>\n",
       "<style scoped>\n",
       "    .dataframe tbody tr th:only-of-type {\n",
       "        vertical-align: middle;\n",
       "    }\n",
       "\n",
       "    .dataframe tbody tr th {\n",
       "        vertical-align: top;\n",
       "    }\n",
       "\n",
       "    .dataframe thead th {\n",
       "        text-align: right;\n",
       "    }\n",
       "</style>\n",
       "<table border=\"1\" class=\"dataframe\">\n",
       "  <thead>\n",
       "    <tr style=\"text-align: right;\">\n",
       "      <th></th>\n",
       "      <th>id</th>\n",
       "      <th>objectType</th>\n",
       "      <th>classification</th>\n",
       "      <th>name</th>\n",
       "      <th>isLocked</th>\n",
       "      <th>geometry</th>\n",
       "      <th>lol</th>\n",
       "    </tr>\n",
       "  </thead>\n",
       "  <tbody>\n",
       "    <tr>\n",
       "      <th>0</th>\n",
       "      <td>3e2e81db-0e02-4b32-9565-ee876f1f0e73</td>\n",
       "      <td>annotation</td>\n",
       "      <td>{'name': 'Tumor', 'color': [200, 0, 0]}</td>\n",
       "      <td>None</td>\n",
       "      <td>None</td>\n",
       "      <td>POLYGON ((7493.00000 12129.00000, 7487.00000 1...</td>\n",
       "      <td>[[7493.0, 12129.0], [7487.0, 12130.0], [7485.0...</td>\n",
       "    </tr>\n",
       "    <tr>\n",
       "      <th>1</th>\n",
       "      <td>e6ac1916-2781-4fa9-98b6-e8f1b262daee</td>\n",
       "      <td>annotation</td>\n",
       "      <td>{'name': 'Tumor', 'color': [200, 0, 0]}</td>\n",
       "      <td>None</td>\n",
       "      <td>None</td>\n",
       "      <td>POLYGON ((6796.00000 12243.00000, 6790.00000 1...</td>\n",
       "      <td>[[6796.0, 12243.0], [6790.0, 12244.0], [6788.0...</td>\n",
       "    </tr>\n",
       "    <tr>\n",
       "      <th>2</th>\n",
       "      <td>b7b74c76-b03f-4592-b47f-83f045d84a1e</td>\n",
       "      <td>annotation</td>\n",
       "      <td>{'name': 'Tumor', 'color': [200, 0, 0]}</td>\n",
       "      <td>None</td>\n",
       "      <td>None</td>\n",
       "      <td>POLYGON ((7043.00000 12839.50000, 7042.65000 1...</td>\n",
       "      <td>[[7043.0, 12839.5], [7042.65, 12846.0], [7041....</td>\n",
       "    </tr>\n",
       "  </tbody>\n",
       "</table>\n",
       "</div>"
      ],
      "text/plain": [
       "                                     id  objectType  \\\n",
       "0  3e2e81db-0e02-4b32-9565-ee876f1f0e73  annotation   \n",
       "1  e6ac1916-2781-4fa9-98b6-e8f1b262daee  annotation   \n",
       "2  b7b74c76-b03f-4592-b47f-83f045d84a1e  annotation   \n",
       "\n",
       "                            classification  name isLocked  \\\n",
       "0  {'name': 'Tumor', 'color': [200, 0, 0]}  None     None   \n",
       "1  {'name': 'Tumor', 'color': [200, 0, 0]}  None     None   \n",
       "2  {'name': 'Tumor', 'color': [200, 0, 0]}  None     None   \n",
       "\n",
       "                                            geometry  \\\n",
       "0  POLYGON ((7493.00000 12129.00000, 7487.00000 1...   \n",
       "1  POLYGON ((6796.00000 12243.00000, 6790.00000 1...   \n",
       "2  POLYGON ((7043.00000 12839.50000, 7042.65000 1...   \n",
       "\n",
       "                                                 lol  \n",
       "0  [[7493.0, 12129.0], [7487.0, 12130.0], [7485.0...  \n",
       "1  [[6796.0, 12243.0], [6790.0, 12244.0], [6788.0...  \n",
       "2  [[7043.0, 12839.5], [7042.65, 12846.0], [7041....  "
      ]
     },
     "execution_count": 282,
     "metadata": {},
     "output_type": "execute_result"
    }
   ],
   "source": [
    "poly_df_lol"
   ]
  },
  {
   "cell_type": "code",
   "execution_count": 283,
   "id": "acc48426-e9b2-4211-8979-047e1b833bea",
   "metadata": {},
   "outputs": [],
   "source": [
    "df = poly_df_lol"
   ]
  },
  {
   "cell_type": "code",
   "execution_count": 284,
   "id": "1a92b968-a46d-4588-99be-53860c183d08",
   "metadata": {},
   "outputs": [
    {
     "data": {
      "text/html": [
       "<div>\n",
       "<style scoped>\n",
       "    .dataframe tbody tr th:only-of-type {\n",
       "        vertical-align: middle;\n",
       "    }\n",
       "\n",
       "    .dataframe tbody tr th {\n",
       "        vertical-align: top;\n",
       "    }\n",
       "\n",
       "    .dataframe thead th {\n",
       "        text-align: right;\n",
       "    }\n",
       "</style>\n",
       "<table border=\"1\" class=\"dataframe\">\n",
       "  <thead>\n",
       "    <tr style=\"text-align: right;\">\n",
       "      <th></th>\n",
       "      <th>id</th>\n",
       "      <th>objectType</th>\n",
       "      <th>classification</th>\n",
       "      <th>name</th>\n",
       "      <th>isLocked</th>\n",
       "      <th>geometry</th>\n",
       "      <th>lol</th>\n",
       "    </tr>\n",
       "  </thead>\n",
       "  <tbody>\n",
       "    <tr>\n",
       "      <th>0</th>\n",
       "      <td>3e2e81db-0e02-4b32-9565-ee876f1f0e73</td>\n",
       "      <td>annotation</td>\n",
       "      <td>{'name': 'Tumor', 'color': [200, 0, 0]}</td>\n",
       "      <td>None</td>\n",
       "      <td>None</td>\n",
       "      <td>POLYGON ((7493.00000 12129.00000, 7487.00000 1...</td>\n",
       "      <td>[[7493.0, 12129.0], [7487.0, 12130.0], [7485.0...</td>\n",
       "    </tr>\n",
       "    <tr>\n",
       "      <th>1</th>\n",
       "      <td>e6ac1916-2781-4fa9-98b6-e8f1b262daee</td>\n",
       "      <td>annotation</td>\n",
       "      <td>{'name': 'Tumor', 'color': [200, 0, 0]}</td>\n",
       "      <td>None</td>\n",
       "      <td>None</td>\n",
       "      <td>POLYGON ((6796.00000 12243.00000, 6790.00000 1...</td>\n",
       "      <td>[[6796.0, 12243.0], [6790.0, 12244.0], [6788.0...</td>\n",
       "    </tr>\n",
       "    <tr>\n",
       "      <th>2</th>\n",
       "      <td>b7b74c76-b03f-4592-b47f-83f045d84a1e</td>\n",
       "      <td>annotation</td>\n",
       "      <td>{'name': 'Tumor', 'color': [200, 0, 0]}</td>\n",
       "      <td>None</td>\n",
       "      <td>None</td>\n",
       "      <td>POLYGON ((7043.00000 12839.50000, 7042.65000 1...</td>\n",
       "      <td>[[7043.0, 12839.5], [7042.65, 12846.0], [7041....</td>\n",
       "    </tr>\n",
       "  </tbody>\n",
       "</table>\n",
       "</div>"
      ],
      "text/plain": [
       "                                     id  objectType  \\\n",
       "0  3e2e81db-0e02-4b32-9565-ee876f1f0e73  annotation   \n",
       "1  e6ac1916-2781-4fa9-98b6-e8f1b262daee  annotation   \n",
       "2  b7b74c76-b03f-4592-b47f-83f045d84a1e  annotation   \n",
       "\n",
       "                            classification  name isLocked  \\\n",
       "0  {'name': 'Tumor', 'color': [200, 0, 0]}  None     None   \n",
       "1  {'name': 'Tumor', 'color': [200, 0, 0]}  None     None   \n",
       "2  {'name': 'Tumor', 'color': [200, 0, 0]}  None     None   \n",
       "\n",
       "                                            geometry  \\\n",
       "0  POLYGON ((7493.00000 12129.00000, 7487.00000 1...   \n",
       "1  POLYGON ((6796.00000 12243.00000, 6790.00000 1...   \n",
       "2  POLYGON ((7043.00000 12839.50000, 7042.65000 1...   \n",
       "\n",
       "                                                 lol  \n",
       "0  [[7493.0, 12129.0], [7487.0, 12130.0], [7485.0...  \n",
       "1  [[6796.0, 12243.0], [6790.0, 12244.0], [6788.0...  \n",
       "2  [[7043.0, 12839.5], [7042.65, 12846.0], [7041....  "
      ]
     },
     "execution_count": 284,
     "metadata": {},
     "output_type": "execute_result"
    }
   ],
   "source": [
    "df"
   ]
  },
  {
   "cell_type": "code",
   "execution_count": 285,
   "id": "f90838c9-c853-46c7-ba6a-a2a114adb939",
   "metadata": {},
   "outputs": [
    {
     "data": {
      "text/plain": [
       "0    {'name': 'Tumor', 'color': [200, 0, 0]}\n",
       "1    {'name': 'Tumor', 'color': [200, 0, 0]}\n",
       "2    {'name': 'Tumor', 'color': [200, 0, 0]}\n",
       "Name: classification, dtype: object"
      ]
     },
     "execution_count": 285,
     "metadata": {},
     "output_type": "execute_result"
    }
   ],
   "source": [
    "df['classification']"
   ]
  },
  {
   "cell_type": "code",
   "execution_count": 289,
   "id": "6bedfc92-0164-4020-b1b3-82d3b680e1a3",
   "metadata": {},
   "outputs": [
    {
     "data": {
      "text/plain": [
       "{'name': 'Tumor', 'color': [200, 0, 0]}"
      ]
     },
     "execution_count": 289,
     "metadata": {},
     "output_type": "execute_result"
    }
   ],
   "source": [
    "df.classification[0]"
   ]
  },
  {
   "cell_type": "code",
   "execution_count": 290,
   "id": "8d8175fc-ee96-48ca-a7c7-12a008eb829c",
   "metadata": {},
   "outputs": [
    {
     "data": {
      "text/plain": [
       "'Tumor'"
      ]
     },
     "execution_count": 290,
     "metadata": {},
     "output_type": "execute_result"
    }
   ],
   "source": [
    "df.classification[0].get('name')"
   ]
  },
  {
   "cell_type": "code",
   "execution_count": 291,
   "id": "7787706f-ed19-4477-a420-240274536155",
   "metadata": {},
   "outputs": [],
   "source": [
    "df['Name'] = np.nan"
   ]
  },
  {
   "cell_type": "code",
   "execution_count": 292,
   "id": "15b6bfee-83fd-44c1-983a-acf5fe43bc4b",
   "metadata": {},
   "outputs": [],
   "source": [
    "for i in df.index:\n",
    "    tmp = df.classification[i].get('name')\n",
    "    df.at[i,'Name'] = tmp"
   ]
  },
  {
   "cell_type": "code",
   "execution_count": 293,
   "id": "38b0e5ff-bd35-491f-a31d-c5a79b9ba4e2",
   "metadata": {},
   "outputs": [
    {
     "data": {
      "text/html": [
       "<div>\n",
       "<style scoped>\n",
       "    .dataframe tbody tr th:only-of-type {\n",
       "        vertical-align: middle;\n",
       "    }\n",
       "\n",
       "    .dataframe tbody tr th {\n",
       "        vertical-align: top;\n",
       "    }\n",
       "\n",
       "    .dataframe thead th {\n",
       "        text-align: right;\n",
       "    }\n",
       "</style>\n",
       "<table border=\"1\" class=\"dataframe\">\n",
       "  <thead>\n",
       "    <tr style=\"text-align: right;\">\n",
       "      <th></th>\n",
       "      <th>id</th>\n",
       "      <th>objectType</th>\n",
       "      <th>classification</th>\n",
       "      <th>name</th>\n",
       "      <th>isLocked</th>\n",
       "      <th>geometry</th>\n",
       "      <th>lol</th>\n",
       "      <th>Name</th>\n",
       "    </tr>\n",
       "  </thead>\n",
       "  <tbody>\n",
       "    <tr>\n",
       "      <th>0</th>\n",
       "      <td>3e2e81db-0e02-4b32-9565-ee876f1f0e73</td>\n",
       "      <td>annotation</td>\n",
       "      <td>{'name': 'Tumor', 'color': [200, 0, 0]}</td>\n",
       "      <td>None</td>\n",
       "      <td>None</td>\n",
       "      <td>POLYGON ((7493.00000 12129.00000, 7487.00000 1...</td>\n",
       "      <td>[[7493.0, 12129.0], [7487.0, 12130.0], [7485.0...</td>\n",
       "      <td>Tumor</td>\n",
       "    </tr>\n",
       "    <tr>\n",
       "      <th>1</th>\n",
       "      <td>e6ac1916-2781-4fa9-98b6-e8f1b262daee</td>\n",
       "      <td>annotation</td>\n",
       "      <td>{'name': 'Tumor', 'color': [200, 0, 0]}</td>\n",
       "      <td>None</td>\n",
       "      <td>None</td>\n",
       "      <td>POLYGON ((6796.00000 12243.00000, 6790.00000 1...</td>\n",
       "      <td>[[6796.0, 12243.0], [6790.0, 12244.0], [6788.0...</td>\n",
       "      <td>Tumor</td>\n",
       "    </tr>\n",
       "    <tr>\n",
       "      <th>2</th>\n",
       "      <td>b7b74c76-b03f-4592-b47f-83f045d84a1e</td>\n",
       "      <td>annotation</td>\n",
       "      <td>{'name': 'Tumor', 'color': [200, 0, 0]}</td>\n",
       "      <td>None</td>\n",
       "      <td>None</td>\n",
       "      <td>POLYGON ((7043.00000 12839.50000, 7042.65000 1...</td>\n",
       "      <td>[[7043.0, 12839.5], [7042.65, 12846.0], [7041....</td>\n",
       "      <td>Tumor</td>\n",
       "    </tr>\n",
       "  </tbody>\n",
       "</table>\n",
       "</div>"
      ],
      "text/plain": [
       "                                     id  objectType  \\\n",
       "0  3e2e81db-0e02-4b32-9565-ee876f1f0e73  annotation   \n",
       "1  e6ac1916-2781-4fa9-98b6-e8f1b262daee  annotation   \n",
       "2  b7b74c76-b03f-4592-b47f-83f045d84a1e  annotation   \n",
       "\n",
       "                            classification  name isLocked  \\\n",
       "0  {'name': 'Tumor', 'color': [200, 0, 0]}  None     None   \n",
       "1  {'name': 'Tumor', 'color': [200, 0, 0]}  None     None   \n",
       "2  {'name': 'Tumor', 'color': [200, 0, 0]}  None     None   \n",
       "\n",
       "                                            geometry  \\\n",
       "0  POLYGON ((7493.00000 12129.00000, 7487.00000 1...   \n",
       "1  POLYGON ((6796.00000 12243.00000, 6790.00000 1...   \n",
       "2  POLYGON ((7043.00000 12839.50000, 7042.65000 1...   \n",
       "\n",
       "                                                 lol   Name  \n",
       "0  [[7493.0, 12129.0], [7487.0, 12130.0], [7485.0...  Tumor  \n",
       "1  [[6796.0, 12243.0], [6790.0, 12244.0], [6788.0...  Tumor  \n",
       "2  [[7043.0, 12839.5], [7042.65, 12846.0], [7041....  Tumor  "
      ]
     },
     "execution_count": 293,
     "metadata": {},
     "output_type": "execute_result"
    }
   ],
   "source": [
    "df"
   ]
  },
  {
   "cell_type": "code",
   "execution_count": 287,
   "id": "663ce3fc-97ae-4221-9704-c65ca273aab7",
   "metadata": {},
   "outputs": [],
   "source": [
    "name = [df.get('name') for d in df.classification]"
   ]
  },
  {
   "cell_type": "code",
   "execution_count": 295,
   "id": "5af8a021-a8ac-4825-9f08-c9c37c8f41ca",
   "metadata": {},
   "outputs": [],
   "source": [
    "def get_contour_type(df):\n",
    "    print('Before:')\n",
    "    print(df.head())\n",
    "    \n",
    "    #create empty column\n",
    "    df['Name'] = np.nan\n",
    "    \n",
    "    #fill empty column with whatever is inside dictionary name entry\n",
    "    for i in df.index:\n",
    "        tmp = df.classification[i].get('name')\n",
    "        df.at[i,'Name'] = tmp\n",
    "    \n",
    "    print('After:')\n",
    "    print(df.head())\n",
    "    \n",
    "    return(df)"
   ]
  },
  {
   "cell_type": "code",
   "execution_count": 302,
   "id": "416a2867-19b7-44ef-b501-c14d32aadabe",
   "metadata": {},
   "outputs": [
    {
     "data": {
      "text/html": [
       "<div>\n",
       "<style scoped>\n",
       "    .dataframe tbody tr th:only-of-type {\n",
       "        vertical-align: middle;\n",
       "    }\n",
       "\n",
       "    .dataframe tbody tr th {\n",
       "        vertical-align: top;\n",
       "    }\n",
       "\n",
       "    .dataframe thead th {\n",
       "        text-align: right;\n",
       "    }\n",
       "</style>\n",
       "<table border=\"1\" class=\"dataframe\">\n",
       "  <thead>\n",
       "    <tr style=\"text-align: right;\">\n",
       "      <th></th>\n",
       "      <th>id</th>\n",
       "      <th>objectType</th>\n",
       "      <th>classification</th>\n",
       "      <th>name</th>\n",
       "      <th>isLocked</th>\n",
       "      <th>geometry</th>\n",
       "      <th>Name</th>\n",
       "    </tr>\n",
       "  </thead>\n",
       "  <tbody>\n",
       "    <tr>\n",
       "      <th>0</th>\n",
       "      <td>e7ac14bf-1f34-4531-974f-08196f93867a</td>\n",
       "      <td>annotation</td>\n",
       "      <td>None</td>\n",
       "      <td>calib1</td>\n",
       "      <td>True</td>\n",
       "      <td>POINT (11585.84000 14257.66000)</td>\n",
       "      <td>NaN</td>\n",
       "    </tr>\n",
       "    <tr>\n",
       "      <th>1</th>\n",
       "      <td>1ec79115-3f61-4438-82da-44b71a7cc5f2</td>\n",
       "      <td>annotation</td>\n",
       "      <td>None</td>\n",
       "      <td>calib2</td>\n",
       "      <td>True</td>\n",
       "      <td>POINT (6171.84000 7092.46000)</td>\n",
       "      <td>NaN</td>\n",
       "    </tr>\n",
       "    <tr>\n",
       "      <th>2</th>\n",
       "      <td>14284a89-a139-4f33-b377-1f37244eee1b</td>\n",
       "      <td>annotation</td>\n",
       "      <td>None</td>\n",
       "      <td>calib3</td>\n",
       "      <td>True</td>\n",
       "      <td>POINT (5046.31000 11523.93000)</td>\n",
       "      <td>NaN</td>\n",
       "    </tr>\n",
       "    <tr>\n",
       "      <th>3</th>\n",
       "      <td>3e2e81db-0e02-4b32-9565-ee876f1f0e73</td>\n",
       "      <td>annotation</td>\n",
       "      <td>{'name': 'Tumor', 'color': [200, 0, 0]}</td>\n",
       "      <td>None</td>\n",
       "      <td>None</td>\n",
       "      <td>POLYGON ((7493.00000 12129.00000, 7487.00000 1...</td>\n",
       "      <td>NaN</td>\n",
       "    </tr>\n",
       "    <tr>\n",
       "      <th>4</th>\n",
       "      <td>e6ac1916-2781-4fa9-98b6-e8f1b262daee</td>\n",
       "      <td>annotation</td>\n",
       "      <td>{'name': 'Tumor', 'color': [200, 0, 0]}</td>\n",
       "      <td>None</td>\n",
       "      <td>None</td>\n",
       "      <td>POLYGON ((6796.00000 12243.00000, 6790.00000 1...</td>\n",
       "      <td>NaN</td>\n",
       "    </tr>\n",
       "    <tr>\n",
       "      <th>5</th>\n",
       "      <td>b7b74c76-b03f-4592-b47f-83f045d84a1e</td>\n",
       "      <td>annotation</td>\n",
       "      <td>{'name': 'Tumor', 'color': [200, 0, 0]}</td>\n",
       "      <td>None</td>\n",
       "      <td>None</td>\n",
       "      <td>POLYGON ((7043.00000 12839.50000, 7042.65000 1...</td>\n",
       "      <td>NaN</td>\n",
       "    </tr>\n",
       "  </tbody>\n",
       "</table>\n",
       "</div>"
      ],
      "text/plain": [
       "                                     id  objectType  \\\n",
       "0  e7ac14bf-1f34-4531-974f-08196f93867a  annotation   \n",
       "1  1ec79115-3f61-4438-82da-44b71a7cc5f2  annotation   \n",
       "2  14284a89-a139-4f33-b377-1f37244eee1b  annotation   \n",
       "3  3e2e81db-0e02-4b32-9565-ee876f1f0e73  annotation   \n",
       "4  e6ac1916-2781-4fa9-98b6-e8f1b262daee  annotation   \n",
       "5  b7b74c76-b03f-4592-b47f-83f045d84a1e  annotation   \n",
       "\n",
       "                            classification    name isLocked  \\\n",
       "0                                     None  calib1     True   \n",
       "1                                     None  calib2     True   \n",
       "2                                     None  calib3     True   \n",
       "3  {'name': 'Tumor', 'color': [200, 0, 0]}    None     None   \n",
       "4  {'name': 'Tumor', 'color': [200, 0, 0]}    None     None   \n",
       "5  {'name': 'Tumor', 'color': [200, 0, 0]}    None     None   \n",
       "\n",
       "                                            geometry  Name  \n",
       "0                    POINT (11585.84000 14257.66000)   NaN  \n",
       "1                      POINT (6171.84000 7092.46000)   NaN  \n",
       "2                     POINT (5046.31000 11523.93000)   NaN  \n",
       "3  POLYGON ((7493.00000 12129.00000, 7487.00000 1...   NaN  \n",
       "4  POLYGON ((6796.00000 12243.00000, 6790.00000 1...   NaN  \n",
       "5  POLYGON ((7043.00000 12839.50000, 7042.65000 1...   NaN  "
      ]
     },
     "execution_count": 302,
     "metadata": {},
     "output_type": "execute_result"
    }
   ],
   "source": [
    "df"
   ]
  },
  {
   "cell_type": "markdown",
   "id": "1ea312e9-a01f-4d85-90e3-b84f76347f80",
   "metadata": {
    "jp-MarkdownHeadingCollapsed": true,
    "tags": []
   },
   "source": [
    "# Clean: Getting datatype from each polygon into new column"
   ]
  },
  {
   "cell_type": "code",
   "execution_count": 295,
   "id": "cdb9340a-d2c5-41ba-8f77-edf41283e9fa",
   "metadata": {},
   "outputs": [],
   "source": [
    "def get_contour_type(df):\n",
    "    print('Before:')\n",
    "    print(df.head())\n",
    "    \n",
    "    #create empty column\n",
    "    df['Name'] = np.nan\n",
    "    \n",
    "    #fill empty column with whatever is inside dictionary name entry\n",
    "    for i in df.index:\n",
    "        tmp = df.classification[i].get('name')\n",
    "        df.at[i,'Name'] = tmp\n",
    "    \n",
    "    print('After:')\n",
    "    print(df.head())\n",
    "    \n",
    "    return(df)"
   ]
  },
  {
   "cell_type": "markdown",
   "id": "d6a6159f-87da-4626-827f-4ea243fa622d",
   "metadata": {
    "jp-MarkdownHeadingCollapsed": true,
    "tags": []
   },
   "source": [
    "# Reintroduction into lmdpy"
   ]
  },
  {
   "cell_type": "markdown",
   "id": "626c93d5-ddb7-4f01-aaa6-e0d8e9a3a9f4",
   "metadata": {},
   "source": [
    "What does the output look like?\n",
    "\n",
    "Plan A:\n",
    "One xml file for all polygons, using 3 calibpoints.\n",
    "    Advantages: Simple, can work\n",
    "    Disadvantages: If too spread out, distortion will mess the polygons up\n",
    "\n",
    "Plan B:\n",
    "One xml file per polygon type. One can decide which 3 calibpoints to use. \n",
    "Assumes diffent contour types are spatially segregated.\n",
    "\n",
    "Plan C:\n",
    "One xml file per region of interest, meaning per group of calibration points.\n",
    "Most complicated because every polygon would have two options:\n",
    "    1. Which regions does it belong to, or which calib points to use for that polygon. \n",
    "    2. What contour type is it, different types will be collected into different wells.\n",
    "Both layers of information could be communicated in the Name field, using a comma for example. I might have to go back to Qupath to check.\n",
    "Also, one could filter polygons, such that, their centroids are inside the triangle formed by the three calibpoints.\n",
    "\n",
    "For now I will try coding for Plan A, the simplest one, to get myself acquainted with mldpy again"
   ]
  },
  {
   "cell_type": "code",
   "execution_count": 308,
   "id": "e0521dcc-840c-4185-b6a9-5d9ff34112fc",
   "metadata": {},
   "outputs": [
    {
     "ename": "ModuleNotFoundError",
     "evalue": "No module named 'lmd'",
     "output_type": "error",
     "traceback": [
      "\u001b[1;31m---------------------------------------------------------------------------\u001b[0m",
      "\u001b[1;31mModuleNotFoundError\u001b[0m                       Traceback (most recent call last)",
      "Input \u001b[1;32mIn [308]\u001b[0m, in \u001b[0;36m<cell line: 1>\u001b[1;34m()\u001b[0m\n\u001b[1;32m----> 1\u001b[0m \u001b[38;5;28;01mfrom\u001b[39;00m \u001b[38;5;21;01mlmd\u001b[39;00m\u001b[38;5;21;01m.\u001b[39;00m\u001b[38;5;21;01mlib\u001b[39;00m \u001b[38;5;28;01mimport\u001b[39;00m Collection, Shape\n",
      "\u001b[1;31mModuleNotFoundError\u001b[0m: No module named 'lmd'"
     ]
    }
   ],
   "source": [
    "from lmd.lib import Collection, Shape"
   ]
  },
  {
   "cell_type": "code",
   "execution_count": null,
   "id": "f369fc20-bd8a-422e-b827-3e50d3ae89cb",
   "metadata": {},
   "outputs": [],
   "source": [
    "# I will try installing"
   ]
  },
  {
   "cell_type": "code",
   "execution_count": 310,
   "id": "be00d74d-29a9-45de-ad09-fac8fec3fd79",
   "metadata": {},
   "outputs": [
    {
     "ename": "ModuleNotFoundError",
     "evalue": "No module named 'lmd'",
     "output_type": "error",
     "traceback": [
      "\u001b[1;31m---------------------------------------------------------------------------\u001b[0m",
      "\u001b[1;31mModuleNotFoundError\u001b[0m                       Traceback (most recent call last)",
      "Input \u001b[1;32mIn [310]\u001b[0m, in \u001b[0;36m<cell line: 1>\u001b[1;34m()\u001b[0m\n\u001b[1;32m----> 1\u001b[0m \u001b[38;5;28;01mfrom\u001b[39;00m \u001b[38;5;21;01mlmd\u001b[39;00m\u001b[38;5;21;01m.\u001b[39;00m\u001b[38;5;21;01mlib\u001b[39;00m \u001b[38;5;28;01mimport\u001b[39;00m Collection, Shape\n",
      "\u001b[1;31mModuleNotFoundError\u001b[0m: No module named 'lmd'"
     ]
    }
   ],
   "source": [
    "from lmd.lib import Collection, Shape"
   ]
  },
  {
   "cell_type": "code",
   "execution_count": 311,
   "id": "e812a04f-5e7d-4904-be58-9f5fde7edf32",
   "metadata": {},
   "outputs": [],
   "source": [
    "#It worked in another kernel, I would just have to restart :) should I? "
   ]
  }
 ],
 "metadata": {
  "kernelspec": {
   "display_name": "Python 3 (ipykernel)",
   "language": "python",
   "name": "python3"
  },
  "language_info": {
   "codemirror_mode": {
    "name": "ipython",
    "version": 3
   },
   "file_extension": ".py",
   "mimetype": "text/x-python",
   "name": "python",
   "nbconvert_exporter": "python",
   "pygments_lexer": "ipython3",
   "version": "3.10.6"
  }
 },
 "nbformat": 4,
 "nbformat_minor": 5
}
