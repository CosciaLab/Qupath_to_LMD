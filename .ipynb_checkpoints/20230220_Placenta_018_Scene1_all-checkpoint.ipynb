{
 "cells": [
  {
   "cell_type": "markdown",
   "id": "cf13cc91-7305-426c-ad15-2252f543b8d0",
   "metadata": {
    "tags": []
   },
   "source": [
    "# One Jupyter notebook. From GeoJSON to .xml "
   ]
  },
  {
   "cell_type": "markdown",
   "id": "1a8a0247-2ce7-4436-b874-2edfa336c4b3",
   "metadata": {
    "tags": []
   },
   "source": [
    "## Imports"
   ]
  },
  {
   "cell_type": "code",
   "execution_count": 96,
   "id": "ac38f724-596e-48f2-ae0c-29bb8e71030b",
   "metadata": {},
   "outputs": [],
   "source": [
    "import json\n",
    "import geojson \n",
    "import geopandas\n",
    "import pandas as pd\n",
    "import numpy as np\n",
    "import os\n",
    "import datetime as dt\n",
    "\n",
    "from lmd.lib import Collection, Shape\n",
    "from lmd import tools\n",
    "from PIL import Image\n",
    "from lmd.lib import SegmentationLoader\n",
    "\n",
    "import tifffile\n",
    "import string\n",
    "\n",
    "from shapely.geometry import Point, LineString\n",
    "\n",
    "import copy"
   ]
  },
  {
   "cell_type": "markdown",
   "id": "36985444-7a8a-4bf8-9da8-57c786abcfdb",
   "metadata": {
    "tags": []
   },
   "source": [
    "## From GeoJSON to Dataframe"
   ]
  },
  {
   "cell_type": "code",
   "execution_count": 97,
   "id": "ef43c7fe-4e7f-4595-9d99-7aa268099a36",
   "metadata": {
    "tags": []
   },
   "outputs": [],
   "source": [
    "#user defined variables:\n",
    "\n",
    "path_to_file = r'X:\\Jose_Imaging_Data\\20230208_Placenta_12samples\\QuPath_Projects_with_contours\\Placenta_018_033\\geojson_files'\n",
    "file = r'20230220_1454_018_Scene1_all.geojson'\n",
    "calibration_points = ['calib3','calib4','calib13']\n",
    "\n",
    "#change batch to True if you want to process many geoJSON, it assumes they all have the same calibration points\n",
    "batch=False\n",
    "#if processing batch it assumes calibration points ['Calib1','Calib2','Calib3']"
   ]
  },
  {
   "cell_type": "markdown",
   "id": "92df8e52-ac18-49b7-aad6-86271759af4e",
   "metadata": {
    "jp-MarkdownHeadingCollapsed": true,
    "tags": []
   },
   "source": [
    "### custom samples and wells"
   ]
  },
  {
   "cell_type": "code",
   "execution_count": 98,
   "id": "6fe9b3a5-2404-4118-857d-3796eaea3998",
   "metadata": {
    "tags": []
   },
   "outputs": [],
   "source": [
    "custom_samples_and_wells = {'033_HBC_mid_3': 'C3',\n",
    " '033_HBC_nVEC_1': 'C4',\n",
    " '033_HBC_nVEC_2': 'C5',\n",
    " '033_HBC_mid_2': 'C6',\n",
    " '033_HBC_nTroph_3': 'C7',\n",
    " '033_HBC_nTroph_1': 'C8',\n",
    " '033_HBC_mid_1': 'C9',\n",
    " '033_HBC_nVEC_3': 'C10',\n",
    " '033_HBC_nTroph_2': 'C11',\n",
    " '018_STB_nVEC_1': 'H14',\n",
    " '018_STB_nVEC_2': 'H15',\n",
    " '018_STB_nVEC_3': 'H16',\n",
    " '018_STB_gen_1': 'H17',\n",
    " '018_STB_gen_2': 'H18',\n",
    " '018_STB_gen_3': 'H19',\n",
    " '018_CTB_1': 'H20',\n",
    " '018_CTB_2': 'H21',\n",
    " '018_CTB_3': 'H22',\n",
    " '018_HBC_nTroph_1': 'I2',\n",
    " '018_HBC_nTroph_2': 'I3',\n",
    " '018_HBC_nTroph_3': 'I4',\n",
    " '018_HBC_nVEC_1': 'I5',\n",
    " '018_HBC_nVEC_2': 'I6',\n",
    " '018_HBC_nVEC_3': 'I7',\n",
    " '018_HBC_mid_1': 'I8',\n",
    " '018_HBC_mid_2': 'I9',\n",
    " '018_HBC_mid_3': 'I10',\n",
    " '018_CCT_1': 'I11',\n",
    " '018_CCT_2': 'I12',\n",
    " '018_CCT_3': 'I13',\n",
    " '018_VEC_1': 'I14',\n",
    " '018_VEC_2': 'I15',\n",
    " '018_VEC_3': 'I16',\n",
    " '018_Str_1': 'I17',\n",
    " '018_Str_2': 'I18',\n",
    " '018_Str_3': 'I19',\n",
    " '033_STB_nVEC_1': 'I20',\n",
    " '033_STB_nVEC_2': 'I21',\n",
    " '033_STB_nVEC_3': 'I22',\n",
    " '033_STB_gen_1': 'J2',\n",
    " '033_STB_gen_2': 'J3',\n",
    " '033_STB_gen_3': 'J4',\n",
    " '033_CTB_1': 'J5',\n",
    " '033_CTB_2': 'J6',\n",
    " '033_CTB_3': 'J7',\n",
    " '033_CCT_1': 'J17',\n",
    " '033_CCT_2': 'J18',\n",
    " '033_CCT_3': 'J19',\n",
    " '033_VEC_1': 'J20',\n",
    " '033_VEC_2': 'J21',\n",
    " '033_VEC_3': 'J22',\n",
    " '033_Str_1': 'K2',\n",
    " '033_Str_2': 'K3',\n",
    " '033_Str_3': 'K4'}"
   ]
  },
  {
   "cell_type": "markdown",
   "id": "e0cc0a7b-dcd3-4cb5-b30f-42414f3576d4",
   "metadata": {
    "tags": []
   },
   "source": [
    "## Code"
   ]
  },
  {
   "cell_type": "markdown",
   "id": "e0dfb0dd-c054-4594-a4de-f645f82464d4",
   "metadata": {
    "jp-MarkdownHeadingCollapsed": true,
    "tags": []
   },
   "source": [
    "### process dataframe"
   ]
  },
  {
   "cell_type": "code",
   "execution_count": 99,
   "id": "72326893-150c-4cda-8ef3-e1cb4213cddc",
   "metadata": {
    "tags": []
   },
   "outputs": [],
   "source": [
    "single_file_path = os.path.join(path_to_file,file)\n",
    "\n",
    "def start_pipeline(dataf):\n",
    "    return dataf.copy()\n",
    "              \n",
    "def remove_calib_points(df):\n",
    "    #convert entire df to text\n",
    "    df_str = df.astype(str)\n",
    "    #filter original df by finding the word polygon, poly_df created\n",
    "    poly_df = df[df_str['geometry'].str.contains(\"POLYGON\")]\n",
    "    poly_df = poly_df.reset_index(drop=True)\n",
    "    return(poly_df)              \n",
    "\n",
    "def replace_coords(df):\n",
    "    df['lol'] = np.nan\n",
    "    df['lol'] = df['lol'].astype('object')\n",
    "    \n",
    "    for i in df.index:\n",
    "        #get geometry object for row i\n",
    "        geom=df.at[i, 'geometry']\n",
    "        #list the coordenate points as tuples\n",
    "        tmp = list(geom.exterior.coords)\n",
    "        #transform list of tuples to list of lists\n",
    "        tmp_lol = [list(i) for i in tmp]\n",
    "        #add list of list to lol column\n",
    "        df.at[i,'lol'] = tmp_lol\n",
    "    return(df)\n",
    "      \n",
    "def replace_coords_simple(df):\n",
    "    df['lol_simple'] = np.nan\n",
    "    df['lol_simple'] = df['lol_simple'].astype('object')\n",
    "    df['simple'] = df.geometry.simplify(1)\n",
    "    \n",
    "    for i in df.index:\n",
    "        #get geometry object for row i\n",
    "        geom=df.at[i, 'simple']\n",
    "        #list the coordenate points as tuples\n",
    "        tmp = list(geom.exterior.coords)\n",
    "        #transform list of tuples to list of lists\n",
    "        tmp_lol = [list(i) for i in tmp]\n",
    "        #add list of list to lol column\n",
    "        df.at[i,'lol_simple'] = tmp_lol\n",
    "    return(df)\n",
    "              \n",
    "def get_contour_type(df):\n",
    "    #creates a column for polygon type\n",
    "    #assumes only polygons in dataframe\n",
    "    #create empty column\n",
    "    df['Name'] = np.nan\n",
    "    #fill empty column with whatever is inside dictionary name entry\n",
    "    for i in df.index:\n",
    "        tmp = df.classification[i].get('name')\n",
    "        df.at[i,'Name'] = tmp\n",
    "    return(df)\n",
    "              \n",
    "def get_calib_points(list_of_calibpoint_names, df):\n",
    "    #create shape list\n",
    "    pointlist = []\n",
    "    for point_name in list_of_calibpoint_names:\n",
    "        if point_name in df['name'].unique():\n",
    "            pointlist.append(df.loc[df['name'] == point_name, 'geometry'].values[0])\n",
    "        else:\n",
    "            print('your given calib name is not present in the file, change it and try again')\n",
    "    #create coordenate list\n",
    "    listarray = []\n",
    "    for point in pointlist:\n",
    "        listarray.append([point.x, point.y])\n",
    "    nparray = np.array(listarray)\n",
    "    return(nparray)"
   ]
  },
  {
   "cell_type": "markdown",
   "id": "770d633f-58a4-4899-8b35-6d5a17b3f579",
   "metadata": {
    "jp-MarkdownHeadingCollapsed": true,
    "tags": []
   },
   "source": [
    "### Utilities"
   ]
  },
  {
   "cell_type": "code",
   "execution_count": 100,
   "id": "9e7b3b3b-c07e-42a2-a736-19fd4e263fbe",
   "metadata": {
    "tags": []
   },
   "outputs": [],
   "source": [
    "#utilities\n",
    "\n",
    "#Create a datafrate for polygons with a specific name, if it contains a string\n",
    "\n",
    "def filter_table_by_name(df, string):\n",
    "    new_df = df.copy()\n",
    "    new_df = new_df[new_df['Name'].str.contains(string)]\n",
    "    return new_df\n",
    "\n",
    "#list all geoJSON files in a given path\n",
    "def list_geoJSON_in_path(path):\n",
    "    filelist = os.listdir(path)\n",
    "    #filter the files so there are only images\n",
    "    filelist =  [x for x in filelist if '.geojson' in x]\n",
    "    return filelist"
   ]
  },
  {
   "cell_type": "markdown",
   "id": "35a1c037-7ad3-4f40-985a-07397ce5a8a4",
   "metadata": {
    "jp-MarkdownHeadingCollapsed": true,
    "tags": []
   },
   "source": [
    "### Pipe from dataframe to xml"
   ]
  },
  {
   "cell_type": "code",
   "execution_count": 101,
   "id": "c2036961-7f86-4907-9b1c-6584c7fc5d0a",
   "metadata": {
    "tags": []
   },
   "outputs": [],
   "source": [
    "def dataframe_to_xml(processed_geopandas_df, caliblist, output_path):\n",
    "    \n",
    "    #load the classes \n",
    "    #classes represent all the different wells, each class goes into one well.\n",
    "    all_classes = processed_geopandas_df.Name.unique()\n",
    "    \n",
    "    #sanity check 1\n",
    "    #print('\\nall the classes to be cut with this xml')\n",
    "    #print(all_classes)\n",
    "    #print('')\n",
    "    \n",
    "    #create list of acceptable wells, default is using a space in between columns\n",
    "    list_of_acceptable_wells =[]\n",
    "    for row in list(string.ascii_uppercase[2:14]):\n",
    "        for column in range(2,22):\n",
    "            list_of_acceptable_wells.append(str(row) + str(column))\n",
    "    #might not be used, custom dictionary could be used\n",
    "    \n",
    "    #check list of acceptable wells\n",
    "    #print('\\nlist of acceptable wells created')\n",
    "    #print('checking the first five wells: ' + str(list_of_acceptable_wells[:5]))\n",
    "    #print('checking the last five wells: ' + str(list_of_acceptable_wells[-5:]))\n",
    "    \n",
    "    #samples_and_wells will be dictionary\n",
    "    #key is the sample class, value is the well string\n",
    "    \n",
    "    #does the dictionary custom_samples_and_wells exist? \n",
    "    #If so use it as samples_and_wells for downstream use\n",
    "    #otherwise, create a custom one \n",
    "    try:\n",
    "        custom_samples_and_wells\n",
    "        print('custom_samples_and_wells exist')\n",
    "        samples_and_wells = copy.deepcopy(custom_samples_and_wells)\n",
    "        \n",
    "    except NameError:\n",
    "        print('custom_samples_and_wells does not exist, creating one for this file')\n",
    "        samples_and_wells = {}\n",
    "        for sample_class, well in zip(all_classes, list_of_acceptable_wells):\n",
    "            samples_and_wells[sample_class] = well\n",
    "   \n",
    "    #sanity check 2\n",
    "    #print('\\n samples and their wells')\n",
    "    #print(samples_and_wells)\n",
    "    #print('')\n",
    "    \n",
    "    \n",
    "    #create the collection of py-lmd-env package\n",
    "    #uses caliblist passed on the function, order matters\n",
    "    #orientation vector is for QuPath coordenate system\n",
    "    the_collection = Collection(calibration_points = caliblist)\n",
    "    the_collection.orientation_transform = np.array([[1,0 ], [0,-1]])\n",
    "    print('\\nusing simplified shapes')\n",
    "    for i in processed_geopandas_df.index:\n",
    "        the_collection.new_shape(processed_geopandas_df.at[i,'lol_simple'], \n",
    "                                    well = samples_and_wells[processed_geopandas_df.at[i, \"Name\"]])\n",
    "   \n",
    "    #sanity check 3\n",
    "    print(the_collection.stats())\n",
    "    \n",
    "    #sanity check 4\n",
    "    #print('\\n Lets see how it looks like')\n",
    "    #print('Xs are calibpoints, shapes should be colored')\n",
    "    the_collection.plot(calibration = True)    \n",
    "    \n",
    "    the_collection.save(output_path)\n",
    "    print('\\n xml file saved as: ')\n",
    "    print(output_path)\n",
    "    \n",
    "    printlist = []\n",
    "    for i in processed_geopandas_df.Name.unique():\n",
    "        sublist=[]\n",
    "        sublist.append(i)\n",
    "        sublist.append(samples_and_wells[i])\n",
    "        sublist.append(processed_geopandas_df[processed_geopandas_df.Name == i]['Name'].shape[0])\n",
    "        printlist.append(sublist)\n",
    "    \n",
    "    print('Sample','-----------','Well','--','How many contours\\n')\n",
    "    printlist.sort(key=lambda x: x[0])\n",
    "    for i in range(len(printlist)):\n",
    "        if printlist[i][0] in list(processed_geopandas_df.Name):\n",
    "            space1_number = 18 - len(printlist[i][0])\n",
    "            space1 = '-' * int(space1_number)\n",
    "            space2_number = 5 - len(printlist[i][1])\n",
    "            space2 = '-' * int(space2_number)\n",
    "            print(printlist[i][0], space1, printlist[i][1], space2, printlist[i][2])"
   ]
  },
  {
   "cell_type": "markdown",
   "id": "8e4b63e4-9cd5-40dd-b3e1-3df03430e8e1",
   "metadata": {
    "jp-MarkdownHeadingCollapsed": true,
    "tags": []
   },
   "source": [
    "### pipe from geoJSON to xml"
   ]
  },
  {
   "cell_type": "code",
   "execution_count": 102,
   "id": "268c11da-2dec-4ba1-8ed4-b0ad04dd1cea",
   "metadata": {
    "tags": []
   },
   "outputs": [],
   "source": [
    "def from_geoJSON_to_xml():\n",
    "    \n",
    "    if batch==True:\n",
    "        #list all files in path\n",
    "        os.chdir(path_to_file)\n",
    "        filelist = os.listdir()\n",
    "        #filter the files so there are only .geojson files\n",
    "        filelist =  [x for x in filelist if '.geojson' in x]\n",
    "        \n",
    "        for file in filelist:\n",
    "            print('Loading this file: ' + file)\n",
    "            df = geopandas.read_file(file)\n",
    "            caliblist = get_calib_points(['Calib1','Calib2','Calib3'],df)\n",
    "            clean_df = (df\n",
    "                         .pipe(start_pipeline)\n",
    "                         .pipe(remove_calib_points)\n",
    "                         .pipe(replace_coords)\n",
    "                         .pipe(replace_coords_simple)\n",
    "                         .pipe(get_contour_type))\n",
    "            \n",
    "            output_name= os.path.splitext(file)[0]+'.xml'\n",
    "            dataframe_to_xml(clean_df, caliblist, output_name)\n",
    "        \n",
    "    else:\n",
    "        df = geopandas.read_file(single_file_path)\n",
    "        caliblist = get_calib_points(calibration_points, df)\n",
    "        clean_df = (df\n",
    "                     .pipe(start_pipeline)\n",
    "                     .pipe(remove_calib_points)\n",
    "                     .pipe(replace_coords)\n",
    "                     .pipe(replace_coords_simple)\n",
    "                     .pipe(get_contour_type))\n",
    "        \n",
    "        output_name= os.path.splitext(single_file_path)[0]+'.xml'\n",
    "        dataframe_to_xml(clean_df, caliblist, output_name)"
   ]
  },
  {
   "cell_type": "markdown",
   "id": "39a634b4-5386-452f-86e7-1a1af6ebafc9",
   "metadata": {
    "tags": []
   },
   "source": [
    "## Processing from GeoJSON to Dataframe"
   ]
  },
  {
   "cell_type": "code",
   "execution_count": 103,
   "id": "1ac652ce-308a-4f7a-8235-f92c70fcd27b",
   "metadata": {
    "tags": []
   },
   "outputs": [
    {
     "name": "stdout",
     "output_type": "stream",
     "text": [
      "custom_samples_and_wells exist\n",
      "\n",
      "using simplified shapes\n",
      "===== Collection Stats =====\n",
      "Number of shapes: 1,683\n",
      "Number of vertices: 22,984\n",
      "============================\n",
      "Mean vertices: 14\n",
      "Min vertices: 8\n",
      "5% percentile vertices: 9\n",
      "Median vertices: 13\n",
      "95% percentile vertices: 19\n",
      "Max vertices: 41\n",
      "None\n"
     ]
    },
    {
     "data": {
      "image/png": "[encoded data removed]",
      "text/plain": [
       "<Figure size 500x500 with 1 Axes>"
      ]
     },
     "metadata": {},
     "output_type": "display_data"
    },
    {
     "name": "stdout",
     "output_type": "stream",
     "text": [
      "[ 1607123. -1483455.]\n",
      "[1596497.   -9439.]\n",
      "[ 398774. -644717.]\n",
      "\n",
      " xml file saved as: \n",
      "X:\\Jose_Imaging_Data\\20230208_Placenta_12samples\\QuPath_Projects_with_contours\\Placenta_018_033\\geojson_files\\20230220_1454_018_Scene1_all.xml\n",
      "Sample ----------- Well -- How many contours\n",
      "\n",
      "018_CCT_1 --------- I11 -- 7\n",
      "018_CCT_2 --------- I12 -- 7\n",
      "018_CCT_3 --------- I13 -- 7\n",
      "018_CTB_1 --------- H20 -- 71\n",
      "018_CTB_2 --------- H21 -- 71\n",
      "018_CTB_3 --------- H22 -- 70\n",
      "018_HBC_mid_1 ----- I8 --- 96\n",
      "018_HBC_mid_2 ----- I9 --- 96\n",
      "018_HBC_mid_3 ----- I10 -- 96\n",
      "018_HBC_nTroph_1 -- I2 --- 95\n",
      "018_HBC_nTroph_2 -- I3 --- 95\n",
      "018_HBC_nTroph_3 -- I4 --- 95\n",
      "018_HBC_nVEC_1 ---- I5 --- 99\n",
      "018_HBC_nVEC_2 ---- I6 --- 98\n",
      "018_HBC_nVEC_3 ---- I7 --- 98\n",
      "018_STB_gen_1 ----- H17 -- 50\n",
      "018_STB_gen_2 ----- H18 -- 50\n",
      "018_STB_gen_3 ----- H19 -- 52\n",
      "018_STB_nVEC_1 ---- H14 -- 50\n",
      "018_STB_nVEC_2 ---- H15 -- 51\n",
      "018_STB_nVEC_3 ---- H16 -- 52\n",
      "018_Str_1 --------- I17 -- 5\n",
      "018_Str_2 --------- I18 -- 5\n",
      "018_Str_3 --------- I19 -- 5\n",
      "018_VEC_1 --------- I14 -- 87\n",
      "018_VEC_2 --------- I15 -- 86\n",
      "018_VEC_3 --------- I16 -- 89\n"
     ]
    }
   ],
   "source": [
    "#options: \n",
    "#write down batch=True inside parentheses if you are processing a series of files\n",
    "from_geoJSON_to_xml()"
   ]
  }
 ],
 "metadata": {
  "kernelspec": {
   "display_name": "Python 3 (ipykernel)",
   "language": "python",
   "name": "python3"
  },
  "language_info": {
   "codemirror_mode": {
    "name": "ipython",
    "version": 3
   },
   "file_extension": ".py",
   "mimetype": "text/x-python",
   "name": "python",
   "nbconvert_exporter": "python",
   "pygments_lexer": "ipython3",
   "version": "3.9.16"
  }
 },
 "nbformat": 4,
 "nbformat_minor": 5
}
