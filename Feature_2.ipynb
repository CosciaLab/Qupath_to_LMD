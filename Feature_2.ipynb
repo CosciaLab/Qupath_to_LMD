{
 "cells": [
  {
   "cell_type": "code",
   "execution_count": 18,
   "metadata": {},
   "outputs": [],
   "source": [
    "# import streamlit as st\n",
    "import itertools\n",
    "import random\n",
    "import json"
   ]
  },
  {
   "cell_type": "code",
   "execution_count": 16,
   "metadata": {},
   "outputs": [],
   "source": [
    "def generate_combinations(list1, list2, num) -> list:\n",
    "    \"\"\"Generate dictionary from all combinations of two lists and a range, assigning arbitrary values.\"\"\"\n",
    "    assert isinstance(list1, list) and all(isinstance(i, str) for i in list1), \"Input 1 must be a list of strings\"\n",
    "    assert isinstance(list2, list) and all(isinstance(i, str) for i in list2), \"Input 2 must be a list of strings\"\n",
    "    assert isinstance(num, int) and num > 0, \"Input 3 must be a positive integer\"\n",
    "\n",
    "    keys = [f\"{a}_{b}_{i}\" for a, b, i in itertools.product(list1, list2, range(1, num + 1))]\n",
    "    \n",
    "    return keys"
   ]
  },
  {
   "cell_type": "code",
   "execution_count": 25,
   "metadata": {},
   "outputs": [],
   "source": [
    "import string\n",
    "\n",
    "def create_list_of_acceptable_wells_C3_C5_C7():\n",
    "    list_of_acceptable_wells =[]\n",
    "    for row in list(string.ascii_uppercase[2:14]):\n",
    "        for column in range(3,22):\n",
    "            list_of_acceptable_wells.append(str(row) + str(column))\n",
    "    return list_of_acceptable_wells"
   ]
  },
  {
   "cell_type": "code",
   "execution_count": 13,
   "metadata": {},
   "outputs": [
    {
     "data": {
      "text/plain": [
       "['C3', 'C4', 'C5', 'C6', 'C7']"
      ]
     },
     "execution_count": 13,
     "metadata": {},
     "output_type": "execute_result"
    }
   ],
   "source": [
    "list_of_acceptable_wells = create_list_of_acceptable_wells()\n",
    "list_of_acceptable_wells[:5]"
   ]
  },
  {
   "cell_type": "code",
   "execution_count": 14,
   "metadata": {},
   "outputs": [
    {
     "data": {
      "text/plain": [
       "['C3',\n",
       " 'C5',\n",
       " 'C7',\n",
       " 'C9',\n",
       " 'C11',\n",
       " 'C13',\n",
       " 'C15',\n",
       " 'C17',\n",
       " 'C19',\n",
       " 'C21',\n",
       " 'D4',\n",
       " 'D6',\n",
       " 'D8',\n",
       " 'D10',\n",
       " 'D12',\n",
       " 'D14',\n",
       " 'D16',\n",
       " 'D18',\n",
       " 'D20',\n",
       " 'E3',\n",
       " 'E5',\n",
       " 'E7',\n",
       " 'E9',\n",
       " 'E11',\n",
       " 'E13',\n",
       " 'E15',\n",
       " 'E17',\n",
       " 'E19',\n",
       " 'E21',\n",
       " 'F4',\n",
       " 'F6',\n",
       " 'F8',\n",
       " 'F10',\n",
       " 'F12',\n",
       " 'F14',\n",
       " 'F16',\n",
       " 'F18',\n",
       " 'F20',\n",
       " 'G3',\n",
       " 'G5',\n",
       " 'G7',\n",
       " 'G9',\n",
       " 'G11',\n",
       " 'G13',\n",
       " 'G15',\n",
       " 'G17',\n",
       " 'G19',\n",
       " 'G21',\n",
       " 'H4',\n",
       " 'H6',\n",
       " 'H8',\n",
       " 'H10',\n",
       " 'H12',\n",
       " 'H14',\n",
       " 'H16',\n",
       " 'H18',\n",
       " 'H20',\n",
       " 'I3',\n",
       " 'I5',\n",
       " 'I7',\n",
       " 'I9',\n",
       " 'I11',\n",
       " 'I13',\n",
       " 'I15',\n",
       " 'I17',\n",
       " 'I19',\n",
       " 'I21',\n",
       " 'J4',\n",
       " 'J6',\n",
       " 'J8',\n",
       " 'J10',\n",
       " 'J12',\n",
       " 'J14',\n",
       " 'J16',\n",
       " 'J18',\n",
       " 'J20',\n",
       " 'K3',\n",
       " 'K5',\n",
       " 'K7',\n",
       " 'K9',\n",
       " 'K11',\n",
       " 'K13',\n",
       " 'K15',\n",
       " 'K17',\n",
       " 'K19',\n",
       " 'K21',\n",
       " 'L4',\n",
       " 'L6',\n",
       " 'L8',\n",
       " 'L10',\n",
       " 'L12',\n",
       " 'L14',\n",
       " 'L16',\n",
       " 'L18',\n",
       " 'L20',\n",
       " 'M3',\n",
       " 'M5',\n",
       " 'M7',\n",
       " 'M9',\n",
       " 'M11',\n",
       " 'M13',\n",
       " 'M15',\n",
       " 'M17',\n",
       " 'M19',\n",
       " 'M21',\n",
       " 'N4',\n",
       " 'N6',\n",
       " 'N8',\n",
       " 'N10',\n",
       " 'N12',\n",
       " 'N14',\n",
       " 'N16',\n",
       " 'N18',\n",
       " 'N20']"
      ]
     },
     "execution_count": 14,
     "metadata": {},
     "output_type": "execute_result"
    }
   ],
   "source": [
    "list_of_acceptable_wells[::2]"
   ]
  },
  {
   "cell_type": "code",
   "execution_count": 19,
   "metadata": {},
   "outputs": [],
   "source": [
    "items = generate_combinations([\"a\", \"b\"], [\"c\", \"d\"], 3)"
   ]
  },
  {
   "cell_type": "code",
   "execution_count": 20,
   "metadata": {},
   "outputs": [
    {
     "data": {
      "text/plain": [
       "['a_c_1',\n",
       " 'a_c_2',\n",
       " 'a_c_3',\n",
       " 'a_d_1',\n",
       " 'a_d_2',\n",
       " 'a_d_3',\n",
       " 'b_c_1',\n",
       " 'b_c_2',\n",
       " 'b_c_3',\n",
       " 'b_d_1',\n",
       " 'b_d_2',\n",
       " 'b_d_3']"
      ]
     },
     "execution_count": 20,
     "metadata": {},
     "output_type": "execute_result"
    }
   ],
   "source": [
    "items"
   ]
  },
  {
   "cell_type": "code",
   "execution_count": 23,
   "metadata": {},
   "outputs": [
    {
     "data": {
      "text/plain": [
       "228"
      ]
     },
     "execution_count": 23,
     "metadata": {},
     "output_type": "execute_result"
    }
   ],
   "source": [
    "len(list_of_acceptable_wells)"
   ]
  },
  {
   "cell_type": "code",
   "execution_count": 21,
   "metadata": {},
   "outputs": [],
   "source": [
    "#create dictionary to store the well locations\n",
    "samples_and_wells = {}\n",
    "for item,well in zip(items,list_of_acceptable_wells):\n",
    "    samples_and_wells[item] = well"
   ]
  },
  {
   "cell_type": "code",
   "execution_count": 22,
   "metadata": {},
   "outputs": [
    {
     "data": {
      "text/plain": [
       "{'a_c_1': 'C3',\n",
       " 'a_c_2': 'C4',\n",
       " 'a_c_3': 'C5',\n",
       " 'a_d_1': 'C6',\n",
       " 'a_d_2': 'C7',\n",
       " 'a_d_3': 'C8',\n",
       " 'b_c_1': 'C9',\n",
       " 'b_c_2': 'C10',\n",
       " 'b_c_3': 'C11',\n",
       " 'b_d_1': 'C12',\n",
       " 'b_d_2': 'C13',\n",
       " 'b_d_3': 'C14'}"
      ]
     },
     "execution_count": 22,
     "metadata": {},
     "output_type": "execute_result"
    }
   ],
   "source": [
    "samples_and_wells"
   ]
  },
  {
   "cell_type": "code",
   "execution_count": null,
   "metadata": {},
   "outputs": [],
   "source": []
  }
 ],
 "metadata": {
  "kernelspec": {
   "display_name": "py-lmd-env",
   "language": "python",
   "name": "python3"
  },
  "language_info": {
   "codemirror_mode": {
    "name": "ipython",
    "version": 3
   },
   "file_extension": ".py",
   "mimetype": "text/x-python",
   "name": "python",
   "nbconvert_exporter": "python",
   "pygments_lexer": "ipython3",
   "version": "3.9.18"
  }
 },
 "nbformat": 4,
 "nbformat_minor": 2
}
