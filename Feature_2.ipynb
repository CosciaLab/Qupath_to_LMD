{
 "cells": [
  {
   "cell_type": "code",
   "execution_count": 18,
   "metadata": {},
   "outputs": [],
   "source": [
    "# import streamlit as st\n",
    "import itertools\n",
    "import random\n",
    "import json"
   ]
  },
  {
   "cell_type": "code",
   "execution_count": 16,
   "metadata": {},
   "outputs": [],
   "source": [
    "def generate_combinations(list1, list2, num) -> list:\n",
    "    \"\"\"Generate dictionary from all combinations of two lists and a range, assigning arbitrary values.\"\"\"\n",
    "    assert isinstance(list1, list) and all(isinstance(i, str) for i in list1), \"Input 1 must be a list of strings\"\n",
    "    assert isinstance(list2, list) and all(isinstance(i, str) for i in list2), \"Input 2 must be a list of strings\"\n",
    "    assert isinstance(num, int) and num > 0, \"Input 3 must be a positive integer\"\n",
    "\n",
    "    keys = [f\"{a}_{b}_{i}\" for a, b, i in itertools.product(list1, list2, range(1, num + 1))]\n",
    "    \n",
    "    return keys"
   ]
  },
  {
   "cell_type": "code",
   "execution_count": 25,
   "metadata": {},
   "outputs": [],
   "source": [
    "import string\n",
    "\n",
    "def create_list_of_acceptable_wells_C3_C5_C7():\n",
    "    list_of_acceptable_wells =[]\n",
    "    for row in list(string.ascii_uppercase[2:14]):\n",
    "        for column in range(3,22):\n",
    "            list_of_acceptable_wells.append(str(row) + str(column))\n",
    "    return list_of_acceptable_wells"
   ]
  },
  {
   "cell_type": "code",
   "execution_count": 13,
   "metadata": {},
   "outputs": [
    {
     "data": {
      "text/plain": [
       "['C3', 'C4', 'C5', 'C6', 'C7']"
      ]
     },
     "execution_count": 13,
     "metadata": {},
     "output_type": "execute_result"
    }
   ],
   "source": [
    "list_of_acceptable_wells = create_list_of_acceptable_wells()\n",
    "list_of_acceptable_wells[:5]"
   ]
  },
  {
   "cell_type": "code",
   "execution_count": 26,
   "metadata": {},
   "outputs": [
    {
     "data": {
      "text/plain": [
       "114"
      ]
     },
     "execution_count": 26,
     "metadata": {},
     "output_type": "execute_result"
    }
   ],
   "source": [
    "len(list_of_acceptable_wells[::2])"
   ]
  },
  {
   "cell_type": "code",
   "execution_count": 19,
   "metadata": {},
   "outputs": [],
   "source": [
    "items = generate_combinations([\"a\", \"b\"], [\"c\", \"d\"], 3)"
   ]
  },
  {
   "cell_type": "code",
   "execution_count": 20,
   "metadata": {},
   "outputs": [
    {
     "data": {
      "text/plain": [
       "['a_c_1',\n",
       " 'a_c_2',\n",
       " 'a_c_3',\n",
       " 'a_d_1',\n",
       " 'a_d_2',\n",
       " 'a_d_3',\n",
       " 'b_c_1',\n",
       " 'b_c_2',\n",
       " 'b_c_3',\n",
       " 'b_d_1',\n",
       " 'b_d_2',\n",
       " 'b_d_3']"
      ]
     },
     "execution_count": 20,
     "metadata": {},
     "output_type": "execute_result"
    }
   ],
   "source": [
    "items"
   ]
  },
  {
   "cell_type": "code",
   "execution_count": 23,
   "metadata": {},
   "outputs": [
    {
     "data": {
      "text/plain": [
       "228"
      ]
     },
     "execution_count": 23,
     "metadata": {},
     "output_type": "execute_result"
    }
   ],
   "source": [
    "len(list_of_acceptable_wells)"
   ]
  },
  {
   "cell_type": "code",
   "execution_count": 21,
   "metadata": {},
   "outputs": [],
   "source": [
    "#create dictionary to store the well locations\n",
    "samples_and_wells = {}\n",
    "for item,well in zip(items,list_of_acceptable_wells):\n",
    "    samples_and_wells[item] = well"
   ]
  },
  {
   "cell_type": "code",
   "execution_count": 22,
   "metadata": {},
   "outputs": [
    {
     "data": {
      "text/plain": [
       "{'a_c_1': 'C3',\n",
       " 'a_c_2': 'C4',\n",
       " 'a_c_3': 'C5',\n",
       " 'a_d_1': 'C6',\n",
       " 'a_d_2': 'C7',\n",
       " 'a_d_3': 'C8',\n",
       " 'b_c_1': 'C9',\n",
       " 'b_c_2': 'C10',\n",
       " 'b_c_3': 'C11',\n",
       " 'b_d_1': 'C12',\n",
       " 'b_d_2': 'C13',\n",
       " 'b_d_3': 'C14'}"
      ]
     },
     "execution_count": 22,
     "metadata": {},
     "output_type": "execute_result"
    }
   ],
   "source": [
    "samples_and_wells"
   ]
  },
  {
   "cell_type": "code",
   "execution_count": null,
   "metadata": {},
   "outputs": [],
   "source": []
  }
 ],
 "metadata": {
  "kernelspec": {
   "display_name": "py-lmd-env",
   "language": "python",
   "name": "python3"
  },
  "language_info": {
   "codemirror_mode": {
    "name": "ipython",
    "version": 3
   },
   "file_extension": ".py",
   "mimetype": "text/x-python",
   "name": "python",
   "nbconvert_exporter": "python",
   "pygments_lexer": "ipython3",
   "version": "3.9.18"
  }
 },
 "nbformat": 4,
 "nbformat_minor": 2
}
