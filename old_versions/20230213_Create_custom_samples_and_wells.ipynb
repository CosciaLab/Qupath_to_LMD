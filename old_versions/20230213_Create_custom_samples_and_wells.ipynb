{
 "cells": [
  {
   "cell_type": "code",
   "execution_count": 2,
   "id": "8d48d1d3-5e42-4752-833a-d24ca261ab19",
   "metadata": {},
   "outputs": [],
   "source": [
    "import json\n",
    "import geojson \n",
    "import geopandas\n",
    "import pandas as pd\n",
    "import numpy as np\n",
    "import os"
   ]
  },
  {
   "cell_type": "code",
   "execution_count": 3,
   "id": "7e85e869-5bbe-463b-a087-3a40916fdb75",
   "metadata": {},
   "outputs": [],
   "source": [
    "from lmd.lib import Collection, Shape\n",
    "from lmd import tools\n",
    "from PIL import Image\n",
    "from lmd.lib import SegmentationLoader\n",
    "import tifffile\n",
    "import string\n",
    "from shapely.geometry import Point, LineString"
   ]
  },
  {
   "cell_type": "code",
   "execution_count": 4,
   "id": "a803284c-3af0-42bb-8193-de8ca774925a",
   "metadata": {
    "tags": []
   },
   "outputs": [],
   "source": [
    "samples_and_wells = {'033_HBC_mid_3': 'C3',\n",
    "                     '033_HBC_nVEC_1': 'C4',\n",
    "                     '033_HBC_nVEC_2': 'C5',\n",
    "                     '033_HBC_mid_2': 'C6',\n",
    "                     '033_HBC_nTroph_3': 'C7',\n",
    "                     '033_HBC_nTroph_1': 'C8',\n",
    "                     '033_HBC_mid_1': 'C9',\n",
    "                     '033_HBC_nVEC_3': 'C10',\n",
    "                     '033_HBC_nTroph_2': 'C11'}"
   ]
  },
  {
   "cell_type": "code",
   "execution_count": null,
   "id": "4907bf1a-1a63-4b7e-a185-161a49c55f91",
   "metadata": {},
   "outputs": [],
   "source": [
    "I will list all possible wells."
   ]
  },
  {
   "cell_type": "code",
   "execution_count": 15,
   "id": "7e4034ce-870f-4797-9e30-4b88f1178868",
   "metadata": {
    "tags": []
   },
   "outputs": [
    {
     "name": "stdout",
     "output_type": "stream",
     "text": [
      "list of acceptable wells created\n",
      "checking the first five wells: ['C2', 'C3', 'C4', 'C5', 'C6']\n",
      "checking the last five wells: ['N17', 'N18', 'N19', 'N20', 'N21']\n"
     ]
    }
   ],
   "source": [
    "#create list of acceptable wells, default is using a space in between columns\n",
    "list_of_acceptable_wells =[]\n",
    "for row in list(string.ascii_uppercase[2:14]):\n",
    "    for column in range(2,22):\n",
    "        list_of_acceptable_wells.append(str(row) + str(column))\n",
    "\n",
    "#check list of acceptable wells\n",
    "print('list of acceptable wells created')\n",
    "print('checking the first five wells: ' + str(list_of_acceptable_wells[:5]))\n",
    "print('checking the last five wells: ' + str(list_of_acceptable_wells[-5:]))"
   ]
  },
  {
   "cell_type": "code",
   "execution_count": 16,
   "id": "f5b373f9-1b3b-4300-8fb7-d5ccafca0d34",
   "metadata": {
    "tags": []
   },
   "outputs": [],
   "source": [
    "to_remove =['C3','C4','C5','C6','C7','C8','C9','C10','C11']\n",
    "\n",
    "list_of_wells = list_of_acceptable_wells[10:]"
   ]
  },
  {
   "cell_type": "code",
   "execution_count": 18,
   "id": "eeca6dcc-a73a-4a5f-b03e-cf3f523e7162",
   "metadata": {
    "tags": []
   },
   "outputs": [
    {
     "data": {
      "text/plain": [
       "['C12', 'C13', 'C14', 'C15', 'C16']"
      ]
     },
     "execution_count": 18,
     "metadata": {},
     "output_type": "execute_result"
    }
   ],
   "source": [
    "list_of_wells[:5]"
   ]
  },
  {
   "cell_type": "code",
   "execution_count": 19,
   "id": "36ee7134-131c-42d2-9ba8-a7b4e3e9ba45",
   "metadata": {
    "tags": []
   },
   "outputs": [],
   "source": [
    "list_of_wells.insert(0, 'C2')"
   ]
  },
  {
   "cell_type": "code",
   "execution_count": 21,
   "id": "c75dbc5f-ebf6-43f1-b981-33f57a9bbd1d",
   "metadata": {
    "tags": []
   },
   "outputs": [
    {
     "name": "stdout",
     "output_type": "stream",
     "text": [
      "checking the first five wells: ['C2', 'C12', 'C13', 'C14', 'C15']\n",
      "checking the last five wells: ['N17', 'N18', 'N19', 'N20', 'N21']\n"
     ]
    }
   ],
   "source": [
    "print('checking the first five wells: ' + str(list_of_wells[:5]))\n",
    "print('checking the last five wells: ' + str(list_of_wells[-5:]))"
   ]
  },
  {
   "cell_type": "code",
   "execution_count": 7,
   "id": "a0c213ef-5543-4695-af16-90f4eb50755a",
   "metadata": {
    "tags": []
   },
   "outputs": [],
   "source": [
    "#creating all permutations\n",
    "\n",
    "patient_ids = ['033','017','040','018','082',\n",
    "               '187','098','108','041','030','167']\n",
    "\n",
    "cell_types = ['STB_nVEC', 'STB_gen', 'HBC_nTroph', \n",
    "              'HBC_nVEC', 'HBC_mid', 'CTB', 'CCT',\n",
    "              'VEC', 'Str']\n",
    "\n",
    "replicate_number = ['1','2','3']\n"
   ]
  },
  {
   "cell_type": "code",
   "execution_count": 8,
   "id": "8c201510-b811-423c-9065-4c4256174062",
   "metadata": {
    "tags": []
   },
   "outputs": [],
   "source": [
    "list_of_all_classes = []\n",
    "\n",
    "for patient in patient_ids:\n",
    "    for cell_type in cell_types:\n",
    "        for replicate in replicate_number:\n",
    "            list_of_all_classes.append(\n",
    "                patient + '_' +\n",
    "                cell_type + '_' +\n",
    "                replicate)\n"
   ]
  },
  {
   "cell_type": "code",
   "execution_count": 9,
   "id": "999758d1-bac7-45c6-ae0a-baf320b5b799",
   "metadata": {
    "tags": []
   },
   "outputs": [
    {
     "data": {
      "text/plain": [
       "297"
      ]
     },
     "execution_count": 9,
     "metadata": {},
     "output_type": "execute_result"
    }
   ],
   "source": [
    "len(list_of_all_classes)"
   ]
  },
  {
   "cell_type": "code",
   "execution_count": 10,
   "id": "58c4e975-4e15-4185-a502-35375cd41df1",
   "metadata": {
    "collapsed": true,
    "jupyter": {
     "outputs_hidden": true
    },
    "tags": []
   },
   "outputs": [
    {
     "data": {
      "text/plain": [
       "['033_STB_nVEC_1',\n",
       " '033_STB_nVEC_2',\n",
       " '033_STB_nVEC_3',\n",
       " '033_STB_gen_1',\n",
       " '033_STB_gen_2',\n",
       " '033_STB_gen_3',\n",
       " '033_HBC_nTroph_1',\n",
       " '033_HBC_nTroph_2',\n",
       " '033_HBC_nTroph_3',\n",
       " '033_HBC_nVEC_1',\n",
       " '033_HBC_nVEC_2',\n",
       " '033_HBC_nVEC_3',\n",
       " '033_HBC_mid_1',\n",
       " '033_HBC_mid_2',\n",
       " '033_HBC_mid_3',\n",
       " '033_CTB_1',\n",
       " '033_CTB_2',\n",
       " '033_CTB_3',\n",
       " '033_CCT_1',\n",
       " '033_CCT_2',\n",
       " '033_CCT_3',\n",
       " '033_VEC_1',\n",
       " '033_VEC_2',\n",
       " '033_VEC_3',\n",
       " '033_Str_1',\n",
       " '033_Str_2',\n",
       " '033_Str_3',\n",
       " '017_STB_nVEC_1',\n",
       " '017_STB_nVEC_2',\n",
       " '017_STB_nVEC_3',\n",
       " '017_STB_gen_1',\n",
       " '017_STB_gen_2',\n",
       " '017_STB_gen_3',\n",
       " '017_HBC_nTroph_1',\n",
       " '017_HBC_nTroph_2',\n",
       " '017_HBC_nTroph_3',\n",
       " '017_HBC_nVEC_1',\n",
       " '017_HBC_nVEC_2',\n",
       " '017_HBC_nVEC_3',\n",
       " '017_HBC_mid_1',\n",
       " '017_HBC_mid_2',\n",
       " '017_HBC_mid_3',\n",
       " '017_CTB_1',\n",
       " '017_CTB_2',\n",
       " '017_CTB_3',\n",
       " '017_CCT_1',\n",
       " '017_CCT_2',\n",
       " '017_CCT_3',\n",
       " '017_VEC_1',\n",
       " '017_VEC_2',\n",
       " '017_VEC_3',\n",
       " '017_Str_1',\n",
       " '017_Str_2',\n",
       " '017_Str_3',\n",
       " '040_STB_nVEC_1',\n",
       " '040_STB_nVEC_2',\n",
       " '040_STB_nVEC_3',\n",
       " '040_STB_gen_1',\n",
       " '040_STB_gen_2',\n",
       " '040_STB_gen_3',\n",
       " '040_HBC_nTroph_1',\n",
       " '040_HBC_nTroph_2',\n",
       " '040_HBC_nTroph_3',\n",
       " '040_HBC_nVEC_1',\n",
       " '040_HBC_nVEC_2',\n",
       " '040_HBC_nVEC_3',\n",
       " '040_HBC_mid_1',\n",
       " '040_HBC_mid_2',\n",
       " '040_HBC_mid_3',\n",
       " '040_CTB_1',\n",
       " '040_CTB_2',\n",
       " '040_CTB_3',\n",
       " '040_CCT_1',\n",
       " '040_CCT_2',\n",
       " '040_CCT_3',\n",
       " '040_VEC_1',\n",
       " '040_VEC_2',\n",
       " '040_VEC_3',\n",
       " '040_Str_1',\n",
       " '040_Str_2',\n",
       " '040_Str_3',\n",
       " '018_STB_nVEC_1',\n",
       " '018_STB_nVEC_2',\n",
       " '018_STB_nVEC_3',\n",
       " '018_STB_gen_1',\n",
       " '018_STB_gen_2',\n",
       " '018_STB_gen_3',\n",
       " '018_HBC_nTroph_1',\n",
       " '018_HBC_nTroph_2',\n",
       " '018_HBC_nTroph_3',\n",
       " '018_HBC_nVEC_1',\n",
       " '018_HBC_nVEC_2',\n",
       " '018_HBC_nVEC_3',\n",
       " '018_HBC_mid_1',\n",
       " '018_HBC_mid_2',\n",
       " '018_HBC_mid_3',\n",
       " '018_CTB_1',\n",
       " '018_CTB_2',\n",
       " '018_CTB_3',\n",
       " '018_CCT_1',\n",
       " '018_CCT_2',\n",
       " '018_CCT_3',\n",
       " '018_VEC_1',\n",
       " '018_VEC_2',\n",
       " '018_VEC_3',\n",
       " '018_Str_1',\n",
       " '018_Str_2',\n",
       " '018_Str_3',\n",
       " '082_STB_nVEC_1',\n",
       " '082_STB_nVEC_2',\n",
       " '082_STB_nVEC_3',\n",
       " '082_STB_gen_1',\n",
       " '082_STB_gen_2',\n",
       " '082_STB_gen_3',\n",
       " '082_HBC_nTroph_1',\n",
       " '082_HBC_nTroph_2',\n",
       " '082_HBC_nTroph_3',\n",
       " '082_HBC_nVEC_1',\n",
       " '082_HBC_nVEC_2',\n",
       " '082_HBC_nVEC_3',\n",
       " '082_HBC_mid_1',\n",
       " '082_HBC_mid_2',\n",
       " '082_HBC_mid_3',\n",
       " '082_CTB_1',\n",
       " '082_CTB_2',\n",
       " '082_CTB_3',\n",
       " '082_CCT_1',\n",
       " '082_CCT_2',\n",
       " '082_CCT_3',\n",
       " '082_VEC_1',\n",
       " '082_VEC_2',\n",
       " '082_VEC_3',\n",
       " '082_Str_1',\n",
       " '082_Str_2',\n",
       " '082_Str_3',\n",
       " '187_STB_nVEC_1',\n",
       " '187_STB_nVEC_2',\n",
       " '187_STB_nVEC_3',\n",
       " '187_STB_gen_1',\n",
       " '187_STB_gen_2',\n",
       " '187_STB_gen_3',\n",
       " '187_HBC_nTroph_1',\n",
       " '187_HBC_nTroph_2',\n",
       " '187_HBC_nTroph_3',\n",
       " '187_HBC_nVEC_1',\n",
       " '187_HBC_nVEC_2',\n",
       " '187_HBC_nVEC_3',\n",
       " '187_HBC_mid_1',\n",
       " '187_HBC_mid_2',\n",
       " '187_HBC_mid_3',\n",
       " '187_CTB_1',\n",
       " '187_CTB_2',\n",
       " '187_CTB_3',\n",
       " '187_CCT_1',\n",
       " '187_CCT_2',\n",
       " '187_CCT_3',\n",
       " '187_VEC_1',\n",
       " '187_VEC_2',\n",
       " '187_VEC_3',\n",
       " '187_Str_1',\n",
       " '187_Str_2',\n",
       " '187_Str_3',\n",
       " '098_STB_nVEC_1',\n",
       " '098_STB_nVEC_2',\n",
       " '098_STB_nVEC_3',\n",
       " '098_STB_gen_1',\n",
       " '098_STB_gen_2',\n",
       " '098_STB_gen_3',\n",
       " '098_HBC_nTroph_1',\n",
       " '098_HBC_nTroph_2',\n",
       " '098_HBC_nTroph_3',\n",
       " '098_HBC_nVEC_1',\n",
       " '098_HBC_nVEC_2',\n",
       " '098_HBC_nVEC_3',\n",
       " '098_HBC_mid_1',\n",
       " '098_HBC_mid_2',\n",
       " '098_HBC_mid_3',\n",
       " '098_CTB_1',\n",
       " '098_CTB_2',\n",
       " '098_CTB_3',\n",
       " '098_CCT_1',\n",
       " '098_CCT_2',\n",
       " '098_CCT_3',\n",
       " '098_VEC_1',\n",
       " '098_VEC_2',\n",
       " '098_VEC_3',\n",
       " '098_Str_1',\n",
       " '098_Str_2',\n",
       " '098_Str_3',\n",
       " '108_STB_nVEC_1',\n",
       " '108_STB_nVEC_2',\n",
       " '108_STB_nVEC_3',\n",
       " '108_STB_gen_1',\n",
       " '108_STB_gen_2',\n",
       " '108_STB_gen_3',\n",
       " '108_HBC_nTroph_1',\n",
       " '108_HBC_nTroph_2',\n",
       " '108_HBC_nTroph_3',\n",
       " '108_HBC_nVEC_1',\n",
       " '108_HBC_nVEC_2',\n",
       " '108_HBC_nVEC_3',\n",
       " '108_HBC_mid_1',\n",
       " '108_HBC_mid_2',\n",
       " '108_HBC_mid_3',\n",
       " '108_CTB_1',\n",
       " '108_CTB_2',\n",
       " '108_CTB_3',\n",
       " '108_CCT_1',\n",
       " '108_CCT_2',\n",
       " '108_CCT_3',\n",
       " '108_VEC_1',\n",
       " '108_VEC_2',\n",
       " '108_VEC_3',\n",
       " '108_Str_1',\n",
       " '108_Str_2',\n",
       " '108_Str_3',\n",
       " '041_STB_nVEC_1',\n",
       " '041_STB_nVEC_2',\n",
       " '041_STB_nVEC_3',\n",
       " '041_STB_gen_1',\n",
       " '041_STB_gen_2',\n",
       " '041_STB_gen_3',\n",
       " '041_HBC_nTroph_1',\n",
       " '041_HBC_nTroph_2',\n",
       " '041_HBC_nTroph_3',\n",
       " '041_HBC_nVEC_1',\n",
       " '041_HBC_nVEC_2',\n",
       " '041_HBC_nVEC_3',\n",
       " '041_HBC_mid_1',\n",
       " '041_HBC_mid_2',\n",
       " '041_HBC_mid_3',\n",
       " '041_CTB_1',\n",
       " '041_CTB_2',\n",
       " '041_CTB_3',\n",
       " '041_CCT_1',\n",
       " '041_CCT_2',\n",
       " '041_CCT_3',\n",
       " '041_VEC_1',\n",
       " '041_VEC_2',\n",
       " '041_VEC_3',\n",
       " '041_Str_1',\n",
       " '041_Str_2',\n",
       " '041_Str_3',\n",
       " '030_STB_nVEC_1',\n",
       " '030_STB_nVEC_2',\n",
       " '030_STB_nVEC_3',\n",
       " '030_STB_gen_1',\n",
       " '030_STB_gen_2',\n",
       " '030_STB_gen_3',\n",
       " '030_HBC_nTroph_1',\n",
       " '030_HBC_nTroph_2',\n",
       " '030_HBC_nTroph_3',\n",
       " '030_HBC_nVEC_1',\n",
       " '030_HBC_nVEC_2',\n",
       " '030_HBC_nVEC_3',\n",
       " '030_HBC_mid_1',\n",
       " '030_HBC_mid_2',\n",
       " '030_HBC_mid_3',\n",
       " '030_CTB_1',\n",
       " '030_CTB_2',\n",
       " '030_CTB_3',\n",
       " '030_CCT_1',\n",
       " '030_CCT_2',\n",
       " '030_CCT_3',\n",
       " '030_VEC_1',\n",
       " '030_VEC_2',\n",
       " '030_VEC_3',\n",
       " '030_Str_1',\n",
       " '030_Str_2',\n",
       " '030_Str_3',\n",
       " '167_STB_nVEC_1',\n",
       " '167_STB_nVEC_2',\n",
       " '167_STB_nVEC_3',\n",
       " '167_STB_gen_1',\n",
       " '167_STB_gen_2',\n",
       " '167_STB_gen_3',\n",
       " '167_HBC_nTroph_1',\n",
       " '167_HBC_nTroph_2',\n",
       " '167_HBC_nTroph_3',\n",
       " '167_HBC_nVEC_1',\n",
       " '167_HBC_nVEC_2',\n",
       " '167_HBC_nVEC_3',\n",
       " '167_HBC_mid_1',\n",
       " '167_HBC_mid_2',\n",
       " '167_HBC_mid_3',\n",
       " '167_CTB_1',\n",
       " '167_CTB_2',\n",
       " '167_CTB_3',\n",
       " '167_CCT_1',\n",
       " '167_CCT_2',\n",
       " '167_CCT_3',\n",
       " '167_VEC_1',\n",
       " '167_VEC_2',\n",
       " '167_VEC_3',\n",
       " '167_Str_1',\n",
       " '167_Str_2',\n",
       " '167_Str_3']"
      ]
     },
     "execution_count": 10,
     "metadata": {},
     "output_type": "execute_result"
    }
   ],
   "source": [
    "list_of_all_classes"
   ]
  },
  {
   "cell_type": "code",
   "execution_count": 31,
   "id": "c388ae34-1d97-4c65-920e-56559116d8eb",
   "metadata": {
    "tags": []
   },
   "outputs": [
    {
     "data": {
      "text/plain": [
       "231"
      ]
     },
     "execution_count": 31,
     "metadata": {},
     "output_type": "execute_result"
    }
   ],
   "source": [
    "len(list_of_wells)"
   ]
  },
  {
   "cell_type": "code",
   "execution_count": 32,
   "id": "460e2b72-32d6-44be-8df2-d4e7c3bfd2bd",
   "metadata": {
    "tags": []
   },
   "outputs": [
    {
     "data": {
      "text/plain": [
       "297"
      ]
     },
     "execution_count": 32,
     "metadata": {},
     "output_type": "execute_result"
    }
   ],
   "source": [
    "len(list_of_all_classes)"
   ]
  },
  {
   "cell_type": "code",
   "execution_count": 33,
   "id": "5ead0914-aa45-4dc8-b4f3-e724bac2719a",
   "metadata": {
    "tags": []
   },
   "outputs": [
    {
     "data": {
      "text/plain": [
       "27.0"
      ]
     },
     "execution_count": 33,
     "metadata": {},
     "output_type": "execute_result"
    }
   ],
   "source": [
    "len(list_of_all_classes)/11"
   ]
  },
  {
   "cell_type": "code",
   "execution_count": 34,
   "id": "9bc5cf3a-c405-473d-83e2-71be20bc4855",
   "metadata": {
    "tags": []
   },
   "outputs": [
    {
     "data": {
      "text/plain": [
       "81"
      ]
     },
     "execution_count": 34,
     "metadata": {},
     "output_type": "execute_result"
    }
   ],
   "source": [
    "27*3"
   ]
  },
  {
   "cell_type": "code",
   "execution_count": 26,
   "id": "eadd9be2-0c2a-4d7f-9368-132a935108e4",
   "metadata": {
    "tags": []
   },
   "outputs": [],
   "source": [
    "for cell_class, well in zip(list_of_all_classes,list_of_wells):\n",
    "    if cell_class in samples_and_wells.keys():\n",
    "        break\n",
    "    else:\n",
    "        samples_and_wells2[cell_class] = well"
   ]
  },
  {
   "cell_type": "code",
   "execution_count": 27,
   "id": "76a3e69d-e07d-4ca5-a930-2da6db207db0",
   "metadata": {
    "tags": []
   },
   "outputs": [
    {
     "data": {
      "text/plain": [
       "{'033_HBC_mid_3': 'C3',\n",
       " '033_HBC_nVEC_1': 'C4',\n",
       " '033_HBC_nVEC_2': 'C5',\n",
       " '033_HBC_mid_2': 'C6',\n",
       " '033_HBC_nTroph_3': 'C7',\n",
       " '033_HBC_nTroph_1': 'C8',\n",
       " '033_HBC_mid_1': 'C9',\n",
       " '033_HBC_nVEC_3': 'C10',\n",
       " '033_HBC_nTroph_2': 'C11',\n",
       " '033_STB_nVEC_1': 'C2',\n",
       " '033_STB_nVEC_2': 'C12',\n",
       " '033_STB_nVEC_3': 'C13',\n",
       " '033_STB_gen_1': 'C14',\n",
       " '033_STB_gen_2': 'C15',\n",
       " '033_STB_gen_3': 'C16'}"
      ]
     },
     "execution_count": 27,
     "metadata": {},
     "output_type": "execute_result"
    }
   ],
   "source": [
    "samples_and_wells2"
   ]
  },
  {
   "cell_type": "code",
   "execution_count": 30,
   "id": "168ee2b5-79a2-4415-a2b7-495de669ee39",
   "metadata": {
    "tags": []
   },
   "outputs": [
    {
     "data": {
      "text/plain": [
       "15"
      ]
     },
     "execution_count": 30,
     "metadata": {},
     "output_type": "execute_result"
    }
   ],
   "source": [
    "len(samples_and_wells2)"
   ]
  },
  {
   "cell_type": "code",
   "execution_count": 22,
   "id": "e2b8a88e-e253-4ee2-abe0-6aa480ebdfce",
   "metadata": {
    "tags": []
   },
   "outputs": [],
   "source": [
    "samples_and_wells2 = {'033_HBC_mid_3': 'C3',\n",
    "                     '033_HBC_nVEC_1': 'C4',\n",
    "                     '033_HBC_nVEC_2': 'C5',\n",
    "                     '033_HBC_mid_2': 'C6',\n",
    "                     '033_HBC_nTroph_3': 'C7',\n",
    "                     '033_HBC_nTroph_1': 'C8',\n",
    "                     '033_HBC_mid_1': 'C9',\n",
    "                     '033_HBC_nVEC_3': 'C10',\n",
    "                     '033_HBC_nTroph_2': 'C11'}"
   ]
  },
  {
   "cell_type": "code",
   "execution_count": null,
   "id": "7ede5f3c-81b6-4da0-b03e-b5fbc403da02",
   "metadata": {},
   "outputs": [],
   "source": [
    "There are 231 available wells per plate, and we have a total of 297 samples"
   ]
  },
  {
   "cell_type": "code",
   "execution_count": null,
   "id": "c3360d0a-0fae-4130-8f44-74f466e7ae21",
   "metadata": {},
   "outputs": [],
   "source": [
    "I will assign a new plate to one of the samples\n"
   ]
  }
 ],
 "metadata": {
  "kernelspec": {
   "display_name": "Python 3 (ipykernel)",
   "language": "python",
   "name": "python3"
  },
  "language_info": {
   "codemirror_mode": {
    "name": "ipython",
    "version": 3
   },
   "file_extension": ".py",
   "mimetype": "text/x-python",
   "name": "python",
   "nbconvert_exporter": "python",
   "pygments_lexer": "ipython3",
   "version": "3.9.16"
  }
 },
 "nbformat": 4,
 "nbformat_minor": 5
}
